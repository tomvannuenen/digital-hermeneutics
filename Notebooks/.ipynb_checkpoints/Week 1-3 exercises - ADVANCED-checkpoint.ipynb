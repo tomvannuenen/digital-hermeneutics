{
 "cells": [
  {
   "cell_type": "markdown",
   "metadata": {
    "colab_type": "text",
    "id": "OOfStbjw9qC_"
   },
   "source": [
    "<div style=\"display: block; width: 100%; height: 120px;\">\n",
    "\n",
    "<p style=\"float: left;\">\n",
    "    <span style=\"font-weight: bold; line-height: 24px; font-size: 16px;\">\n",
    "        DIGHUM160 - Critical Digital Humanities\n",
    "        <br />\n",
    "        Digital Hermeneutics 2019\n",
    "    </span>\n",
    "    <br >\n",
    "    <span style=\"line-height: 22x; font-size: 14x; margin-top: 10px;\">\n",
    "        Week 1 exercises: ADVANCED <br />\n",
    "        Created by Tom van Nuenen (tom.van_nuenen@kcl.ac.uk)\n",
    "    </span>\n",
    "</p>"
   ]
  },
  {
   "cell_type": "markdown",
   "metadata": {
    "colab_type": "text",
    "id": "z_y0S51aCnaK"
   },
   "source": [
    "This notebook will involve some word embeddings in SpaCy; you be will able to run some of your own analyses using Reddit data. First, let's download Spacy's language model."
   ]
  },
  {
   "cell_type": "code",
   "execution_count": 1,
   "metadata": {
    "colab": {
     "base_uri": "https://localhost:8080/",
     "height": 428
    },
    "colab_type": "code",
    "executionInfo": {
     "elapsed": 8119,
     "status": "ok",
     "timestamp": 1594205046297,
     "user": {
      "displayName": "Tom van Nuenen",
      "photoUrl": "https://lh3.googleusercontent.com/a-/AOh14GhtEyfMMXnweSdKHvOqheyZd6KLkXGOtz3AYYAIBA=s64",
      "userId": "10012302451096885058"
     },
     "user_tz": -180
    },
    "id": "2LfrMmpYBDYg",
    "outputId": "6de47540-c75f-413c-f2f1-7011b78731a2"
   },
   "outputs": [
    {
     "name": "stdout",
     "output_type": "stream",
     "text": [
      "/anaconda3/lib/python3.6/importlib/_bootstrap.py:219: RuntimeWarning: numpy.dtype size changed, may indicate binary incompatibility. Expected 96, got 88\n",
      "  return f(*args, **kwds)\n",
      "/anaconda3/lib/python3.6/importlib/_bootstrap.py:219: RuntimeWarning: numpy.ufunc size changed, may indicate binary incompatibility. Expected 192, got 176\n",
      "  return f(*args, **kwds)\n",
      "/anaconda3/lib/python3.6/importlib/_bootstrap.py:219: RuntimeWarning: numpy.dtype size changed, may indicate binary incompatibility. Expected 96, got 88\n",
      "  return f(*args, **kwds)\n",
      "/anaconda3/lib/python3.6/importlib/_bootstrap.py:219: RuntimeWarning: numpy.ufunc size changed, may indicate binary incompatibility. Expected 192, got 176\n",
      "  return f(*args, **kwds)\n",
      "Collecting https://github.com/explosion/spacy-models/releases/download/en_core_web_lg-2.0.0/en_core_web_lg-2.0.0.tar.gz\n",
      "  Downloading https://github.com/explosion/spacy-models/releases/download/en_core_web_lg-2.0.0/en_core_web_lg-2.0.0.tar.gz (852.3 MB)\n",
      "\u001b[K     |████████████████████████████████| 852.3 MB 496 kB/s eta 0:00:019     |████████                        | 211.1 MB 467 kB/s eta 0:22:53     |████████▎                       | 221.5 MB 436 kB/s eta 0:24:04��███▊                       | 230.9 MB 491 kB/s eta 0:21:05     |████████▉                       | 233.9 MB 520 kB/s eta 0:19:48     |██████████▉                     | 288.4 MB 462 kB/s eta 0:20:19     |███████████                     | 295.1 MB 483 kB/s eta 0:19:14     |███████████▋                    | 309.0 MB 466 kB/s eta 0:19:25     |█████████████                   | 346.5 MB 511 kB/s eta 0:16:29     |██████████████████████▋         | 601.7 MB 462 kB/s eta 0:09:02     |██████████████████████████▊     | 712.8 MB 331 kB/s eta 0:07:02     |████████████████████████████    | 744.8 MB 203 kB/s eta 0:08:48\n",
      "\u001b[?25hRequirement already satisfied (use --upgrade to upgrade): en-core-web-lg==2.0.0 from https://github.com/explosion/spacy-models/releases/download/en_core_web_lg-2.0.0/en_core_web_lg-2.0.0.tar.gz in /anaconda3/lib/python3.6/site-packages\n",
      "Building wheels for collected packages: en-core-web-lg\n",
      "  Building wheel for en-core-web-lg (setup.py) ... \u001b[?25ldone\n",
      "\u001b[?25h  Created wheel for en-core-web-lg: filename=en_core_web_lg-2.0.0-py3-none-any.whl size=853631443 sha256=a4d9028321dcb04c61a714def6bdba753e8d083eeb41327b207f3795a08f37ca\n",
      "  Stored in directory: /private/var/folders/fp/m5lgnjn12xqf6210mmfgzfh80000gn/T/pip-ephem-wheel-cache-4cgql1hu/wheels/b5/c8/fa/70c604210c391dee81ab229aa5239cfb3827869e7eecfbd696\n",
      "Successfully built en-core-web-lg\n",
      "\n",
      "\u001b[93m    Linking successful\u001b[0m\n",
      "    /anaconda3/lib/python3.6/site-packages/en_core_web_lg -->\n",
      "    /anaconda3/lib/python3.6/site-packages/spacy/data/en_core_web_lg\n",
      "\n",
      "    You can now load the model via spacy.load('en_core_web_lg')\n",
      "\n"
     ]
    }
   ],
   "source": [
    "!python -m spacy download en_core_web_lg"
   ]
  },
  {
   "cell_type": "code",
   "execution_count": 2,
   "metadata": {
    "colab": {},
    "colab_type": "code",
    "executionInfo": {
     "elapsed": 11809,
     "status": "ok",
     "timestamp": 1594206635210,
     "user": {
      "displayName": "Tom van Nuenen",
      "photoUrl": "https://lh3.googleusercontent.com/a-/AOh14GhtEyfMMXnweSdKHvOqheyZd6KLkXGOtz3AYYAIBA=s64",
      "userId": "10012302451096885058"
     },
     "user_tz": -180
    },
    "id": "iOp0FarH9qDA"
   },
   "outputs": [
    {
     "name": "stderr",
     "output_type": "stream",
     "text": [
      "/anaconda3/lib/python3.6/importlib/_bootstrap.py:219: RuntimeWarning: numpy.dtype size changed, may indicate binary incompatibility. Expected 96, got 88\n",
      "  return f(*args, **kwds)\n",
      "/anaconda3/lib/python3.6/importlib/_bootstrap.py:219: RuntimeWarning: numpy.ufunc size changed, may indicate binary incompatibility. Expected 192, got 176\n",
      "  return f(*args, **kwds)\n"
     ]
    }
   ],
   "source": [
    "import pandas as pd\n",
    "\n",
    "import spacy\n",
    "\n",
    "import en_core_web_lg\n",
    "nlp = en_core_web_lg.load()\n",
    "\n",
    "from glob import glob\n",
    "import numpy as np\n",
    "from sklearn.manifold import TSNE\n",
    "from sklearn.decomposition import PCA\n",
    "from matplotlib import pyplot as plt\n",
    "import json\n",
    "from mpl_toolkits.mplot3d import Axes3D, proj3d #???\n",
    "from numpy import dot\n",
    "from numpy.linalg import norm\n",
    "%matplotlib notebook\n",
    "plt.rcParams[\"figure.figsize\"] = (12,8)"
   ]
  },
  {
   "cell_type": "markdown",
   "metadata": {
    "colab_type": "text",
    "id": "FxrVmx3M9qDH"
   },
   "source": [
    "# Word Vector Similarity\n",
    "\n",
    "SpaCy can generate objects from a few expressions. These objects contain a lot of inferred information about words and their relations. For instance, the `.vector` is an average of the word vectors in the document, where each word vector comes from pre-trained model (the Stanford GloVe vectors. We can compare individual words or slices/spans using the `.similarity()` method."
   ]
  },
  {
   "cell_type": "code",
   "execution_count": 3,
   "metadata": {
    "colab": {},
    "colab_type": "code",
    "executionInfo": {
     "elapsed": 1369,
     "status": "ok",
     "timestamp": 1594206166446,
     "user": {
      "displayName": "Tom van Nuenen",
      "photoUrl": "https://lh3.googleusercontent.com/a-/AOh14GhtEyfMMXnweSdKHvOqheyZd6KLkXGOtz3AYYAIBA=s64",
      "userId": "10012302451096885058"
     },
     "user_tz": -180
    },
    "id": "xO0xADsZ9qDH"
   },
   "outputs": [],
   "source": [
    "apple = nlp('apple')\n",
    "pear = nlp('pear')\n",
    "trash = nlp('trash')"
   ]
  },
  {
   "cell_type": "code",
   "execution_count": 4,
   "metadata": {
    "colab": {
     "base_uri": "https://localhost:8080/",
     "height": 34
    },
    "colab_type": "code",
    "executionInfo": {
     "elapsed": 1161,
     "status": "ok",
     "timestamp": 1594206166447,
     "user": {
      "displayName": "Tom van Nuenen",
      "photoUrl": "https://lh3.googleusercontent.com/a-/AOh14GhtEyfMMXnweSdKHvOqheyZd6KLkXGOtz3AYYAIBA=s64",
      "userId": "10012302451096885058"
     },
     "user_tz": -180
    },
    "id": "rqqO2j8O9qDK",
    "outputId": "29f8b5af-533e-4547-f116-cc241a33835c"
   },
   "outputs": [
    {
     "data": {
      "text/plain": [
       "0.19166903803341856"
      ]
     },
     "execution_count": 4,
     "metadata": {},
     "output_type": "execute_result"
    }
   ],
   "source": [
    "apple.similarity(trash)"
   ]
  },
  {
   "cell_type": "code",
   "execution_count": 5,
   "metadata": {
    "colab": {
     "base_uri": "https://localhost:8080/",
     "height": 34
    },
    "colab_type": "code",
    "executionInfo": {
     "elapsed": 955,
     "status": "ok",
     "timestamp": 1594206166448,
     "user": {
      "displayName": "Tom van Nuenen",
      "photoUrl": "https://lh3.googleusercontent.com/a-/AOh14GhtEyfMMXnweSdKHvOqheyZd6KLkXGOtz3AYYAIBA=s64",
      "userId": "10012302451096885058"
     },
     "user_tz": -180
    },
    "id": "PlAZ65Z6FxT9",
    "outputId": "d5c8fd44-633d-41fe-f02a-ce6867004ced"
   },
   "outputs": [
    {
     "data": {
      "text/plain": [
       "0.6126545513188124"
      ]
     },
     "execution_count": 5,
     "metadata": {},
     "output_type": "execute_result"
    }
   ],
   "source": [
    "apple.similarity(pear)"
   ]
  },
  {
   "cell_type": "markdown",
   "metadata": {
    "colab_type": "text",
    "id": "75g6Z6ChEhUb"
   },
   "source": [
    "Note that you can also create documents from \"spans\" (multiple words). Try it out!"
   ]
  },
  {
   "cell_type": "code",
   "execution_count": 6,
   "metadata": {
    "colab": {
     "base_uri": "https://localhost:8080/",
     "height": 34
    },
    "colab_type": "code",
    "executionInfo": {
     "elapsed": 1284,
     "status": "ok",
     "timestamp": 1594206444087,
     "user": {
      "displayName": "Tom van Nuenen",
      "photoUrl": "https://lh3.googleusercontent.com/a-/AOh14GhtEyfMMXnweSdKHvOqheyZd6KLkXGOtz3AYYAIBA=s64",
      "userId": "10012302451096885058"
     },
     "user_tz": -180
    },
    "id": "i48K5i-oEfOx",
    "outputId": "614f2a83-3ed8-4f7a-9410-1e2917bb1205"
   },
   "outputs": [
    {
     "name": "stdout",
     "output_type": "stream",
     "text": [
      "0.8070066992277027\n"
     ]
    }
   ],
   "source": [
    "doc = nlp(\"I enjoy juicy apples. Almost as much as really tasty pears.\")\n",
    "\n",
    "# Create spans for \"rock music\" and \"distorted guitars\"\n",
    "span1 = nlp('juicy apples')\n",
    "span2 = nlp('really tasty pears')\n",
    "\n",
    "# Get the similarity of the spans\n",
    "similarity = span1.similarity(span2)\n",
    "print(similarity)"
   ]
  },
  {
   "cell_type": "markdown",
   "metadata": {
    "colab_type": "text",
    "id": "8QmFX6wq9qDV"
   },
   "source": [
    "# Analogies (i.e. Linear Algebra)"
   ]
  },
  {
   "cell_type": "markdown",
   "metadata": {
    "colab_type": "text",
    "id": "PmJ-tyX09qDY"
   },
   "source": [
    "Say we want to find all words with vectors that are most similar to our vector. SpaCy can't do this out of the box, however. We need to create a function that will go through all the possible words (all the words in `nlp.vocab`) and compares them."
   ]
  },
  {
   "cell_type": "code",
   "execution_count": 11,
   "metadata": {
    "colab": {
     "base_uri": "https://localhost:8080/",
     "height": 34
    },
    "colab_type": "code",
    "executionInfo": {
     "elapsed": 3785,
     "status": "ok",
     "timestamp": 1594206642873,
     "user": {
      "displayName": "Tom van Nuenen",
      "photoUrl": "https://lh3.googleusercontent.com/a-/AOh14GhtEyfMMXnweSdKHvOqheyZd6KLkXGOtz3AYYAIBA=s64",
      "userId": "10012302451096885058"
     },
     "user_tz": -180
    },
    "id": "habKDY4k9qDY",
    "outputId": "e81c551b-81bf-404e-e663-030c2c96b78a"
   },
   "outputs": [
    {
     "data": {
      "text/plain": [
       "[('pears', 0.7814429),\n",
       " ('peach', 0.73820555),\n",
       " ('raspberry', 0.68406194),\n",
       " ('pineapple', 0.6700011),\n",
       " ('plum', 0.66817105),\n",
       " ('mango', 0.66017175),\n",
       " ('melon', 0.65900314)]"
      ]
     },
     "execution_count": 11,
     "metadata": {},
     "output_type": "execute_result"
    }
   ],
   "source": [
    "def most_similar(word, topn=5):\n",
    "  word = nlp.vocab[str(word)]\n",
    "  queries = [\n",
    "      w for w in word.vocab \n",
    "      if w.is_lower == word.is_lower and w.prob >= -15 and np.count_nonzero(w.vector)]\n",
    "  by_similarity = sorted(queries, key=lambda w: word.similarity(w), reverse=True)\n",
    "  return [(w.lower_,w.similarity(word)) for w in by_similarity[:topn+1] if w.lower_ != word.lower_]\n",
    "\n",
    "most_similar(\"pear\", topn=7)"
   ]
  },
  {
   "cell_type": "markdown",
   "metadata": {
    "colab_type": "text",
    "id": "2ZYWVoMS9qEI"
   },
   "source": [
    "# Similarity \n",
    "\n",
    "We can also treat individual words as \"categorical\" documents. If we put them in the same vector space as the other documents, we can infer how similar that word is to the document. Let's use four words representing certain emotions."
   ]
  },
  {
   "cell_type": "code",
   "execution_count": 12,
   "metadata": {
    "colab": {},
    "colab_type": "code",
    "executionInfo": {
     "elapsed": 1076,
     "status": "ok",
     "timestamp": 1594207525191,
     "user": {
      "displayName": "Tom van Nuenen",
      "photoUrl": "https://lh3.googleusercontent.com/a-/AOh14GhtEyfMMXnweSdKHvOqheyZd6KLkXGOtz3AYYAIBA=s64",
      "userId": "10012302451096885058"
     },
     "user_tz": -180
    },
    "id": "ovk6QrIe9qEI"
   },
   "outputs": [],
   "source": [
    "emo_docs = [nlp(w) for w in ['happiness', 'sadness', 'fear', 'anger']]\n",
    "def which_emo(word):\n",
    "    doc = nlp(word)\n",
    "    return {emo: doc.similarity(emo) for emo in emo_docs}"
   ]
  },
  {
   "cell_type": "code",
   "execution_count": 13,
   "metadata": {
    "colab": {
     "base_uri": "https://localhost:8080/",
     "height": 85
    },
    "colab_type": "code",
    "executionInfo": {
     "elapsed": 1229,
     "status": "ok",
     "timestamp": 1594207529376,
     "user": {
      "displayName": "Tom van Nuenen",
      "photoUrl": "https://lh3.googleusercontent.com/a-/AOh14GhtEyfMMXnweSdKHvOqheyZd6KLkXGOtz3AYYAIBA=s64",
      "userId": "10012302451096885058"
     },
     "user_tz": -180
    },
    "id": "2dSzXhEq9qEK",
    "outputId": "fbcb4a5f-04b9-459e-80c8-214ad439167b"
   },
   "outputs": [
    {
     "data": {
      "text/plain": [
       "{anger: 0.5060190642097975,\n",
       " fear: 0.5910237429004694,\n",
       " happiness: 0.39848962936593835,\n",
       " sadness: 0.4855336997970078}"
      ]
     },
     "execution_count": 13,
     "metadata": {},
     "output_type": "execute_result"
    }
   ],
   "source": [
    "which_emo('anxious')"
   ]
  },
  {
   "cell_type": "code",
   "execution_count": 14,
   "metadata": {
    "colab": {},
    "colab_type": "code",
    "executionInfo": {
     "elapsed": 1413,
     "status": "ok",
     "timestamp": 1594207556579,
     "user": {
      "displayName": "Tom van Nuenen",
      "photoUrl": "https://lh3.googleusercontent.com/a-/AOh14GhtEyfMMXnweSdKHvOqheyZd6KLkXGOtz3AYYAIBA=s64",
      "userId": "10012302451096885058"
     },
     "user_tz": -180
    },
    "id": "-mRtxovN9qEM"
   },
   "outputs": [],
   "source": [
    "%matplotlib inline\n",
    "plt.rcParams[\"figure.figsize\"] = (10,5)"
   ]
  },
  {
   "cell_type": "code",
   "execution_count": 15,
   "metadata": {
    "colab": {
     "base_uri": "https://localhost:8080/",
     "height": 378
    },
    "colab_type": "code",
    "executionInfo": {
     "elapsed": 1977,
     "status": "ok",
     "timestamp": 1594207557350,
     "user": {
      "displayName": "Tom van Nuenen",
      "photoUrl": "https://lh3.googleusercontent.com/a-/AOh14GhtEyfMMXnweSdKHvOqheyZd6KLkXGOtz3AYYAIBA=s64",
      "userId": "10012302451096885058"
     },
     "user_tz": -180
    },
    "id": "Iz8XZ__p9qEO",
    "outputId": "0c1c13f4-8f02-449e-f6d7-fa82a97127a8"
   },
   "outputs": [
    {
     "data": {
      "text/plain": [
       "<matplotlib.axes._subplots.AxesSubplot at 0x13ec5e080>"
      ]
     },
     "execution_count": 15,
     "metadata": {},
     "output_type": "execute_result"
    },
    {
     "data": {
      "image/png": "[encoded data removed]",
      "text/plain": [
       "<Figure size 720x360 with 1 Axes>"
      ]
     },
     "metadata": {},
     "output_type": "display_data"
    }
   ],
   "source": [
    "emo_words = 'pissed joyous depressed scared'.split()\n",
    "pd.DataFrame([which_emo(w) for w in emo_words], index=emo_words).plot(kind='bar')"
   ]
  },
  {
   "cell_type": "markdown",
   "metadata": {
    "colab_type": "text",
    "id": "TAvbeiM89qET"
   },
   "source": [
    "Not everything is intuitive as you can see. This is why it's always best to train your own vector space based on your own data.."
   ]
  },
  {
   "cell_type": "markdown",
   "metadata": {
    "colab_type": "text",
    "id": "YN2ZLt1O9qET"
   },
   "source": [
    "# Using SpaCy with Reddit\n",
    "\n",
    "Your turn. I'm linking to a CSV dataset for Reddit community The Red Pill (which was banned from reddit - currently found at https://www.trp.red/feed/all. You can download it using the Google Drive API. \n",
    "\n",
    "Using Pandas dataframe and SpaCy, have a look at some patterns in the data. Using SpaCy, try to find out what the most-similar words related to men and women look like. Try to render some simple visualisations of this as well."
   ]
  },
  {
   "cell_type": "code",
   "execution_count": 70,
   "metadata": {
    "colab": {},
    "colab_type": "code",
    "executionInfo": {
     "elapsed": 1502,
     "status": "ok",
     "timestamp": 1594216949242,
     "user": {
      "displayName": "Tom van Nuenen",
      "photoUrl": "https://lh3.googleusercontent.com/a-/AOh14GhtEyfMMXnweSdKHvOqheyZd6KLkXGOtz3AYYAIBA=s64",
      "userId": "10012302451096885058"
     },
     "user_tz": -180
    },
    "id": "uYIeMD3iQru3"
   },
   "outputs": [],
   "source": [
    "from pydrive.auth import GoogleAuth\n",
    "from pydrive.drive import GoogleDrive\n",
    "from google.colab import auth\n",
    "from oauth2client.client import GoogleCredentials\n",
    "\n",
    "auth.authenticate_user()\n",
    "gauth = GoogleAuth()\n",
    "gauth.credentials = GoogleCredentials.get_application_default()\n",
    "drive = GoogleDrive(gauth)"
   ]
  },
  {
   "cell_type": "code",
   "execution_count": 71,
   "metadata": {
    "colab": {},
    "colab_type": "code",
    "executionInfo": {
     "elapsed": 17196,
     "status": "ok",
     "timestamp": 1594216964941,
     "user": {
      "displayName": "Tom van Nuenen",
      "photoUrl": "https://lh3.googleusercontent.com/a-/AOh14GhtEyfMMXnweSdKHvOqheyZd6KLkXGOtz3AYYAIBA=s64",
      "userId": "10012302451096885058"
     },
     "user_tz": -180
    },
    "id": "0XBL9bMS9qEU"
   },
   "outputs": [],
   "source": [
    "downloaded = drive.CreateFile({'id':\"1t2VY0gy8Smcmy5Ss5WAod36qY9RGE6qc\"})   \n",
    "downloaded.GetContentFile('TRP-submissions.csv')"
   ]
  },
  {
   "cell_type": "code",
   "execution_count": 73,
   "metadata": {
    "colab": {},
    "colab_type": "code",
    "executionInfo": {
     "elapsed": 2468,
     "status": "ok",
     "timestamp": 1594217029982,
     "user": {
      "displayName": "Tom van Nuenen",
      "photoUrl": "https://lh3.googleusercontent.com/a-/AOh14GhtEyfMMXnweSdKHvOqheyZd6KLkXGOtz3AYYAIBA=s64",
      "userId": "10012302451096885058"
     },
     "user_tz": -180
    },
    "id": "t1O1bAsb9qE_"
   },
   "outputs": [],
   "source": [
    "df = pd.read_csv(\"TRP-submissions.csv\", lineterminator='\\n')"
   ]
  },
  {
   "cell_type": "code",
   "execution_count": null,
   "metadata": {
    "colab": {},
    "colab_type": "code",
    "id": "raTkkNLUvADs"
   },
   "outputs": [],
   "source": [
    "# Let's go!"
   ]
  }
 ],
 "metadata": {
  "colab": {
   "name": "Week 1-3 exercises - ADVANCED.ipynb",
   "provenance": []
  },
  "kernelspec": {
   "display_name": "Python 3",
   "language": "python",
   "name": "python3"
  },
  "language_info": {
   "codemirror_mode": {
    "name": "ipython",
    "version": 3
   },
   "file_extension": ".py",
   "mimetype": "text/x-python",
   "name": "python",
   "nbconvert_exporter": "python",
   "pygments_lexer": "ipython3",
   "version": "3.6.6"
  }
 },
 "nbformat": 4,
 "nbformat_minor": 1
}
