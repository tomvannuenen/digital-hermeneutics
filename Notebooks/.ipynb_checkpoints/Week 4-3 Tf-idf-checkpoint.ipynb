{
 "cells": [
  {
   "cell_type": "markdown",
   "metadata": {},
   "source": [
    "<div style=\"display: block; width: 100%; height: 120px;\">\n",
    "\n",
    "<p style=\"float: left;\">\n",
    "    <span style=\"font-weight: bold; line-height: 24px; font-size: 16px;\">\n",
    "        DIGHUM160 - Critical Digital Humanities\n",
    "        <br />\n",
    "        Digital Hermeneutics 2019\n",
    "    </span>\n",
    "    <br >\n",
    "    <span style=\"line-height: 22x; font-size: 14x; margin-top: 10px;\">\n",
    "        Week 4-3: USING TF-IDF <br />\n",
    "        Created by Tom van Nuenen (tom.van_nuenen@kcl.ac.uk)\n",
    "    </span>\n",
    "</p>\n",
    "\n",
    "<img style=\"width: 240px; height: 120px; float: right; margin: 0 0 0 0;\" src=\"http://www.merritt.edu/wp/histotech/wp-content/uploads/sites/275/2018/08/berkeley-logo.jpg\" />\n",
    "</div>"
   ]
  },
  {
   "cell_type": "markdown",
   "metadata": {},
   "source": [
    "# Using tf-idf\n",
    "\n",
    "Today, we'll be using tf-idf to compare different related subreddits, in order to find the most distinctive words for the discourse community we're interested in. We'll also use tf-idf to find similar posts to ones we're interested in.\n",
    "\n",
    "**After completing this notebook, you will be able to:**\n",
    "- Understand how tf-idf can be used to compare related datasets\n",
    "- Use most-distinctive words to aid you in your close reading\n",
    "\n",
    "Make sure the files \"trp-submissions.csv\", \"seduction-submissions.csv\", \"dating_advice-submissions.csv\", \"mgtow-submissions.csv\", and \"mensrights-submissions.csv\" are in the same folder as this notebook."
   ]
  },
  {
   "cell_type": "code",
   "execution_count": 2,
   "metadata": {},
   "outputs": [],
   "source": [
    "import nltk\n",
    "from nltk.corpus import stopwords\n",
    "from nltk.tokenize import word_tokenize\n",
    "import pandas as pd\n",
    "import os\n",
    "import pickle\n",
    "import re \n",
    "import string\n",
    "import time\n",
    "from sklearn.feature_extraction.text import TfidfTransformer\n",
    "from sklearn.feature_extraction.text import CountVectorizer\n",
    "from sklearn.feature_extraction.text import TfidfVectorizer\n",
    "from sklearn.metrics.pairwise import linear_kernel\n",
    "from nltk.stem import WordNetLemmatizer\n",
    "wordnet_lemmatizer = WordNetLemmatizer()"
   ]
  },
  {
   "cell_type": "markdown",
   "metadata": {},
   "source": [
    "## Test using toy dataset\n",
    "\n",
    "Let's try our idea with a toy dataset. Here we have three documents about Python, but with different meanings."
   ]
  },
  {
   "cell_type": "code",
   "execution_count": 4,
   "metadata": {},
   "outputs": [],
   "source": [
    "document1 = \"\"\"Python is a 2000 made-for-TV horror movie directed by Richard\n",
    "Clabaugh. The film features several cult favorite actors, including William\n",
    "Zabka of The Karate Kid fame, Wil Wheaton, Casper Van Dien, Jenny McCarthy,\n",
    "Keith Coogan, Robert Englund (best known for his role as Freddy Krueger in the\n",
    "A Nightmare on Elm Street series of films), Dana Barron, David Bowe, and Sean\n",
    "Whalen.\"\"\"\n",
    "\n",
    "document2 = \"\"\"Python, from the Greek word (πύθων/πύθωνας), is a genus of\n",
    "nonvenomous pythons[2] found in Africa and Asia. Currently, 7 species are\n",
    "recognised.[2] A member of this genus, P. reticulatus, is among the longest\n",
    "snakes known.\"\"\"\n",
    "\n",
    "document3 = \"\"\"Monty Python (also collectively known as the Pythons) are a British \n",
    "surreal comedy group who created the sketch comedy television show Monty Python's \n",
    "Flying Circus, which first aired on the BBC in 1969. Forty-five episodes were made \n",
    "over four series.\"\"\"\n",
    "\n",
    "document4 = \"\"\"Python is an interpreted, high-level, general-purpose programming language. \n",
    "Created by Guido van Rossum and first released in 1991, Python's design philosophy emphasizes \n",
    "code readability with its notable use of significant whitespace. Its language constructs and \n",
    "object-oriented approach aim to help programmers write clear, logical code for small and \n",
    "large-scale projects.\"\"\"\n",
    "\n",
    "document5 = \"\"\"The Colt Python is a .357 Magnum caliber revolver formerly\n",
    "manufactured by Colt's Manufacturing Company of Hartford, Connecticut.\n",
    "It is sometimes referred to as a \"Combat Magnum\".[1] It was first introduced\n",
    "in 1955, the same year as Smith &amp; Wesson's M29 .44 Magnum. The now discontinued\n",
    "Colt Python targeted the premium revolver market segment.\"\"\"\n",
    "\n",
    "document6 = \"\"\"The Pythonidae, commonly known simply as pythons, from the Greek word python \n",
    "(πυθων), are a family of nonvenomous snakes found in Africa, Asia, and Australia. \n",
    "Among its members are some of the largest snakes in the world. Eight genera and 31\n",
    "species are currently recognized.\"\"\"\n",
    "\n",
    "testList = [document1, document2, document3, document4, document5, document6]"
   ]
  },
  {
   "cell_type": "markdown",
   "metadata": {},
   "source": [
    "First, we create a matrix of word counts, and transform them into tf-idf values using scikit-learn. "
   ]
  },
  {
   "cell_type": "code",
   "execution_count": 5,
   "metadata": {},
   "outputs": [],
   "source": [
    "cv = CountVectorizer(max_df=0.85, decode_error='ignore', stop_words = 'english')\n",
    "wordCountVector = cv.fit_transform(testList)"
   ]
  },
  {
   "cell_type": "code",
   "execution_count": 6,
   "metadata": {},
   "outputs": [
    {
     "data": {
      "text/plain": [
       "TfidfTransformer(norm='l2', smooth_idf=True, sublinear_tf=False, use_idf=True)"
      ]
     },
     "execution_count": 6,
     "metadata": {},
     "output_type": "execute_result"
    }
   ],
   "source": [
    "tfidfTransformer = TfidfTransformer(smooth_idf=True,use_idf=True)\n",
    "tfidfTransformer.fit(wordCountVector)"
   ]
  },
  {
   "cell_type": "markdown",
   "metadata": {},
   "source": [
    "Next, we need a way to sort the sparse matrix that the TfidfTransformer yields. Don't worry too much about the details for now:"
   ]
  },
  {
   "cell_type": "code",
   "execution_count": 7,
   "metadata": {},
   "outputs": [],
   "source": [
    "def sortCoo(cooMatrix):\n",
    "    tuples = zip(cooMatrix.col, cooMatrix.data)\n",
    "    return sorted(tuples, key=lambda x: (x[1], x[0]), reverse=True)\n",
    " \n",
    "def extractTopN(featureNames, sortedItems, topn=10):\n",
    "    \"\"\"get the feature names and tf-idf score of top n items\"\"\"\n",
    "    \n",
    "    # use only top n items from vector\n",
    "    sortedItems = sortedItems[:topn]\n",
    "    scoreVals = []\n",
    "    featureVals = []\n",
    "    \n",
    "    # word index and corresponding tf-idf score\n",
    "    for idx, score in sortedItems:\n",
    "        \n",
    "        #keep track of feature name and its corresponding score\n",
    "        scoreVals.append(round(score, 3))\n",
    "        featureVals.append(featureNames[idx])\n",
    " \n",
    "    # create a tuples of feature,score\n",
    "    results= {}\n",
    "    for idx in range(len(featureVals)):\n",
    "        results[featureVals[idx]] = scoreVals[idx]\n",
    "    \n",
    "    return results"
   ]
  },
  {
   "cell_type": "code",
   "execution_count": 8,
   "metadata": {
    "scrolled": false
   },
   "outputs": [
    {
     "name": "stdout",
     "output_type": "stream",
     "text": [
      "\n",
      "===Keywords===\n",
      "monty 0.425\n",
      "comedy 0.425\n",
      "television 0.212\n",
      "surreal 0.212\n",
      "sketch 0.212\n"
     ]
    }
   ],
   "source": [
    "# map index to word\n",
    "featureNames=cv.get_feature_names()\n",
    " \n",
    "# generate tf-idf for the given document\n",
    "tfIdfVector=tfidfTransformer.transform(cv.transform([document3]))\n",
    " \n",
    "# sort the tf-idf vectors by descending order of scores\n",
    "sortedItems=sortCoo(tfIdfVector.tocoo())\n",
    " \n",
    "# extract only the top n\n",
    "keywords=extractTopN(featureNames,sortedItems,5)\n",
    " \n",
    "# print the results\n",
    "print(\"\\n===Keywords===\")\n",
    "for k in keywords:\n",
    "    print(k,keywords[k])"
   ]
  },
  {
   "cell_type": "markdown",
   "metadata": {},
   "source": [
    "Looks like it works!"
   ]
  },
  {
   "cell_type": "markdown",
   "metadata": {},
   "source": [
    "# Load Reddit documents "
   ]
  },
  {
   "cell_type": "markdown",
   "metadata": {},
   "source": [
    "We'll start small by importing only 100 posts of each subreddit. It's usually good to start small and see if everything works as expected, then scale up."
   ]
  },
  {
   "cell_type": "code",
   "execution_count": 3,
   "metadata": {},
   "outputs": [
    {
     "ename": "FileNotFoundError",
     "evalue": "File b'TRP-submissions.csv' does not exist",
     "output_type": "error",
     "traceback": [
      "\u001b[0;31m---------------------------------------------------------------------------\u001b[0m",
      "\u001b[0;31mFileNotFoundError\u001b[0m                         Traceback (most recent call last)",
      "\u001b[0;32m<ipython-input-3-5808a6889f26>\u001b[0m in \u001b[0;36m<module>\u001b[0;34m()\u001b[0m\n\u001b[0;32m----> 1\u001b[0;31m \u001b[0mtrp\u001b[0m \u001b[0;34m=\u001b[0m \u001b[0mpd\u001b[0m\u001b[0;34m.\u001b[0m\u001b[0mread_csv\u001b[0m\u001b[0;34m(\u001b[0m\u001b[0;34m\"TRP-submissions.csv\"\u001b[0m\u001b[0;34m,\u001b[0m \u001b[0mlineterminator\u001b[0m\u001b[0;34m=\u001b[0m\u001b[0;34m\"\\n\"\u001b[0m\u001b[0;34m)\u001b[0m\u001b[0;34m\u001b[0m\u001b[0m\n\u001b[0m",
      "\u001b[0;32m/anaconda3/lib/python3.6/site-packages/pandas/io/parsers.py\u001b[0m in \u001b[0;36mparser_f\u001b[0;34m(filepath_or_buffer, sep, delimiter, header, names, index_col, usecols, squeeze, prefix, mangle_dupe_cols, dtype, engine, converters, true_values, false_values, skipinitialspace, skiprows, nrows, na_values, keep_default_na, na_filter, verbose, skip_blank_lines, parse_dates, infer_datetime_format, keep_date_col, date_parser, dayfirst, iterator, chunksize, compression, thousands, decimal, lineterminator, quotechar, quoting, escapechar, comment, encoding, dialect, tupleize_cols, error_bad_lines, warn_bad_lines, skipfooter, doublequote, delim_whitespace, low_memory, memory_map, float_precision)\u001b[0m\n\u001b[1;32m    676\u001b[0m                     skip_blank_lines=skip_blank_lines)\n\u001b[1;32m    677\u001b[0m \u001b[0;34m\u001b[0m\u001b[0m\n\u001b[0;32m--> 678\u001b[0;31m         \u001b[0;32mreturn\u001b[0m \u001b[0m_read\u001b[0m\u001b[0;34m(\u001b[0m\u001b[0mfilepath_or_buffer\u001b[0m\u001b[0;34m,\u001b[0m \u001b[0mkwds\u001b[0m\u001b[0;34m)\u001b[0m\u001b[0;34m\u001b[0m\u001b[0m\n\u001b[0m\u001b[1;32m    679\u001b[0m \u001b[0;34m\u001b[0m\u001b[0m\n\u001b[1;32m    680\u001b[0m     \u001b[0mparser_f\u001b[0m\u001b[0;34m.\u001b[0m\u001b[0m__name__\u001b[0m \u001b[0;34m=\u001b[0m \u001b[0mname\u001b[0m\u001b[0;34m\u001b[0m\u001b[0m\n",
      "\u001b[0;32m/anaconda3/lib/python3.6/site-packages/pandas/io/parsers.py\u001b[0m in \u001b[0;36m_read\u001b[0;34m(filepath_or_buffer, kwds)\u001b[0m\n\u001b[1;32m    438\u001b[0m \u001b[0;34m\u001b[0m\u001b[0m\n\u001b[1;32m    439\u001b[0m     \u001b[0;31m# Create the parser.\u001b[0m\u001b[0;34m\u001b[0m\u001b[0;34m\u001b[0m\u001b[0m\n\u001b[0;32m--> 440\u001b[0;31m     \u001b[0mparser\u001b[0m \u001b[0;34m=\u001b[0m \u001b[0mTextFileReader\u001b[0m\u001b[0;34m(\u001b[0m\u001b[0mfilepath_or_buffer\u001b[0m\u001b[0;34m,\u001b[0m \u001b[0;34m**\u001b[0m\u001b[0mkwds\u001b[0m\u001b[0;34m)\u001b[0m\u001b[0;34m\u001b[0m\u001b[0m\n\u001b[0m\u001b[1;32m    441\u001b[0m \u001b[0;34m\u001b[0m\u001b[0m\n\u001b[1;32m    442\u001b[0m     \u001b[0;32mif\u001b[0m \u001b[0mchunksize\u001b[0m \u001b[0;32mor\u001b[0m \u001b[0miterator\u001b[0m\u001b[0;34m:\u001b[0m\u001b[0;34m\u001b[0m\u001b[0m\n",
      "\u001b[0;32m/anaconda3/lib/python3.6/site-packages/pandas/io/parsers.py\u001b[0m in \u001b[0;36m__init__\u001b[0;34m(self, f, engine, **kwds)\u001b[0m\n\u001b[1;32m    785\u001b[0m             \u001b[0mself\u001b[0m\u001b[0;34m.\u001b[0m\u001b[0moptions\u001b[0m\u001b[0;34m[\u001b[0m\u001b[0;34m'has_index_names'\u001b[0m\u001b[0;34m]\u001b[0m \u001b[0;34m=\u001b[0m \u001b[0mkwds\u001b[0m\u001b[0;34m[\u001b[0m\u001b[0;34m'has_index_names'\u001b[0m\u001b[0;34m]\u001b[0m\u001b[0;34m\u001b[0m\u001b[0m\n\u001b[1;32m    786\u001b[0m \u001b[0;34m\u001b[0m\u001b[0m\n\u001b[0;32m--> 787\u001b[0;31m         \u001b[0mself\u001b[0m\u001b[0;34m.\u001b[0m\u001b[0m_make_engine\u001b[0m\u001b[0;34m(\u001b[0m\u001b[0mself\u001b[0m\u001b[0;34m.\u001b[0m\u001b[0mengine\u001b[0m\u001b[0;34m)\u001b[0m\u001b[0;34m\u001b[0m\u001b[0m\n\u001b[0m\u001b[1;32m    788\u001b[0m \u001b[0;34m\u001b[0m\u001b[0m\n\u001b[1;32m    789\u001b[0m     \u001b[0;32mdef\u001b[0m \u001b[0mclose\u001b[0m\u001b[0;34m(\u001b[0m\u001b[0mself\u001b[0m\u001b[0;34m)\u001b[0m\u001b[0;34m:\u001b[0m\u001b[0;34m\u001b[0m\u001b[0m\n",
      "\u001b[0;32m/anaconda3/lib/python3.6/site-packages/pandas/io/parsers.py\u001b[0m in \u001b[0;36m_make_engine\u001b[0;34m(self, engine)\u001b[0m\n\u001b[1;32m   1012\u001b[0m     \u001b[0;32mdef\u001b[0m \u001b[0m_make_engine\u001b[0m\u001b[0;34m(\u001b[0m\u001b[0mself\u001b[0m\u001b[0;34m,\u001b[0m \u001b[0mengine\u001b[0m\u001b[0;34m=\u001b[0m\u001b[0;34m'c'\u001b[0m\u001b[0;34m)\u001b[0m\u001b[0;34m:\u001b[0m\u001b[0;34m\u001b[0m\u001b[0m\n\u001b[1;32m   1013\u001b[0m         \u001b[0;32mif\u001b[0m \u001b[0mengine\u001b[0m \u001b[0;34m==\u001b[0m \u001b[0;34m'c'\u001b[0m\u001b[0;34m:\u001b[0m\u001b[0;34m\u001b[0m\u001b[0m\n\u001b[0;32m-> 1014\u001b[0;31m             \u001b[0mself\u001b[0m\u001b[0;34m.\u001b[0m\u001b[0m_engine\u001b[0m \u001b[0;34m=\u001b[0m \u001b[0mCParserWrapper\u001b[0m\u001b[0;34m(\u001b[0m\u001b[0mself\u001b[0m\u001b[0;34m.\u001b[0m\u001b[0mf\u001b[0m\u001b[0;34m,\u001b[0m \u001b[0;34m**\u001b[0m\u001b[0mself\u001b[0m\u001b[0;34m.\u001b[0m\u001b[0moptions\u001b[0m\u001b[0;34m)\u001b[0m\u001b[0;34m\u001b[0m\u001b[0m\n\u001b[0m\u001b[1;32m   1015\u001b[0m         \u001b[0;32melse\u001b[0m\u001b[0;34m:\u001b[0m\u001b[0;34m\u001b[0m\u001b[0m\n\u001b[1;32m   1016\u001b[0m             \u001b[0;32mif\u001b[0m \u001b[0mengine\u001b[0m \u001b[0;34m==\u001b[0m \u001b[0;34m'python'\u001b[0m\u001b[0;34m:\u001b[0m\u001b[0;34m\u001b[0m\u001b[0m\n",
      "\u001b[0;32m/anaconda3/lib/python3.6/site-packages/pandas/io/parsers.py\u001b[0m in \u001b[0;36m__init__\u001b[0;34m(self, src, **kwds)\u001b[0m\n\u001b[1;32m   1706\u001b[0m         \u001b[0mkwds\u001b[0m\u001b[0;34m[\u001b[0m\u001b[0;34m'usecols'\u001b[0m\u001b[0;34m]\u001b[0m \u001b[0;34m=\u001b[0m \u001b[0mself\u001b[0m\u001b[0;34m.\u001b[0m\u001b[0musecols\u001b[0m\u001b[0;34m\u001b[0m\u001b[0m\n\u001b[1;32m   1707\u001b[0m \u001b[0;34m\u001b[0m\u001b[0m\n\u001b[0;32m-> 1708\u001b[0;31m         \u001b[0mself\u001b[0m\u001b[0;34m.\u001b[0m\u001b[0m_reader\u001b[0m \u001b[0;34m=\u001b[0m \u001b[0mparsers\u001b[0m\u001b[0;34m.\u001b[0m\u001b[0mTextReader\u001b[0m\u001b[0;34m(\u001b[0m\u001b[0msrc\u001b[0m\u001b[0;34m,\u001b[0m \u001b[0;34m**\u001b[0m\u001b[0mkwds\u001b[0m\u001b[0;34m)\u001b[0m\u001b[0;34m\u001b[0m\u001b[0m\n\u001b[0m\u001b[1;32m   1709\u001b[0m \u001b[0;34m\u001b[0m\u001b[0m\n\u001b[1;32m   1710\u001b[0m         \u001b[0mpassed_names\u001b[0m \u001b[0;34m=\u001b[0m \u001b[0mself\u001b[0m\u001b[0;34m.\u001b[0m\u001b[0mnames\u001b[0m \u001b[0;32mis\u001b[0m \u001b[0;32mNone\u001b[0m\u001b[0;34m\u001b[0m\u001b[0m\n",
      "\u001b[0;32mpandas/_libs/parsers.pyx\u001b[0m in \u001b[0;36mpandas._libs.parsers.TextReader.__cinit__\u001b[0;34m()\u001b[0m\n",
      "\u001b[0;32mpandas/_libs/parsers.pyx\u001b[0m in \u001b[0;36mpandas._libs.parsers.TextReader._setup_parser_source\u001b[0;34m()\u001b[0m\n",
      "\u001b[0;31mFileNotFoundError\u001b[0m: File b'TRP-submissions.csv' does not exist"
     ]
    }
   ],
   "source": [
    "trp = pd.read_csv(\"TRP-submissions.csv\", lineterminator=\"\\n\")"
   ]
  },
  {
   "cell_type": "code",
   "execution_count": null,
   "metadata": {
    "scrolled": false
   },
   "outputs": [],
   "source": [
    "sed = pd.read_csv(\"seduction-submissions.csv\", lineterminator=\"\\n\")"
   ]
  },
  {
   "cell_type": "code",
   "execution_count": null,
   "metadata": {},
   "outputs": [],
   "source": [
    "mgtow = pd.read_csv(\"mgtow-submissions.csv\", lineterminator=\"\\n\")"
   ]
  },
  {
   "cell_type": "code",
   "execution_count": null,
   "metadata": {},
   "outputs": [],
   "source": [
    "# Let's justget 1000 posts each, based on highest score\n",
    "trp = trp.sort_values(by=['score'], ascending=False)[:100]\n",
    "sed = sed.sort_values(by=['score'], ascending=False)[:100]\n",
    "mgtow = mgtow.sort_values(by=['score'], ascending=False)[:100]"
   ]
  },
  {
   "cell_type": "markdown",
   "metadata": {},
   "source": [
    "## Tokenizing & POS tagging"
   ]
  },
  {
   "cell_type": "markdown",
   "metadata": {},
   "source": [
    "Let's use a tokenizer function that also extracts nouns and lemmatizes."
   ]
  },
  {
   "cell_type": "code",
   "execution_count": null,
   "metadata": {},
   "outputs": [],
   "source": [
    "def posFilter(df, name):\n",
    "    \"\"\"POS tags and filters DF by nouns\"\"\"\n",
    "    dfLength = len(df)\n",
    "    total = []\n",
    "    counter = 0\n",
    "    clean = df[~df['selftext'].isin(['[removed]', '[deleted]' ])].dropna(subset=['selftext'])\n",
    "    cleaner = df.dropna(subset=['selftext'])\n",
    "    for text in cleaner['selftext']:\n",
    "        text = text.lower()\n",
    "        # remove tags\n",
    "        text = re.sub(\"&lt;/?.*?&gt;\",\" &lt;&gt; \", text)\n",
    "        # remove special characters and digits\n",
    "        text = re.sub(\"(\\\\d|\\\\W)+\",\" \", text)\n",
    "        # tokenize\n",
    "        tokens = word_tokenize(text)\n",
    "        # leave only nouns\n",
    "        pos = nltk.pos_tag(tokens)     \n",
    "        nouns = [tup[0] for tup in pos if tup[1] == \"NN\"]\n",
    "        # lemmatize\n",
    "        lemmas = ' '.join([wordnet_lemmatizer.lemmatize(token) for token in nouns])\n",
    "        with open(name + \"-nouns.txt\", 'a', encoding='utf8') as f:\n",
    "            f.write(lemmas)\n",
    "        counter += 1\n",
    "        if counter % 100 == 0:\n",
    "            print(\"Saved \" + str(counter) + \" out of \" + str(dfLength) + \" entries\") "
   ]
  },
  {
   "cell_type": "code",
   "execution_count": null,
   "metadata": {
    "scrolled": false
   },
   "outputs": [],
   "source": [
    "posFilter(trp, \"trp\")"
   ]
  },
  {
   "cell_type": "code",
   "execution_count": null,
   "metadata": {},
   "outputs": [],
   "source": [
    "posFilter(sed, \"sed\")"
   ]
  },
  {
   "cell_type": "code",
   "execution_count": null,
   "metadata": {},
   "outputs": [],
   "source": [
    "posFilter(mgtow, \"mgtow\")"
   ]
  },
  {
   "cell_type": "markdown",
   "metadata": {},
   "source": [
    "## Using TF-IDF to find distinctive words"
   ]
  },
  {
   "cell_type": "markdown",
   "metadata": {},
   "source": [
    "We'll implement scikit-learn's tf-idf functionality to find distinctive words for each document (i.e. subreddit). So we'll treat each subreddit we feed into the `TfidfTransformer` as a document."
   ]
  },
  {
   "cell_type": "code",
   "execution_count": null,
   "metadata": {},
   "outputs": [],
   "source": [
    "with open(\"trp-nouns.txt\") as f:\n",
    "    trpNouns = f.read()\n",
    "with open(\"sed-nouns.txt\") as f:\n",
    "    sedNouns = f.read()\n",
    "with open(\"mgtow-nouns.txt\") as f:\n",
    "    mgtowNouns = f.read()"
   ]
  },
  {
   "cell_type": "code",
   "execution_count": null,
   "metadata": {},
   "outputs": [],
   "source": [
    "redditList = [trpNouns, sedNouns, mgtowNouns]"
   ]
  },
  {
   "cell_type": "markdown",
   "metadata": {},
   "source": [
    "Now it's up to you. Initialize the `CountVectorizer` and `TfidfTransformer`, and repeat what we did with the test, but this time with this data!"
   ]
  },
  {
   "cell_type": "code",
   "execution_count": null,
   "metadata": {},
   "outputs": [],
   "source": [
    "# Your code here\n",
    "\n",
    "\n",
    "\n",
    "\n",
    "\n",
    "\n"
   ]
  },
  {
   "cell_type": "markdown",
   "metadata": {},
   "source": [
    "## Using TF-IDF to find similar documents"
   ]
  },
  {
   "cell_type": "markdown",
   "metadata": {},
   "source": [
    "We can also use tf-idf to work out the similarity between any pair of documents. So given one post or comment, we could see which posts or comments are most similar. This can be useful if you're trying to find other examples of a pattern you have found and want to explore further."
   ]
  },
  {
   "cell_type": "markdown",
   "metadata": {},
   "source": [
    "This time, our \"documents\" will not be entire subreddits, but posts/submissions within one subreddit. Let's import the comments and run the vectorizer without all the lemmatizing so we can actually read them."
   ]
  },
  {
   "cell_type": "code",
   "execution_count": 10,
   "metadata": {},
   "outputs": [],
   "source": [
    "tf = TfidfVectorizer(analyzer='word', ngram_range=(1,3), min_df = 0, stop_words = 'english')\n",
    "wordCountVector = tf.fit_transform([content for content in trp['selftext']])"
   ]
  },
  {
   "cell_type": "markdown",
   "metadata": {},
   "source": [
    "This function finds similar words using the wordCountVector we just created. It uses scikit-learn's \"linear kernel\", which uses cosine similarity to find documents that are most alike."
   ]
  },
  {
   "cell_type": "markdown",
   "metadata": {},
   "source": [
    "We'll start by finding a post with a clear topic. This one's on picking up women (surprise...)"
   ]
  },
  {
   "cell_type": "code",
   "execution_count": 11,
   "metadata": {},
   "outputs": [
    {
     "data": {
      "text/plain": [
       "'**A complete guide to picking up 9s and 10s**  \\nToday I want to tell you everything I know about getting the highest calibre girls from cold approach.  \\nThis guide will cover: frame control, inner game, and passing tests — which I consider to be the holy trinity of “9 and 10 game”.  \\nThis guide will NOT cover: body language, pulling, or handling logistics. Obviously, the latter are extremely important, but they’ve been adequately covered elsewhere, and there just isn’t space to include them here.  \\n\\n\\n&nbsp;\\n\\n\\n**My background**  \\nPicked on in school, small and sickly, didn’t have a girlfriend until 18. Was dumped by her and spent the first 2 years of college pretty much celibate.  \\nGot into redpill ideas through the old “Citizen Renegade” blog (which is now Heartiste). From there stumbled on RSD’s infield videos.  \\nStarted going out and approaching regularly. Approach anxiety and ceaseless rejection for months, but I kept at it. The odd success here and there.  \\nAfter about 2 years I was fucking a new girl every fortnight or so, mostly 7s and 8s with the occasional turbo when fortune smiled on me. My current girlfriend is a 9, has done modelling etc.  \\n\\n\\n&nbsp;\\n\\n\\n**Below is everything I know about getting the hottest women from cold approach pickup.**\\nThis is specially engineered for getting 9s and 10s and dealing with the kind of bullshit these girls will inevitably give you.  \\nIf you’re more into sleeping with tons of 7s (and there’s nothing wrong with that), this might be overkill.  \\nWhen I was single I personally was one of those guys who would rather fuck half a dozen 9s/10s in a year than 50 mid range girls, so my whole approach to game is based on optimizing for that.  \\nTake it for what it is — I’m not saying my approach is better, this is just how I roll based on my preferences.  \\nThis is a long post. You may want to bookmark it and return to it later if you’re particularly concerned with getting the hottest girls.   There’s a lot of subtle points in here that won’t be immediately clear on a first reading.  \\n\\n\\n&nbsp;\\n\\n\\n---------\\n\\n\\n&nbsp;\\n\\n\\n**PART 1: THE ATTRACTION PROCESS**  \\n\\n\\n&nbsp;\\n\\n\\n**1\\\\. Women are attracted to you because you have a stronger frame than they do.**  \\nThat’s all.  \\nThere’s nothing else to it.  \\nAttraction is purely a function of the fact that:  \\n1\\\\. you’re a man  \\n2\\\\. you have a *stronger frame* than the girl  \\nAs a man, you naturally have a strong frame of reality whereas women don’t. Therefore they value that. (Having a strong frame is a result of high testosterone levels.)  \\n\\n\\n&nbsp;\\n\\n\\n**2\\\\. Women would rather fuck an ugly guy with a strong frame than a handsome guy with a weak one**  \\nEvolution has designed women to be very flexible in terms of who they’ll become attracted to.  \\nWomen would rather fuck an ugly guy with a strong frame (i.e. a natural leader) than a handsome guy with a weak frame (cowardice, uncertainty).  \\nThat’s because women who chose to fuck the latter ultimately had their genes rooted out of existence by the brutal conditions of ancestral life.  \\nIn consequence, women now are very adaptable. They have the capacity to be attracted to almost ANY man so long as his frame is stronger than hers.  \\n\\n\\n&nbsp;\\n\\n\\n**3\\\\. A girl can ONLY get horny for you if you have a stronger frame than her.**  \\nThink of this like a mathematical equation. There’s no getting around it, no cheating it, no short-circuiting it. It is an immutable law.  \\nWomen want to submit to you. They want to submit to a strong man. But she can’t submit to you if your frame is weaker than hers.  \\nPhysiologically, girls can’t even become wet for a guy who has a weaker frame than they do. It’s literally impossible.  \\n\\n\\n&nbsp;\\n\\n\\n**4\\\\. “Be a man. Act like you have answers.” (Bill Burr)**  \\nWhat is a strong frame? Fundamentally, it’s a sense of certainty in everything you do. This certainty manifests itself as calmness in the face of social pressure.  \\nSimply put, in a cold approach pickup, the woman becomes attracted to you because you’re more relaxed than she is.  \\nThat’s all.  \\nThat might seem strange, but it’s actually not.  \\nThe very fact that you approached the girl at all demonstrates a massive amount of confidence and social value (either real or potential).  \\nSo once you’ve approached the girl and gotten her into a conversation, the game is yours to lose. She’ll inevitably become attracted to you because you’re a man, and because you have a stronger frame than she does.  \\n\\n\\n&nbsp;\\n\\n\\n**5\\\\. Relax**  \\nYou will approach women, and you will make mistakes. That’s fine. Women don’t want you to be perfect. They only want you to be a man.  \\nYou are not physically perfect. Neither am I. Neither is anyone.  \\nWomen are not looking for perfection. They’re only looking for a man who has a *stronger psychological frame* than they do.  \\nAnd fortunately for you, you already have a naturally stronger frame than women.  \\nAn example of this is how women will freak out over spiders or mice, jump up and down, scream, and so on, whereas a man will calmly deal with the situation without it breaking his frame.  \\n\\n\\n&nbsp;\\n\\n\\n**6\\\\. She tests your frame to test your masculinity. The two are the exact same thing.**  \\nWomen are attracted to *masculinity*. And masculinity can be defined as a measure of how much pressure a man can endure without it breaking his frame.  \\nWhen you approach a hot woman, she immediately starts trying to break down your frame.  \\nShe’s testing it for strength.  \\nIf your frame crumbles in the face of her frame, she knows you’re not a man — because men have a stronger frame than women.  \\nFortunately, your frame will not crumble. A girl’s frame will always “buckle” under yours after you pass several of her tests. It’s instinctual. Women want to be with the strong man. When she sees you have a strong frame she starts getting wet.  \\n\\n\\n&nbsp;\\n\\n\\n**7\\\\. “Listen, smile, nod, agree — then do what the fuck you were gonna do anyway.” (Robert Downey Jr.)**  \\nWomen test me all the time. Women have said things to me that are totally brutal — called me ugly, too short, a loser, etc.  \\nMost of the women I approach will make a weird face or pretend to ignore me for the first 10-20 seconds.  \\nIt doesn’t penetrate. It doesn’t cause any emotional reaction whatsoever inside me. I smile, nod, agree and then keep talking to her as if she’s being nice to me.  \\nEventually, she starts responding. Then she starts laughing. And then we have sex.  \\nA woman’s frame will ALWAYS buckle under yours. It’s not a question of “if”, but “when”.  \\n\\n\\n&nbsp;\\n\\n\\n**8\\\\. Chasing hot girls gives you a “charge”**  \\nWhen you’re first getting into game, it’s fine to only approach 5s and 6s.  \\nMany of these girls will be super nice to you, and that’s cool. A lot of them are fantastic in bed.  \\nBut once you start to get some experience, you’re naturally going to want to move up the ladder and start laying 8s, 9s and 10s.  \\nThis is a natural instinct, and it’s good. It’s okay to chase girls just because they’re hot. These girls want you to chase them. If they didn’t, they wouldn’t make themselves hot.  \\nPart of being a man is that you can appreciate a woman’s beauty and femininity. It gives you a charge. And pursuing women who are “out of your league” (by society’s false standards) also gives you a charge.  \\n\\n\\n&nbsp;\\n\\n\\n**9\\\\. Seducing a 9 is no different from seducing a 5**  \\nThe process of attraction is exactly the same. The only difference is that the hot girl’s frame is stronger than the chubby girl’s.  \\nBut ultimately, no matter how strong a hottie’s frame is, your frame will always be stronger, because you’re a man.  \\n\\n\\n&nbsp;\\n\\n\\n**10\\\\. Women will test you brutally when they want to sleep with you**  \\nWhen you approach any hot girl, she’ll test your frame HARD to see if it’s strong.  \\nShe’ll act like a bitch. She’ll pretend to ignore you. She’ll tell you outright to go away.  \\nShe wants to see if you’ll buckle to social pressure, or if your frame will remain calm and consistent regardless of external feedback.  \\nShe actually WANTS to sleep with you — but she needs to test your strength first.  \\nDon’t be fooled by the bitch persona for a second. It’s a carefully cultivated TEST.  \\nMost men fail the test because they don’t even realize they’re being tested.  \\n\\n\\n&nbsp;\\n\\n\\n**11\\\\. Fight Club analogy**  \\nGetting a hot woman into bed is like the hazing scene in Fight Club where the new recruits are lined up outside the door.  \\nTyler berates the recruits with personal insults. “Too old, go away.” “Too fat, go away.”  \\nHe forces them to stand outside for days. He tells them there’s no possibility they’re getting in. Most give up. But the few who stay are ultimately invited inside.  \\nSeducing the hottest women is the same. It’s a WAR OF ATTRITION.  \\nWomen will fuck pretty much any guy who’s around at the end of the night so long as he has a stronger frame than she does.  \\nBut you have to stick around. You can’t leave when she insults you or acts like she doesn’t want to talk to you. If you do, you’re failing her tests.  \\nWe’ll get into the mechanics of passing these tests in a moment. First we need to talk about inner game, which is the basis of out-framing anyone.  \\n\\n\\n&nbsp;\\n\\n\\n---------\\n\\n\\n&nbsp;\\n\\n\\n**PART 2:  INNER GAME**  \\n\\n\\n&nbsp;\\n\\n\\n**12\\\\. The battle is won or lost inside you before it’s ever fought**  \\nWe’ve said that the only way to AROUSE a woman to the point that she wants to sleep with you off cold approach is to pass her tests.  \\nHow do you pass these tests?  \\nThe first principle is to understand is that all tests are FRAME tests. The entire purpose of tests is to see if you have a strong frame that won’t buckle under pressure.  \\nTherefore, it’s useless begin with talking about “how to pass tests”. The real value is in having a strong frame to begin with. As Sun Tzu says in the Art of War, “every battle is won or lost before it’s ever fought.”  \\n\\n\\n&nbsp;\\n\\n\\n**13\\\\. The “I am enough” frame = the gold dust that gets you 9s and 10s**  \\nThe basis of your inner game is the idea that “you are enough”. In other words, you have value to women simply because you’re a man.  \\nEverything else is built upon that foundation.  \\nYou don’t have to “do” anything to attract a girl. She’s attracted to you simply because you’re more relaxed than she is.  \\nYou don’t have to change anything. You don’t have to improve your “game” beyond what it’s at now. You don’t need to become better looking.  \\nYou CAN do all these things if you want and they will help you. But you don’t have to.  \\nYou’re already “good enough” simply because you’re a man — because you’ve got testosterone and a dick. Women value that.  \\n\\n\\n&nbsp;\\n\\n\\n**14\\\\. Men and women are meant to get together**  \\nWe fit together like a key and a lock.  \\nThere have been studies done in which women smell men’s sweaty t-shirts, and it changes the chemistry of their brain — making them more relaxed and calm.  \\nYour “male-ness” is inherently attractive to women. Same way as their femininity is inherently attractive to you.  \\n\\n\\n&nbsp;\\n\\n\\n**15\\\\. Standards are a myth — everyone is a horny scoundrel**  \\nWe have been brainwashed in our culture into believing that people (women) have something called “standards”.  \\nWomen don’t have any standards — not really. Neither do men.  \\nImagine you’re naked in bed with a “4”. She’s kinda chubby, plain face, you probably wouldn’t be proud of the lay, whatever. But her skin’s soft, she smells good, and she’s naked and wet.  \\nAre you going to say no?  \\nProbably not, if we’re being honest with each other. You’d almost definitely fuck her if you could be CERTAIN that (a) she’d leave afterwards, and (b) no one would find out.  \\nThere’s a natural magnetism between men and women. We have no willpower around each other.  \\nWomen are the same way. Take it from someone who’s “shot out of his league” too many times to count.  \\n\\n\\n&nbsp;\\n\\n\\n**16\\\\. Be her cheat meal**  \\nYou can be a “4” and she can be a “9”. *If the circumstances are right*, she’ll fuck you so long as there’s no downside. Why? Because sex feels good.  \\nEven the hottest, slimmest yoga bunny pigs out on pizza every once in a while. It’s human nature. We’re not strong. We’re weak.  \\nWe pretend to have “standards” to the outside world. But down deep inside, no one has any standards, and we know it. We have no will, no self-control.  \\nHot women are the same.  \\nIf you can hold frame, pass a woman’s test, and lead her to somewhere sex can happen while creating plausible deniability, she WILL fuck you.  \\nYou’d be amazed how easy it is when you get it down.  \\n\\n\\n&nbsp;\\n\\n\\n**17\\\\. Stop thinking you need to be an “alpha” to get hot girls — helpful at first but it will ultimately stress you out**  \\nYour frame is: “I am enough.”  \\nYour frame is NOT “I’m a badass alpha who’s better than everyone”.  \\nThat’s hard to uphold in the face of conflicting evidence, and will cause cognitive dissonance and stress.  \\nIt’s simply: “Women and men are meant to get together. I’m a man. Therefore, women are already attracted to me on some baseline level.”  \\nThat’s not a hard frame to maintain. It doesn’t stretch the truth. It doesn’t cause cognitive dissonance.  \\nAnd therefore it’s MUCH MORE RESILIENT in the face of tests and resistance — which is the most CRITICAL element to getting the hottest  girls.  \\n\\n\\n&nbsp;\\n\\n\\n**18\\\\. Cultivate a “reality distortion field”**  \\nIn order to do this, you must fully INTERNALIZE the “I am enough” belief system.  \\nUnderstanding it in theory isn’t enough. You have to feel it with your whole “mass”. You have to believe it with total, unquestioning, brainwashed conviction.  \\nThe more you think about the idea that there’s no reason you’re not enough, the more it will feel “true”. (Things become true to us through repetition, not through logic.)  \\nUse self-hypnosis if necessary. Find every reason you can to support the belief that you’re enough, while cultivating “deliberate blindness” to anything that contradicts it.  \\nDon’t be a slave to logic. Make logic a slave to you. This is how you cultivate a “reality distortion field”.  \\n\\n\\n&nbsp;\\n\\n\\n---------\\n\\n\\n&nbsp;\\n\\n\\n**PART 3: HOW TO MAKE WOMEN HORNY BY PASSING THEIR TESTS**  \\n\\n\\n&nbsp;\\n\\n\\n**19\\\\. Enduring tests = building attraction**  \\nWhen you approach a woman, she immediately starts testing you. By passing her tests, you demonstrate that your frame is stronger than hers. This makes her horny for you.  \\nWomen are wired in such a way that they can’t become wet for a man unless he’s overcome some kind of *resistance* to get her.   Hence, tests actually help you to seduce her. You want her to test you. The more tests you endure, the faster she’ll sleep with you.  \\nWhen a girl is so into you that she doesn’t test you, this is how you end up on a 3rd date with a woman who still won’t put out.  \\nTests are your friend.  \\n\\n\\n&nbsp;\\n\\n\\n**20\\\\. Passing tests is where ALL attraction is ultimately generated.**  \\nAttraction is NOT generated by pickup lines and witty comebacks.  \\nAttraction is NOT generated by manipulation techniques.  \\nAttraction is NOT generated by looks or money.  \\nAll of these things WILL increase your probabilities of getting laid, and make your game smoother and more streamlined.  \\nBut they’re NOT what builds ATTRACTION.  \\nThe one and ONLY thing that builds attraction is ENDURING A WOMAN’S TESTS.  \\nThe reason for this is obvious when you think about it:  \\n\\n\\n&nbsp;\\n\\n\\n**21\\\\. Enduring her tests = ability to overcome adversity = GOOD GENES**  \\nWomen have to see you have a strong frame, because otherwise they have no confidence that you’ll be able to protect them and remain calm in the face of danger.  \\nAnd the ONLY way they can figure out if you have strong frame is by testing you, being bitchy, insulting you, brushing you off, ignoring you, etc.  \\nThat might seem “unfair” to you.  \\nBut if you can’t handle the abuse from some blonde chick in a bar, how the fuck are you going to handle beating a 7ft tall man to death with your bare hands when he and his tribe invade your village and try to gang-rape your girl?  \\nThink about it.  \\n\\n\\n&nbsp;\\n\\n\\n**22\\\\. Women aren’t built for Starbucks. They’re built for the African savannah.**  \\nWomen aren’t built for the modern world. They’re built for nature, red in tooth and claw.  \\nIf you understand that, you’ll do things differently. You won’t take it so personally when you approach a girl and she tries to destroy you.  \\nIt’s necessary.  \\nHot women aren’t acting bitchy to you because of feminism. They’re acting bitchy to you because they WANT to fuck you — but they can only do so after they’ve proved that you have a stronger frame than they do.  \\nThis is instinctual. It’s part of the natural order.  \\nInnate female bitchiness existed long before feminism. Testing men who approach them is encoded into female DNA.  \\nWhen you get bitter at hot women for testing you, you’re being just as anti-nature as feminists themselves.  \\n\\n\\n&nbsp;\\n\\n\\n**23\\\\. Eliminate self-destructive beliefs**  \\nThere’s a common myth in the seduction community that a girl who acts “bitchy” to your approach is fundamentally flawed and therefore “not worth pursuing”.  \\nThis is totally ludicrous.  \\nIn fact, it’s just an incidence of “sour grapes” — cognitive games we play with ourselves to rationalize that the grapes we can’t reach are sour.  \\nThe reality is that if a girl has ANY VALUE WHATSOEVER, then she will test you hard during your first approach.  \\n\\n\\n&nbsp;\\n\\n\\n**24\\\\. Embrace tests**  \\nDo you want a woman who says yes to every cock who comes along without putting up the slightest resistance?  \\nOr do you want a woman who actually DISCRIMINATES among men based on their value — and who CHOSE YOU over hundreds of other suitors because you had the highest value?  \\nIf you’re a normal, healthy man, you want the second woman — and that means you must LOGICALLY EXPECT her to test you hard, and to test you with everything she’s got.  \\nAnd you must not only expect tests, but APPRECIATE them.  \\nYou LIKE it when a girl acts bitchy on your approach. It means that if you settle down with her, she’s likely to act bitchy to OTHER GUYS who approach her, scaring them away.  \\nThe higher a woman’s value (in looks and character), the harder she will test you by ACTING “boring” and “bitchy”. This is the way it is and will be. This way and not some other way.  \\nLuckily, passing tests is the fastest way to create arousal and horniness. This means that, paradoxically, the hottest women are often the easiest to seduce if you know how to pass their tests.  \\n\\n\\n&nbsp;\\n\\n\\n**THE TWO CATEGORIES OF “TESTS” HOT GIRLS WILL GIVE YOU, AND HOW TO PASS THEM**  \\nWomen will give you two types of tests — active tests and passive tests.  \\n\\n\\n&nbsp;\\n\\n\\n**25\\\\. Active tests**  \\nActive tests are covered frequently in PUA literature.  \\nWhen a woman insults you, belittles you, mocks you, or says something provocative to get a reaction — these are all examples of active tests.  \\nCommon “brush-off” lines like telling you she has a boyfriend, saying you’re a nice guy, telling you LJBF — these are also active tests.  \\nI won’t talk much about passing active tests as this material has already been done to death in the redpill/PUA world. (Just look up anything on “shit tests”.)  \\nSuffice to say, the best way to pass active tests is to either:  \\na. Agree and amplify.  \\nb. Ignore the test and continue as if you didn’t even hear it.  \\nGenerally speaking, getting active tests is VERY GOOD. If the girl’s actively testing you, it means she’s definitely interested. It’s also a very easy way to demonstrate your strength of frame by being a charming asshole in response.  \\n\\n\\n&nbsp;\\n\\n\\n**26\\\\. How to get past her “bitch shield” persona and into her knickers: recognize and endure passive tests**  \\nBut there is another type of test, which is MUCH more important to understand.  \\nThis is the PASSIVE TEST. This is almost NEVER covered by PUA/redpill literature — yet these tests are actually the most COMMON you’ll encounter, particularly when dealing with 9s and 10s.  \\nPassive testing happens when you approach a girl and she appears to be INDIFFERENT, BORED, or ALOOF.  \\n“Resting bitch face” is a passive test. Giving you only one word answers is a passive test.  \\nAnd — my favorite — when you go to approach a hot girl and she looks at you with a face of half-disgust, half-horror, and runs away.  \\nUtterly BRUTAL as it seems — yes, even THAT is a test.  \\n\\n\\n&nbsp;\\n\\n\\n**27\\\\. Don’t confuse passive tests with “rejection”**  \\n99% of guys interpret passive tests as REJECTION. Even natural alphas do.  \\nAnd that’s totally understandable.  \\nI mean, it makes sense right?  \\nIf you approach a stunner and she takes one look at you before making a “creeped out” face to her friend, and then they run away — that’s obviously a rejection, right?  \\nWell, what if I told you that at least half the women I’ve slept with in my life reacted like that (or similarly badly) when I approached them?  \\nHere’s a particularly good example:  \\n\\n\\n&nbsp;\\n\\n\\n**28\\\\. “Rejection” is not rejection**  \\nThere was this girl I went to college with. Brunette, hot, did modeling work in her spare time, socially was one step down from a “minor celebrity” in my city.  \\nProbably one of the 10 or 15 hottest girls in my college.  \\nI always wanted to fuck this girl, because she seemed smart and interesting as well as just hot. But I rarely saw her around.  \\nOne day she passed me in the stairwell, and I thought “this is probably the only chance I’m ever going to get”.  \\nSo I approached her and blurted. “Hi, I’m Mike”. Good eye contact. Held my hand out to shake hers. Whatever.  \\nShe looked at me like I had leprosy.  \\nI mean, she literally RECOILED. Her eyes went wide in horror, as if I was trying to infect her with AIDS.  \\nShe shook my hand limply and muttered some social nicety back, then ran away swiftly.  \\nWOW… Now THAT’S a rejection, right?  \\nWell, the story has an addendum. That woman is now my girlfriend. Has been for three years. She’ll probably be the mother of my children.  \\nSo what’s going on here?  \\nIf she was attracted to me (which she later told me she was), why did she appear to “reject” me?  \\nAnswering this question is the THE KEY to mastering all of game and social dynamics. You ready?  \\nOk, here we go:  \\n\\n\\n&nbsp;\\n\\n\\n**29\\\\. You are TOO HIGH VALUE**  \\nYes, you read that correctly.  \\nWhen you’re getting “rejected” by girls, it’s because YOU’RE TOO HIGH VALUE FOR THEM, and it makes them nervous and self-conscious.  \\nStay with me here. I know this sounds paradoxical, but try to grasp it.  \\n\\n\\n&nbsp;\\n\\n\\n**30\\\\. Women are nervous around you**  \\nWhen you approach a woman out of the blue, it demonstrates a LOT of value. More than you probably realize.  \\nThis is because 97% of guys DON’T APPROACH AT ALL. (Those who do are usually drunk and sloppy.)  \\nThis means that if you’re an average to fair looking guy, and you cold approach a girl, you’ve just put yourself in the top 3% of men in terms of confidence.  \\nIn other words, she is going to naturally ASSUME that you are an alpha male (whether this is true or not).  \\nThis makes her NERVOUS and SELF-CONSCIOUS. She’s ill at ease around you because she wants to make a good impression.  \\nSo she tries to act “cool”, “aloof”, and “standoffish”… because she feels awkward.  \\nShe says bitchy things… because she can’t think of anything else to say.  \\nShe run aways… because she feels anxious around you and doesn’t know what to do next.  \\nIn other words: you’re coming across as TOO HIGH VALUE.  \\nWomen are nervous around you. Be patient with them!  \\nDumb yourself down. Hold frame, tease them, keep smiling warmly.  \\nEventually they’ll open up and start laughing, flirting back, and ultimately get turned on by the fact that you out-framed them in a way no other man ever has.  \\n\\n\\n&nbsp;\\n\\n\\n---------\\n\\n\\n&nbsp;\\n\\n\\n**BONUS:  THE 6 MOST COMMON TESTS HOT GIRLS WILL GIVE YOU AND HOW TO PASS THEM IN A WAY THAT BUILDS ATTRACTION**  \\n\\n\\n&nbsp;\\n\\n\\n**#1\\\\. You approach her, say hi, and she makes a weird face, or pretends to ignore you.**  \\nSimply keep talking as if you expect her to talk back. She’s nervous and self-conscious and *doesn’t know what to say*. That’s why she’s acting “bitchy” — you’re too high value for her and she feels anxious, causing her to try to act cool.  \\nDon’t react to her. Keep your body language open and relaxed. Warm smile, unwavering eye contact. Keep talking. Eventually she’ll start talking back and responding positively.  \\n\\n\\n&nbsp;\\n\\n\\n**#2\\\\. You’re talking to a girl and she acts indifferent or aloof, only gives you one word answers, or keeps looking off into the distance**  \\nAgain, you simply have to ENDURE IT. Keep talking, keep being playful. Teasing her a little bit never hurts either. “Are you this charming with all the guys?” “This bitchy cheerleader persona you’re putting on is really turning me on, please keep it going ;-)”  \\nWhen she sees you’re not going to go away so easily, her frame will crack. She’ll start to smile. Attraction.  \\n\\n\\n&nbsp;\\n\\n\\n**#3\\\\. You’re talking to a girl and she leaves to go to the bathroom, says “I have to go find my friends”, or runs away for no apparent reason.**  \\nLet her go. Then re-approach her later. I can’t tell you how many girls have run off on me, then I approach them half an hour later and they’re like “Oh it’s you!” and then we hook up.  \\nWhy do women leave? Again, they’re NERVOUS.  \\nHave you ever approached a hot girl and things were going TOO WELL? The girl is smiling and laughing…. she’s responding well… and…. you freak out! You don’t know what else to do, but you don’t want to fuck it up, so you leave set!  \\nGIRLS DO THIS TOO. Women will “run out of things to say” and run away because they’re nervous and overwhelmed by being in a high value person’s presence, same as guys will.  \\nLet her go, then re-approach her next time you see her.  \\nShe will respond extremely well 90% of the time in my experience. She’ll literally be GRATEFUL to you that you gave her another chance. Women have told me this explicitly.  \\n\\n\\n&nbsp;\\n\\n\\n**#4\\\\. If you’re talking to a girl and she tells you outright that you should leave, or says “well, you should go back to your friends”, “it was nice meeting you”, etc.**  \\nSmile, nod, agree, and then continue talking to her as if she said nothing. Never leave set because a girl tells you to.  \\nSHE can walk away if she wants. She has that right.  \\nBut in a public space like a bar or nightclub, you’re well within your rights to talk to whoever you want.  \\nIt’s Saturday night. It’s a social environment. You’re mixing with people.  \\nYou’re free to talk to whoever you want, and she’s free to walk away at any time.  \\nBut if she tells YOU to leave, it’s simply a test of your frame. She wants to see that you won’t buckle under social pressure.  \\nPass the test by ignoring it. If she tells you to leave again, look her in the eye with a sly smile and say “You’re free to go if you want to.”  \\nHer eyes will light up and she’ll punch you in the arm. Pussy dampening commences.  \\n\\n\\n&nbsp;\\n\\n\\n**#5\\\\. You’re talking to a woman and there’s an uncomfortably long lull in the conversation.**  \\nStare into her left pupil while saying nothing. Instant sexual tension.  \\n\\n\\n&nbsp;\\n\\n\\n**#6\\\\. You approach a woman, or a group of women, and they attempt to mock or belittle you.**  \\nThey’re nervous around you because you’re the alpha male in the environment. (As demonstrated by the fact that you approached.)  \\nThey feel uncomfortable in your presence because you’re high value, and so they’re trying to maintain frame by making nervous jokes.  \\nSmile, nod, agree, and keep talking to them AS IF they were being perfectly nice to you. If you act like they’re being civil, eventually their frame will buckle to yours and they actually WILL begin to act civil.  \\nThat’s the nature of having a stronger frame: you create reality. Other people adjust themselves to it.  \\n\\n\\n&nbsp;\\n\\n\\n---------\\n\\n\\n&nbsp;\\n\\n\\n**TL;DR**  \\n\\n\\n&nbsp;\\n\\n\\n**1\\\\.** Women value you because you have a STRONGER FRAME than them. That’s all.  \\n**2\\\\.** To figure out if you’ve got a strong frame, women test you. These tests come in the form of indifference, bitchiness, aloofness, personal insults, etc.  \\n**3\\\\.** You don’t have to do much to pass these tests. You just have to ENDURE them, keep talking to her, teasing her a little and being normal. Over time, her frame will buckle and she’ll become aroused by you because she sees you have a strong frame that can’t be pushed around.  \\n**4\\\\.** Attraction is a passive, not an active process. You attract hot girls by outframing them. You outframe them by enduring their tests without it breaking your frame. Eventually they “buckle” to you and become wet, laugh at your jokes, ask you what you’re doing later, etc. Then you can take her hand and lead her to the sex location and she’ll be compliant.  \\n**5\\\\.** The hotter the woman, the harsher will be her tests. Paradoxically, this can actually make hotter women easier to attract, because if you can endure her tests you stand out massively from other guys. Compare to an average girl: her tests won’t be as hard, so you have to pass more of them and spend more time with her before she can see you’re strong  \\n\\n\\n&nbsp;\\n\\n\\n---------\\n\\n\\n&nbsp;\\n\\n\\n**If you’ve found this guide helpful, you might like my blog. Start with my most popular post: [The Ultimate Guide To \"Same Day Sex\"] (http://insurgentmedia.tv/how-to-have-sex-with-a-woman-youve-just-met/)**\\n'"
      ]
     },
     "execution_count": 11,
     "metadata": {},
     "output_type": "execute_result"
    }
   ],
   "source": [
    "trp['selftext'][1]"
   ]
  },
  {
   "cell_type": "markdown",
   "metadata": {},
   "source": [
    "Now let's find the top document(s) based on cosine similarity:"
   ]
  },
  {
   "cell_type": "code",
   "execution_count": 13,
   "metadata": {},
   "outputs": [],
   "source": [
    "def findSimilar(wordCountVector, index, top_n = 1):\n",
    "    cosineSimilarities = linear_kernel(wordCountVector[index:index+1], wordCountVector).flatten()\n",
    "    relatedDocsIndices = [i for i in cosineSimilarities.argsort()[::-1] if i != index]\n",
    "    return [(index, cosineSimilarities[index]) for index in relatedDocsIndices][0:top_n]"
   ]
  },
  {
   "cell_type": "code",
   "execution_count": 14,
   "metadata": {},
   "outputs": [
    {
     "name": "stdout",
     "output_type": "stream",
     "text": [
      "0.2274080263007057 **“There is little that can withstand a man who can conquer himself.”** – Louis XIV\n",
      "\n",
      "&nbsp;\n",
      "\n",
      "What is a strong frame? In any social interaction, one person is reacting more than the other. One person needs more approval, validation, and acceptance from the other person than vice versa. Whoever is reacting less has the stronger frame. Whoever has the stronger frame has more leverage and social power.\n",
      "\n",
      "\n",
      "&nbsp;\n",
      "\n",
      "External factors influence this dynamic.  Research has found, for example, that subordinates tend to match the vocal patterns of their superiors, but superiors do not match the vocal patterns of their subordinates.\n",
      "\n",
      "\n",
      "&nbsp;\n",
      "\n",
      "However, ultimately, a truly strong frame doesn’t rely on titles or external status, it is something you carry with you wherever you are and with whomever you are interacting with.\n",
      "\n",
      "\n",
      "&nbsp;\n",
      "\n",
      "**What A Strong Frame Isn’t**\n",
      "\n",
      "\n",
      "&nbsp;\n",
      "\n",
      "A strong frame isn’t being nice to make a girl like you. It isn’t using lines to appear ‘hard-to-get’ to make her chase you. A strong frame isn’t trying to seem unreactive so that people react to your strong frame.\n",
      "\n",
      "\n",
      "&nbsp;\n",
      "\n",
      "That last one is especially important. You can’t try to have a strong frame. Affirming, “I have a strong frame,” is really just admitting to yourself that you don’t think your frame is strong enough. Pretending you don’t care is showing that you care too much. You can’t fake a strong frame and you can’t force it. It is unconscious, it is emotional, it is a part of who you are. You either have a strong frame or you don’t.\n",
      "\n",
      "\n",
      "&nbsp;\n",
      "\n",
      "**Is It Pointless To Try To Develop A Strong Frame?**\n",
      "\n",
      "\n",
      "&nbsp;\n",
      "\n",
      "Fuck no. Building a strong frame is one of if not the most important things you can do. But it’s important to know that a weak frame isn’t something you can fix simply by reading theory. It’s something you can only develop through experience. A strong frame is a personal quality that is earned.\n",
      "\n",
      "\n",
      "&nbsp;\n",
      "\n",
      "\n",
      "The difference between a weak frame and a strong frame is the difference between the veteran CEO and the recent college grad who’s trying to climb the corporate ladder. The difference between a weak frame and a strong frame is the difference between the hardened soldier who’s seen combat time and again and the guy who’s fresh out of training. The difference between a weak frame and a strong frame is the difference between the guy who’s read 10 pickup books but never goes out and the guy who’s been approaching 10 women every single day for months.\n",
      "\n",
      "\n",
      "&nbsp;\n",
      "\n",
      "**Forged By Pain**\n",
      "\n",
      "\n",
      "&nbsp;\n",
      "\n",
      "You develop your frame by putting yourself through social pressure (also known as tension or discomfort), again and again and again. Each time you do this, you come out the other side a little bit more grounded, a little bit less reactive, a little bit stronger.\n",
      "\n",
      "\n",
      "&nbsp;\n",
      "\n",
      "You go out and meet women to get laid, obviously, but instead of focusing on getting laid on any particular night, you focus on taking the actions that will strengthen your frame. It’s not about the girl, it’s about you and who you are becoming.\n",
      "\n",
      "\n",
      "&nbsp;\n",
      "\n",
      "This mindset has many advantages. First, going out to get laid can be needy, it’s about getting something external (this way of thinking is often reflective of a weak frame). Instead, going out to build your frame isn’t about taking something. It’s about expressing your masculine energy and becoming a better man. Second, when you go out to strengthen your frame, you’re going to get better results with women, both short-term and long-term.\n",
      "\n",
      "\n",
      "&nbsp;\n",
      "\n",
      "You develop your frame by straining it, testing it, challenging it. Your frame is a psychological muscle, and to build it up you have to break it down by putting it under pressure. This means that when you go out with the intention of developing your frame you’re going to take very different actions than you would otherwise.\n",
      "\n",
      "\n",
      "&nbsp;\n",
      "\n",
      "To strengthen your frame, the right action is the action that challenges you and makes you experience a certain level of self-doubt.\n",
      "\n",
      "\n",
      "&nbsp;\n",
      "\n",
      "If you’re frame is weak enough that you eject from interactions as soon as women indicate a slight hint of disinterest (a lot of guys do this); then your mission is to stay in your interactions and to withstand that discomfort as long as possible. Not because it will help you fuck that particular girl, but because it will make you a stronger person (to be fair, sometimes it does help you fuck that particular girl, too).\n",
      "\n",
      "\n",
      "&nbsp;\n",
      "\n",
      "If you have trouble opening girls who are in big groups or are with guys, the proper action is to approach those sets because your fear is a reflection of a crack in your frame. Your frame is weak wherever there is fear, and by intentionally leaning into situations that trigger your fear, you will conquer the weaknesses in your frame.\n",
      "\n",
      "\n",
      "&nbsp;\n",
      "\n",
      "The exact implications of this approach to game are determined by your level of experience. At a beginner level, you might strengthen your frame by going out every day (instead of just watching videos of other guys picking up girls). If you’re an intermediate you can develop your frame by trying to close every girl you talk to; you might try to pull every girl you meet or you might try to get every girl’s number (even when a girl clearly isn’t that into you). If you’re legitimately advanced you might develop your frame by approaching and trying to pull every single nine and ten that you see while you’re out.\n",
      "\n",
      "\n",
      "&nbsp;\n",
      "\n",
      "**The Paradox Of Outcome-focus**\n",
      "\n",
      "\n",
      "&nbsp;\n",
      "\n",
      "The irony here is that when you go out and your main agenda is to pull a girl you are actually much less likely to pull than if you go out to strengthen your frame. This is because when you go out with an agenda to pull a girl it’s hard not to go on defense.\n",
      "\n",
      "\n",
      "&nbsp;\n",
      "\n",
      "When you’re talking to a girl that you’ve decided you should pull, it’s easy to hold back and play it safe. For example, you might not say things that are polarizing, you might avoid physicality, or you might hesitate to lead because those actions risk ‘losing’. Taking risks might fuck up your opportunity with that particular girl. Going on defense is one of the worst things you can do when it comes to picking up girls.\n",
      "\n",
      "\n",
      "&nbsp;\n",
      "\n",
      "Girls want a guy who’s on offense. They want the guy who does take risks, the guy who does try to pull her, the guy who asserts himself unapologetically as a man. It just so happens that the actions that put you on offense are the same actions you must take to strengthen your frame.\n",
      "\n",
      "\n",
      "&nbsp;\n",
      "\n",
      "**Common Sense**\n",
      "\n",
      "\n",
      "&nbsp;\n",
      "\n",
      "Confucius say, “Don’t be an idiot.”\n",
      "\n",
      "\n",
      "&nbsp;\n",
      "\n",
      "There’s an important nuance here that some guys misunderstand. Building a strong frame doesn’t mean being intentionally uncalibrated in an antagonistic way to show how free from outcome you are. I’ve seen this, guys who define having a strong frame as purposely ignoring how a girl feels. If you’re scaring girls or making them afraid that you’re going to hurt them, they’re not going to fall into your frame.\n",
      "\n",
      "\n",
      "&nbsp;\n",
      "\n",
      "This antagonistic approach is a form of trying way too hard, which is actually a symptom of a weak frame. It’s putting on a ‘tough guy’ mask to prove how little you care about getting rejected. If every girl you talk to is uncomfortable, you’re trying too hard to have a strong frame. Getting rejected on purpose (whether consciously or unconsciously) is not going to strengthen your frame. There’s a certain level of common-sense and calibration that needs to be taken into consideration here.\n",
      "\n",
      "\n",
      "&nbsp;\n",
      "\n",
      "**Conclusion**\n",
      "\n",
      "Each time you challenge yourself by intentionally facing social pressure and barreling through discomfort you are taking an important step towards developing a rock-solid frame that will make you attractive to most women in an immediate and visceral way. Women can feel a genuinely strong frame, it literally turns them on.\n",
      "\n",
      "\n",
      "&nbsp;\n",
      "\n",
      "Not only will women be more attracted to you when you have a strong frame, but you will also be less likely to self-sabotage your interactions. The stronger your frame, the less you care about rejection, and therefore, the more likely you are to take the risks that will get the girl, and the next one.\n",
      "\n",
      "For more content like this, go to: https://redpilltheory.com/\n"
     ]
    }
   ],
   "source": [
    "for index, score in findSimilar(wordCountVector, 1):\n",
    "       print(score, trp['selftext'][index])"
   ]
  },
  {
   "cell_type": "markdown",
   "metadata": {},
   "source": [
    "## Exercise: hypothesis generation using distinctive words\n",
    "\n",
    "- Using the above method, find out the most-distinctive words for this subreddit. Try it out for the other subreddits, too!\n",
    "- Think about a hypothesis or research question you could construct about this dataset, based on these distinctive words.\n",
    "- \n",
    "- If you have time, look up comparable subreddits to the one you will be looking at, and try to use the API to download some posts from it to run your own comparative test.\n",
    "\n",
    "Post your thoughts here: https://docs.google.com/document/d/1sSc55WHOYZZVvfDWgL5SEydTQ9mWgbnDumRxPnE2vhw/edit?usp=sharing"
   ]
  }
 ],
 "metadata": {
  "kernelspec": {
   "display_name": "Python 3",
   "language": "python",
   "name": "python3"
  },
  "language_info": {
   "codemirror_mode": {
    "name": "ipython",
    "version": 3
   },
   "file_extension": ".py",
   "mimetype": "text/x-python",
   "name": "python",
   "nbconvert_exporter": "python",
   "pygments_lexer": "ipython3",
   "version": "3.6.6"
  }
 },
 "nbformat": 4,
 "nbformat_minor": 2
}
