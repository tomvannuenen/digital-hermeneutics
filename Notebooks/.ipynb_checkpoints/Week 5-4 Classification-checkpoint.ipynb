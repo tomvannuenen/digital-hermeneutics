{
 "cells": [
  {
   "cell_type": "markdown",
   "metadata": {},
   "source": [
    "<div style=\"display: block; width: 100%; height: 120px;\">\n",
    "\n",
    "<p style=\"float: left;\">\n",
    "    <span style=\"font-weight: bold; line-height: 24px; font-size: 16px;\">\n",
    "        DIGHUM160 - Critical Digital Humanities\n",
    "        <br />\n",
    "        Digital Hermeneutics 2019\n",
    "    </span>\n",
    "    <br >\n",
    "    <span style=\"line-height: 22x; font-size: 14x; margin-top: 10px;\">\n",
    "        Week 5-4: CLASSIFICATION<br />\n",
    "        Created by Tom van Nuenen (tom.van_nuenen@kcl.ac.uk)<br />\n",
    "        Partly taken from Richard Knoche's excellent <a href=\"http://www.dealingdata.net/2016/07/28/PoGo-Series-Sentiment-Analyzer/\">\"PoGo Series\"</a><br />\n",
    "    </span>\n",
    "</p>\n",
    "\n",
    "<img style=\"width: 240px; height: 120px; float: right; margin: 0 0 0 0;\" src=\"http://www.merritt.edu/wp/histotech/wp-content/uploads/sites/275/2018/08/berkeley-logo.jpg\" />\n",
    "</div>"
   ]
  },
  {
   "cell_type": "markdown",
   "metadata": {},
   "source": [
    "#  Classification\n",
    "\n",
    "This is a more advanced notebook introducing some common methods for **classification**. It's quite long, but worth going over if you want to know more about how to do classification, and the kinds of issues you run into when doing so!\n",
    "|\n",
    "First, we’ll be using a Naive Bayes Classifier to differentiate between different \"classes\" of data. We will look at some tools for sentiment analysis. Finally, we'll combine these two methods, so we can see if we can predict positive and negative texts.\n",
    "\n",
    "After working through today's notebook, you will:\n",
    "\n",
    "1. understand how to use a **Naive Bayes classifier** using Reddit data;\n",
    "2. understand how to use a pre-trained sentiment analysis tool using **NLTK VADER**;\n",
    "3. understand how to train a Naive Bayes classifier for a **supervised class of sentiments** (i.e., creating and training your own sentiment analysis tool).\n",
    "\n",
    "Let's get started.\n",
    "\n",
    "\n",
    "## Introducing Naive Bayes Classification\n",
    "\n",
    "A Naive Bayes Classifier is a machine learning algorithm that uses **Bayes’ Theorem** to predict the class that a sample belongs to, given a number of features that describe that sample. It is based on the concept of conditional probability: “What is the probability of our X, given Y?”. Which in this case is: \"What is the probability of a post belonging to a topic, given its word frequencies?\" The math behind Bayes' Theorem is simple but intuitive. For more info, check out http://www.dealingdata.net/2016/07/24/PoGo-Series-NaiveBayesClassifier/.\n",
    "\n",
    "Naive Bayes Classifiers are often considered the baseline for classification tasks. They have worked quite well in many real-world situations, famously document classification and spam filtering. Mathematically speaking, they are very straightforward, you can use them when you have limited resources in terms of CPU and memory. Further, when the training time is a crucial factor, Naive Bayes comes handy since it can be trained very quickly. \n",
    "\n",
    "One peculiar aspect of Naive Bayes Classifiers is that they assume that the features you use are *conditional independent*: knowledge of the outcome of one feature does not grant us knowledge of the outcome of any other feature. When dealing with text, this means that we’re not looking at entire sentences, but rather at individual words. So for our purposes, “this was a fun party” is the same as “this party was fun” and “party fun was this”.\n",
    "\n",
    "This is a pretty naive assumption (separate features are often correlated) — hence the name Naive Bayes Classifier. Yet, the algorithm often performs better than much more complex machine learning models.\n",
    "\n",
    "Below, we're importing our classifier through scikit-learn's `MultinomialNB()` method."
   ]
  },
  {
   "cell_type": "code",
   "execution_count": 272,
   "metadata": {
    "scrolled": true
   },
   "outputs": [],
   "source": [
    "# sklearn\n",
    "from sklearn.datasets import fetch_20newsgroups\n",
    "from sklearn.model_selection import train_test_split\n",
    "from sklearn.feature_extraction.text import TfidfVectorizer\n",
    "from sklearn.linear_model import LogisticRegression\n",
    "from sklearn.naive_bayes import MultinomialNB\n",
    "from sklearn.pipeline import make_pipeline\n",
    "from sklearn.metrics import confusion_matrix\n",
    "from sklearn.feature_extraction import text\n",
    "stop = text.ENGLISH_STOP_WORDS\n",
    "\n",
    "# NLTK \n",
    "from nltk import FreqDist\n",
    "from nltk.classify import apply_features\n",
    "from nltk.corpus import stopwords\n",
    "from nltk.classify import accuracy\n",
    "from nltk import NaiveBayesClassifier\n",
    "from nltk.metrics import precision as prec\n",
    "from nltk.metrics import recall as rec\n",
    "from nltk.metrics import f_measure as fmeas\n",
    "\n",
    "# pickle for saving\n",
    "import pickle\n",
    "\n",
    "# spacy for lemmatizing\n",
    "import spacy\n",
    "\n",
    "# VADER - Make sure to install using `pip install vaderSentiment` in your Terminal / command line\n",
    "from vaderSentiment.vaderSentiment import SentimentIntensityAnalyzer\n",
    "\n",
    "# Gensim's preprocessor\n",
    "from gensim.utils import simple_preprocess\n",
    "\n",
    "# General data science\n",
    "import numpy as np\n",
    "import re\n",
    "import pandas as pd\n",
    "import collections\n",
    "import statsmodels.api as sm\n",
    "import matplotlib.pyplot as plt\n",
    "import seaborn as sns \n",
    "%matplotlib inline\n",
    "from IPython.display import clear_output"
   ]
  },
  {
   "cell_type": "markdown",
   "metadata": {},
   "source": [
    "## Test using 20 Newsgroups\n",
    "\n",
    "The 20 newsgroups dataset consists of around 18000 newsgroups posts on 20 topics. It's helpfully split in two subsets: one for training (i.e. development), and one for testing (i.e. performance evaluation). \n",
    "\n",
    "We will use a Naive Bayes classifier to **predict the topics of the posts in our test set**, based on the **word frequencies** in the posts in our training set. \n",
    "\n",
    "First, let's get the data. The `.target_names` method yields the topics that the newsgroups have been classified in."
   ]
  },
  {
   "cell_type": "code",
   "execution_count": 2,
   "metadata": {},
   "outputs": [
    {
     "data": {
      "text/plain": [
       "['alt.atheism',\n",
       " 'comp.graphics',\n",
       " 'comp.os.ms-windows.misc',\n",
       " 'comp.sys.ibm.pc.hardware',\n",
       " 'comp.sys.mac.hardware',\n",
       " 'comp.windows.x',\n",
       " 'misc.forsale',\n",
       " 'rec.autos',\n",
       " 'rec.motorcycles',\n",
       " 'rec.sport.baseball',\n",
       " 'rec.sport.hockey',\n",
       " 'sci.crypt',\n",
       " 'sci.electronics',\n",
       " 'sci.med',\n",
       " 'sci.space',\n",
       " 'soc.religion.christian',\n",
       " 'talk.politics.guns',\n",
       " 'talk.politics.mideast',\n",
       " 'talk.politics.misc',\n",
       " 'talk.religion.misc']"
      ]
     },
     "execution_count": 2,
     "metadata": {},
     "output_type": "execute_result"
    }
   ],
   "source": [
    "data = fetch_20newsgroups()\n",
    "data.target_names"
   ]
  },
  {
   "cell_type": "markdown",
   "metadata": {},
   "source": [
    "Let's just get four of those to do our test with. We create a **training set** and a **test set**. The training set is, as the name implies, to train our classifier on. The test set we use to evaluate the performance of that classifier."
   ]
  },
  {
   "cell_type": "code",
   "execution_count": 3,
   "metadata": {},
   "outputs": [],
   "source": [
    "categories = ['talk.religion.misc', 'soc.religion.christian',\n",
    "              'sci.space', 'comp.graphics']\n",
    "train = fetch_20newsgroups(subset='train', categories=categories)\n",
    "test = fetch_20newsgroups(subset='test', categories=categories)"
   ]
  },
  {
   "cell_type": "code",
   "execution_count": 4,
   "metadata": {},
   "outputs": [
    {
     "data": {
      "text/plain": [
       "\"From: jsledd@ssdc.sas.upenn.edu (James Sledd)\\nSubject: Re: Dreams and out of body incidents\\nOrganization: Social Science Computing\\nLines: 6\\n\\nIn article <May.14.02.10.02.1993.25119@athos.rutgers.edu> alisonjw@spider.co.uk (Alison J Wyld) writes:\\n>From: alisonjw@spider.co.uk (Alison J Wyld)\\n>PS. Just to make it clear, I don't do ( and have never tried ) OOBEs.\\n>    I tend to think they are off limits for Christians.\\n\\nWHY?\\n\""
      ]
     },
     "execution_count": 4,
     "metadata": {},
     "output_type": "execute_result"
    }
   ],
   "source": [
    "# What does the data look like?\n",
    "test.data[5]"
   ]
  },
  {
   "cell_type": "markdown",
   "metadata": {},
   "source": [
    "To convert the content of each string into a vector of numbers, we will use `TfidfVectorizer()` again.\n",
    "\n",
    "We're using sklearn's `MultinomialNB` as our classifier. **Multinomial Naive Bayes** is a specialized version of Naive Bayes that is specifically designed for text documents. Whereas *Simple Naive Bayes* would model a document as the presence and absence of particular words, *Multinomial Naive Bayes* explicitly models all the word counts and adjusts the underlying calculations. For more on the difference between these classifiers, see:\n",
    "http://blog.datumbox.com/machine-learning-tutorial-the-naive-bayes-text-classifier/ \n",
    "\n",
    "Scikit-klearn allows us to create a **pipeline** that attaches this vectorizer to a multinomial naive Bayes classifier (meaning we don't have to instantiate these things separately)."
   ]
  },
  {
   "cell_type": "code",
   "execution_count": 5,
   "metadata": {},
   "outputs": [],
   "source": [
    "model = make_pipeline(TfidfVectorizer(), MultinomialNB())"
   ]
  },
  {
   "cell_type": "markdown",
   "metadata": {},
   "source": [
    "### Fitting the data\n",
    "\n",
    "With this pipeline, we can apply the model to the training data, and then predict labels for the test data:"
   ]
  },
  {
   "cell_type": "code",
   "execution_count": 6,
   "metadata": {},
   "outputs": [],
   "source": [
    "model.fit(train.data, train.target)\n",
    "labels = model.predict(test.data)"
   ]
  },
  {
   "cell_type": "code",
   "execution_count": 7,
   "metadata": {},
   "outputs": [
    {
     "data": {
      "text/plain": [
       "array([2, 0, 1, 0, 1])"
      ]
     },
     "execution_count": 7,
     "metadata": {},
     "output_type": "execute_result"
    }
   ],
   "source": [
    "labels[:5]"
   ]
  },
  {
   "cell_type": "markdown",
   "metadata": {},
   "source": [
    "Now that we have predicted the labels for the test data, we can evaluate them to learn about the performance of the estimator. For example, here is the confusion matrix between the true and predicted labels for the test data:"
   ]
  },
  {
   "cell_type": "code",
   "execution_count": 8,
   "metadata": {},
   "outputs": [
    {
     "data": {
      "image/png": "[encoded data removed]",
      "text/plain": [
       "<Figure size 432x288 with 1 Axes>"
      ]
     },
     "metadata": {},
     "output_type": "display_data"
    }
   ],
   "source": [
    "mat = confusion_matrix(test.target, labels)\n",
    "sns.heatmap(mat.T, square=True, annot=True, fmt='d', cbar=False,\n",
    "            xticklabels=train.target_names, yticklabels=train.target_names)\n",
    "plt.xlabel('true label')\n",
    "plt.ylabel('predicted label');"
   ]
  },
  {
   "cell_type": "markdown",
   "metadata": {},
   "source": [
    "Evidently, even this very simple classifier can successfully separate space talk from computer talk, but it gets confused between talk about religion and talk about Christianity. This is perhaps an expected area of confusion!\n"
   ]
  },
  {
   "cell_type": "markdown",
   "metadata": {},
   "source": [
    "### Prediction\n",
    "With this classifier, we can now determine the category for any string, using the predict() method of this pipeline. Let's write a utility function that will return the prediction for a single string:"
   ]
  },
  {
   "cell_type": "code",
   "execution_count": 9,
   "metadata": {},
   "outputs": [],
   "source": [
    "def predict_category(s, train=train, model=model):\n",
    "    pred = model.predict([s])\n",
    "    return train.target_names[pred[0]]"
   ]
  },
  {
   "cell_type": "code",
   "execution_count": 10,
   "metadata": {},
   "outputs": [
    {
     "data": {
      "text/plain": [
       "'sci.space'"
      ]
     },
     "execution_count": 10,
     "metadata": {},
     "output_type": "execute_result"
    }
   ],
   "source": [
    "predict_category('Scientists discover new moon around Saturn')"
   ]
  },
  {
   "cell_type": "markdown",
   "metadata": {},
   "source": [
    "It works!\n",
    "\n",
    "**Remember:** this is nothing more than a simple probability model for the (weighted) frequency of each word in the string! Nevertheless, the result is striking. Even a very naive algorithm, when used carefully and trained on a large set of high-dimensional data, can be surprisingly effective."
   ]
  },
  {
   "cell_type": "markdown",
   "metadata": {},
   "source": [
    "## Classification on r/amitheasshole\n",
    "\n",
    "We will now use the same technique on a subreddit. We'll be using the subreddit r/amitheasshole: a subreddit in which members can vote whether an original poster [OP], in some social interaction, behaved \"assholeish\". \n",
    "\n",
    "Make sure the csv is in the same folder as this notebook. You can find it in the Class Dropbox."
   ]
  },
  {
   "cell_type": "code",
   "execution_count": null,
   "metadata": {},
   "outputs": [],
   "source": [
    " pd.read_csv(\"amita-submissions.csv\", lineterminator='\\n', encoding=\"utf8\")[:20000]"
   ]
  },
  {
   "cell_type": "markdown",
   "metadata": {},
   "source": [
    "### Preprocessing\n",
    "\n",
    "We'll start by loading and cleaning up our data a bit. "
   ]
  },
  {
   "cell_type": "code",
   "execution_count": 179,
   "metadata": {
    "scrolled": true
   },
   "outputs": [
    {
     "name": "stderr",
     "output_type": "stream",
     "text": [
      "/anaconda3/lib/python3.6/site-packages/IPython/core/interactiveshell.py:2785: DtypeWarning: Columns (7,11) have mixed types. Specify dtype option on import or set low_memory=False.\n",
      "  interactivity=interactivity, compiler=compiler, result=result)\n"
     ]
    },
    {
     "data": {
      "text/plain": [
       "16267"
      ]
     },
     "execution_count": 179,
     "metadata": {},
     "output_type": "execute_result"
    }
   ],
   "source": [
    "# load submissions/posts into df and clean up empty entries\n",
    "amitaS = pd.read_csv(\"amita-submissions.csv\", lineterminator='\\n', encoding=\"utf8\")[:20000]\n",
    "amitaS = amitaS.drop(['augmented_at', 'augmented_count', 'distinguish'], axis=1)\n",
    "amitaS = amitaS[~amitaS['selftext'].isin(['[removed]', '[deleted]' ])].dropna(subset=['selftext'])\n",
    "len(amitaS)"
   ]
  },
  {
   "cell_type": "markdown",
   "metadata": {},
   "source": [
    "**Note:** if working with this entire dataset is taking too long, consider using a slice, e.g. `amitaS[:1000]`."
   ]
  },
  {
   "cell_type": "code",
   "execution_count": 180,
   "metadata": {
    "scrolled": true
   },
   "outputs": [
    {
     "data": {
      "text/html": [
       "<div>\n",
       "<style scoped>\n",
       "    .dataframe tbody tr th:only-of-type {\n",
       "        vertical-align: middle;\n",
       "    }\n",
       "\n",
       "    .dataframe tbody tr th {\n",
       "        vertical-align: top;\n",
       "    }\n",
       "\n",
       "    .dataframe thead th {\n",
       "        text-align: right;\n",
       "    }\n",
       "</style>\n",
       "<table border=\"1\" class=\"dataframe\">\n",
       "  <thead>\n",
       "    <tr style=\"text-align: right;\">\n",
       "      <th></th>\n",
       "      <th>idint</th>\n",
       "      <th>idstr</th>\n",
       "      <th>created</th>\n",
       "      <th>self</th>\n",
       "      <th>nsfw</th>\n",
       "      <th>author</th>\n",
       "      <th>title</th>\n",
       "      <th>url</th>\n",
       "      <th>selftext</th>\n",
       "      <th>score</th>\n",
       "      <th>subreddit</th>\n",
       "      <th>textlen</th>\n",
       "      <th>num_comments</th>\n",
       "      <th>flair_text</th>\n",
       "      <th>flair_css_class</th>\n",
       "    </tr>\n",
       "  </thead>\n",
       "  <tbody>\n",
       "    <tr>\n",
       "      <th>0</th>\n",
       "      <td>87247149</td>\n",
       "      <td>t3_1fy0bx</td>\n",
       "      <td>1370724175</td>\n",
       "      <td>1</td>\n",
       "      <td>0</td>\n",
       "      <td>flignir</td>\n",
       "      <td>AItA: I like air conditioning and my coworkers...</td>\n",
       "      <td>NaN</td>\n",
       "      <td>I work in an office that requires me to wear a...</td>\n",
       "      <td>2</td>\n",
       "      <td>AmItheAsshole</td>\n",
       "      <td>1067</td>\n",
       "      <td>1</td>\n",
       "      <td>not the asshole</td>\n",
       "      <td>not</td>\n",
       "    </tr>\n",
       "    <tr>\n",
       "      <th>1</th>\n",
       "      <td>118961390</td>\n",
       "      <td>t3_1ytr72</td>\n",
       "      <td>1393275159</td>\n",
       "      <td>1</td>\n",
       "      <td>0</td>\n",
       "      <td>Irishman_reddit</td>\n",
       "      <td>[AITA] Construction worker here</td>\n",
       "      <td>NaN</td>\n",
       "      <td>I have been on a parking structure project for...</td>\n",
       "      <td>63</td>\n",
       "      <td>AmItheAsshole</td>\n",
       "      <td>565</td>\n",
       "      <td>9</td>\n",
       "      <td>too close to call</td>\n",
       "      <td>NaN</td>\n",
       "    </tr>\n",
       "    <tr>\n",
       "      <th>2</th>\n",
       "      <td>118969807</td>\n",
       "      <td>t3_1ytxov</td>\n",
       "      <td>1393278651</td>\n",
       "      <td>1</td>\n",
       "      <td>0</td>\n",
       "      <td>Bobsmit</td>\n",
       "      <td>[AITA] I wrote an explanation in TIL and came ...</td>\n",
       "      <td>NaN</td>\n",
       "      <td>[Here is the post in question](http://www.redd...</td>\n",
       "      <td>51</td>\n",
       "      <td>AmItheAsshole</td>\n",
       "      <td>510</td>\n",
       "      <td>13</td>\n",
       "      <td>asshole</td>\n",
       "      <td>ass</td>\n",
       "    </tr>\n",
       "    <tr>\n",
       "      <th>3</th>\n",
       "      <td>118975728</td>\n",
       "      <td>t3_1yu29c</td>\n",
       "      <td>1393281184</td>\n",
       "      <td>1</td>\n",
       "      <td>0</td>\n",
       "      <td>WoopAhhh</td>\n",
       "      <td>[AITA] Threw my parent's donuts away</td>\n",
       "      <td>NaN</td>\n",
       "      <td>My parents are diabetic, morbidly obese, and a...</td>\n",
       "      <td>142</td>\n",
       "      <td>AmItheAsshole</td>\n",
       "      <td>735</td>\n",
       "      <td>27</td>\n",
       "      <td>asshole</td>\n",
       "      <td>ass</td>\n",
       "    </tr>\n",
       "    <tr>\n",
       "      <th>4</th>\n",
       "      <td>118978034</td>\n",
       "      <td>t3_1yu41e</td>\n",
       "      <td>1393282238</td>\n",
       "      <td>1</td>\n",
       "      <td>0</td>\n",
       "      <td>ThisIsMeYoRightHere</td>\n",
       "      <td>[AITA] I Put My Empty Beer on a Bar Table</td>\n",
       "      <td>NaN</td>\n",
       "      <td>Relevant Facts:\\n\\n1) It was a crowded bar, th...</td>\n",
       "      <td>46</td>\n",
       "      <td>AmItheAsshole</td>\n",
       "      <td>660</td>\n",
       "      <td>7</td>\n",
       "      <td>nothing happened</td>\n",
       "      <td>NaN</td>\n",
       "    </tr>\n",
       "  </tbody>\n",
       "</table>\n",
       "</div>"
      ],
      "text/plain": [
       "       idint      idstr     created  self  nsfw               author  \\\n",
       "0   87247149  t3_1fy0bx  1370724175     1     0              flignir   \n",
       "1  118961390  t3_1ytr72  1393275159     1     0      Irishman_reddit   \n",
       "2  118969807  t3_1ytxov  1393278651     1     0              Bobsmit   \n",
       "3  118975728  t3_1yu29c  1393281184     1     0             WoopAhhh   \n",
       "4  118978034  t3_1yu41e  1393282238     1     0  ThisIsMeYoRightHere   \n",
       "\n",
       "                                               title  url  \\\n",
       "0  AItA: I like air conditioning and my coworkers...  NaN   \n",
       "1                    [AITA] Construction worker here  NaN   \n",
       "2  [AITA] I wrote an explanation in TIL and came ...  NaN   \n",
       "3               [AITA] Threw my parent's donuts away  NaN   \n",
       "4          [AITA] I Put My Empty Beer on a Bar Table  NaN   \n",
       "\n",
       "                                            selftext  score      subreddit  \\\n",
       "0  I work in an office that requires me to wear a...      2  AmItheAsshole   \n",
       "1  I have been on a parking structure project for...     63  AmItheAsshole   \n",
       "2  [Here is the post in question](http://www.redd...     51  AmItheAsshole   \n",
       "3  My parents are diabetic, morbidly obese, and a...    142  AmItheAsshole   \n",
       "4  Relevant Facts:\\n\\n1) It was a crowded bar, th...     46  AmItheAsshole   \n",
       "\n",
       "   textlen  num_comments         flair_text flair_css_class  \n",
       "0     1067             1    not the asshole             not  \n",
       "1      565             9  too close to call             NaN  \n",
       "2      510            13            asshole             ass  \n",
       "3      735            27            asshole             ass  \n",
       "4      660             7   nothing happened             NaN  "
      ]
     },
     "execution_count": 180,
     "metadata": {},
     "output_type": "execute_result"
    }
   ],
   "source": [
    "amitaS.head()"
   ]
  },
  {
   "cell_type": "markdown",
   "metadata": {},
   "source": [
    "We can clean up some of the text in our DataFrame using `replace()`."
   ]
  },
  {
   "cell_type": "code",
   "execution_count": 181,
   "metadata": {},
   "outputs": [],
   "source": [
    "# Remove newline characters\n",
    "amitaS.selftext = amitaS.selftext.str.replace('\\s+', ' ')\n",
    "\n",
    "# Remove distracting single quotes\n",
    "amitaS.selftext = amitaS.selftext.str.replace(\"\\'\", \"\")\n",
    "\n",
    "# remove tags\n",
    "amitaS.selftext = amitaS.selftext.str.replace(\"&lt;/?.*?&gt;\",\" &lt;&gt; \")"
   ]
  },
  {
   "cell_type": "markdown",
   "metadata": {},
   "source": [
    "### A classifier for assholes?\n",
    "\n",
    "Now that we've seen how classification works, let's write a classifier for this subreddit. A typical use of this would be, for instance, to classify which particular subreddit a post belongs to. Or to classify posts that should be categorized as \"NSFW\".\n",
    "\n",
    "But you can also use classification to test out certain hypotheses: for instance, can we predict whether a post will be classified as \"ITA\" (*Is The Asshole*), given its textual features?\n",
    "\n",
    "Luckily, the members of r/amitheasshole have done some work for us by labeling the posts. We can use these labels to train our classifier. Let's have a look at the `flair_css_class` column in our DataFrame."
   ]
  },
  {
   "cell_type": "code",
   "execution_count": 182,
   "metadata": {
    "scrolled": true
   },
   "outputs": [
    {
     "data": {
      "text/plain": [
       "not         8893\n",
       "ass         3352\n",
       "shitpost      55\n",
       "Name: flair_css_class, dtype: int64"
      ]
     },
     "execution_count": 182,
     "metadata": {},
     "output_type": "execute_result"
    }
   ],
   "source": [
    "amitaS['flair_css_class'].value_counts()"
   ]
  },
  {
   "cell_type": "markdown",
   "metadata": {},
   "source": [
    "Looks like the `flair_css_class` column contains lots of tags for asshole and non-asshole posts. Let's use this column for now. We'll remove anything that's *not* classified as `not` or `ass`."
   ]
  },
  {
   "cell_type": "code",
   "execution_count": 183,
   "metadata": {},
   "outputs": [
    {
     "data": {
      "text/plain": [
       "12245"
      ]
     },
     "execution_count": 183,
     "metadata": {},
     "output_type": "execute_result"
    }
   ],
   "source": [
    "amitaS = amitaS[~amitaS['flair_css_class'].isin(['shitpost', '1' ])].dropna(subset=['flair_css_class'])\n",
    "len(amitaS)"
   ]
  },
  {
   "cell_type": "markdown",
   "metadata": {},
   "source": [
    "The next issue is that we have an unbalanced classification: \"Not the Asshole\" (`not`) posts occur over double as many times as \"Asshole\" (`ass`). We can choose to either **upsample** our \"Asshole\" category (by adding doubles) or **downsampling** our \"Not the A-hole\" category by removing entries. You typically have to play around with this, as what works best differs from case to case, but let's downsample for now. \n",
    "\n",
    "First, we want our DataFrame sorted. Then, we create a **boolean mask** for the negative values, use `np.where` to get the indices, cut the indices and half, then drop one half of those indices:"
   ]
  },
  {
   "cell_type": "code",
   "execution_count": 184,
   "metadata": {},
   "outputs": [
    {
     "data": {
      "text/plain": [
       "not    4447\n",
       "ass    3352\n",
       "Name: flair_css_class, dtype: int64"
      ]
     },
     "execution_count": 184,
     "metadata": {},
     "output_type": "execute_result"
    }
   ],
   "source": [
    "# Sorting the values\n",
    "amitaS.sort_values('flair_css_class', inplace=True)\n",
    "\n",
    "# creating a mask for the condition\n",
    "mask = (amitaS.flair_css_class == \"not\")\n",
    "\n",
    "# find out which indexes this condition refers to using np.where()\n",
    "idx, = np.where(mask)\n",
    "\n",
    "# split in half and drop the indices\n",
    "amitaS.drop(amitaS.index[idx[:len(idx)//2]], inplace=True)\n",
    "\n",
    "# Let's see how many of our classes we have now\n",
    "amitaS['flair_css_class'].value_counts()"
   ]
  },
  {
   "cell_type": "markdown",
   "metadata": {},
   "source": [
    "Looks more balanced now!\n",
    "\n",
    "Next, let's work on our input features. We'll start by lemmatizing our texts. We'll output strings for each post which we can then load into our vectorizer."
   ]
  },
  {
   "cell_type": "code",
   "execution_count": 185,
   "metadata": {},
   "outputs": [],
   "source": [
    "nlp = spacy.load('en', disable=['parser', 'ner'])\n",
    "stop = set(stopwords.words('english') + ['’', '“', '”', 'nbsp', 'http', 'edit'])\n",
    "\n",
    "def lemmatization(texts, allowed_postags=['NOUN', 'VERB', 'ADV']):\n",
    "    \"\"\"https://spacy.io/api/annotation\"\"\"\n",
    "    out = []\n",
    "    for text in texts:\n",
    "        doc = nlp(text) \n",
    "        stop_out = [token for token in doc if token not in stop]\n",
    "        out.append(' '.join([token.lemma_ for token in stop_out if token.pos_ in allowed_postags]))\n",
    "    return out"
   ]
  },
  {
   "cell_type": "code",
   "execution_count": 186,
   "metadata": {},
   "outputs": [],
   "source": [
    "lemmas = lemmatization(amitaS.selftext)"
   ]
  },
  {
   "cell_type": "markdown",
   "metadata": {},
   "source": [
    "Lemmatizing takes a long time, so we don't want to do it twice. We'll save the lemmatized list in a pickle, in case we need it later. "
   ]
  },
  {
   "cell_type": "code",
   "execution_count": 187,
   "metadata": {},
   "outputs": [],
   "source": [
    "# save in pickle\n",
    "with open(\"lemmas.lem\", \"wb\") as cp: \n",
    "    pickle.dump(lemmas, cp)"
   ]
  },
  {
   "cell_type": "code",
   "execution_count": 188,
   "metadata": {},
   "outputs": [],
   "source": [
    "# open pickle, should you want to\n",
    "with open(\"lemmas.lem\", \"rb\") as cp: \n",
    "    lemmas = pickle.load(cp)"
   ]
  },
  {
   "cell_type": "markdown",
   "metadata": {},
   "source": [
    "### Commence training\n",
    "\n",
    "Now for the classfier! We'll first create our training and test set, using the lemmas as X and `flair_css_class` as y."
   ]
  },
  {
   "cell_type": "code",
   "execution_count": 189,
   "metadata": {},
   "outputs": [],
   "source": [
    "X = lemmas\n",
    "y = amitaS['flair_css_class']"
   ]
  },
  {
   "cell_type": "markdown",
   "metadata": {},
   "source": [
    "Next, we split our data into training and test sets again. We can easily do this using scikit-learn's `train_test_split()` method. The method takes a parameter denoting the size of the test set (20% of the total set, in this case)."
   ]
  },
  {
   "cell_type": "code",
   "execution_count": 190,
   "metadata": {},
   "outputs": [],
   "source": [
    "X_train, X_test, y_train, y_test = train_test_split(X, y, test_size=0.2)"
   ]
  },
  {
   "cell_type": "markdown",
   "metadata": {},
   "source": [
    "Why are we splitting into training and testing sets before vectorizing?\n",
    "\n",
    "If we vectorize *before* we train/test split, our doc-term matrix would contain every single feature (word) in the test and training sets. What we want is to simulate the real world, where our classifier needs to encounters words it has not seen before. This allows us to evaluate it better.\n",
    "\n",
    "So, what we're doing: \n",
    "\n",
    "- `vect.fit.transform(X_train)` learns the tfidf vocabulary of the training data, and uses the fitted vocabulary to build a document-term matrix from the training data\n",
    "- `vect.transform(X_test)` uses the fitted vocabulary to build a document-term matrix from the testing data (and ignores tokens it hasn't seen before)"
   ]
  },
  {
   "cell_type": "code",
   "execution_count": 278,
   "metadata": {},
   "outputs": [
    {
     "data": {
      "text/plain": [
       "<1560x320405 sparse matrix of type '<class 'numpy.float64'>'\n",
       "\twith 294749 stored elements in Compressed Sparse Row format>"
      ]
     },
     "execution_count": 278,
     "metadata": {},
     "output_type": "execute_result"
    }
   ],
   "source": [
    "vect = TfidfVectorizer(max_df=1.0, max_features=None, min_df=1,ngram_range=(1, 2)) # including N-grams\n",
    "\n",
    "# learn training data vocabulary, then use it to create a document-term matrix\n",
    "X_train_dtm = vect.fit_transform(X_train)\n",
    "\n",
    "# transform testing data (using fitted vocabulary) into a document-term matrix\n",
    "X_test_dtm = vect.transform(X_test)\n",
    "X_test_dtm"
   ]
  },
  {
   "cell_type": "markdown",
   "metadata": {},
   "source": [
    "Time to create the classifier:"
   ]
  },
  {
   "cell_type": "code",
   "execution_count": 192,
   "metadata": {},
   "outputs": [
    {
     "name": "stdout",
     "output_type": "stream",
     "text": [
      "CPU times: user 39.2 ms, sys: 11.3 ms, total: 50.5 ms\n",
      "Wall time: 48.7 ms\n"
     ]
    },
    {
     "data": {
      "text/plain": [
       "MultinomialNB(alpha=1.0, class_prior=None, fit_prior=True)"
      ]
     },
     "execution_count": 192,
     "metadata": {},
     "output_type": "execute_result"
    }
   ],
   "source": [
    "nb = MultinomialNB()\n",
    "%time nb.fit(X_train_dtm, y_train)"
   ]
  },
  {
   "cell_type": "markdown",
   "metadata": {},
   "source": [
    "That was quick! Let's see what it yields."
   ]
  },
  {
   "cell_type": "code",
   "execution_count": 193,
   "metadata": {
    "scrolled": true
   },
   "outputs": [
    {
     "data": {
      "text/plain": [
       "0.5679487179487179"
      ]
     },
     "execution_count": 193,
     "metadata": {},
     "output_type": "execute_result"
    }
   ],
   "source": [
    "# Make class predictions for X_test_dtm\n",
    "y_pred_class = nb.predict(X_test_dtm)\n",
    "\n",
    "# Calculate accuracy of class predictions\n",
    "from sklearn import metrics\n",
    "metrics.accuracy_score(y_test, y_pred_class)"
   ]
  },
  {
   "cell_type": "code",
   "execution_count": 194,
   "metadata": {
    "scrolled": false
   },
   "outputs": [
    {
     "data": {
      "text/plain": [
       "Text(91.68,0.5,'predicted label')"
      ]
     },
     "execution_count": 194,
     "metadata": {},
     "output_type": "execute_result"
    },
    {
     "data": {
      "image/png": "[encoded data removed]",
      "text/plain": [
       "<Figure size 432x288 with 1 Axes>"
      ]
     },
     "metadata": {},
     "output_type": "display_data"
    }
   ],
   "source": [
    "categories = ['ass', 'not']\n",
    "mat = confusion_matrix(y_test, y_pred_class)\n",
    "sns.heatmap(mat.T, square=True, annot=True, fmt='d', cbar=False,\n",
    "            xticklabels=categories, yticklabels=categories)\n",
    "plt.xlabel('true label')\n",
    "plt.ylabel('predicted label')"
   ]
  },
  {
   "cell_type": "markdown",
   "metadata": {},
   "source": [
    "Well, that doesn't work!"
   ]
  },
  {
   "cell_type": "markdown",
   "metadata": {},
   "source": [
    "### Using logistic regression\n",
    "\n",
    "Our predictions are not particularly accurate. This is no surprise, as it would be quite a feat to predict this class based on word usage alone! If you'd want to pursue this hypothesis further, you could try to take more features for X into account. \n",
    "\n",
    "Just for fun, let's try comparing this result to **logistic regression**, which is also often used for classification problems. Logistic regression tries to find the optimal decision boundary that best separates the classes (see the **notebook on linear regression** if you want to learn more).\n",
    "\n",
    "The difference between Naive Bayes and Logistic regression is that the first is a generative model, and the second a discriminative model. What does this mean?\n",
    "- **Generative model**: Naive Bayes models the joint distribution of the feature X and target y, and then *predicts* the posterior probability given as P(y|X)\n",
    "- **Discriminative model**: Logistic regression *directly models* the posterior probability of P(y|X) by learning the input to output mapping, by minimising the error.\n",
    "\n",
    "Unlike Naive Bayes, logistic regression typically works reasonably well even when some of the features are correlated. This is why it can be a good idea to try both when dealing with texts."
   ]
  },
  {
   "cell_type": "code",
   "execution_count": 195,
   "metadata": {},
   "outputs": [],
   "source": [
    "# instantiate a logistic regression model\n",
    "logreg = LogisticRegression()"
   ]
  },
  {
   "cell_type": "code",
   "execution_count": 196,
   "metadata": {},
   "outputs": [
    {
     "name": "stdout",
     "output_type": "stream",
     "text": [
      "CPU times: user 435 ms, sys: 12.1 ms, total: 447 ms\n",
      "Wall time: 446 ms\n"
     ]
    },
    {
     "data": {
      "text/plain": [
       "LogisticRegression(C=1.0, class_weight=None, dual=False, fit_intercept=True,\n",
       "          intercept_scaling=1, max_iter=100, multi_class='ovr', n_jobs=1,\n",
       "          penalty='l2', random_state=None, solver='liblinear', tol=0.0001,\n",
       "          verbose=0, warm_start=False)"
      ]
     },
     "execution_count": 196,
     "metadata": {},
     "output_type": "execute_result"
    }
   ],
   "source": [
    "# train the model using X_train_dtm\n",
    "%time logreg.fit(X_train_dtm, y_train)"
   ]
  },
  {
   "cell_type": "code",
   "execution_count": 197,
   "metadata": {},
   "outputs": [],
   "source": [
    "# make class predictions for X_test_dtm\n",
    "y_pred_class = logreg.predict(X_test_dtm)"
   ]
  },
  {
   "cell_type": "code",
   "execution_count": 198,
   "metadata": {},
   "outputs": [
    {
     "data": {
      "text/plain": [
       "array([0.64244938, 0.3566467 , 0.60205284, ..., 0.67444294, 0.47119263,\n",
       "       0.70159752])"
      ]
     },
     "execution_count": 198,
     "metadata": {},
     "output_type": "execute_result"
    }
   ],
   "source": [
    "# calculate predicted probabilities for X_test_dtm\n",
    "y_pred_prob = logreg.predict_proba(X_test_dtm)[:, 1]\n",
    "y_pred_prob"
   ]
  },
  {
   "cell_type": "code",
   "execution_count": 199,
   "metadata": {
    "scrolled": true
   },
   "outputs": [
    {
     "data": {
      "text/plain": [
       "0.5858974358974359"
      ]
     },
     "execution_count": 199,
     "metadata": {},
     "output_type": "execute_result"
    }
   ],
   "source": [
    "# calculate accuracy\n",
    "metrics.accuracy_score(y_test, y_pred_class)"
   ]
  },
  {
   "cell_type": "markdown",
   "metadata": {},
   "source": [
    "Still no good – but you get the idea."
   ]
  },
  {
   "cell_type": "markdown",
   "metadata": {},
   "source": [
    "### Improving the model\n",
    "\n",
    "If you'd want to improve upon this model, you could try to extract other features from the text (for instance, based on the presence of certain words, sentence length, etc.). You could also start looking into other features from the metadata (e.g. the score it received), though you would need a Gaussian Naive Bayes model for that. \n",
    "\n",
    "This is called **feature engineering**: taking whatever information you have about your problem and turning it into numbers that you can use to build your feature matrix.\n",
    "\n",
    "Plugging other features into a classifier could potentially make it more accurate. For now, we can say that we cannot really tell the label from the kinds of words that people use in their posts."
   ]
  },
  {
   "cell_type": "markdown",
   "metadata": {},
   "source": [
    "### Finding the most distinctive terms\n",
    "\n",
    "Before we move on, let's explore why we would want an accurate model in the first place! For one, this would allow us to calculate the approximate \"assholishness\" of each token."
   ]
  },
  {
   "cell_type": "code",
   "execution_count": 279,
   "metadata": {},
   "outputs": [
    {
     "data": {
      "text/plain": [
       "320405"
      ]
     },
     "execution_count": 279,
     "metadata": {},
     "output_type": "execute_result"
    }
   ],
   "source": [
    "# store the vocabulary of X_train\n",
    "X_train_tokens = vect.get_feature_names()\n",
    "len(X_train_tokens)"
   ]
  },
  {
   "cell_type": "code",
   "execution_count": 201,
   "metadata": {},
   "outputs": [
    {
     "name": "stdout",
     "output_type": "stream",
     "text": [
      "['00', '00 could', '00am', '00am be', '00am only', '00am vintage', '00ish', '00ish need', '00pm', '00pm bus', '02', '02 20', '02 50am', '04', '04 police', '04 tara', '04pm', '04pm normally', '05', '05 13', '05 50am', '06', '06 28', '07', '07 04', '0n4kbyj', '0n4kbyj png', '0xblf', '10', '10 00am', '10 15pm', '10 30am', '10 32pm', '10 president', '10 then', '10 work', '10 year', '100', '100 people', '10000', '10000 have', '10buck', '10buck month', '10cent', '10cent where', '10hr', '10hr drive', '10ish', '10ish find', '10ish night']\n"
     ]
    }
   ],
   "source": [
    "# examine the first 50 tokens\n",
    "print(X_train_tokens[0:50])"
   ]
  },
  {
   "cell_type": "code",
   "execution_count": 202,
   "metadata": {},
   "outputs": [
    {
     "data": {
      "text/plain": [
       "array([[0.        , 0.        , 0.01670341, ..., 0.        , 0.        ,\n",
       "        0.        ],\n",
       "       [0.06257642, 0.06257642, 0.13892206, ..., 0.05426387, 0.05426387,\n",
       "        0.05426387]])"
      ]
     },
     "execution_count": 202,
     "metadata": {},
     "output_type": "execute_result"
    }
   ],
   "source": [
    "# Naive Bayes counts the number of times each token appears in each class\n",
    "# trailing underscore is to avoid naming errors - learned during fitting\n",
    "nb.feature_count_"
   ]
  },
  {
   "cell_type": "code",
   "execution_count": 203,
   "metadata": {},
   "outputs": [
    {
     "data": {
      "text/plain": [
       "(2, 320405)"
      ]
     },
     "execution_count": 203,
     "metadata": {},
     "output_type": "execute_result"
    }
   ],
   "source": [
    "# rows represent classes, columns represent tokens\n",
    "nb.feature_count_.shape"
   ]
  },
  {
   "cell_type": "code",
   "execution_count": 204,
   "metadata": {},
   "outputs": [
    {
     "data": {
      "text/plain": [
       "array([0.        , 0.        , 0.01670341, ..., 0.        , 0.        ,\n",
       "       0.        ])"
      ]
     },
     "execution_count": 204,
     "metadata": {},
     "output_type": "execute_result"
    }
   ],
   "source": [
    "# number of times each token appears across all ASS posts\n",
    "ass_token_count = nb.feature_count_[0, :]\n",
    "ass_token_count"
   ]
  },
  {
   "cell_type": "code",
   "execution_count": 205,
   "metadata": {},
   "outputs": [
    {
     "data": {
      "text/plain": [
       "array([0.06257642, 0.06257642, 0.13892206, ..., 0.05426387, 0.05426387,\n",
       "       0.05426387])"
      ]
     },
     "execution_count": 205,
     "metadata": {},
     "output_type": "execute_result"
    }
   ],
   "source": [
    "# number of times each token appears across all NOT posts\n",
    "not_token_count = nb.feature_count_[1, :]\n",
    "not_token_count"
   ]
  },
  {
   "cell_type": "code",
   "execution_count": 206,
   "metadata": {
    "scrolled": true
   },
   "outputs": [
    {
     "data": {
      "text/html": [
       "<div>\n",
       "<style scoped>\n",
       "    .dataframe tbody tr th:only-of-type {\n",
       "        vertical-align: middle;\n",
       "    }\n",
       "\n",
       "    .dataframe tbody tr th {\n",
       "        vertical-align: top;\n",
       "    }\n",
       "\n",
       "    .dataframe thead th {\n",
       "        text-align: right;\n",
       "    }\n",
       "</style>\n",
       "<table border=\"1\" class=\"dataframe\">\n",
       "  <thead>\n",
       "    <tr style=\"text-align: right;\">\n",
       "      <th></th>\n",
       "      <th>ass</th>\n",
       "      <th>not</th>\n",
       "    </tr>\n",
       "    <tr>\n",
       "      <th>token</th>\n",
       "      <th></th>\n",
       "      <th></th>\n",
       "    </tr>\n",
       "  </thead>\n",
       "  <tbody>\n",
       "    <tr>\n",
       "      <th>00</th>\n",
       "      <td>0.000000</td>\n",
       "      <td>0.062576</td>\n",
       "    </tr>\n",
       "    <tr>\n",
       "      <th>00 could</th>\n",
       "      <td>0.000000</td>\n",
       "      <td>0.062576</td>\n",
       "    </tr>\n",
       "    <tr>\n",
       "      <th>00am</th>\n",
       "      <td>0.016703</td>\n",
       "      <td>0.138922</td>\n",
       "    </tr>\n",
       "    <tr>\n",
       "      <th>00am be</th>\n",
       "      <td>0.018090</td>\n",
       "      <td>0.000000</td>\n",
       "    </tr>\n",
       "    <tr>\n",
       "      <th>00am only</th>\n",
       "      <td>0.000000</td>\n",
       "      <td>0.070907</td>\n",
       "    </tr>\n",
       "  </tbody>\n",
       "</table>\n",
       "</div>"
      ],
      "text/plain": [
       "                ass       not\n",
       "token                        \n",
       "00         0.000000  0.062576\n",
       "00 could   0.000000  0.062576\n",
       "00am       0.016703  0.138922\n",
       "00am be    0.018090  0.000000\n",
       "00am only  0.000000  0.070907"
      ]
     },
     "execution_count": 206,
     "metadata": {},
     "output_type": "execute_result"
    }
   ],
   "source": [
    "# create a DataFrame of tokens with their separate ass and not counts\n",
    "tokens = pd.DataFrame({'token':X_train_tokens, 'ass':ass_token_count, 'not':not_token_count}).set_index('token')\n",
    "tokens.head()"
   ]
  },
  {
   "cell_type": "code",
   "execution_count": 207,
   "metadata": {
    "scrolled": true
   },
   "outputs": [
    {
     "data": {
      "text/plain": [
       "array([2678., 3561.])"
      ]
     },
     "execution_count": 207,
     "metadata": {},
     "output_type": "execute_result"
    }
   ],
   "source": [
    "# Naive Bayes counts the number of observations in each class\n",
    "nb.class_count_"
   ]
  },
  {
   "cell_type": "code",
   "execution_count": 208,
   "metadata": {
    "scrolled": true
   },
   "outputs": [
    {
     "data": {
      "text/html": [
       "<div>\n",
       "<style scoped>\n",
       "    .dataframe tbody tr th:only-of-type {\n",
       "        vertical-align: middle;\n",
       "    }\n",
       "\n",
       "    .dataframe tbody tr th {\n",
       "        vertical-align: top;\n",
       "    }\n",
       "\n",
       "    .dataframe thead th {\n",
       "        text-align: right;\n",
       "    }\n",
       "</style>\n",
       "<table border=\"1\" class=\"dataframe\">\n",
       "  <thead>\n",
       "    <tr style=\"text-align: right;\">\n",
       "      <th></th>\n",
       "      <th>ass</th>\n",
       "      <th>not</th>\n",
       "    </tr>\n",
       "    <tr>\n",
       "      <th>token</th>\n",
       "      <th></th>\n",
       "      <th></th>\n",
       "    </tr>\n",
       "  </thead>\n",
       "  <tbody>\n",
       "    <tr>\n",
       "      <th>viewpoint</th>\n",
       "      <td>1.338762</td>\n",
       "      <td>1.224568</td>\n",
       "    </tr>\n",
       "    <tr>\n",
       "      <th>get deeply</th>\n",
       "      <td>1.000000</td>\n",
       "      <td>1.165051</td>\n",
       "    </tr>\n",
       "    <tr>\n",
       "      <th>racist homophobe</th>\n",
       "      <td>1.000000</td>\n",
       "      <td>1.140295</td>\n",
       "    </tr>\n",
       "    <tr>\n",
       "      <th>grass wait</th>\n",
       "      <td>1.000000</td>\n",
       "      <td>1.073028</td>\n",
       "    </tr>\n",
       "    <tr>\n",
       "      <th>tran mtf</th>\n",
       "      <td>1.127690</td>\n",
       "      <td>1.000000</td>\n",
       "    </tr>\n",
       "  </tbody>\n",
       "</table>\n",
       "</div>"
      ],
      "text/plain": [
       "                       ass       not\n",
       "token                               \n",
       "viewpoint         1.338762  1.224568\n",
       "get deeply        1.000000  1.165051\n",
       "racist homophobe  1.000000  1.140295\n",
       "grass wait        1.000000  1.073028\n",
       "tran mtf          1.127690  1.000000"
      ]
     },
     "execution_count": 208,
     "metadata": {},
     "output_type": "execute_result"
    }
   ],
   "source": [
    "# add 1 to 'ass' and 'not' counts to avoid dividing by 0\n",
    "tokens['ass'] = tokens['ass'] + 1\n",
    "tokens['not'] = tokens['not'] + 1\n",
    "tokens.sample(5, random_state=6)"
   ]
  },
  {
   "cell_type": "code",
   "execution_count": 209,
   "metadata": {},
   "outputs": [
    {
     "data": {
      "text/html": [
       "<div>\n",
       "<style scoped>\n",
       "    .dataframe tbody tr th:only-of-type {\n",
       "        vertical-align: middle;\n",
       "    }\n",
       "\n",
       "    .dataframe tbody tr th {\n",
       "        vertical-align: top;\n",
       "    }\n",
       "\n",
       "    .dataframe thead th {\n",
       "        text-align: right;\n",
       "    }\n",
       "</style>\n",
       "<table border=\"1\" class=\"dataframe\">\n",
       "  <thead>\n",
       "    <tr style=\"text-align: right;\">\n",
       "      <th></th>\n",
       "      <th>ass</th>\n",
       "      <th>not</th>\n",
       "    </tr>\n",
       "    <tr>\n",
       "      <th>token</th>\n",
       "      <th></th>\n",
       "      <th></th>\n",
       "    </tr>\n",
       "  </thead>\n",
       "  <tbody>\n",
       "    <tr>\n",
       "      <th>viewpoint</th>\n",
       "      <td>0.000500</td>\n",
       "      <td>0.000344</td>\n",
       "    </tr>\n",
       "    <tr>\n",
       "      <th>get deeply</th>\n",
       "      <td>0.000373</td>\n",
       "      <td>0.000327</td>\n",
       "    </tr>\n",
       "    <tr>\n",
       "      <th>racist homophobe</th>\n",
       "      <td>0.000373</td>\n",
       "      <td>0.000320</td>\n",
       "    </tr>\n",
       "    <tr>\n",
       "      <th>grass wait</th>\n",
       "      <td>0.000373</td>\n",
       "      <td>0.000301</td>\n",
       "    </tr>\n",
       "    <tr>\n",
       "      <th>tran mtf</th>\n",
       "      <td>0.000421</td>\n",
       "      <td>0.000281</td>\n",
       "    </tr>\n",
       "  </tbody>\n",
       "</table>\n",
       "</div>"
      ],
      "text/plain": [
       "                       ass       not\n",
       "token                               \n",
       "viewpoint         0.000500  0.000344\n",
       "get deeply        0.000373  0.000327\n",
       "racist homophobe  0.000373  0.000320\n",
       "grass wait        0.000373  0.000301\n",
       "tran mtf          0.000421  0.000281"
      ]
     },
     "execution_count": 209,
     "metadata": {},
     "output_type": "execute_result"
    }
   ],
   "source": [
    "# convert the 'ass' and 'not' counts into frequencies\n",
    "tokens['ass'] = tokens['ass'] / nb.class_count_[0]\n",
    "tokens['not'] = tokens['not'] / nb.class_count_[1]\n",
    "tokens.sample(5, random_state=6)"
   ]
  },
  {
   "cell_type": "code",
   "execution_count": 210,
   "metadata": {},
   "outputs": [
    {
     "data": {
      "text/html": [
       "<div>\n",
       "<style scoped>\n",
       "    .dataframe tbody tr th:only-of-type {\n",
       "        vertical-align: middle;\n",
       "    }\n",
       "\n",
       "    .dataframe tbody tr th {\n",
       "        vertical-align: top;\n",
       "    }\n",
       "\n",
       "    .dataframe thead th {\n",
       "        text-align: right;\n",
       "    }\n",
       "</style>\n",
       "<table border=\"1\" class=\"dataframe\">\n",
       "  <thead>\n",
       "    <tr style=\"text-align: right;\">\n",
       "      <th></th>\n",
       "      <th>ass</th>\n",
       "      <th>not</th>\n",
       "      <th>ass_ratio</th>\n",
       "    </tr>\n",
       "    <tr>\n",
       "      <th>token</th>\n",
       "      <th></th>\n",
       "      <th></th>\n",
       "      <th></th>\n",
       "    </tr>\n",
       "  </thead>\n",
       "  <tbody>\n",
       "    <tr>\n",
       "      <th>viewpoint</th>\n",
       "      <td>0.000500</td>\n",
       "      <td>0.000344</td>\n",
       "      <td>1.453724</td>\n",
       "    </tr>\n",
       "    <tr>\n",
       "      <th>get deeply</th>\n",
       "      <td>0.000373</td>\n",
       "      <td>0.000327</td>\n",
       "      <td>1.141344</td>\n",
       "    </tr>\n",
       "    <tr>\n",
       "      <th>racist homophobe</th>\n",
       "      <td>0.000373</td>\n",
       "      <td>0.000320</td>\n",
       "      <td>1.166123</td>\n",
       "    </tr>\n",
       "    <tr>\n",
       "      <th>grass wait</th>\n",
       "      <td>0.000373</td>\n",
       "      <td>0.000301</td>\n",
       "      <td>1.239225</td>\n",
       "    </tr>\n",
       "    <tr>\n",
       "      <th>tran mtf</th>\n",
       "      <td>0.000421</td>\n",
       "      <td>0.000281</td>\n",
       "      <td>1.499516</td>\n",
       "    </tr>\n",
       "  </tbody>\n",
       "</table>\n",
       "</div>"
      ],
      "text/plain": [
       "                       ass       not  ass_ratio\n",
       "token                                          \n",
       "viewpoint         0.000500  0.000344   1.453724\n",
       "get deeply        0.000373  0.000327   1.141344\n",
       "racist homophobe  0.000373  0.000320   1.166123\n",
       "grass wait        0.000373  0.000301   1.239225\n",
       "tran mtf          0.000421  0.000281   1.499516"
      ]
     },
     "execution_count": 210,
     "metadata": {},
     "output_type": "execute_result"
    }
   ],
   "source": [
    "# calculate the ratio of ass-to-not for each token\n",
    "tokens['ass_ratio'] = tokens['ass'] / tokens['not']\n",
    "tokens.sample(5, random_state=6)"
   ]
  },
  {
   "cell_type": "code",
   "execution_count": 211,
   "metadata": {},
   "outputs": [
    {
     "data": {
      "text/html": [
       "<div>\n",
       "<style scoped>\n",
       "    .dataframe tbody tr th:only-of-type {\n",
       "        vertical-align: middle;\n",
       "    }\n",
       "\n",
       "    .dataframe tbody tr th {\n",
       "        vertical-align: top;\n",
       "    }\n",
       "\n",
       "    .dataframe thead th {\n",
       "        text-align: right;\n",
       "    }\n",
       "</style>\n",
       "<table border=\"1\" class=\"dataframe\">\n",
       "  <thead>\n",
       "    <tr style=\"text-align: right;\">\n",
       "      <th></th>\n",
       "      <th>ass</th>\n",
       "      <th>not</th>\n",
       "      <th>ass_ratio</th>\n",
       "    </tr>\n",
       "    <tr>\n",
       "      <th>token</th>\n",
       "      <th></th>\n",
       "      <th></th>\n",
       "      <th></th>\n",
       "    </tr>\n",
       "  </thead>\n",
       "  <tbody>\n",
       "    <tr>\n",
       "      <th>me</th>\n",
       "      <td>0.001549</td>\n",
       "      <td>0.000543</td>\n",
       "      <td>2.854384</td>\n",
       "    </tr>\n",
       "    <tr>\n",
       "      <th>sidewalk</th>\n",
       "      <td>0.001157</td>\n",
       "      <td>0.000438</td>\n",
       "      <td>2.640043</td>\n",
       "    </tr>\n",
       "    <tr>\n",
       "      <th>sauce</th>\n",
       "      <td>0.000818</td>\n",
       "      <td>0.000319</td>\n",
       "      <td>2.562914</td>\n",
       "    </tr>\n",
       "    <tr>\n",
       "      <th>grader</th>\n",
       "      <td>0.000720</td>\n",
       "      <td>0.000281</td>\n",
       "      <td>2.562546</td>\n",
       "    </tr>\n",
       "    <tr>\n",
       "      <th>sex be</th>\n",
       "      <td>0.001352</td>\n",
       "      <td>0.000530</td>\n",
       "      <td>2.548643</td>\n",
       "    </tr>\n",
       "    <tr>\n",
       "      <th>not vote</th>\n",
       "      <td>0.000705</td>\n",
       "      <td>0.000281</td>\n",
       "      <td>2.512211</td>\n",
       "    </tr>\n",
       "    <tr>\n",
       "      <th>nickname</th>\n",
       "      <td>0.000794</td>\n",
       "      <td>0.000321</td>\n",
       "      <td>2.474048</td>\n",
       "    </tr>\n",
       "    <tr>\n",
       "      <th>microwave</th>\n",
       "      <td>0.000769</td>\n",
       "      <td>0.000315</td>\n",
       "      <td>2.444383</td>\n",
       "    </tr>\n",
       "    <tr>\n",
       "      <th>peanut</th>\n",
       "      <td>0.000779</td>\n",
       "      <td>0.000323</td>\n",
       "      <td>2.413585</td>\n",
       "    </tr>\n",
       "    <tr>\n",
       "      <th>rice</th>\n",
       "      <td>0.000878</td>\n",
       "      <td>0.000367</td>\n",
       "      <td>2.395747</td>\n",
       "    </tr>\n",
       "  </tbody>\n",
       "</table>\n",
       "</div>"
      ],
      "text/plain": [
       "                ass       not  ass_ratio\n",
       "token                                   \n",
       "me         0.001549  0.000543   2.854384\n",
       "sidewalk   0.001157  0.000438   2.640043\n",
       "sauce      0.000818  0.000319   2.562914\n",
       "grader     0.000720  0.000281   2.562546\n",
       "sex be     0.001352  0.000530   2.548643\n",
       "not vote   0.000705  0.000281   2.512211\n",
       "nickname   0.000794  0.000321   2.474048\n",
       "microwave  0.000769  0.000315   2.444383\n",
       "peanut     0.000779  0.000323   2.413585\n",
       "rice       0.000878  0.000367   2.395747"
      ]
     },
     "execution_count": 211,
     "metadata": {},
     "output_type": "execute_result"
    }
   ],
   "source": [
    "# examine the DataFrame sorted by ass_ratio\n",
    "# note: use sort() instead of sort_values() for pandas 0.16.2 and earlier\n",
    "tokens.sort_values('ass_ratio', ascending=False)[:10]"
   ]
  },
  {
   "cell_type": "code",
   "execution_count": 212,
   "metadata": {},
   "outputs": [
    {
     "data": {
      "text/plain": [
       "2.8543838986156778"
      ]
     },
     "execution_count": 212,
     "metadata": {},
     "output_type": "execute_result"
    }
   ],
   "source": [
    "# look up the not_ratio for a given token\n",
    "tokens.loc['me', 'ass_ratio']"
   ]
  },
  {
   "cell_type": "markdown",
   "metadata": {},
   "source": [
    "Looks like the word 'me' occurs 3 as often for people who are classified as assholes (according to our very imprecise classifier at least). With a precise classifier, this would be a very interesting result!"
   ]
  },
  {
   "cell_type": "markdown",
   "metadata": {},
   "source": [
    "### Training for more classes\n",
    "\n",
    "We've trained for 2 classes now (asshole and non-asshole), but the posts in this subreddit (as well as many others) actually have more labels, called **flair**. We can find them here under the `flair_text` category.\n",
    "\n",
    "Note that if your scraped data does not include flair, you might want to add that to your scraping script!"
   ]
  },
  {
   "cell_type": "code",
   "execution_count": 216,
   "metadata": {
    "scrolled": true
   },
   "outputs": [
    {
     "data": {
      "text/plain": [
       "array(['Everyone Sucks', 'Asshole', 'sensitive', 'assTroll',\n",
       "       'Fake Asshole', 'Sphincter', 'Benevolent Asshole',\n",
       "       'Asshole; Chill bro', 'Asshole & bad host', 'little shit',\n",
       "       'teenager', \"Trolling, don't bother\", 'kind of asshole',\n",
       "       'asstroll', 'kinda', 'Troll', 'charitable asshole',\n",
       "       'well meaning asshole', 'kind of', 'not enough info', 'borderline',\n",
       "       'semi', 'shitty person', 'troll', 'not cool', 'children',\n",
       "       'lesson learned', 'shitposty', 'childish', 'literal shitpost',\n",
       "       'jerk', 'not quite', 'wtf?', 'a bit of an asshole',\n",
       "       'Oversensitive', 'shitpost', 'asshole to doggo', 'negligent',\n",
       "       'Child', 'teenagers', 'douchenozzle', 'bit of a twat', 'not yet',\n",
       "       'Everyone (Kinda) Sucks', 'immature', 'asshole for posting',\n",
       "       'asshole, but funny', 'slight asshole', 'asshole for staying',\n",
       "       'Kinda asshole', 'justifiable asshole', 'tone deaf',\n",
       "       'asshole (a bit)', 'Asshole if true', 'minor assholery',\n",
       "       'kind of harsh', 'Sort of', 'Asshole(s)', 'asshole soceity',\n",
       "       'inconsiderate', 'kinda asshole', 'Call for help :(',\n",
       "       'asshole (Kind of)', 'arsehole', 'Asshole/Terrible OP',\n",
       "       'gatekeep asshole', 'asshole x 4', 'Confusing asshole',\n",
       "       'asshole/pasta', 'asshole ( ไอ้)', 'Righteous Asshole', 'idiot',\n",
       "       'Asshole/Shitpost', '50/50', 'Justified Asshole', '10% asshole',\n",
       "       'abusive asshole', 'Butthurt', 'ASSHOLE fer yellin',\n",
       "       'Asshole/Ignorant', 'Trolling', 'Petty Asshole', 'Total Asshole',\n",
       "       'cheap asshole', 'non culus', 'asshole for driving',\n",
       "       'NTA, but Sucker', 'Formatting asshole', 'No el pendejo',\n",
       "       'asshole-ish', 'SF asshole', 'Future Asshole',\n",
       "       'asshole; Marry him', 'Noble Asshole', 'asshole-y', 'Tactless',\n",
       "       'asshole per se', 'Carrie Underwood', 'Record Setting Asshole',\n",
       "       'a bit'], dtype=object)"
      ]
     },
     "execution_count": 216,
     "metadata": {},
     "output_type": "execute_result"
    }
   ],
   "source": [
    "amitaS.flair_text.unique()[:100]"
   ]
  },
  {
   "cell_type": "markdown",
   "metadata": {},
   "source": [
    "Quite a lot of categories, turns out. Let's see what the most-frequent categories are, as well as their counts:"
   ]
  },
  {
   "cell_type": "code",
   "execution_count": 217,
   "metadata": {
    "scrolled": true
   },
   "outputs": [
    {
     "data": {
      "text/plain": [
       "Not the A-hole                    4338\n",
       "Asshole                           2880\n",
       "Everyone Sucks                     163\n",
       "asshole (a bit)                     12\n",
       "kinda                               12\n",
       "asshole (Kind of)                   10\n",
       "troll                                7\n",
       "teenager                             7\n",
       "teenagers                            6\n",
       "kind of                              5\n",
       "50/50                                5\n",
       "Troll                                5\n",
       "not yet                              4\n",
       "arsehole                             4\n",
       "Trolling                             3\n",
       "immature                             3\n",
       "shitpost                             3\n",
       "not really                           3\n",
       "asshole (Kinda)                      3\n",
       "a bit                                3\n",
       "asshole for posting                  2\n",
       "sort of                              2\n",
       "slight asshole                       2\n",
       "not arsehole                         2\n",
       "asshole-y                            2\n",
       "idiot                                2\n",
       "kinda asshole                        2\n",
       "not enough info                      2\n",
       "10% asshole                          2\n",
       "kind of asshole                      2\n",
       "                                  ... \n",
       "half-asshole                         1\n",
       "not a-hole but sjw femi-cancer       1\n",
       "asshole baby                         1\n",
       "a little butthole                    1\n",
       "Justified Asshole                    1\n",
       "aunt with benefits                   1\n",
       "Child                                1\n",
       "all assholes!                        1\n",
       "Asshole sorta                        1\n",
       "compromise                           1\n",
       "children                             1\n",
       "Formatting asshole                   1\n",
       "r/relationships                      1\n",
       "non culus                            1\n",
       "Do an AMA                            1\n",
       "OP is an asshole                     1\n",
       "Total Asshole                        1\n",
       "Sphincter                            1\n",
       "tentative                            1\n",
       "(Accidental) Asshole                 1\n",
       "abusive asshole                      1\n",
       "dumbass                              1\n",
       "selfish                              1\n",
       "8 assholes!                          1\n",
       "Asshole Desu                         1\n",
       "bit of a twat                        1\n",
       "overly sensitive                     1\n",
       "not a-hole, nuts                     1\n",
       "Fake Asshole                         1\n",
       "ASSHOLE fer yellin                   1\n",
       "Name: flair_text, Length: 322, dtype: int64"
      ]
     },
     "execution_count": 217,
     "metadata": {},
     "output_type": "execute_result"
    }
   ],
   "source": [
    "amitaS['flair_text'].value_counts()"
   ]
  },
  {
   "cell_type": "markdown",
   "metadata": {},
   "source": [
    "There are a bunch of categories whose names we could concatenate in order to bring up our counts. We could then classify posts on, say, 5 categories instead of 2. I will leave that to you!"
   ]
  },
  {
   "cell_type": "markdown",
   "metadata": {},
   "source": [
    "## Automated sentiment analysis using NLTK VADER"
   ]
  },
  {
   "cell_type": "markdown",
   "metadata": {},
   "source": [
    "The second half of this notebook is about sentiment analysis (sometimes known as \"opinion mining\"). The most common use of sentiment analysis is to classify a text into a class (called \"sentiment classification\"). We'll get to that further on. First, let's see how sentiment analysis itself works.\n",
    "\n",
    "The simplest option is to use pre-built libraries for sentiment analysis. TextBlob and NLTK VADER are two examples of such libraties. VADER (Valence Aware Dictionary and sEntiment Reasoner) is specifically built for social media texts, and takes multiple text features into account, such as:\n",
    "\n",
    "- **Punctuation** (e.g. an exclamation mark \"!\" increases the magnitude of intensity)\n",
    "- **Capitalization** (e.g. \"The food here is GREAT\" is more intense than \"The food here is great\")\n",
    "- **Degree modifiers** (e.g. \"The service here is extremely good\" is more intense than \"The service here is good\")\n",
    "- **Conjunctions** signal a shift in sentiment polarity, with the sentiment of the text following the conjunction being dominant (e.g. “The food here is great, but the service is horrible”)\n",
    "- **Preceding Tri-grams** of a sentiment-laden lexical feature catch 90% of cases where negation flips the polarity of the text (e.g. \"The food here isn’t really all that great”)\n",
    "- **Emoji, emoticons & slang** are parsed very well by VADER."
   ]
  },
  {
   "cell_type": "code",
   "execution_count": 218,
   "metadata": {},
   "outputs": [],
   "source": [
    "# instantiate Class\n",
    "analyser = SentimentIntensityAnalyzer()"
   ]
  },
  {
   "cell_type": "code",
   "execution_count": 219,
   "metadata": {},
   "outputs": [
    {
     "data": {
      "text/plain": [
       "{'neg': 0.347, 'neu': 0.497, 'pos': 0.157, 'compound': -0.6096}"
      ]
     },
     "execution_count": 219,
     "metadata": {},
     "output_type": "execute_result"
    }
   ],
   "source": [
    "# a small test\n",
    "analyser.polarity_scores(\"\"\"This is really dumb. I don't want to use this stupid \n",
    "                          program, even though today has been great.\"\"\")"
   ]
  },
  {
   "cell_type": "markdown",
   "metadata": {},
   "source": [
    "VADER spits out several metrics we can use. The **Positive**, **Negative** and **Neutral** scores represent the proportion of text that falls in these categories. This means our sentence was rated as 35% Positive, 50% Neutral and 15% Negative. All these add up to 1.\n",
    "\n",
    "The **Compound** score is a metric that calculates the sum of all the lexicon ratings which have been normalized between -1 (most extreme negative) and +1 (most extreme positive). The compound score turns out to be 0.61: a pretty positive sentiment overall. Let's use that score for now (but be aware that you can use these `neg`, `neu` and `pos` scores to your advantage to train a more precise classifier!)"
   ]
  },
  {
   "cell_type": "markdown",
   "metadata": {},
   "source": [
    "### Loading comments\n",
    "\n",
    "For our sentiments, we'll load up the comments from our dataset."
   ]
  },
  {
   "cell_type": "code",
   "execution_count": 220,
   "metadata": {
    "scrolled": true
   },
   "outputs": [
    {
     "data": {
      "text/plain": [
       "9395"
      ]
     },
     "execution_count": 220,
     "metadata": {},
     "output_type": "execute_result"
    }
   ],
   "source": [
    "# load comments into df and clean up empty entries\n",
    "amitaC = pd.read_csv(\"amita-comments.csv\", lineterminator='\\n', encoding=\"utf8\")[:10000]\n",
    "amitaC = amitaC[~amitaC['body'].isin(['[removed]', '[deleted]' ])].dropna(subset=['body'])\n",
    "len(amitaC)"
   ]
  },
  {
   "cell_type": "code",
   "execution_count": 221,
   "metadata": {},
   "outputs": [],
   "source": [
    "# Remove newline characters\n",
    "amitaC.body = amitaC.body.str.replace('\\s+', ' ')\n",
    "\n",
    "# Remove distracting single quotes\n",
    "amitaC.body = amitaC.body.str.replace(\"\\'\", \"\")\n",
    "\n",
    "# remove tags\n",
    "amitaC.body = amitaC.body.str.replace(\"&lt;/?.*?&gt;\",\" &lt;&gt; \")"
   ]
  },
  {
   "cell_type": "code",
   "execution_count": 250,
   "metadata": {
    "scrolled": true
   },
   "outputs": [
    {
     "data": {
      "text/html": [
       "<div>\n",
       "<style scoped>\n",
       "    .dataframe tbody tr th:only-of-type {\n",
       "        vertical-align: middle;\n",
       "    }\n",
       "\n",
       "    .dataframe tbody tr th {\n",
       "        vertical-align: top;\n",
       "    }\n",
       "\n",
       "    .dataframe thead th {\n",
       "        text-align: right;\n",
       "    }\n",
       "</style>\n",
       "<table border=\"1\" class=\"dataframe\">\n",
       "  <thead>\n",
       "    <tr style=\"text-align: right;\">\n",
       "      <th></th>\n",
       "      <th>idint</th>\n",
       "      <th>idstr</th>\n",
       "      <th>created</th>\n",
       "      <th>author</th>\n",
       "      <th>parent</th>\n",
       "      <th>submission</th>\n",
       "      <th>body</th>\n",
       "      <th>score</th>\n",
       "      <th>subreddit</th>\n",
       "      <th>distinguish</th>\n",
       "      <th>textlen</th>\n",
       "      <th>sent</th>\n",
       "      <th>sent_compound</th>\n",
       "    </tr>\n",
       "  </thead>\n",
       "  <tbody>\n",
       "    <tr>\n",
       "      <th>0</th>\n",
       "      <td>26753457285</td>\n",
       "      <td>t1_cagbfr9</td>\n",
       "      <td>1370917106</td>\n",
       "      <td>ail33</td>\n",
       "      <td>t3_1fy0bx</td>\n",
       "      <td>t3_1fy0bx</td>\n",
       "      <td>I agree with you, she is kind of bitchy</td>\n",
       "      <td>1</td>\n",
       "      <td>AmItheAsshole</td>\n",
       "      <td>NaN</td>\n",
       "      <td>39</td>\n",
       "      <td>neg</td>\n",
       "      <td>-0.2716</td>\n",
       "    </tr>\n",
       "    <tr>\n",
       "      <th>1</th>\n",
       "      <td>27068149210</td>\n",
       "      <td>t1_cfnodlm</td>\n",
       "      <td>1393275432</td>\n",
       "      <td>swallowedfilth</td>\n",
       "      <td>t3_1ytr72</td>\n",
       "      <td>t3_1ytr72</td>\n",
       "      <td>Seems like you have a genuine reason to be ups...</td>\n",
       "      <td>33</td>\n",
       "      <td>AmItheAsshole</td>\n",
       "      <td>NaN</td>\n",
       "      <td>210</td>\n",
       "      <td>pos</td>\n",
       "      <td>0.6597</td>\n",
       "    </tr>\n",
       "    <tr>\n",
       "      <th>3</th>\n",
       "      <td>27068172592</td>\n",
       "      <td>t1_cfnovn4</td>\n",
       "      <td>1393276406</td>\n",
       "      <td>flignir</td>\n",
       "      <td>t1_cfnodlm</td>\n",
       "      <td>t3_1ytr72</td>\n",
       "      <td>Or, more effectively, explain the above to the...</td>\n",
       "      <td>21</td>\n",
       "      <td>AmItheAsshole</td>\n",
       "      <td>NaN</td>\n",
       "      <td>547</td>\n",
       "      <td>neg</td>\n",
       "      <td>-0.5843</td>\n",
       "    </tr>\n",
       "    <tr>\n",
       "      <th>4</th>\n",
       "      <td>27068203179</td>\n",
       "      <td>t1_cfnpj8r</td>\n",
       "      <td>1393277671</td>\n",
       "      <td>Irishman_reddit</td>\n",
       "      <td>t1_cfnovn4</td>\n",
       "      <td>t3_1ytr72</td>\n",
       "      <td>Well put and yeah I think the I dont know answ...</td>\n",
       "      <td>10</td>\n",
       "      <td>AmItheAsshole</td>\n",
       "      <td>NaN</td>\n",
       "      <td>67</td>\n",
       "      <td>pos</td>\n",
       "      <td>0.5106</td>\n",
       "    </tr>\n",
       "    <tr>\n",
       "      <th>5</th>\n",
       "      <td>27068205339</td>\n",
       "      <td>t1_cfnpkwr</td>\n",
       "      <td>1393277761</td>\n",
       "      <td>Irishman_reddit</td>\n",
       "      <td>t1_cfnosll</td>\n",
       "      <td>t3_1ytr72</td>\n",
       "      <td>So Im an asshole for doing my job and keeping ...</td>\n",
       "      <td>7</td>\n",
       "      <td>AmItheAsshole</td>\n",
       "      <td>NaN</td>\n",
       "      <td>73</td>\n",
       "      <td>pos</td>\n",
       "      <td>0.4404</td>\n",
       "    </tr>\n",
       "  </tbody>\n",
       "</table>\n",
       "</div>"
      ],
      "text/plain": [
       "         idint       idstr     created           author      parent  \\\n",
       "0  26753457285  t1_cagbfr9  1370917106            ail33   t3_1fy0bx   \n",
       "1  27068149210  t1_cfnodlm  1393275432   swallowedfilth   t3_1ytr72   \n",
       "3  27068172592  t1_cfnovn4  1393276406          flignir  t1_cfnodlm   \n",
       "4  27068203179  t1_cfnpj8r  1393277671  Irishman_reddit  t1_cfnovn4   \n",
       "5  27068205339  t1_cfnpkwr  1393277761  Irishman_reddit  t1_cfnosll   \n",
       "\n",
       "  submission                                               body  score  \\\n",
       "0  t3_1fy0bx            I agree with you, she is kind of bitchy      1   \n",
       "1  t3_1ytr72  Seems like you have a genuine reason to be ups...     33   \n",
       "3  t3_1ytr72  Or, more effectively, explain the above to the...     21   \n",
       "4  t3_1ytr72  Well put and yeah I think the I dont know answ...     10   \n",
       "5  t3_1ytr72  So Im an asshole for doing my job and keeping ...      7   \n",
       "\n",
       "       subreddit distinguish  textlen sent  sent_compound  \n",
       "0  AmItheAsshole         NaN       39  neg        -0.2716  \n",
       "1  AmItheAsshole         NaN      210  pos         0.6597  \n",
       "3  AmItheAsshole         NaN      547  neg        -0.5843  \n",
       "4  AmItheAsshole         NaN       67  pos         0.5106  \n",
       "5  AmItheAsshole         NaN       73  pos         0.4404  "
      ]
     },
     "execution_count": 250,
     "metadata": {},
     "output_type": "execute_result"
    }
   ],
   "source": [
    "amitaC.head()"
   ]
  },
  {
   "cell_type": "markdown",
   "metadata": {},
   "source": [
    "Now let's write a function that takes a text in, and spits out one of 3 tags based on the compound score, as well as that compound score."
   ]
  },
  {
   "cell_type": "code",
   "execution_count": 223,
   "metadata": {},
   "outputs": [],
   "source": [
    "def sentiment_analyzer_scores(text):\n",
    "    sentiment_dict = analyser.polarity_scores(text)\n",
    "    # decide sentiment as positive, negative and neutral \n",
    "    if sentiment_dict['compound'] >= 0.01 : \n",
    "        tag = \"pos\"\n",
    "    elif sentiment_dict['compound'] <= - 0.01 : \n",
    "        tag = \"neg\"\n",
    "    else : \n",
    "        tag = \"neut\" \n",
    "    return [tag, sentiment_dict['compound']]"
   ]
  },
  {
   "cell_type": "markdown",
   "metadata": {},
   "source": [
    "Let's append the output to 2 new columns in our dataframe. `.apply()` allows us to apply a function along an axis of the DataFrame. Also note the use of `zip()` here, allowing us to map the 2 returned values of our function to the tuple of variables we assign them to. Finally, note the `*` to unpack these containers."
   ]
  },
  {
   "cell_type": "code",
   "execution_count": 224,
   "metadata": {},
   "outputs": [],
   "source": [
    "amitaC[\"sent\"], amitaC[\"sent_compound\"] = zip(*amitaC.body.apply(sentiment_analyzer_scores))"
   ]
  },
  {
   "cell_type": "markdown",
   "metadata": {},
   "source": [
    "Let's have a look:"
   ]
  },
  {
   "cell_type": "code",
   "execution_count": 225,
   "metadata": {
    "scrolled": true
   },
   "outputs": [
    {
     "data": {
      "text/plain": [
       "pos     4404\n",
       "neg     3913\n",
       "neut    1078\n",
       "Name: sent, dtype: int64"
      ]
     },
     "execution_count": 225,
     "metadata": {},
     "output_type": "execute_result"
    }
   ],
   "source": [
    "amitaC.sent.value_counts()"
   ]
  },
  {
   "cell_type": "markdown",
   "metadata": {},
   "source": [
    "Looks like our sentiments skew towards positivity. Let's also print out a histogram again:"
   ]
  },
  {
   "cell_type": "code",
   "execution_count": 226,
   "metadata": {
    "scrolled": true
   },
   "outputs": [
    {
     "data": {
      "text/plain": [
       "array([[<matplotlib.axes._subplots.AxesSubplot object at 0x125675b00>]],\n",
       "      dtype=object)"
      ]
     },
     "execution_count": 226,
     "metadata": {},
     "output_type": "execute_result"
    },
    {
     "data": {
      "image/png": "[encoded data removed]",
      "text/plain": [
       "<Figure size 432x288 with 1 Axes>"
      ]
     },
     "metadata": {},
     "output_type": "display_data"
    }
   ],
   "source": [
    "amitaC.hist(column=\"sent_compound\",bins=50)"
   ]
  },
  {
   "cell_type": "markdown",
   "metadata": {},
   "source": [
    "Looks like we've got lots of scores that can't really be considered positive or negative.\n",
    "\n",
    "Let's see if these scores make sense. We'll print out the comment with the highest score (note: we could also use `.idxmin()` to find the comment with the lowest score). "
   ]
  },
  {
   "cell_type": "code",
   "execution_count": 227,
   "metadata": {
    "scrolled": false
   },
   "outputs": [
    {
     "data": {
      "text/plain": [
       "'My mother, as well as one of my oldest, dearest friends, are both staunchly Christian. I am an ardent atheist, as well as bisexual, facts of which they are both aware. We love one another deeply. In the case of my mother, we rarely, if ever, discuss religion. It only serves to aggravate and offend one another. She believes bisexuality is a sin, but she also believes that this is between God and myself. She doesnt enter into it. So, we get along wonderfully and are very close. In the case of my friend, we debate nearly every time were in the same space together. But we enjoy it. Well pose moral, ethical, theological and theoretical questions to one another for hours, and tear apart one anothers arguments without fear of reprisal. We do this happily, because there are two things which are paramount above all else: 1) We love one another as people. I love the man he is, and he loves the woman I am. Everything else is secondary. He may offend me now and again, and I him, but knowing that neither person means any harm means that its easy to let it go. My life would be emptier without him in it, and an opinion isnt enough to change that. 2) We do not treat each other differently because of our opinions. If I assumed he was stupid, ill-educated, bigoted or otherwise, or if he thought I was a sinful, soulless heathen, based on these discussions, our friendship would fall apart. However, we simply set those opinions aside and do not punish one another for thinking differently. I say all this because there are many ways to cope with having vastly different outlooks on life with other people. These are two which Ive found successful. The \"Dont discuss this topic with this individual\" strategy, and the \"Learn about the others beliefs and ask questions\" strategy. I enjoy both, personally. If your friend is a good person, and you think this friendship is salvageable, please discuss this with her first before ejecting her from your life. Sometimes things like this can tear people apart, and sometimes thats even necessary, but it would be a shame to not, at least, try to repair the damage thats been done. Not an asshole. But honestly, neither is she.'"
      ]
     },
     "execution_count": 227,
     "metadata": {},
     "output_type": "execute_result"
    }
   ],
   "source": [
    "max_id = amitaC.sent_compound.idxmax()\n",
    "amitaC.body[max_id]"
   ]
  },
  {
   "cell_type": "markdown",
   "metadata": {},
   "source": [
    "That does look like a comment with lots of positive language."
   ]
  },
  {
   "cell_type": "markdown",
   "metadata": {},
   "source": [
    "### Optional assignment: working with sentiment scores\n",
    "\n",
    "You could use these sentiment scores for all kinds of purposes. \n",
    "\n",
    "First, you could look at comments with a high or low sentiment, and see what kinds of topics or concerns are discussed. \n",
    "\n",
    "You could train a Naive Bayes classifier (using the code we used above) to see whether sentiments in the posts tell you anything about what `flair_text` class that post falls under. You could also run a **regression analysis** to see if a post's sentiment score (X) is a predictor for something like the user score it received (y). Please see the additional notebook, \"5-X Regression\", if you're interested.\n",
    "\n",
    "You could also combine it with your **topic modeling** output, if that output is interesting. You could create a column in your DataFrame that tells you the most-associated topic with each post/comment (using the notebook from week 3), then see if certain topics relate to certain sentiments."
   ]
  },
  {
   "cell_type": "code",
   "execution_count": null,
   "metadata": {},
   "outputs": [],
   "source": [
    "# Your code below\n",
    "\n",
    "\n",
    "\n",
    "\n",
    "\n"
   ]
  },
  {
   "cell_type": "markdown",
   "metadata": {},
   "source": [
    "## Training a sentiment analyzer using Naive Bayes\n",
    "\n",
    "The problem with unsupervised approaches such as the one above is that they typically have poor performance compared to a supervised approach, where we create the labels ourselves.\n",
    "\n",
    "Let's implement a Naive Bayes Classifier, based on our own sentiment labels. These labels will be based on **whether a commenter evaluates a post positively or negatively**. This requires a training set of samples which have known features and known classes. We can manually label a subset of our comments as positive or negative to form our training set. We will also use a different feature extraction technique this time (rather than using tfidf counts).\n",
    "\n",
    "So we need to:\n",
    "\n",
    "1. Create our own sentiment labels for part of our dataset, based on clear rules;\n",
    "2. Apply feature extraction techniques;\n",
    "3. Train a classifier for those labels, which we'll base on feature extraction."
   ]
  },
  {
   "cell_type": "markdown",
   "metadata": {},
   "source": [
    "Let's start labeling ourselves. If you want to be able to classify with some accuracy, you should do **at least a few thousand (!) comments**. This'll take a couple of hours. But you'll have a labeled dataset you can use for all kinds of things!"
   ]
  },
  {
   "cell_type": "code",
   "execution_count": 228,
   "metadata": {},
   "outputs": [],
   "source": [
    "amitaC_labeled = amitaC.iloc[:1000]"
   ]
  },
  {
   "cell_type": "code",
   "execution_count": 229,
   "metadata": {
    "scrolled": true
   },
   "outputs": [
    {
     "data": {
      "text/html": [
       "<div>\n",
       "<style scoped>\n",
       "    .dataframe tbody tr th:only-of-type {\n",
       "        vertical-align: middle;\n",
       "    }\n",
       "\n",
       "    .dataframe tbody tr th {\n",
       "        vertical-align: top;\n",
       "    }\n",
       "\n",
       "    .dataframe thead th {\n",
       "        text-align: right;\n",
       "    }\n",
       "</style>\n",
       "<table border=\"1\" class=\"dataframe\">\n",
       "  <thead>\n",
       "    <tr style=\"text-align: right;\">\n",
       "      <th></th>\n",
       "      <th>idint</th>\n",
       "      <th>idstr</th>\n",
       "      <th>created</th>\n",
       "      <th>author</th>\n",
       "      <th>parent</th>\n",
       "      <th>submission</th>\n",
       "      <th>body</th>\n",
       "      <th>score</th>\n",
       "      <th>subreddit</th>\n",
       "      <th>distinguish</th>\n",
       "      <th>textlen</th>\n",
       "      <th>sent</th>\n",
       "      <th>sent_compound</th>\n",
       "    </tr>\n",
       "  </thead>\n",
       "  <tbody>\n",
       "    <tr>\n",
       "      <th>0</th>\n",
       "      <td>26753457285</td>\n",
       "      <td>t1_cagbfr9</td>\n",
       "      <td>1370917106</td>\n",
       "      <td>ail33</td>\n",
       "      <td>t3_1fy0bx</td>\n",
       "      <td>t3_1fy0bx</td>\n",
       "      <td>I agree with you, she is kind of bitchy</td>\n",
       "      <td>1</td>\n",
       "      <td>AmItheAsshole</td>\n",
       "      <td>NaN</td>\n",
       "      <td>39</td>\n",
       "      <td>neg</td>\n",
       "      <td>-0.2716</td>\n",
       "    </tr>\n",
       "    <tr>\n",
       "      <th>1</th>\n",
       "      <td>27068149210</td>\n",
       "      <td>t1_cfnodlm</td>\n",
       "      <td>1393275432</td>\n",
       "      <td>swallowedfilth</td>\n",
       "      <td>t3_1ytr72</td>\n",
       "      <td>t3_1ytr72</td>\n",
       "      <td>Seems like you have a genuine reason to be ups...</td>\n",
       "      <td>33</td>\n",
       "      <td>AmItheAsshole</td>\n",
       "      <td>NaN</td>\n",
       "      <td>210</td>\n",
       "      <td>pos</td>\n",
       "      <td>0.6597</td>\n",
       "    </tr>\n",
       "    <tr>\n",
       "      <th>3</th>\n",
       "      <td>27068172592</td>\n",
       "      <td>t1_cfnovn4</td>\n",
       "      <td>1393276406</td>\n",
       "      <td>flignir</td>\n",
       "      <td>t1_cfnodlm</td>\n",
       "      <td>t3_1ytr72</td>\n",
       "      <td>Or, more effectively, explain the above to the...</td>\n",
       "      <td>21</td>\n",
       "      <td>AmItheAsshole</td>\n",
       "      <td>NaN</td>\n",
       "      <td>547</td>\n",
       "      <td>neg</td>\n",
       "      <td>-0.5843</td>\n",
       "    </tr>\n",
       "    <tr>\n",
       "      <th>4</th>\n",
       "      <td>27068203179</td>\n",
       "      <td>t1_cfnpj8r</td>\n",
       "      <td>1393277671</td>\n",
       "      <td>Irishman_reddit</td>\n",
       "      <td>t1_cfnovn4</td>\n",
       "      <td>t3_1ytr72</td>\n",
       "      <td>Well put and yeah I think the I dont know answ...</td>\n",
       "      <td>10</td>\n",
       "      <td>AmItheAsshole</td>\n",
       "      <td>NaN</td>\n",
       "      <td>67</td>\n",
       "      <td>pos</td>\n",
       "      <td>0.5106</td>\n",
       "    </tr>\n",
       "    <tr>\n",
       "      <th>5</th>\n",
       "      <td>27068205339</td>\n",
       "      <td>t1_cfnpkwr</td>\n",
       "      <td>1393277761</td>\n",
       "      <td>Irishman_reddit</td>\n",
       "      <td>t1_cfnosll</td>\n",
       "      <td>t3_1ytr72</td>\n",
       "      <td>So Im an asshole for doing my job and keeping ...</td>\n",
       "      <td>7</td>\n",
       "      <td>AmItheAsshole</td>\n",
       "      <td>NaN</td>\n",
       "      <td>73</td>\n",
       "      <td>pos</td>\n",
       "      <td>0.4404</td>\n",
       "    </tr>\n",
       "  </tbody>\n",
       "</table>\n",
       "</div>"
      ],
      "text/plain": [
       "         idint       idstr     created           author      parent  \\\n",
       "0  26753457285  t1_cagbfr9  1370917106            ail33   t3_1fy0bx   \n",
       "1  27068149210  t1_cfnodlm  1393275432   swallowedfilth   t3_1ytr72   \n",
       "3  27068172592  t1_cfnovn4  1393276406          flignir  t1_cfnodlm   \n",
       "4  27068203179  t1_cfnpj8r  1393277671  Irishman_reddit  t1_cfnovn4   \n",
       "5  27068205339  t1_cfnpkwr  1393277761  Irishman_reddit  t1_cfnosll   \n",
       "\n",
       "  submission                                               body  score  \\\n",
       "0  t3_1fy0bx            I agree with you, she is kind of bitchy      1   \n",
       "1  t3_1ytr72  Seems like you have a genuine reason to be ups...     33   \n",
       "3  t3_1ytr72  Or, more effectively, explain the above to the...     21   \n",
       "4  t3_1ytr72  Well put and yeah I think the I dont know answ...     10   \n",
       "5  t3_1ytr72  So Im an asshole for doing my job and keeping ...      7   \n",
       "\n",
       "       subreddit distinguish  textlen sent  sent_compound  \n",
       "0  AmItheAsshole         NaN       39  neg        -0.2716  \n",
       "1  AmItheAsshole         NaN      210  pos         0.6597  \n",
       "3  AmItheAsshole         NaN      547  neg        -0.5843  \n",
       "4  AmItheAsshole         NaN       67  pos         0.5106  \n",
       "5  AmItheAsshole         NaN       73  pos         0.4404  "
      ]
     },
     "execution_count": 229,
     "metadata": {},
     "output_type": "execute_result"
    }
   ],
   "source": [
    "amitaC_labeled[:5]"
   ]
  },
  {
   "cell_type": "code",
   "execution_count": null,
   "metadata": {
    "scrolled": true
   },
   "outputs": [],
   "source": [
    "#Display the post/comment for each row, and ask to label it\n",
    "\n",
    "# Classifications:\n",
    "# p: overall positive evaluation of OP\n",
    "# n: overall negative evaluation of OP\n",
    "# x: cannot determine evaluation of OP, or comment is made by OP\n",
    "\n",
    "for index, row in amitaC_labeled.iterrows():\n",
    "    print(row.body)\n",
    "    amitaC_labeled.loc[index, 'sentiment'] = input()\n",
    "    clear_output()"
   ]
  },
  {
   "cell_type": "code",
   "execution_count": 236,
   "metadata": {},
   "outputs": [],
   "source": [
    "# save your labels to csv\n",
    "amitaC_labeled.to_csv('amitaC_Sentiment_Labeled.csv')"
   ]
  },
  {
   "cell_type": "markdown",
   "metadata": {},
   "source": [
    "(I've cheated here and randomly assigned some tags to the corpus in the cell below, just so you can see how this works)"
   ]
  },
  {
   "cell_type": "code",
   "execution_count": 234,
   "metadata": {},
   "outputs": [
    {
     "name": "stderr",
     "output_type": "stream",
     "text": [
      "/anaconda3/lib/python3.6/site-packages/pandas/core/generic.py:4405: SettingWithCopyWarning: \n",
      "A value is trying to be set on a copy of a slice from a DataFrame.\n",
      "Try using .loc[row_indexer,col_indexer] = value instead\n",
      "\n",
      "See the caveats in the documentation: http://pandas.pydata.org/pandas-docs/stable/indexing.html#indexing-view-versus-copy\n",
      "  self[name] = value\n"
     ]
    }
   ],
   "source": [
    "tags = ['p', 'n', 'x']\n",
    "amitaC_labeled.sentiment = np.random.choice(tags, 1000, p=[0.3, 0.6, 0.1])"
   ]
  },
  {
   "cell_type": "code",
   "execution_count": 235,
   "metadata": {},
   "outputs": [],
   "source": [
    "amitaC_labeled = amitaC_labeled.reset_index(drop=True)"
   ]
  },
  {
   "cell_type": "markdown",
   "metadata": {},
   "source": [
    "### Train, test, and cross-validation sets\n",
    "\n",
    "When building our sentiment analyzer, we need to create a test set again, in order to prevent overestimating its performance and overconstraining it. We will use the test set to evaluate the performance of our sentiment analyzer once it is complete.\n",
    "\n",
    "When designing our sentiment analyzer, we’ll have a number of choices to make along the way (which were made for us when using VADER). How many features should we use? Should we include the capitalization of words as a feature?  All of these **hyperparameters** will effect the performance of our sentiment analyzer. To maximize performance, it's best to evaluate our classifier under different hyperparameter settings. We could do this with the training set itself – but then we run into the same risk of overconstraining the analyzer that we discussed earlier. Using the test set would mean we'd be tuning our classifier to the test set – defeating the purpose of setting that data aside in the first place.\n",
    "\n",
    "So we'll set another portion of the original training set aside: the **cross-validation** set. We can use it to evaluate the performance of our sentiment analyzer as we tune our hyperparameters. This means the final evaluation of our analyzer’s performance will be a true representation of how it will perform on unlabeled comments from our full collection."
   ]
  },
  {
   "cell_type": "markdown",
   "metadata": {},
   "source": [
    "First, let's have a look at how much we've done"
   ]
  },
  {
   "cell_type": "code",
   "execution_count": 238,
   "metadata": {},
   "outputs": [
    {
     "name": "stdout",
     "output_type": "stream",
     "text": [
      "Number of comments labeled positive: 297\n",
      "Number of comments labeled negative: 604\n"
     ]
    }
   ],
   "source": [
    "pos_comments = [(amitaC_labeled.loc[row,'body'],'positive') for row in range(len(amitaC_labeled)) if \n",
    "              amitaC_labeled.loc[row,'sentiment'] == 'p']\n",
    "\n",
    "neg_comments = [(amitaC_labeled.loc[row,'body'],'negative') for row in range(len(amitaC_labeled)) if \n",
    "              amitaC_labeled.loc[row,'sentiment'] == 'n']\n",
    "\n",
    "print('Number of comments labeled positive: %d' % len(pos_comments))\n",
    "print('Number of comments labeled negative: %d' % len(neg_comments))"
   ]
  },
  {
   "cell_type": "code",
   "execution_count": 239,
   "metadata": {},
   "outputs": [
    {
     "data": {
      "text/plain": [
       "('I personally dont think so. They will thank you for it later when they get healthier. Trust me, i thank the person who helped me lose quite a bit of weight alot because he helped me make the right food choices. ',\n",
       " 'positive')"
      ]
     },
     "execution_count": 239,
     "metadata": {},
     "output_type": "execute_result"
    }
   ],
   "source": [
    "pos_comments[3]"
   ]
  },
  {
   "cell_type": "markdown",
   "metadata": {},
   "source": [
    "Note that you see a class imbalance here – we have way more negative than positive labels. This presents a new challenge for our sentiment analyzer. If the probability of seeing positive comments is small, Bayes Theorem is likely to predict that the probability of any comment being positive is small **regardless of the evidence**. So we need to up- or downsample again.\n",
    "\n",
    "The choice of upsampling, downsampling, or randomly sampling (producing the true positive to negative ratio) is a **hyperparameter** of our sentiment analyzer. To know which method will work best, we ought to try all of them and see which yields the best performance on your cross-validation set. \n",
    "\n",
    "For now, we will put half of the positive and negative comments into the **training set** while down sampling negative tweets at a one-to-one ratio. Half of the remaining comments will go into the **cross-validation set**, and the final quarter of comments into the **test set**."
   ]
  },
  {
   "cell_type": "code",
   "execution_count": 251,
   "metadata": {},
   "outputs": [],
   "source": [
    "# Half of the positive comments go in training\n",
    "# Downsampling the negative comments at 1 pos:1 neg\n",
    "\n",
    "len_train = int(round(len(pos_comments)/2)*2) # Define total len of train set based on len of pos_comments\n",
    "train_comments = pos_comments[:int(len_train/2)] + neg_comments[:int(len_train/2)]\n",
    "\n",
    "# Half of the remaining half go in cv\n",
    "cv_neg_cutoff = int((len_train/2) + round((len(neg_comments) - len_train/2)/2))\n",
    "cv_pos_cutoff = int((len_train/2) + round((len(pos_comments) - len_train/2)/2))\n",
    "cv_comments = neg_comments[int(len_train/2):cv_neg_cutoff] + pos_comments[int(len_train/2):cv_pos_cutoff]  \n",
    "\n",
    "# Rest go into testing\n",
    "test_comments = neg_comments[cv_neg_cutoff:] + pos_comments[cv_pos_cutoff:]  "
   ]
  },
  {
   "cell_type": "code",
   "execution_count": 252,
   "metadata": {},
   "outputs": [
    {
     "data": {
      "text/plain": [
       "('I guess thats true, kids can have a weird way of telling things like they are. That being said, you were just that - a kid. Immature and not knowing better, there was no malice behind what you said and, being a child, you werent socially intelligent enough to see how your words could inadvertently hurt someones feelings. The fact that you feel bad about something that happened so long ago shows that youve grown to be an empathetic person who considers their words affects on other people, and you have learned from your mistake(s).',\n",
       " 'positive')"
      ]
     },
     "execution_count": 252,
     "metadata": {},
     "output_type": "execute_result"
    }
   ],
   "source": [
    "## Test\n",
    "train_comments[7]"
   ]
  },
  {
   "cell_type": "markdown",
   "metadata": {},
   "source": [
    "(Note that you can do this kind of splitting through scikit-learn's `train_test_split()` and `KFold()` methods, making it much easier!)"
   ]
  },
  {
   "attachments": {
    "image.png": {
     "image/png": "[encoded data removed]"
    }
   },
   "cell_type": "markdown",
   "metadata": {},
   "source": [
    "## Feature extraction design\n",
    "\n",
    "Now it's time to define our sentiment analyzer’s features. We'll do so with boolean `contains(word)` statements. For instance, the feature `contains(disagree)` will likely be `True` for a negative comment, and `False` for a positive tweet. We’ll need to construct a list of useful words for this purpose.\n",
    "\n",
    "### Bigrams\n",
    "Note that this is harder than it might seem! If we were to train a model that believes the word “like” indicates a positive tweet, we would misclassify the second tweet. It’s clear that the classifier’s performance would increase if it could recognize that the word “not” is negating the word “like.” One way to address negation markers is to include **bigrams** in our list of features. Doing so allows our classifier to recognize the collocation of words such as “(not,like)” in addition to the typical unigram features we would extract.\n",
    "\n",
    "### Preventing overfit\n",
    "This word list shouldn’t include every word we come across in our collection of comments: using too many uncommon words will cause our sentiment analyzer to *overfit* the training sample. This usually happens when the model is too complex (that is, using too many features compared to the number of observations). Such a model will be very accurate on the training data  not accurate on untrained or new data. \n",
    "\n",
    "![image.png](attachment:image.png)\n",
    "\n",
    "We will avoid this issue by requiring that each word **appear a certain number of times** before we consider it as a feature. "
   ]
  },
  {
   "cell_type": "markdown",
   "metadata": {},
   "source": [
    "Let's write a function that applies these feature extraction techniques to our comments. First, we extract a list of unigrams and bigrams. We treat all html URLs as the same “word”, while excluding punctuation and capitalization."
   ]
  },
  {
   "cell_type": "code",
   "execution_count": 253,
   "metadata": {},
   "outputs": [],
   "source": [
    "from nltk.metrics import BigramAssocMeasures\n",
    "from nltk.collocations import BigramCollocationFinder\n",
    "import string\n",
    "import itertools\n",
    "from gensim.utils import simple_preprocess\n",
    "\n",
    "punct = set(string.punctuation)\n",
    "\n",
    "def filter_comments(comments):\n",
    "    filtered_bigrams = []\n",
    "    for words, sentiment in comments: \n",
    "        words_filtered = []\n",
    "        # Lemmatize using spacy\n",
    "        words = words.lower()\n",
    "        doc = simple_preprocess(str(words), deacc=True)     \n",
    "        words_filtered.extend([token for token in doc])\n",
    "        # Identify top 200 bigams using chi_sq measure of importance\n",
    "        bigram_finder = BigramCollocationFinder.from_words(words_filtered)\n",
    "        bigrams = bigram_finder.nbest(BigramAssocMeasures.chi_sq, 200)      \n",
    "        # Add to filtered list\n",
    "        filtered_bigrams.append(([ngram for ngram in itertools.chain(words_filtered,bigrams)],sentiment))\n",
    "    return filtered_bigrams"
   ]
  },
  {
   "cell_type": "markdown",
   "metadata": {},
   "source": [
    "The result of the filter is a **list of tuples** for each comment. The first entry in each tuple is a list of unigrams and bigrams for that comment, and the second entry in the tuple is the manually labeled sentiment of that comment."
   ]
  },
  {
   "cell_type": "code",
   "execution_count": 254,
   "metadata": {},
   "outputs": [],
   "source": [
    "train_tuples = filter_comments(train_comments)\n",
    "cv_tuples = filter_comments(cv_comments)\n",
    "test_tuples = filter_comments(test_comments)    "
   ]
  },
  {
   "cell_type": "code",
   "execution_count": 255,
   "metadata": {},
   "outputs": [
    {
     "data": {
      "text/plain": [
       "(['so',\n",
       "  'im',\n",
       "  'an',\n",
       "  'asshole',\n",
       "  'for',\n",
       "  'doing',\n",
       "  'my',\n",
       "  'job',\n",
       "  'and',\n",
       "  'keeping',\n",
       "  'up',\n",
       "  'good',\n",
       "  'public',\n",
       "  'appearance',\n",
       "  ('an', 'asshole'),\n",
       "  ('and', 'keeping'),\n",
       "  ('asshole', 'for'),\n",
       "  ('doing', 'my'),\n",
       "  ('for', 'doing'),\n",
       "  ('good', 'public'),\n",
       "  ('im', 'an'),\n",
       "  ('job', 'and'),\n",
       "  ('keeping', 'up'),\n",
       "  ('my', 'job'),\n",
       "  ('public', 'appearance'),\n",
       "  ('so', 'im'),\n",
       "  ('up', 'good')],\n",
       " 'positive')"
      ]
     },
     "execution_count": 255,
     "metadata": {},
     "output_type": "execute_result"
    }
   ],
   "source": [
    "train_tuples[0]"
   ]
  },
  {
   "cell_type": "markdown",
   "metadata": {},
   "source": [
    "Remember that we wanted to get rid of the features that do not appear frequently? We'll now remove all unigrams or bigrams that appear less than 3 times."
   ]
  },
  {
   "cell_type": "code",
   "execution_count": 259,
   "metadata": {},
   "outputs": [],
   "source": [
    "def get_word_features(comments,min_freq):\n",
    "    word_list = []\n",
    "    for word_or_tuple in comments:\n",
    "        word_list.extend(word_or_tuple[0])\n",
    "    # Count the frequency of each unigram and bigram\n",
    "    freqs = FreqDist(word_list)\n",
    "    # Sort based on frequency\n",
    "    sorted_word_list = sorted(freqs.items(), key=lambda x: x[1], reverse=True)\n",
    "    # Only include features appearing at least min_freq times\n",
    "    word_features = [sorted_word_list[word][0] for word in \n",
    "                     range(len(sorted_word_list)) if sorted_word_list[word][1] >= min_freq]    \n",
    "    # Return list of features\n",
    "    return word_features\n",
    "\n",
    "word_features = get_word_features(train_tuples, 3)"
   ]
  },
  {
   "cell_type": "markdown",
   "metadata": {},
   "source": [
    "Let's see how many features we have found!"
   ]
  },
  {
   "cell_type": "code",
   "execution_count": 260,
   "metadata": {},
   "outputs": [
    {
     "data": {
      "text/plain": [
       "1489"
      ]
     },
     "execution_count": 260,
     "metadata": {},
     "output_type": "execute_result"
    }
   ],
   "source": [
    "len(word_features)"
   ]
  },
  {
   "cell_type": "markdown",
   "metadata": {},
   "source": [
    "Now that we have a final list of word features, we can finally evaluate the boolean `contains(word_feature)` statements for each tweet. To do so, we first define an `extract_features()` function that takes a filtered comment as an input, then determines if each word feature exists in the filtered comment’s list of unigrams and bigrams."
   ]
  },
  {
   "cell_type": "code",
   "execution_count": 261,
   "metadata": {},
   "outputs": [],
   "source": [
    "def extract_features(filtered_comment):\n",
    "    filtered_comment_words = set(filtered_comment)\n",
    "    features = {}\n",
    "    for word in word_features:        \n",
    "        # Check if word feature is present in filtered_comment\n",
    "        features['contains(%s)' % str(word)] = (word in filtered_comment_words)\n",
    "    return features"
   ]
  },
  {
   "cell_type": "markdown",
   "metadata": {},
   "source": [
    "The NLTK classify package provides a convenient `.apply_features()` method to apply our `extract_features()` function to each comment in our datasets:"
   ]
  },
  {
   "cell_type": "code",
   "execution_count": 264,
   "metadata": {},
   "outputs": [],
   "source": [
    "training_set = apply_features(extract_features, train_tuples)\n",
    "cv_set = apply_features(extract_features, cv_tuples)\n",
    "test_set = apply_features(extract_features, test_tuples)"
   ]
  },
  {
   "cell_type": "markdown",
   "metadata": {},
   "source": [
    "The final result is a NLTK `LazyMap` object that contains a tuple for each comment. The first entry in the tuple is a list of boolean `contains(word)` features for each of the feature words we selected, while the second entry in the tuple is the manually labeled sentiment of the comment."
   ]
  },
  {
   "cell_type": "code",
   "execution_count": 265,
   "metadata": {},
   "outputs": [
    {
     "data": {
      "text/plain": [
       "{'contains(to)': False,\n",
       " 'contains(you)': False,\n",
       " 'contains(the)': False,\n",
       " 'contains(and)': True,\n",
       " 'contains(that)': False,\n",
       " 'contains(it)': False,\n",
       " 'contains(of)': False,\n",
       " 'contains(is)': False,\n",
       " 'contains(your)': False,\n",
       " 'contains(in)': False,\n",
       " 'contains(for)': True,\n",
       " 'contains(but)': False,\n",
       " 'contains(have)': False,\n",
       " 'contains(not)': False,\n",
       " 'contains(asshole)': True,\n",
       " 'contains(be)': False,\n",
       " 'contains(if)': False,\n",
       " 'contains(an)': True,\n",
       " 'contains(with)': False,\n",
       " 'contains(my)': True,\n",
       " 'contains(was)': False,\n",
       " 'contains(he)': False,\n",
       " 'contains(are)': False,\n",
       " 'contains(her)': False,\n",
       " 'contains(just)': False,\n",
       " 'contains(like)': False,\n",
       " 'contains(this)': False,\n",
       " 'contains(about)': False,\n",
       " 'contains(she)': False,\n",
       " 'contains(on)': False,\n",
       " 'contains(as)': False,\n",
       " 'contains(dont)': False,\n",
       " 'contains(they)': False,\n",
       " 'contains(youre)': False,\n",
       " 'contains(its)': False,\n",
       " 'contains(out)': False,\n",
       " 'contains(them)': False,\n",
       " 'contains(me)': False,\n",
       " 'contains(so)': True,\n",
       " 'contains(what)': False,\n",
       " 'contains(or)': False,\n",
       " 'contains(at)': False,\n",
       " 'contains(think)': False,\n",
       " 'contains(up)': True,\n",
       " 'contains(would)': False,\n",
       " 'contains(im)': True,\n",
       " 'contains(because)': False,\n",
       " 'contains(know)': False,\n",
       " 'contains(all)': False,\n",
       " 'contains(being)': False,\n",
       " \"contains(('an', 'asshole'))\": True,\n",
       " 'contains(do)': False,\n",
       " 'contains(their)': False,\n",
       " 'contains(when)': False,\n",
       " 'contains(can)': False,\n",
       " \"contains(('the', 'asshole'))\": False,\n",
       " 'contains(really)': False,\n",
       " 'contains(were)': False,\n",
       " 'contains(no)': False,\n",
       " 'contains(make)': False,\n",
       " 'contains(even)': False,\n",
       " 'contains(there)': False,\n",
       " 'contains(him)': False,\n",
       " 'contains(one)': False,\n",
       " 'contains(from)': False,\n",
       " 'contains(how)': False,\n",
       " 'contains(mom)': False,\n",
       " 'contains(more)': False,\n",
       " 'contains(say)': False,\n",
       " 'contains(should)': False,\n",
       " 'contains(time)': False,\n",
       " 'contains(then)': False,\n",
       " 'contains(get)': False,\n",
       " 'contains(some)': False,\n",
       " 'contains(people)': False,\n",
       " \"contains(('to', 'be'))\": False,\n",
       " 'contains(didnt)': False,\n",
       " 'contains(his)': False,\n",
       " 'contains(want)': False,\n",
       " 'contains(who)': False,\n",
       " \"contains(('you', 'are'))\": False,\n",
       " 'contains(wife)': False,\n",
       " 'contains(by)': False,\n",
       " 'contains(something)': False,\n",
       " 'contains(been)': False,\n",
       " 'contains(good)': True,\n",
       " \"contains(('if', 'you'))\": False,\n",
       " 'contains(could)': False,\n",
       " 'contains(said)': False,\n",
       " 'contains(also)': False,\n",
       " 'contains(too)': False,\n",
       " 'contains(feel)': False,\n",
       " 'contains(someone)': False,\n",
       " 'contains(right)': False,\n",
       " 'contains(going)': False,\n",
       " 'contains(opera)': False,\n",
       " 'contains(still)': False,\n",
       " 'contains(friends)': False,\n",
       " 'contains(trying)': False,\n",
       " 'contains(than)': False,\n",
       " 'contains(parents)': False,\n",
       " 'contains(try)': False,\n",
       " 'contains(things)': False,\n",
       " 'contains(way)': False,\n",
       " 'contains(much)': False,\n",
       " 'contains(yeah)': False,\n",
       " 'contains(go)': False,\n",
       " 'contains(has)': False,\n",
       " 'contains(thats)': False,\n",
       " 'contains(see)': False,\n",
       " 'contains(other)': False,\n",
       " 'contains(doesnt)': False,\n",
       " 'contains(did)': False,\n",
       " 'contains(job)': True,\n",
       " 'contains(only)': False,\n",
       " \"contains(('in', 'the'))\": False,\n",
       " 'contains(will)': False,\n",
       " 'contains(wedding)': False,\n",
       " 'contains(own)': False,\n",
       " 'contains(tell)': False,\n",
       " 'contains(very)': False,\n",
       " 'contains(probably)': False,\n",
       " 'contains(why)': False,\n",
       " 'contains(maybe)': False,\n",
       " 'contains(had)': False,\n",
       " \"contains(('want', 'to'))\": False,\n",
       " 'contains(little)': False,\n",
       " 'contains(here)': False,\n",
       " 'contains(wasnt)': False,\n",
       " 'contains(cant)': False,\n",
       " 'contains(kind)': False,\n",
       " 'contains(though)': False,\n",
       " 'contains(person)': False,\n",
       " \"contains(('you', 'were'))\": False,\n",
       " 'contains(both)': False,\n",
       " 'contains(thing)': False,\n",
       " 'contains(might)': False,\n",
       " 'contains(wrong)': False,\n",
       " 'contains(reason)': False,\n",
       " 'contains(need)': False,\n",
       " 'contains(any)': False,\n",
       " \"contains(('trying', 'to'))\": False,\n",
       " 'contains(family)': False,\n",
       " 'contains(hes)': False,\n",
       " 'contains(now)': False,\n",
       " \"contains(('out', 'of'))\": False,\n",
       " 'contains(never)': False,\n",
       " 'contains(made)': False,\n",
       " 'contains(guy)': False,\n",
       " 'contains(after)': False,\n",
       " 'contains(making)': False,\n",
       " 'contains(most)': False,\n",
       " 'contains(situation)': False,\n",
       " 'contains(point)': False,\n",
       " \"contains(('you', 'have'))\": False,\n",
       " 'contains(life)': False,\n",
       " 'contains(which)': False,\n",
       " 'contains(friend)': False,\n",
       " 'contains(lot)': False,\n",
       " 'contains(anything)': False,\n",
       " 'contains(door)': False,\n",
       " 'contains(id)': False,\n",
       " \"contains(('have', 'to'))\": False,\n",
       " \"contains(('have', 'been'))\": False,\n",
       " 'contains(isnt)': False,\n",
       " 'contains(op)': False,\n",
       " 'contains(without)': False,\n",
       " 'contains(ive)': False,\n",
       " 'contains(seems)': False,\n",
       " 'contains(got)': False,\n",
       " 'contains(yourself)': False,\n",
       " 'contains(told)': False,\n",
       " 'contains(getting)': False,\n",
       " 'contains(enough)': False,\n",
       " 'contains(take)': False,\n",
       " 'contains(well)': False,\n",
       " 'contains(into)': False,\n",
       " \"contains(('to', 'do'))\": False,\n",
       " 'contains(best)': False,\n",
       " 'contains(off)': False,\n",
       " 'contains(away)': False,\n",
       " 'contains(better)': False,\n",
       " \"contains(('going', 'to'))\": False,\n",
       " 'contains(home)': False,\n",
       " 'contains(may)': False,\n",
       " 'contains(understand)': False,\n",
       " \"contains(('he', 'was'))\": False,\n",
       " 'contains(yes)': False,\n",
       " \"contains(('kind', 'of'))\": False,\n",
       " 'contains(help)': False,\n",
       " 'contains(ask)': False,\n",
       " 'contains(bit)': False,\n",
       " 'contains(through)': False,\n",
       " \"contains(('to', 'get'))\": False,\n",
       " 'contains(makes)': False,\n",
       " 'contains(high)': False,\n",
       " 'contains(let)': False,\n",
       " 'contains(actually)': False,\n",
       " 'contains(wanted)': False,\n",
       " 'contains(sounds)': False,\n",
       " 'contains(over)': False,\n",
       " 'contains(hard)': False,\n",
       " \"contains(('would', 'be'))\": False,\n",
       " 'contains(bad)': False,\n",
       " 'contains(long)': False,\n",
       " \"contains(('it', 'is'))\": False,\n",
       " \"contains(('you', 'can'))\": False,\n",
       " \"contains(('you', 'should'))\": False,\n",
       " 'contains(come)': False,\n",
       " 'contains(shes)': False,\n",
       " 'contains(agree)': False,\n",
       " 'contains(back)': False,\n",
       " \"contains(('but', 'you'))\": False,\n",
       " 'contains(shit)': False,\n",
       " 'contains(look)': False,\n",
       " \"contains(('about', 'it'))\": False,\n",
       " 'contains(chemo)': False,\n",
       " \"contains(('in', 'this'))\": False,\n",
       " 'contains(we)': False,\n",
       " \"contains(('dont', 'know'))\": False,\n",
       " 'contains(doing)': True,\n",
       " \"contains(('is', 'the'))\": False,\n",
       " 'contains(work)': False,\n",
       " 'contains(weight)': False,\n",
       " 'contains(talk)': False,\n",
       " \"contains(('your', 'parents'))\": False,\n",
       " \"contains(('with', 'your'))\": False,\n",
       " 'contains(food)': False,\n",
       " 'contains(youve)': False,\n",
       " \"contains(('and', 'you'))\": False,\n",
       " \"contains(('you', 'dont'))\": False,\n",
       " \"contains(('not', 'an'))\": False,\n",
       " 'contains(musical)': False,\n",
       " \"contains(('on', 'the'))\": False,\n",
       " 'contains(mind)': False,\n",
       " 'contains(every)': False,\n",
       " 'contains(school)': False,\n",
       " 'contains(wouldnt)': False,\n",
       " 'contains(move)': False,\n",
       " \"contains(('should', 'have'))\": False,\n",
       " \"contains(('youre', 'not'))\": False,\n",
       " \"contains(('it', 'was'))\": False,\n",
       " 'contains(either)': False,\n",
       " \"contains(('on', 'your'))\": False,\n",
       " \"contains(('to', 'make'))\": False,\n",
       " \"contains(('try', 'to'))\": False,\n",
       " \"contains(('that', 'you'))\": False,\n",
       " 'contains(keep)': False,\n",
       " 'contains(mean)': False,\n",
       " 'contains(pretty)': False,\n",
       " \"contains(('even', 'if'))\": False,\n",
       " \"contains(('to', 'say'))\": False,\n",
       " 'contains(question)': False,\n",
       " 'contains(am)': False,\n",
       " \"contains(('of', 'the'))\": False,\n",
       " \"contains(('then', 'you'))\": False,\n",
       " 'contains(believe)': False,\n",
       " 'contains(looking)': False,\n",
       " 'contains(always)': False,\n",
       " 'contains(night)': False,\n",
       " 'contains(around)': False,\n",
       " \"contains(('your', 'wife'))\": False,\n",
       " 'contains(story)': False,\n",
       " 'contains(problem)': False,\n",
       " \"contains(('but', 'he'))\": False,\n",
       " 'contains(cancer)': False,\n",
       " 'contains(sorry)': False,\n",
       " 'contains(give)': False,\n",
       " \"contains(('asshole', 'for'))\": True,\n",
       " 'contains(post)': False,\n",
       " \"contains(('for', 'the'))\": False,\n",
       " 'contains(those)': False,\n",
       " \"contains(('youre', 'the'))\": False,\n",
       " \"contains(('with', 'you'))\": False,\n",
       " \"contains(('you', 'to'))\": False,\n",
       " \"contains(('dont', 'think'))\": False,\n",
       " 'contains(went)': False,\n",
       " 'contains(fact)': False,\n",
       " 'contains(year)': False,\n",
       " \"contains(('dont', 'have'))\": False,\n",
       " \"contains(('to', 'her'))\": False,\n",
       " \"contains(('think', 'you'))\": False,\n",
       " 'contains(two)': False,\n",
       " 'contains(seem)': False,\n",
       " 'contains(eat)': False,\n",
       " \"contains(('need', 'to'))\": False,\n",
       " \"contains(('feel', 'like'))\": False,\n",
       " 'contains(saying)': False,\n",
       " 'contains(nice)': False,\n",
       " 'contains(years)': False,\n",
       " 'contains(while)': False,\n",
       " \"contains(('sounds', 'like'))\": False,\n",
       " 'contains(mother)': False,\n",
       " 'contains(case)': False,\n",
       " \"contains(('not', 'the'))\": False,\n",
       " \"contains(('to', 'your'))\": False,\n",
       " 'contains(first)': False,\n",
       " 'contains(where)': False,\n",
       " 'contains(else)': False,\n",
       " 'contains(answer)': False,\n",
       " \"contains(('asshole', 'but'))\": False,\n",
       " 'contains(live)': False,\n",
       " 'contains(change)': False,\n",
       " \"contains(('if', 'they'))\": False,\n",
       " \"contains(('im', 'not'))\": False,\n",
       " \"contains(('its', 'not'))\": False,\n",
       " \"contains(('they', 'are'))\": False,\n",
       " \"contains(('what', 'you'))\": False,\n",
       " \"contains(('she', 'was'))\": False,\n",
       " \"contains(('are', 'not'))\": False,\n",
       " \"contains(('at', 'all'))\": False,\n",
       " \"contains(('and', 'the'))\": False,\n",
       " 'contains(shouldnt)': False,\n",
       " 'contains(thought)': False,\n",
       " 'contains(important)': False,\n",
       " \"contains(('know', 'what'))\": False,\n",
       " \"contains(('with', 'her'))\": False,\n",
       " \"contains(('all', 'the'))\": False,\n",
       " 'contains(wont)': False,\n",
       " 'contains(gaming)': False,\n",
       " 'contains(arent)': False,\n",
       " \"contains(('you', 'could'))\": False,\n",
       " 'contains(care)': False,\n",
       " \"contains(('would', 'have'))\": False,\n",
       " \"contains(('the', 'other'))\": False,\n",
       " 'contains(sleep)': False,\n",
       " 'contains(before)': False,\n",
       " 'contains(talking)': False,\n",
       " 'contains(however)': False,\n",
       " 'contains(once)': False,\n",
       " 'contains(day)': False,\n",
       " \"contains(('your', 'mom'))\": False,\n",
       " \"contains(('that', 'she'))\": False,\n",
       " \"contains(('if', 'he'))\": False,\n",
       " 'contains(theyre)': False,\n",
       " 'contains(assholes)': False,\n",
       " 'contains(adult)': False,\n",
       " 'contains(far)': False,\n",
       " 'contains(definitely)': False,\n",
       " 'contains(kid)': False,\n",
       " 'contains(stuff)': False,\n",
       " \"contains(('do', 'it'))\": False,\n",
       " \"contains(('this', 'is'))\": False,\n",
       " 'contains(thank)': False,\n",
       " 'contains(werent)': False,\n",
       " 'contains(old)': False,\n",
       " \"contains(('there', 'are'))\": False,\n",
       " 'contains(least)': False,\n",
       " 'contains(girl)': False,\n",
       " 'contains(big)': False,\n",
       " 'contains(same)': False,\n",
       " 'contains(anyone)': False,\n",
       " 'contains(asked)': False,\n",
       " 'contains(everything)': False,\n",
       " \"contains(('in', 'my'))\": False,\n",
       " 'contains(others)': False,\n",
       " \"contains(('as', 'you'))\": False,\n",
       " 'contains(real)': False,\n",
       " 'contains(times)': False,\n",
       " \"contains(('if', 'she'))\": False,\n",
       " 'contains(experience)': False,\n",
       " \"contains(('to', 'go'))\": False,\n",
       " 'contains(again)': False,\n",
       " 'contains(down)': False,\n",
       " 'contains(rather)': False,\n",
       " \"contains(('that', 'it'))\": False,\n",
       " \"contains(('the', 'time'))\": False,\n",
       " 'contains(instead)': False,\n",
       " 'contains(until)': False,\n",
       " \"contains(('seems', 'like'))\": False,\n",
       " \"contains(('could', 'have'))\": False,\n",
       " 'contains(comes)': False,\n",
       " \"contains(('at', 'the'))\": False,\n",
       " 'contains(honest)': False,\n",
       " 'contains(rude)': False,\n",
       " 'contains(few)': False,\n",
       " 'contains(everyone)': False,\n",
       " 'contains(having)': False,\n",
       " 'contains(start)': False,\n",
       " 'contains(sub)': False,\n",
       " \"contains(('but', 'its'))\": False,\n",
       " \"contains(('to', 'me'))\": False,\n",
       " 'contains(kids)': False,\n",
       " 'contains(child)': False,\n",
       " \"contains(('fact', 'that'))\": False,\n",
       " \"contains(('you', 'feel'))\": False,\n",
       " \"contains(('my', 'mom'))\": False,\n",
       " 'contains(oh)': False,\n",
       " 'contains(music)': False,\n",
       " 'contains(theres)': False,\n",
       " 'contains(word)': False,\n",
       " 'contains(appeal)': False,\n",
       " 'contains(authority)': False,\n",
       " \"contains(('asshole', 'here'))\": False,\n",
       " \"contains(('it', 'and'))\": False,\n",
       " \"contains(('of', 'your'))\": False,\n",
       " \"contains(('because', 'you'))\": False,\n",
       " \"contains(('your', 'friend'))\": False,\n",
       " \"contains(('of', 'you'))\": False,\n",
       " \"contains(('you', 'didnt'))\": False,\n",
       " \"contains(('agree', 'with'))\": False,\n",
       " \"contains(('there', 'is'))\": False,\n",
       " \"contains(('like', 'that'))\": False,\n",
       " 'contains(put)': False,\n",
       " \"contains(('high', 'school'))\": False,\n",
       " \"contains(('friends', 'with'))\": False,\n",
       " \"contains(('you', 'know'))\": False,\n",
       " \"contains(('with', 'the'))\": False,\n",
       " \"contains(('it', 'just'))\": False,\n",
       " 'contains(totally)': False,\n",
       " \"contains(('wanted', 'to'))\": False,\n",
       " 'contains(nothing)': False,\n",
       " 'contains(find)': False,\n",
       " 'contains(sure)': False,\n",
       " 'contains(money)': False,\n",
       " \"contains(('you', 'cant'))\": False,\n",
       " \"contains(('and', 'have'))\": False,\n",
       " 'contains(house)': False,\n",
       " 'contains(already)': False,\n",
       " 'contains(tried)': False,\n",
       " 'contains(internet)': False,\n",
       " 'contains(call)': False,\n",
       " 'contains(fucking)': False,\n",
       " 'contains(peanuts)': False,\n",
       " \"contains(('when', 'you'))\": False,\n",
       " 'contains(asking)': False,\n",
       " 'contains(difficult)': False,\n",
       " 'contains(deal)': False,\n",
       " 'contains(new)': False,\n",
       " 'contains(less)': False,\n",
       " 'contains(comment)': False,\n",
       " 'contains(petty)': False,\n",
       " 'contains(completely)': False,\n",
       " 'contains(reasonable)': False,\n",
       " 'contains(looked)': False,\n",
       " 'contains(felt)': False,\n",
       " 'contains(throwing)': False,\n",
       " 'contains(knows)': False,\n",
       " \"contains(('for', 'this'))\": False,\n",
       " \"contains(('that', 'is'))\": False,\n",
       " \"contains(('you', 'want'))\": False,\n",
       " \"contains(('to', 'change'))\": False,\n",
       " 'contains(quite)': False,\n",
       " \"contains(('when', 'they'))\": False,\n",
       " \"contains(('you', 'an'))\": False,\n",
       " 'contains(our)': False,\n",
       " 'contains(feelings)': False,\n",
       " \"contains(('be', 'an'))\": False,\n",
       " \"contains(('the', 'fact'))\": False,\n",
       " \"contains(('enough', 'to'))\": False,\n",
       " \"contains(('she', 'is'))\": False,\n",
       " 'contains(healthy)': False,\n",
       " 'contains(such)': False,\n",
       " \"contains(('to', 'keep'))\": False,\n",
       " \"contains(('an', 'opera'))\": False,\n",
       " 'contains(apologize)': False,\n",
       " \"contains(('what', 'she'))\": False,\n",
       " \"contains(('that', 'youre'))\": False,\n",
       " \"contains(('about', 'the'))\": False,\n",
       " \"contains(('but', 'the'))\": False,\n",
       " \"contains(('this', 'situation'))\": False,\n",
       " 'contains(use)': False,\n",
       " \"contains(('lot', 'of'))\": False,\n",
       " \"contains(('to', 'take'))\": False,\n",
       " \"contains(('the', 'only'))\": False,\n",
       " \"contains(('and', 'if'))\": False,\n",
       " \"contains(('being', 'an'))\": False,\n",
       " \"contains(('but', 'if'))\": False,\n",
       " 'contains(spend)': False,\n",
       " 'contains(ass)': False,\n",
       " 'contains(ever)': False,\n",
       " 'contains(used)': False,\n",
       " 'contains(sit)': False,\n",
       " \"contains(('of', 'an'))\": False,\n",
       " \"contains(('to', 'the'))\": False,\n",
       " \"contains(('door', 'to'))\": False,\n",
       " 'contains(fuck)': False,\n",
       " \"contains(('you', 'need'))\": False,\n",
       " \"contains(('not', 'to'))\": False,\n",
       " 'contains(explain)': False,\n",
       " 'contains(gets)': False,\n",
       " \"contains(('it', 'wasnt'))\": False,\n",
       " 'contains(given)': False,\n",
       " \"contains(('her', 'to'))\": False,\n",
       " 'contains(myself)': False,\n",
       " 'contains(relationship)': False,\n",
       " 'contains(become)': False,\n",
       " 'contains(conflict)': False,\n",
       " 'contains(advice)': False,\n",
       " 'contains(passive)': False,\n",
       " 'contains(aggressive)': False,\n",
       " 'contains(pay)': False,\n",
       " \"contains(('move', 'out'))\": False,\n",
       " 'contains(opinion)': False,\n",
       " 'contains(decision)': False,\n",
       " 'contains(especially)': False,\n",
       " 'contains(wifes)': False,\n",
       " 'contains(line)': False,\n",
       " 'contains(fault)': False,\n",
       " \"contains(('the', 'way'))\": False,\n",
       " 'contains(stop)': False,\n",
       " \"contains(('asshole', 'in'))\": False,\n",
       " \"contains(('its', 'just'))\": False,\n",
       " 'contains(days)': False,\n",
       " 'contains(does)': False,\n",
       " 'contains(ill)': False,\n",
       " \"contains(('that', 'he'))\": False,\n",
       " \"contains(('and', 'then'))\": False,\n",
       " \"contains(('but', 'think'))\": False,\n",
       " \"contains(('but', 'it'))\": False,\n",
       " 'contains(health)': False,\n",
       " 'contains(support)': False,\n",
       " 'contains(eating)': False,\n",
       " 'contains(btw)': False,\n",
       " 'contains(side)': False,\n",
       " \"contains(('this', 'sub'))\": False,\n",
       " \"contains(('is', 'really'))\": False,\n",
       " \"contains(('for', 'you'))\": False,\n",
       " \"contains(('to', 'live'))\": False,\n",
       " \"contains(('to', 'you'))\": False,\n",
       " 'contains(personally)': False,\n",
       " 'contains(lose)': False,\n",
       " \"contains(('for', 'it'))\": False,\n",
       " \"contains(('thank', 'you'))\": False,\n",
       " \"contains(('the', 'person'))\": False,\n",
       " 'contains(likely)': False,\n",
       " \"contains(('could', 'be'))\": False,\n",
       " \"contains(('you', 'do'))\": False,\n",
       " 'contains(weird)': False,\n",
       " 'contains(words)': False,\n",
       " 'contains(hurt)': False,\n",
       " \"contains(('you', 'said'))\": False,\n",
       " 'contains(often)': False,\n",
       " 'contains(option)': False,\n",
       " \"contains(('in', 'your'))\": False,\n",
       " 'contains(seriously)': False,\n",
       " \"contains(('or', 'not'))\": False,\n",
       " \"contains(('to', 'tell'))\": False,\n",
       " \"contains(('you', 'make'))\": False,\n",
       " 'contains(thinks)': False,\n",
       " 'contains(next)': False,\n",
       " 'contains(these)': False,\n",
       " 'contains(matter)': False,\n",
       " 'contains(upset)': False,\n",
       " \"contains(('may', 'be'))\": False,\n",
       " 'contains(thanks)': False,\n",
       " 'contains(miss)': False,\n",
       " \"contains(('didnt', 'want'))\": False,\n",
       " \"contains(('is', 'that'))\": False,\n",
       " 'contains(everybody)': False,\n",
       " \"contains(('can', 'be'))\": False,\n",
       " 'contains(guys)': False,\n",
       " \"contains(('at', 'least'))\": False,\n",
       " 'contains(using)': False,\n",
       " \"contains(('rather', 'than'))\": False,\n",
       " \"contains(('try', 'and'))\": False,\n",
       " 'contains(living)': False,\n",
       " \"contains(('the', 'same'))\": False,\n",
       " \"contains(('thing', 'to'))\": False,\n",
       " 'contains(sense)': False,\n",
       " 'contains(usually)': False,\n",
       " 'contains(games)': False,\n",
       " 'contains(us)': False,\n",
       " 'contains(kept)': False,\n",
       " \"contains(('it', 'but'))\": False,\n",
       " 'contains(honestly)': False,\n",
       " \"contains(('way', 'to'))\": False,\n",
       " 'contains(share)': False,\n",
       " 'contains(hours)': False,\n",
       " 'contains(whos)': False,\n",
       " 'contains(issue)': False,\n",
       " 'contains(avoid)': False,\n",
       " 'contains(dad)': False,\n",
       " 'contains(moms)': False,\n",
       " 'contains(love)': False,\n",
       " 'contains(sister)': False,\n",
       " \"contains(('to', 'door'))\": False,\n",
       " 'contains(polite)': False,\n",
       " 'contains(done)': False,\n",
       " \"contains(('it', 'out'))\": False,\n",
       " \"contains(('instead', 'of'))\": False,\n",
       " \"contains(('someone', 'who'))\": False,\n",
       " \"contains(('makes', 'you'))\": False,\n",
       " 'contains(acting)': False,\n",
       " \"contains(('they', 'were'))\": False,\n",
       " 'contains(whole)': False,\n",
       " \"contains(('to', 'move'))\": False,\n",
       " \"contains(('he', 'is'))\": False,\n",
       " 'contains(ok)': False,\n",
       " \"contains(('it', 'up'))\": False,\n",
       " \"contains(('to', 'come'))\": False,\n",
       " 'contains(friendship)': False,\n",
       " 'contains(meant)': False,\n",
       " 'contains(handled)': False,\n",
       " 'contains(unless)': False,\n",
       " 'contains(law)': False,\n",
       " 'contains(wanting)': False,\n",
       " 'contains(able)': False,\n",
       " 'contains(show)': False,\n",
       " \"contains(('will', 'be'))\": False,\n",
       " \"contains(('if', 'its'))\": False,\n",
       " \"contains(('them', 'to'))\": False,\n",
       " 'contains(missing)': False,\n",
       " 'contains(conversation)': False,\n",
       " 'contains(adults)': False,\n",
       " 'contains(leave)': False,\n",
       " 'contains(place)': False,\n",
       " 'contains(original)': False,\n",
       " \"contains(('more', 'than'))\": False,\n",
       " \"contains(('because', 'he'))\": False,\n",
       " 'contains(donuts)': False,\n",
       " 'contains(choice)': False,\n",
       " \"contains(('even', 'though'))\": False,\n",
       " \"contains(('but', 'dont'))\": False,\n",
       " \"contains(('that', 'would'))\": False,\n",
       " \"contains(('tell', 'them'))\": False,\n",
       " \"contains(('asshole', 'if'))\": False,\n",
       " \"contains(('the', 'right'))\": False,\n",
       " \"contains(('to', 'help'))\": False,\n",
       " \"contains(('to', 'work'))\": False,\n",
       " \"contains(('to', 'them'))\": False,\n",
       " \"contains(('and', 'your'))\": False,\n",
       " 'contains(later)': False,\n",
       " \"contains(('bit', 'of'))\": False,\n",
       " \"contains(('you', 'for'))\": False,\n",
       " \"contains(('make', 'you'))\": False,\n",
       " 'contains(gonna)': False,\n",
       " 'contains(guess)': False,\n",
       " 'contains(behind)': False,\n",
       " 'contains(shows)': False,\n",
       " 'contains(mistake)': False,\n",
       " \"contains(('other', 'people'))\": False,\n",
       " \"contains(('were', 'just'))\": False,\n",
       " \"contains(('and', 'not'))\": False,\n",
       " \"contains(('you', 'werent'))\": False,\n",
       " \"contains(('year', 'old'))\": False,\n",
       " 'contains(fair)': False,\n",
       " 'contains(speak)': False,\n",
       " \"contains(('make', 'it'))\": False,\n",
       " 'contains(consider)': False,\n",
       " 'contains(hope)': False,\n",
       " 'contains(last)': False,\n",
       " \"contains(('as', 'well'))\": False,\n",
       " \"contains(('of', 'that'))\": False,\n",
       " \"contains(('both', 'of'))\": False,\n",
       " \"contains(('to', 'know'))\": False,\n",
       " 'contains(concept)': False,\n",
       " 'contains(perhaps)': False,\n",
       " 'contains(likes)': False,\n",
       " 'contains(les)': False,\n",
       " 'contains(mis)': False,\n",
       " 'contains(during)': False,\n",
       " 'contains(musicals)': False,\n",
       " 'contains(set)': False,\n",
       " \"contains(('at', 'home'))\": False,\n",
       " \"contains(('too', 'much'))\": False,\n",
       " \"contains(('he', 'doesnt'))\": False,\n",
       " \"contains(('in', 'mind'))\": False,\n",
       " 'contains(kinda)': False,\n",
       " 'contains(easy)': False,\n",
       " \"contains(('of', 'this'))\": False,\n",
       " \"contains(('which', 'is'))\": False,\n",
       " \"contains(('let', 'it'))\": False,\n",
       " 'contains(wants)': False,\n",
       " \"contains(('so', 'much'))\": False,\n",
       " \"contains(('out', 'with'))\": False,\n",
       " 'contains(room)': False,\n",
       " 'contains(part)': False,\n",
       " \"contains(('should', 'be'))\": False,\n",
       " \"contains(('hard', 'to'))\": False,\n",
       " 'contains(reasons)': False,\n",
       " \"contains(('think', 'the'))\": False,\n",
       " 'contains(needs)': False,\n",
       " 'contains(step)': False,\n",
       " \"contains(('you', 'did'))\": False,\n",
       " 'contains(hear)': False,\n",
       " \"contains(('your', 'friends'))\": False,\n",
       " \"contains(('you', 'both'))\": False,\n",
       " \"contains(('used', 'to'))\": False,\n",
       " 'contains(different)': False,\n",
       " 'contains(tickets)': False,\n",
       " 'contains(stand)': False,\n",
       " 'contains(another)': False,\n",
       " \"contains(('to', 'have'))\": False,\n",
       " 'contains(pissed)': False,\n",
       " 'contains(talked)': False,\n",
       " \"contains(('talking', 'about'))\": False,\n",
       " 'contains(jerk)': False,\n",
       " \"contains(('the', 'guy'))\": False,\n",
       " \"contains(('asshole', 'you'))\": False,\n",
       " 'contains(treatment)': False,\n",
       " 'contains(whatever)': False,\n",
       " \"contains(('are', 'you'))\": False,\n",
       " \"contains(('be', 'with'))\": False,\n",
       " \"contains(('no', 'one'))\": False,\n",
       " 'contains(shed)': False,\n",
       " \"contains(('parents', 'are'))\": False,\n",
       " \"contains(('with', 'my'))\": False,\n",
       " 'contains(late)': False,\n",
       " \"contains(('all', 'that'))\": False,\n",
       " \"contains(('might', 'have'))\": False,\n",
       " \"contains(('the', 'house'))\": False,\n",
       " 'contains(giving)': False,\n",
       " 'contains(chance)': False,\n",
       " 'contains(promises)': False,\n",
       " \"contains(('make', 'them'))\": False,\n",
       " \"contains(('shouldnt', 'have'))\": False,\n",
       " 'contains(sometimes)': False,\n",
       " \"contains(('time', 'to'))\": False,\n",
       " \"contains(('it', 'really'))\": False,\n",
       " 'contains(angry)': False,\n",
       " 'contains(absolutely)': False,\n",
       " 'contains(bigger)': False,\n",
       " 'contains(human)': False,\n",
       " \"contains(('do', 'something'))\": False,\n",
       " 'contains(end)': False,\n",
       " \"contains(('acting', 'like'))\": False,\n",
       " \"contains(('be', 'friends'))\": False,\n",
       " \"contains(('told', 'him'))\": False,\n",
       " 'contains(reading)': False,\n",
       " 'contains(moved)': False,\n",
       " 'contains(realize)': False,\n",
       " \"contains(('in', 'their'))\": False,\n",
       " \"contains(('passive', 'aggressive'))\": False,\n",
       " 'contains(mad)': False,\n",
       " 'contains(breast)': False,\n",
       " \"contains(('out', 'and'))\": False,\n",
       " 'contains(katies)': False,\n",
       " \"contains(('katies', 'mom'))\": False,\n",
       " \"contains(('to', 'eat'))\": False,\n",
       " 'contains(fine)': False,\n",
       " 'contains(act)': False,\n",
       " \"contains(('something', 'to'))\": False,\n",
       " \"contains(('you', 'just'))\": False,\n",
       " \"contains(('how', 'you'))\": False,\n",
       " \"contains(('time', 'and'))\": False,\n",
       " 'contains(although)': False,\n",
       " 'contains(explanation)': False,\n",
       " \"contains(('about', 'how'))\": False,\n",
       " \"contains(('just', 'an'))\": False,\n",
       " \"contains(('you', 'think'))\": False,\n",
       " 'contains(since)': False,\n",
       " \"contains(('is', 'an'))\": False,\n",
       " \"contains(('this', 'story'))\": False,\n",
       " 'contains(plans)': False,\n",
       " 'contains(serious)': False,\n",
       " 'contains(laws)': False,\n",
       " \"contains(('you', 'arent'))\": False,\n",
       " \"contains(('know', 'how'))\": False,\n",
       " 'contains(roommate)': False,\n",
       " \"contains(('to', 'him'))\": False,\n",
       " 'contains(rent)': False,\n",
       " 'contains(grow)': False,\n",
       " \"contains(('grow', 'up'))\": False,\n",
       " \"contains(('wanting', 'to'))\": False,\n",
       " 'contains(aunt)': False,\n",
       " 'contains(attention)': False,\n",
       " 'contains(stay)': False,\n",
       " \"contains(('able', 'to'))\": False,\n",
       " 'contains(week)': False,\n",
       " \"contains(('looking', 'for'))\": False,\n",
       " \"contains(('youre', 'an'))\": False,\n",
       " 'contains(became)': False,\n",
       " \"contains(('had', 'to'))\": False,\n",
       " 'contains(changing)': False,\n",
       " 'contains(throw)': False,\n",
       " 'contains(self)': False,\n",
       " 'contains(healthier)': False,\n",
       " \"contains(('them', 'or'))\": False,\n",
       " \"contains(('make', 'the'))\": False,\n",
       " \"contains(('the', 'situation'))\": False,\n",
       " \"contains(('is', 'very'))\": False,\n",
       " \"contains(('you', 'and'))\": False,\n",
       " \"contains(('is', 'not'))\": False,\n",
       " \"contains(('tell', 'you'))\": False,\n",
       " \"contains(('you', 'that'))\": False,\n",
       " 'contains(trust)': False,\n",
       " 'contains(alot)': False,\n",
       " \"contains(('person', 'who'))\": False,\n",
       " 'contains(four)': False,\n",
       " \"contains(('do', 'that'))\": False,\n",
       " 'contains(came)': False,\n",
       " \"contains(('up', 'to'))\": False,\n",
       " \"contains(('told', 'me'))\": False,\n",
       " \"contains(('me', 'and'))\": False,\n",
       " 'contains(someones)': False,\n",
       " 'contains(learned)': False,\n",
       " \"contains(('about', 'something'))\": False,\n",
       " \"contains(('learned', 'from'))\": False,\n",
       " \"contains(('see', 'how'))\": False,\n",
       " \"contains(('there', 'was'))\": False,\n",
       " \"contains(('was', 'no'))\": False,\n",
       " \"contains(('people', 'and'))\": False,\n",
       " \"contains(('being', 'said'))\": False,\n",
       " \"contains(('that', 'being'))\": False,\n",
       " 'contains(taking)': False,\n",
       " 'contains(charge)': False,\n",
       " \"contains(('thats', 'not'))\": False,\n",
       " \"contains(('would', 'say'))\": False,\n",
       " 'contains(whether)': False,\n",
       " 'contains(spoken)': False,\n",
       " \"contains(('the', 'music'))\": False,\n",
       " 'contains(rock)': False,\n",
       " 'contains(certainly)': False,\n",
       " \"contains(('she', 'had'))\": False,\n",
       " \"contains(('appeal', 'to'))\": False,\n",
       " \"contains(('to', 'authority'))\": False,\n",
       " 'contains(looks)': False,\n",
       " 'contains(simply)': False,\n",
       " 'contains(started)': False,\n",
       " 'contains(valid)': False,\n",
       " 'contains(enjoy)': False,\n",
       " \"contains(('les', 'mis'))\": False,\n",
       " \"contains(('reason', 'for'))\": False,\n",
       " \"contains(('you', 'may'))\": False,\n",
       " 'contains(extremely)': False,\n",
       " 'contains(argument)': False,\n",
       " 'contains(subreddit)': False,\n",
       " 'contains(letting)': False,\n",
       " 'contains(bullshit)': False,\n",
       " 'contains(boyfriend)': False,\n",
       " 'contains(hang)': False,\n",
       " 'contains(somebody)': False,\n",
       " \"contains(('get', 'to'))\": False,\n",
       " \"contains(('of', 'it'))\": False,\n",
       " \"contains(('that', 'the'))\": False,\n",
       " \"contains(('and', 'they'))\": False,\n",
       " \"contains(('she', 'wants'))\": False,\n",
       " \"contains(('wants', 'to'))\": False,\n",
       " \"contains(('you', 'guys'))\": False,\n",
       " 'contains(soundproofing)': False,\n",
       " 'contains(youd)': False,\n",
       " 'contains(youll)': False,\n",
       " \"contains(('like', 'youre'))\": False,\n",
       " 'contains(decent)': False,\n",
       " \"contains(('are', 'the'))\": False,\n",
       " 'contains(anyway)': False,\n",
       " 'contains(mostly)': False,\n",
       " \"contains(('think', 'of'))\": False,\n",
       " \"contains(('and', 'dont'))\": False,\n",
       " \"contains(('if', 'your'))\": False,\n",
       " 'contains(okay)': False,\n",
       " 'contains(wait)': False,\n",
       " \"contains(('be', 'there'))\": False,\n",
       " \"contains(('just', 'be'))\": False,\n",
       " \"contains(('you', 'really'))\": False,\n",
       " \"contains(('it', 'as'))\": False,\n",
       " \"contains(('my', 'friends'))\": False,\n",
       " 'contains(many)': False,\n",
       " 'contains(possibly)': False,\n",
       " \"contains(('is', 'to'))\": False,\n",
       " \"contains(('is', 'there'))\": False,\n",
       " \"contains(('what', 'youre'))\": False,\n",
       " \"contains(('like', 'this'))\": False,\n",
       " 'contains(standing)': False,\n",
       " 'contains(team)': False,\n",
       " \"contains(('sit', 'down'))\": False,\n",
       " 'contains(worked)': False,\n",
       " 'contains(empty)': False,\n",
       " 'contains(asks)': False,\n",
       " 'contains(play)': False,\n",
       " \"contains(('have', 'talked'))\": False,\n",
       " \"contains(('talked', 'to'))\": False,\n",
       " \"contains(('you', 'not'))\": False,\n",
       " 'contains(choose)': False,\n",
       " \"contains(('someone', 'is'))\": False,\n",
       " \"contains(('that', 'point'))\": False,\n",
       " \"contains(('was', 'the'))\": False,\n",
       " 'contains(playing)': False,\n",
       " 'contains(possible)': False,\n",
       " \"contains(('his', 'life'))\": False,\n",
       " \"contains(('how', 'to'))\": False,\n",
       " 'contains(non)': False,\n",
       " \"contains(('this', 'case'))\": False,\n",
       " \"contains(('more', 'of'))\": False,\n",
       " \"contains(('is', 'more'))\": False,\n",
       " 'contains(imagine)': False,\n",
       " 'contains(total)': False,\n",
       " \"contains(('id', 'say'))\": False,\n",
       " \"contains(('say', 'youre'))\": False,\n",
       " \"contains(('wife', 'is'))\": False,\n",
       " 'contains(snl)': False,\n",
       " 'contains(together)': False,\n",
       " 'contains(almost)': False,\n",
       " 'contains(alone)': False,\n",
       " \"contains(('the', 'first'))\": False,\n",
       " \"contains(('my', 'parents'))\": False,\n",
       " 'contains(salesman)': False,\n",
       " \"contains(('for', 'not'))\": False,\n",
       " 'contains(haha)': False,\n",
       " 'contains(college)': False,\n",
       " 'contains(particular)': False,\n",
       " \"contains(('if', 'youre'))\": False,\n",
       " \"contains(('was', 'going'))\": False,\n",
       " \"contains(('thats', 'what'))\": False,\n",
       " 'contains(hold)': False,\n",
       " \"contains(('if', 'someone'))\": False,\n",
       " \"contains(('and', 'make'))\": False,\n",
       " \"contains(('that', 'they'))\": False,\n",
       " 'contains(wouldve)': False,\n",
       " \"contains(('for', 'your'))\": False,\n",
       " 'contains(course)': False,\n",
       " 'contains(regardless)': False,\n",
       " \"contains(('it', 'to'))\": False,\n",
       " 'contains(common)': False,\n",
       " \"contains(('just', 'try'))\": False,\n",
       " 'contains(sitting)': False,\n",
       " \"contains(('bigger', 'asshole'))\": False,\n",
       " \"contains(('reason', 'to'))\": False,\n",
       " 'contains(considered)': False,\n",
       " 'contains(luck)': False,\n",
       " \"contains(('good', 'luck'))\": False,\n",
       " 'contains(due)': False,\n",
       " \"contains(('end', 'up'))\": False,\n",
       " \"contains(('person', 'in'))\": False,\n",
       " \"contains(('in', 'high'))\": False,\n",
       " \"contains(('and', 'he'))\": False,\n",
       " 'contains(young)': False,\n",
       " \"contains(('think', 'youre'))\": False,\n",
       " \"contains(('like', 'you'))\": False,\n",
       " \"contains(('parents', 'and'))\": False,\n",
       " \"contains(('he', 'just'))\": False,\n",
       " 'contains(social)': False,\n",
       " 'contains(allowed)': False,\n",
       " 'contains(months)': False,\n",
       " \"contains(('big', 'deal'))\": False,\n",
       " 'contains(blunt)': False,\n",
       " 'contains(crazy)': False,\n",
       " 'contains(offended)': False,\n",
       " \"contains(('to', 'give'))\": False,\n",
       " \"contains(('way', 'you'))\": False,\n",
       " \"contains(('they', 'dont'))\": False,\n",
       " 'contains(explaining)': False,\n",
       " 'contains(bring)': False,\n",
       " 'contains(aware)': False,\n",
       " 'contains(fat)': False,\n",
       " \"contains(('understand', 'why'))\": False,\n",
       " \"contains(('you', 'look'))\": False,\n",
       " 'contains(shitty)': False,\n",
       " \"contains(('it', 'makes'))\": False,\n",
       " \"contains(('is', 'being'))\": False,\n",
       " 'contains(sound)': False,\n",
       " \"contains(('it', 'again'))\": False,\n",
       " 'contains(putting)': False,\n",
       " 'contains(read)': False,\n",
       " 'contains(against)': False,\n",
       " 'contains(anyways)': False,\n",
       " 'contains(finally)': False,\n",
       " \"contains(('what', 'the'))\": False,\n",
       " 'contains(open)': False,\n",
       " \"contains(('really', 'know'))\": False,\n",
       " 'contains(double)': False,\n",
       " 'contains(general)': False,\n",
       " 'contains(definition)': False,\n",
       " \"contains(('like', 'the'))\": False,\n",
       " \"contains(('it', 'seems'))\": False,\n",
       " \"contains(('were', 'the'))\": False,\n",
       " 'contains(god)': False,\n",
       " \"contains(('im', 'just'))\": False,\n",
       " 'contains(bringing)': False,\n",
       " \"contains(('asshole', 'he'))\": False,\n",
       " 'contains(roommates)': False,\n",
       " \"contains(('to', 'stop'))\": False,\n",
       " \"contains(('and', 'its'))\": False,\n",
       " \"contains(('and', 'it'))\": False,\n",
       " 'contains(culture)': False,\n",
       " 'contains(glad)': False,\n",
       " \"contains(('of', 'his'))\": False,\n",
       " \"contains(('have', 'it'))\": False,\n",
       " 'contains(empathy)': False,\n",
       " 'contains(effort)': False,\n",
       " 'contains(clearly)': False,\n",
       " 'contains(busy)': False,\n",
       " 'contains(response)': False,\n",
       " 'contains(communication)': False,\n",
       " 'contains(between)': False,\n",
       " \"contains(('my', 'own'))\": False,\n",
       " \"contains(('an', 'adult'))\": False,\n",
       " \"contains(('be', 'the'))\": False,\n",
       " 'contains(hate)': False,\n",
       " \"contains(('the', 'question'))\": False,\n",
       " \"contains(('be', 'more'))\": False,\n",
       " 'contains(worth)': False,\n",
       " 'contains(selfish)': False,\n",
       " \"contains(('as', 'long'))\": False,\n",
       " \"contains(('long', 'as'))\": False,\n",
       " 'contains(willing)': False,\n",
       " 'contains(dude)': False,\n",
       " \"contains(('from', 'the'))\": False,\n",
       " 'contains(yawn)': False,\n",
       " 'contains(buy)': False,\n",
       " 'contains(unfair)': False,\n",
       " 'contains(disagree)': False,\n",
       " 'contains(public)': True,\n",
       " 'contains(knew)': False,\n",
       " 'contains(snarky)': False,\n",
       " 'contains(responded)': False,\n",
       " \"contains(('op', 'is'))\": False,\n",
       " \"contains(('yes', 'but'))\": False,\n",
       " \"contains(('but', 'only'))\": False,\n",
       " ...}"
      ]
     },
     "execution_count": 265,
     "metadata": {},
     "output_type": "execute_result"
    }
   ],
   "source": [
    "training_set[0][0]"
   ]
  },
  {
   "cell_type": "markdown",
   "metadata": {},
   "source": [
    "## Training the classifier\n",
    "\n",
    "It's Time to train our Naive Bayes Classifier. Let's use NLTK's one this time around.\n",
    "\n",
    "Note that we're using Bayesian classfier over **binary features** this time: that is, we use a bunch of boolean `contains()` variables that tell our classifier whether or not some feature is present in a comment. The equivalent in sklearn for this is the `BernoulliNB` classifier."
   ]
  },
  {
   "cell_type": "code",
   "execution_count": 269,
   "metadata": {},
   "outputs": [],
   "source": [
    "classifier = NaiveBayesClassifier.train(training_set)"
   ]
  },
  {
   "cell_type": "markdown",
   "metadata": {},
   "source": [
    "### Evaluation\n",
    "\n",
    "To accurately evaluate the performance of our classifier, we have to look at 2 things: **precision** and **recall**.\n",
    "\n",
    "- **Precision:** the number of true positives (correctly labeled items) divided by the sum of true positives and false positives (incorrectly labeled items)\n",
    "- **Recall:** the number of true positives divided by the total number of elements that actually belong to the positive class (i.e., the sum of true positives and false negatives).\n",
    "\n",
    "We can average the precision and recall metrics using their harmonic mean, producing a quantity known as the F1 score. It's a measure of a test's total accuracy. See https://en.wikipedia.org/wiki/F1_score for more.\n",
    "\n",
    "We'll use a function that evaluates our classifier, based on the cross-validation set we created earlier. We'll calculate F1, precision and recall scores."
   ]
  },
  {
   "cell_type": "code",
   "execution_count": 273,
   "metadata": {},
   "outputs": [],
   "source": [
    "def eval_classifier(data_set):\n",
    "    # NLTK .accuracy method calculates accuracy\n",
    "    cross_valid_accuracy = accuracy(classifier, data_set)\n",
    "\n",
    "    # Create two sets to count positive and negative comments\n",
    "    ref_set = collections.defaultdict(set)\n",
    "    obs_set = collections.defaultdict(set)\n",
    "\n",
    "    # Loop over each comment in our cross validation set\n",
    "    for i, (feats, label) in enumerate(data_set):\n",
    "\n",
    "        #Classify the comment by feeding the classifier the comment's features\n",
    "        observed = classifier.classify(feats)\n",
    "\n",
    "        #Add the current comment to the \"reference\" set under the actual class\n",
    "        ref_set[label].add(i)\n",
    "\n",
    "        #Add the current coment to the \"observation\" set under the predicted class\n",
    "        obs_set[observed].add(i)\n",
    "\n",
    "    # Calculate F score, precision, an recall for positive and negative labels\n",
    "    print ('Accuracy:', cross_valid_accuracy)\n",
    "    print ('F-measure [negative]:', fmeas(ref_set['negative'], obs_set['negative']))\n",
    "    print ('F-measure [positive]:', fmeas(ref_set['positive'], obs_set['positive']))\n",
    "    print ('Precision [negative]:', prec(ref_set['negative'], obs_set['negative']))\n",
    "    print ('Precision [positive]:', prec(ref_set['positive'], obs_set['positive']))\n",
    "    rec_neg=rec(ref_set['negative'], obs_set['negative'])\n",
    "    rec_pos=rec(ref_set['positive'], obs_set['positive'])\n",
    "    print ('Recall [negative]:', rec_neg)\n",
    "    print ('Recall [positive]:', rec_pos)\n",
    "    total_neg=len(neg_comments)\n",
    "    total_pos=len(pos_comments)"
   ]
  },
  {
   "cell_type": "code",
   "execution_count": 274,
   "metadata": {
    "scrolled": true
   },
   "outputs": [
    {
     "name": "stdout",
     "output_type": "stream",
     "text": [
      "Accuracy: 0.6059602649006622\n",
      "F-measure [negative]: 0.7226107226107227\n",
      "F-measure [positive]: 0.32\n",
      "Precision [negative]: 0.7711442786069652\n",
      "Precision [positive]: 0.27722772277227725\n",
      "Recall [negative]: 0.6798245614035088\n",
      "Recall [positive]: 0.3783783783783784\n"
     ]
    }
   ],
   "source": [
    "eval_classifier(cv_set) "
   ]
  },
  {
   "cell_type": "markdown",
   "metadata": {},
   "source": [
    "At this point, we have to see if we are happy with the outcome of our performance metrics. \n",
    "If not, we need to change the hyperparameters of our classifier and revaluate its performance on our cross-validation set. As noted, we may want to consider limiting our classifier to **high-information features**. We can check what these features are using NLTK’s `show_most_informative_features()` method."
   ]
  },
  {
   "cell_type": "code",
   "execution_count": 275,
   "metadata": {
    "scrolled": true
   },
   "outputs": [
    {
     "name": "stdout",
     "output_type": "stream",
     "text": [
      "Most Informative Features\n",
      "    contains(definitely) = True           negati : positi =      6.3 : 1.0\n",
      "         contains(makes) = True           positi : negati =      5.4 : 1.0\n",
      "         contains(stuff) = True           positi : negati =      5.0 : 1.0\n",
      "         contains(until) = True           negati : positi =      4.3 : 1.0\n",
      "contains(('asshole', 'in')) = True           negati : positi =      4.3 : 1.0\n",
      "None\n"
     ]
    }
   ],
   "source": [
    "print(classifier.show_most_informative_features(5))"
   ]
  },
  {
   "cell_type": "markdown",
   "metadata": {},
   "source": [
    "We can use these features in the *feature extraction design* step above to see if it will improve our model (which it won't necessarily will). **The goal is, through tweaking our hyperparameters like this, to improve the accuracy of our model.** "
   ]
  },
  {
   "cell_type": "markdown",
   "metadata": {},
   "source": [
    "### Evaluating on the test set\n",
    "\n",
    "It's only after tweaking our model for a while that we should crack open our test set and see how well our classifier has done!"
   ]
  },
  {
   "cell_type": "code",
   "execution_count": 277,
   "metadata": {},
   "outputs": [
    {
     "name": "stdout",
     "output_type": "stream",
     "text": [
      "Accuracy: 0.6138613861386139\n",
      "F-measure [negative]: 0.7310344827586206\n",
      "F-measure [positive]: 0.31578947368421056\n",
      "Precision [negative]: 0.7681159420289855\n",
      "Precision [positive]: 0.28125\n",
      "Recall [negative]: 0.6973684210526315\n",
      "Recall [positive]: 0.36\n"
     ]
    }
   ],
   "source": [
    "eval_classifier(test_set)"
   ]
  },
  {
   "cell_type": "markdown",
   "metadata": {},
   "source": [
    "## Assignment: data analysis and hermeneutics\n",
    "\n",
    "There's a lot you can do with the methods we've applied here. For instance, you can use classification to try and find binaries in your dataset. You could tag a corpus manually, based on the presence of some binary category X or Y that you conceptualize. You could also create a set of categories based on, say, particular word frequencies. Then you can create a classifier to see if you can successfully predict these categories in other texts.\n",
    "\n",
    "In case you use classification methods, you could critically reflect on them in your essay. Of course, it is important to create an accurate model. But the next step is to show the limitations of your classification – even if it works! **In other words: find examples that complicate your own dichotomy, if and when you create one.**\n",
    "\n",
    "Try to use classification, feature extraction and sentiment analysis for your own data. For instance:\n",
    "- Using sentiment scores to trace posts or topics of interest;\n",
    "- Using feature extraction to create new classes; \n",
    "- Training a classifier based on your own classes (e.g. the presence of a specific topic you're interested in)."
   ]
  }
 ],
 "metadata": {
  "kernelspec": {
   "display_name": "Python 3",
   "language": "python",
   "name": "python3"
  },
  "language_info": {
   "codemirror_mode": {
    "name": "ipython",
    "version": 3
   },
   "file_extension": ".py",
   "mimetype": "text/x-python",
   "name": "python",
   "nbconvert_exporter": "python",
   "pygments_lexer": "ipython3",
   "version": "3.6.6"
  }
 },
 "nbformat": 4,
 "nbformat_minor": 2
}
