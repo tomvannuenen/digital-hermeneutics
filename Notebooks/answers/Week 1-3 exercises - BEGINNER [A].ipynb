{
 "cells": [
  {
   "cell_type": "markdown",
   "metadata": {},
   "source": [
    "<div style=\"display: block; width: 100%; height: 120px;\">\n",
    "\n",
    "<p style=\"float: left;\">\n",
    "    <span style=\"font-weight: bold; line-height: 24px; font-size: 16px;\">\n",
    "        DIGHUM160 - Critical Digital Humanities\n",
    "        <br />\n",
    "        Digital Hermeneutics 2019\n",
    "    </span>\n",
    "    <br >\n",
    "    <span style=\"line-height: 22x; font-size: 14x; margin-top: 10px;\">\n",
    "        Week 1 exercises: BEGINNER <br />\n",
    "        Created by Tom van Nuenen (tom.van_nuenen@kcl.ac.uk)\n",
    "    </span>\n",
    "</p>\n",
    "\n",
    "<img style=\"width: 240px; height: 120px; float: right; margin: 0 0 0 0;\" src=\"http://www.merritt.edu/wp/histotech/wp-content/uploads/sites/275/2018/08/berkeley-logo.jpg\" />\n",
    "</div>"
   ]
  },
  {
   "cell_type": "markdown",
   "metadata": {},
   "source": [
    "# Welcome!\n",
    "\n",
    "This Notebook aims to teach you some basic syntax and structures of the python programming language. Feel free to collaborate with each other in order to answer these questions. A good online source for finding answers is stackoverflow.com.\n",
    "\n",
    "There's a lot to get through, but rest assured that after doing this notebook, you'll know the basics of Python!"
   ]
  },
  {
   "cell_type": "markdown",
   "metadata": {},
   "source": [
    "By the end of this notebook, you should:\n",
    "\n",
    "* be comfortable running Python in a Jupyter notebook on your own laptop;\n",
    "* know what variables, functions, and methods are\n",
    "* know how to use `for` loops\n",
    "* know how to use `if` and `else` statements\n",
    "\n",
    "Let's get started."
   ]
  },
  {
   "cell_type": "markdown",
   "metadata": {},
   "source": [
    "## 1. Hello, World!\n",
    "\n",
    "Even if programming is a [comparatively young art](https://en.wikipedia.org/wiki/History_of_programming_languages), it still has its traditions. One of these traditions is the `Hello, World!` program which is the first program that most people ever write whilst learning how to program.\n",
    "\n",
    "In the cell below, you will now write your own `Hello, World!` program. Click on the block below this one, then run it using the button marked <i class=\"fa-step-forward fa\"></i> `Run` and see what appears!"
   ]
  },
  {
   "cell_type": "code",
   "execution_count": 69,
   "metadata": {
    "scrolled": true
   },
   "outputs": [
    {
     "name": "stdout",
     "output_type": "stream",
     "text": [
      "Hello, World!\n"
     ]
    }
   ],
   "source": [
    "print('Hello, World!')"
   ]
  },
  {
   "cell_type": "markdown",
   "metadata": {},
   "source": [
    "Now, write your own line of code here. Use the `print()` function to print out any line of text (don't forget to use quotation marks!)"
   ]
  },
  {
   "cell_type": "code",
   "execution_count": null,
   "metadata": {},
   "outputs": [],
   "source": [
    "# Your code here\n",
    "\n",
    "\n"
   ]
  },
  {
   "cell_type": "markdown",
   "metadata": {},
   "source": [
    "## 2. Python, Jupyter and our Notebooks\n",
    "\n",
    "Congratulations, you're now a programmer! Before we go on though, a quick word about Python itself, and how notebooks will work throughout this course.\n",
    "\n",
    "Python is the name of a programming language created by [Guido van Rossum](https://en.wikipedia.org/wiki/Guido_van_Rossum) in the early 1990s, and it is one of many, many programming languages available. Python is a very robust and very popular language, which is why we have chosen to learn it on our course. There are lots of ways that python can be run, the way we have chosen to run python is using *Jupyter Notebooks*, which provide a useable web interface, and allow you to combine text (like this) with code (like the `Hello, World!` program above) very neatly and clearly.\n",
    "\n",
    "Every cell has to be <i class=\"fa-step-forward fa\"></i> `Run` to work. For more complex programs, it will be important to run the cells in the right order, too (i.e., run the cell at the top first, then the next one down etc.). \n",
    "\n",
    "You can also insert cells using the `Insert` menu, and move them up and down relative to one another using the <i class=\"fa-arrow-up fa\"></i> and <i class=\"fa-arrow-down fa\"></i> buttons.\n",
    "\n",
    "Finally, Jupyter notebooks run on what's called a Kernel. Sometimes this kernel breaks or stops functioning. In such cases, you'll want to Restart it. Do this by clicking the `Kernel` menu and clicking the `Restart` button.\n",
    "\n",
    "### Comments\n",
    "\n",
    "You'll also find that a lot of cells have comments in them. A comment is a note we leave for ourselves when writing code, explaining what we're thinking or doing. Python ignores these comments entirely, so we can write in human languages.\n",
    "\n",
    "A comment is anything that starts with the hash (`#`) symbol, a comment can take up an entire line, or just the rest of a line containing code. See the two comments below."
   ]
  },
  {
   "cell_type": "code",
   "execution_count": 85,
   "metadata": {},
   "outputs": [
    {
     "name": "stdout",
     "output_type": "stream",
     "text": [
      "Woof!\n",
      "Meow!\n"
     ]
    }
   ],
   "source": [
    "# here's a dog\n",
    "print('Woof!')\n",
    "print('Meow!')  # and that was a cat\n",
    "# but let's hide the mouse\n",
    "# print('Peep!')"
   ]
  },
  {
   "cell_type": "markdown",
   "metadata": {},
   "source": [
    "## 3. Variables & Types\n",
    "\n",
    "In python, we call something we literally write into the code a **literal**. This is as opposed to a variable, which is simply a name or placeholder for something that can take any value.\n",
    "\n",
    "In python, we create a variable by **assigning** it a value. We do this using the **assignment operator**, otherwise known as the equals (`=`) symbol. For example, to assign the value `\"woof\"` to the variable `dog` we would write `dog = \"woof\"`.\n",
    "\n",
    "In the cell below, write code which assigns a text value to a variable, then print the variable."
   ]
  },
  {
   "cell_type": "code",
   "execution_count": null,
   "metadata": {},
   "outputs": [],
   "source": [
    "# Your code here\n",
    "\n"
   ]
  },
  {
   "cell_type": "markdown",
   "metadata": {},
   "source": [
    "Variables in python have **types**. So far we have only come across one type: strings (which are what we call text, i.e., strings of characters). You can tell that it is a string as it is in between quotation marks. \n",
    "\n",
    "Try removing these quation marks below to see what happens."
   ]
  },
  {
   "cell_type": "code",
   "execution_count": 79,
   "metadata": {
    "scrolled": true
   },
   "outputs": [
    {
     "name": "stdout",
     "output_type": "stream",
     "text": [
      "woof\n"
     ]
    }
   ],
   "source": [
    "print(\"woof\")"
   ]
  },
  {
   "cell_type": "markdown",
   "metadata": {},
   "source": [
    "Python is raising a `NameError`. That means it's trying to find something, but it can't find the name in its memory. \n",
    "This is because by removing these quotation marks, you changed the type of variable from a `str` to a `function`. More about functions later: for now, just remember that strings go in between quotation marks!"
   ]
  },
  {
   "cell_type": "markdown",
   "metadata": {},
   "source": [
    "Other types are integers (whole numbers), floats (numbers with a decimal point), lists (a mutable, or changeable, ordered sequence of elements) and dictionaries (an unordered, changeable and indexed collection).\n",
    "\n",
    "So:\n",
    "\n",
    "* `str` - strings, or text\n",
    "* `int` - whole numbers\n",
    "* `float` - numbers with a decimal point e.g., 1.0 or 1.5\n",
    "* `list` - mutable, or changeable, ordered sequence of elements\n",
    "* `dict` - unordered, changeable and indexed collection of elements"
   ]
  },
  {
   "cell_type": "markdown",
   "metadata": {},
   "source": [
    "To find out a variable's type, we can use the type() function. Try the example below."
   ]
  },
  {
   "cell_type": "code",
   "execution_count": 6,
   "metadata": {
    "scrolled": true
   },
   "outputs": [
    {
     "name": "stdout",
     "output_type": "stream",
     "text": [
      "<class 'str'>\n"
     ]
    }
   ],
   "source": [
    "print(type(\"Hello, World!\"))"
   ]
  },
  {
   "cell_type": "markdown",
   "metadata": {},
   "source": [
    "In the cell below there are some variables. Using `print()` statements, print out the type of each variable."
   ]
  },
  {
   "cell_type": "code",
   "execution_count": 73,
   "metadata": {},
   "outputs": [
    {
     "data": {
      "text/plain": [
       "dict"
      ]
     },
     "execution_count": 73,
     "metadata": {},
     "output_type": "execute_result"
    }
   ],
   "source": [
    "lumberjack = \"okay\"\n",
    "my_age = 30\n",
    "i_deserve = 10000.00\n",
    "my_list = [1,2,3]\n",
    "my_dict = {\"eggs\": 12, \"cheese wheels\": 3}\n",
    "\n",
    "# put your answer below!\n",
    "\n"
   ]
  },
  {
   "cell_type": "markdown",
   "metadata": {},
   "source": [
    "Variables are fundamental to programming and you will use them throughout the course and during the rest of your programming career.\n",
    "\n",
    "One way to use them is like this. Make sure you understand how this works!"
   ]
  },
  {
   "cell_type": "code",
   "execution_count": 8,
   "metadata": {
    "scrolled": true
   },
   "outputs": [
    {
     "name": "stdout",
     "output_type": "stream",
     "text": [
      "He is a lumberjack and He is okay!\n"
     ]
    }
   ],
   "source": [
    "pronoun = \"He\"\n",
    "occupation = \"lumberjack\"\n",
    "judgement = \"okay!\"\n",
    "print(pronoun, \"is a\", occupation, \"and\", pronoun, \"is\", judgement)"
   ]
  },
  {
   "cell_type": "markdown",
   "metadata": {},
   "source": [
    "### Functions and Methods"
   ]
  },
  {
   "cell_type": "markdown",
   "metadata": {},
   "source": [
    "**Functions** are blocks of code which only run when they're called. `print()` is one such function, and it is built into python.\n",
    "\n",
    "**Methods** are functions that only work on certain data types. Two much-used methods to work with strings are `lower()`, which turns a given string into lowercase, and `split()`, which splits a string into a list."
   ]
  },
  {
   "cell_type": "code",
   "execution_count": 20,
   "metadata": {},
   "outputs": [
    {
     "data": {
      "text/plain": [
       "['I', 'am', 'a', 'string']"
      ]
     },
     "execution_count": 20,
     "metadata": {},
     "output_type": "execute_result"
    }
   ],
   "source": [
    "\"I am a string\".lower()"
   ]
  },
  {
   "cell_type": "code",
   "execution_count": 21,
   "metadata": {
    "scrolled": false
   },
   "outputs": [
    {
     "data": {
      "text/plain": [
       "['I', 'am', 'a', 'string']"
      ]
     },
     "execution_count": 21,
     "metadata": {},
     "output_type": "execute_result"
    }
   ],
   "source": [
    "\"I-am-a-string\".split('-')"
   ]
  },
  {
   "cell_type": "code",
   "execution_count": 20,
   "metadata": {},
   "outputs": [
    {
     "data": {
      "text/plain": [
       "['I', 'am', 'a', 'string']"
      ]
     },
     "execution_count": 20,
     "metadata": {},
     "output_type": "execute_result"
    }
   ],
   "source": [
    "\"I am a string\".lower()"
   ]
  },
  {
   "cell_type": "code",
   "execution_count": 21,
   "metadata": {
    "scrolled": false
   },
   "outputs": [
    {
     "data": {
      "text/plain": [
       "['I', 'am', 'a', 'string']"
      ]
     },
     "execution_count": 21,
     "metadata": {},
     "output_type": "execute_result"
    }
   ],
   "source": [
    "\"I-am-a-string\".split('-')"
   ]
  },
  {
   "cell_type": "markdown",
   "metadata": {},
   "source": [
    "### Lists\n",
    "\n",
    "Two data types you'll use very often are `list`s and dictionaries (`dicts`). Let's start with the list."
   ]
  },
  {
   "cell_type": "code",
   "execution_count": null,
   "metadata": {},
   "outputs": [],
   "source": [
    "shopping_list = [\"bread\", \"eggs\", \"milk\"]\n",
    "print(shopping_list)"
   ]
  },
  {
   "cell_type": "markdown",
   "metadata": {},
   "source": [
    "There are methods that only work on lists, such as `append()`, `count()`, `pop()` or `index()`: "
   ]
  },
  {
   "cell_type": "code",
   "execution_count": 23,
   "metadata": {},
   "outputs": [],
   "source": [
    "shopping_list.append(\"cereal\")"
   ]
  },
  {
   "cell_type": "code",
   "execution_count": 24,
   "metadata": {},
   "outputs": [
    {
     "data": {
      "text/plain": [
       "1"
      ]
     },
     "execution_count": 24,
     "metadata": {},
     "output_type": "execute_result"
    }
   ],
   "source": [
    "shopping_list.count(\"cereal\")"
   ]
  },
  {
   "cell_type": "code",
   "execution_count": 25,
   "metadata": {},
   "outputs": [
    {
     "data": {
      "text/plain": [
       "'cereal'"
      ]
     },
     "execution_count": 25,
     "metadata": {},
     "output_type": "execute_result"
    }
   ],
   "source": [
    "shopping_list.pop()"
   ]
  },
  {
   "cell_type": "code",
   "execution_count": 26,
   "metadata": {
    "scrolled": false
   },
   "outputs": [
    {
     "data": {
      "text/plain": [
       "'eggs'"
      ]
     },
     "execution_count": 26,
     "metadata": {},
     "output_type": "execute_result"
    }
   ],
   "source": [
    "shopping_list[1] # note that this is the second element from the list, as python starts counting at 0"
   ]
  },
  {
   "cell_type": "markdown",
   "metadata": {},
   "source": [
    "### Dictionaries\n",
    "\n",
    "Dictionaries consist of pairs of _keys_ and _values_. A _key_ is used to retrieve a _value_. E.g., if I have a dictionary called `shopping_dict`, it will look like this: "
   ]
  },
  {
   "cell_type": "code",
   "execution_count": 41,
   "metadata": {},
   "outputs": [],
   "source": [
    "shopping_dict = {\"apples\": 3, \"eggs\": 12, \"cheese wheels\": 19}"
   ]
  },
  {
   "cell_type": "markdown",
   "metadata": {},
   "source": [
    "Now I can iterate over that dictionary to get stuff from it:"
   ]
  },
  {
   "cell_type": "code",
   "execution_count": 51,
   "metadata": {},
   "outputs": [
    {
     "data": {
      "text/plain": [
       "3"
      ]
     },
     "execution_count": 51,
     "metadata": {},
     "output_type": "execute_result"
    }
   ],
   "source": [
    "shopping_dict[\"apples\"]"
   ]
  },
  {
   "cell_type": "markdown",
   "metadata": {},
   "source": [
    "...or add something new to it."
   ]
  },
  {
   "cell_type": "code",
   "execution_count": 52,
   "metadata": {
    "scrolled": true
   },
   "outputs": [
    {
     "name": "stdout",
     "output_type": "stream",
     "text": [
      "{'apples': 3, 'eggs': 12, 'cheese wheels': 19, 'sandwiches': 5}\n"
     ]
    }
   ],
   "source": [
    "shopping_dict[\"sandwiches\"] = 5\n",
    "print(shopping_dict)"
   ]
  },
  {
   "cell_type": "markdown",
   "metadata": {},
   "source": [
    "### SyntaxErrors\n",
    "So far the text we have used has been quite simple and not contained any special characters like quotation marks. But what if our text is more complicated?"
   ]
  },
  {
   "cell_type": "code",
   "execution_count": null,
   "metadata": {},
   "outputs": [],
   "source": [
    "print('Oh, I'm a lumberjack, and I'm okay,')"
   ]
  },
  {
   "cell_type": "markdown",
   "metadata": {},
   "source": [
    "Don't worry when you see something like this - it's called a **traceback** and shows where there's an error in your code and how to fix it. This error is a `SyntaxError`, it means that there is a problem in the way your code is written, think of it like a spelling or grammar error in an essay. The exact spot where python got confused is shown using the caret symbol (`^`)."
   ]
  },
  {
   "cell_type": "markdown",
   "metadata": {},
   "source": [
    "Luckily, whenever you encounter an error, it's generally quite easy to find help. In this case, [there's a handy online tutorial which can assist](https://www.digitalocean.com/community/tutorials/how-to-format-text-in-python-3). Read through this then print out the lyrics which are commented out below."
   ]
  },
  {
   "cell_type": "code",
   "execution_count": null,
   "metadata": {},
   "outputs": [],
   "source": [
    "# Oh, I'm a lumberjack, and I'm okay, \n",
    "# I sleep all night and I work all day. \n",
    "\n",
    "# He's a lumberjack, and he's okay, \n",
    "# He sleeps all night and he works all day. "
   ]
  },
  {
   "cell_type": "markdown",
   "metadata": {},
   "source": [
    "## 4. Operators\n",
    "\n",
    "We can do things with variables, and sometimes change their values using operators. So far, we've only covered one operator, the assignment operator (=). Python actually has lots of different operators.\n",
    "\n",
    "Here are some basic operators:\n",
    "\n",
    "| Symbol  | Name              | Example  | Used For                                                           |\n",
    "|---------|-------------------|----------|--------------------------------------------------------------------|\n",
    "| `=`     | Assignment        | `a = 1`  | Assigning the value on the right to the variable on the left       |\n",
    "| `+`     | Addition          | `1 + 2`  | Returns the sum of the right and left hand sides                   |\n",
    "| `-`     | Subtraction       | `3 - 1`  | Returns the left hand side minus the right hand side               |\n",
    "| `*`     | Multiplication    | `2 * 3`  | Returns the product of the left and right hand sides               |\n",
    "| `**`    | Power             | `2 ** 2` | Returns the left hand side to the power of the right hand side     |\n",
    "| `+=`    | In place addition | `a += 1` | Sums the left and right hand sides, assigns sum to left hand side  |\n",
    "\n",
    "Most of these operators will not change the value of a variable, but rather return a new value. For example, check out the code below."
   ]
  },
  {
   "cell_type": "markdown",
   "metadata": {},
   "source": [
    "So far our text so far has been quite simple and not contained any special characters like quotation marks. But what if our text is more complicated?"
   ]
  },
  {
   "cell_type": "code",
   "execution_count": null,
   "metadata": {},
   "outputs": [],
   "source": [
    "print('Oh, I'm a lumberjack, and I'm okay,')"
   ]
  },
  {
   "cell_type": "markdown",
   "metadata": {},
   "source": [
    "Oh no! Our first `SyntaxError`! Don't worry when you see something like this - it's called a **traceback** and shows where there's an error in your code and how to fix it. This error is a `SyntaxError`, it means that there is a problem in the way your code is written, think of it like a spelling or grammar error in an essay. The exact spot where python got confused is shown using the caret symbol (`^`)."
   ]
  },
  {
   "cell_type": "markdown",
   "metadata": {},
   "source": [
    "Luckily, whenever you encounter an error, it's generally quite easy to find help. In this case, [there's a handy online tutorial which can assist](https://www.digitalocean.com/community/tutorials/how-to-format-text-in-python-3). Read through this then print out the lyrics which are commented out below."
   ]
  },
  {
   "cell_type": "code",
   "execution_count": null,
   "metadata": {},
   "outputs": [],
   "source": [
    "# Oh, I'm a lumberjack, and I'm okay, \n",
    "# I sleep all night and I work all day. \n",
    "\n",
    "# He's a lumberjack, and he's okay, \n",
    "# He sleeps all night and he works all day. "
   ]
  },
  {
   "cell_type": "code",
   "execution_count": 7,
   "metadata": {},
   "outputs": [
    {
     "name": "stdout",
     "output_type": "stream",
     "text": [
      "a * b = 200\n",
      "a =  10\n",
      "b =  20\n"
     ]
    }
   ],
   "source": [
    "a = 10 # note: we don't put integers in quotes!\n",
    "b = 20 \n",
    "print('a * b =', a * b)\n",
    "print('a = ', a)\n",
    "print('b = ', b)"
   ]
  },
  {
   "cell_type": "markdown",
   "metadata": {},
   "source": [
    "If you want to keep the value returned by an operator like + or *, we need to use it in conjunction with the assignment operator to assign the value to a new variable, or to an old variable. Check out the examples below."
   ]
  },
  {
   "cell_type": "code",
   "execution_count": null,
   "metadata": {},
   "outputs": [],
   "source": [
    "c = 20\n",
    "d = c + 10\n",
    "print('d is', d)\n",
    "print('and c is still', c)\n",
    "f = 100\n",
    "print('f is currently', f)\n",
    "f = f * d\n",
    "print('but we multiplied it by d and assigned the product to f, now f is', f)"
   ]
  },
  {
   "cell_type": "markdown",
   "metadata": {},
   "source": [
    "### What's `'Woof!' * 2`?\n",
    "\n",
    "So far, we've only used operators on integers. However, you can also use some operators on strings, too.\n",
    "\n",
    "In the cells below, try using the addition and and multiplication operators on strings. What do you expect to happen?"
   ]
  },
  {
   "cell_type": "code",
   "execution_count": 68,
   "metadata": {},
   "outputs": [
    {
     "data": {
      "text/plain": [
       "'Woof!Woof!'"
      ]
     },
     "execution_count": 68,
     "metadata": {},
     "output_type": "execute_result"
    }
   ],
   "source": [
    "# here is a variable\n",
    "dog = \"Woof!\"\n",
    "\n",
    "# multiply it by two and print the result\n"
   ]
  },
  {
   "cell_type": "markdown",
   "metadata": {},
   "source": [
    "## 5. Input"
   ]
  },
  {
   "cell_type": "markdown",
   "metadata": {},
   "source": [
    "If we only ever \"hard coded\" the values we were working with into our code, it would make for some pretty boring programs! Usually, when we assign a variable we want to take the value for it *from* somewhere, for example, a user input, a web source, a sensor, or even (as we'll see below) a totally random value.\n",
    "\n",
    "*To understand this better, ask yourself, what is more useful: a program that always multiplies 5 by 6 and prints 30, or a program which multiplies any two numbers we give it, and prints the result?*\n",
    "\n",
    "There are lots of ways to take values 'from somewhere' in python, but the first one we'll look at is the `input()` function. \n",
    "\n",
    "The important bit of programming jargon to remember is that a function is **called**, and takes zero or more **arguments**. What does that mean exactly?\n",
    "\n",
    "In python, you **call** a function using a set of normal, curved brackets, like this: `this_is_being_called()`. The arguments for whatever you call go inside these brackets. Remember `print('Hello, World!')`? In that example you **called** the `print()` function, and supplied it with one **argument**, the **string literal** `'Hello, World!'`.\n",
    "\n",
    "In the case of `print()` all the function does is, well, print something out to the user. However, many functions **return** a value when you **call** them (more on `return`, later)."
   ]
  },
  {
   "cell_type": "markdown",
   "metadata": {},
   "source": [
    "**Challenge**\n",
    "\n",
    "Let's do this with the `input()` function. `input()` takes one argument, a string, which is displayed to the user alongside a text box where they can enter some text. It then **returns** the value from the user so you can assign it to a variable. The value which is returned always has the **type string** (this is important in the next section).\n",
    "\n",
    "This means that we can use the `input()` function to take a value from the user and put it into a variable, without having to hard code that value into our program.\n",
    "\n",
    "Write code below using the `input()` function that asks the user for their name and assigns it to the `my_name` variable. Then, print `Hello, XXX` to the user, where `XXX` is the user's name."
   ]
  },
  {
   "cell_type": "code",
   "execution_count": null,
   "metadata": {},
   "outputs": [],
   "source": [
    "# 1. Prompt the user for their name and assign it to a variable\n",
    "my_name = # you need to put some code here\n",
    "\n",
    "# 2. Then print Hello, XXX. Where XXX is the user's name.\n"
   ]
  },
  {
   "cell_type": "markdown",
   "metadata": {},
   "source": [
    "## 6. `TypeError`\n",
    "\n",
    "Now we can take values from a user, let's imagine we're making a simple program that asks a user for two numbers (one after the other) and then multiplies them together. \n",
    "\n",
    "A program that tries to do this is below. Run it now and see what happens."
   ]
  },
  {
   "cell_type": "code",
   "execution_count": 75,
   "metadata": {},
   "outputs": [
    {
     "name": "stdout",
     "output_type": "stream",
     "text": [
      "Enter first number 2\n",
      "Enter second number 3\n"
     ]
    },
    {
     "ename": "TypeError",
     "evalue": "can't multiply sequence by non-int of type 'str'",
     "output_type": "error",
     "traceback": [
      "\u001b[1;31m---------------------------------------------------------------------------\u001b[0m",
      "\u001b[1;31mTypeError\u001b[0m                                 Traceback (most recent call last)",
      "\u001b[1;32m<ipython-input-75-68e054662046>\u001b[0m in \u001b[0;36m<module>\u001b[1;34m\u001b[0m\n\u001b[0;32m      3\u001b[0m \u001b[0mb\u001b[0m \u001b[1;33m=\u001b[0m \u001b[0minput\u001b[0m\u001b[1;33m(\u001b[0m\u001b[1;34m'Enter second number '\u001b[0m\u001b[1;33m)\u001b[0m\u001b[1;33m\u001b[0m\u001b[1;33m\u001b[0m\u001b[0m\n\u001b[0;32m      4\u001b[0m \u001b[1;31m# multiply them together\u001b[0m\u001b[1;33m\u001b[0m\u001b[1;33m\u001b[0m\u001b[1;33m\u001b[0m\u001b[0m\n\u001b[1;32m----> 5\u001b[1;33m \u001b[0mresult\u001b[0m \u001b[1;33m=\u001b[0m \u001b[0ma\u001b[0m \u001b[1;33m*\u001b[0m \u001b[0mb\u001b[0m\u001b[1;33m\u001b[0m\u001b[1;33m\u001b[0m\u001b[0m\n\u001b[0m\u001b[0;32m      6\u001b[0m \u001b[1;31m# and finally print them out\u001b[0m\u001b[1;33m\u001b[0m\u001b[1;33m\u001b[0m\u001b[1;33m\u001b[0m\u001b[0m\n\u001b[0;32m      7\u001b[0m \u001b[0mprint\u001b[0m\u001b[1;33m(\u001b[0m\u001b[0ma\u001b[0m\u001b[1;33m,\u001b[0m \u001b[1;34m'*'\u001b[0m\u001b[1;33m,\u001b[0m \u001b[0mb\u001b[0m\u001b[1;33m,\u001b[0m \u001b[1;34m'='\u001b[0m\u001b[1;33m,\u001b[0m \u001b[0mresult\u001b[0m\u001b[1;33m)\u001b[0m\u001b[1;33m\u001b[0m\u001b[1;33m\u001b[0m\u001b[0m\n",
      "\u001b[1;31mTypeError\u001b[0m: can't multiply sequence by non-int of type 'str'"
     ]
    }
   ],
   "source": [
    "# let's get values from the user\n",
    "a = input('Enter first number ')\n",
    "b = input('Enter second number ')\n",
    "# multiply them together\n",
    "result = a * b\n",
    "# and finally print them out\n",
    "print(a, '*', b, '=', result)"
   ]
  },
  {
   "cell_type": "markdown",
   "metadata": {},
   "source": [
    "Uh oh! We ran into a `TypeError`. The program is complaining that it *\"can't multiply sequence by non-int of type 'str'\"*. What this means is that we've tried to multiply something by a string. \n",
    "\n",
    "In this case we've tried to multiply two strings together, in the same way you can't multiply `\"dog\"` by `\"cat\"`, python can't multiply `\"2\"` by `\"2\"`.\n",
    "\n",
    "**Question**\n",
    "\n",
    "1. Why **can't** python multiply the values `\"2\"` and `\"2\"` together?\n",
    "2. Why **can** python multiply the value `\"2\"` by `2`?"
   ]
  },
  {
   "cell_type": "markdown",
   "metadata": {},
   "source": [
    "### Casting: Converting between Types\n",
    "\n",
    "Luckily, python has several functions which allow us to convert between different types. The term we use for this is **casting**. So, to fix the error we got above, we need to **cast** the **string** values from the **`input()` function** into **integers** so that we can multiply them together.\n",
    "\n",
    "It's easy to see how the string `\"100\"` can be converted to the integer `100`, or how the integer `123` can be converted to the string `\"123\"`, but how would you convert the string `\"woof\"` into an integer? Hint - you can't.\n",
    "\n",
    "If a casting function can't convert a value, we says it **raises** a `TypeError` (like was raised before when we tried to multiply two strings together).\n",
    "\n",
    "Here are some examples of casting: \n",
    "\n",
    "* `int('22')` (string to integer) will return `22`\n",
    "* `int('twenty two')` (invalid string) will raise `TypeError`\n",
    "* `str(100)` (integer) will return `100`\n",
    "* `str(100.0)` (float) will return `100.0`\n",
    "\n",
    "**Challenge**\n",
    "\n",
    "With the knowledge above, fix the code below so that it works as intended and would correctly multiply, for example, `1.2` by `10` to give `12.0` (or any other numbers!)."
   ]
  },
  {
   "cell_type": "code",
   "execution_count": null,
   "metadata": {},
   "outputs": [],
   "source": [
    "# let's get values from the user\n",
    "a = input('Enter first number')\n",
    "b = input('Enter second number')\n",
    "# multiply them together\n",
    "result = a * b\n",
    "# and finally print them out\n",
    "print(a, '*', b, '=', result)"
   ]
  },
  {
   "cell_type": "markdown",
   "metadata": {},
   "source": [
    "Congratulations! We can now start to write much more interesting programs which take values from a user and start to do things with these values.\n",
    "\n",
    "**Challenge**\n",
    "\n",
    "Now, to make sure you're extra confident using `input()`, write a program in the cell below which:\n",
    "\n",
    "1. Asks the user for their name.\n",
    "2. Asks the user for their favourite food.\n",
    "3. Prints out a result to the user such that if the user entered \"Pooh\" and \"honey\", the result would be: \"Hello Pooh ! You like to eat honey !\""
   ]
  },
  {
   "cell_type": "markdown",
   "metadata": {},
   "source": [
    "## 7. Loops\n",
    "\n",
    "A `for` loop can allow us to do something with every item in our list. The syntax works as follows:"
   ]
  },
  {
   "cell_type": "code",
   "execution_count": null,
   "metadata": {},
   "outputs": [],
   "source": [
    "for each in myList: \n",
    "    print(\"I really like \" + each)"
   ]
  },
  {
   "cell_type": "code",
   "execution_count": null,
   "metadata": {},
   "outputs": [],
   "source": []
  },
  {
   "cell_type": "markdown",
   "metadata": {},
   "source": [
    "**Challenge**\n",
    "\n",
    "Create a list with some integers, then write some code that will loop over each integer in your list and multiply it by 10."
   ]
  },
  {
   "cell_type": "code",
   "execution_count": null,
   "metadata": {},
   "outputs": [],
   "source": [
    "# Your code here\n",
    "\n"
   ]
  },
  {
   "cell_type": "markdown",
   "metadata": {},
   "source": [
    "### Looping over lists & dicts\n",
    "\n",
    "One very common thing to do is loop over a list or dict. It works like this:"
   ]
  },
  {
   "cell_type": "code",
   "execution_count": 53,
   "metadata": {},
   "outputs": [
    {
     "name": "stdout",
     "output_type": "stream",
     "text": [
      "bread\n",
      "apples\n",
      "kiwi\n"
     ]
    }
   ],
   "source": [
    "shopping_list = [\"bread\", \"eggs\", \"milk\"]\n",
    "for i in shopping_list:\n",
    "    print(i)"
   ]
  },
  {
   "cell_type": "code",
   "execution_count": 46,
   "metadata": {
    "scrolled": true
   },
   "outputs": [
    {
     "name": "stdout",
     "output_type": "stream",
     "text": [
      "apples\n",
      "eggs\n",
      "cheese wheels\n"
     ]
    }
   ],
   "source": [
    "shopping_dict = {\"apples\": 3, \"eggs\": 12, \"cheese wheels\": 19}\n",
    "\n",
    "for i in shopping_dict.keys(): \n",
    "    print(i)"
   ]
  },
  {
   "cell_type": "markdown",
   "metadata": {},
   "source": [
    "As you see, this retrieved the **keys**."
   ]
  },
  {
   "cell_type": "code",
   "execution_count": 47,
   "metadata": {},
   "outputs": [
    {
     "name": "stdout",
     "output_type": "stream",
     "text": [
      "3\n",
      "12\n",
      "19\n"
     ]
    }
   ],
   "source": [
    "for j in shopping_dict.values():\n",
    "    print(j)"
   ]
  },
  {
   "cell_type": "markdown",
   "metadata": {},
   "source": [
    "...and this retrieved the **values**."
   ]
  },
  {
   "cell_type": "code",
   "execution_count": 64,
   "metadata": {
    "scrolled": true
   },
   "outputs": [
    {
     "name": "stdout",
     "output_type": "stream",
     "text": [
      "I have 3 apples\n",
      "I have 12 eggs\n",
      "I have 19 cheese wheels\n",
      "I have 5 sandwiches\n"
     ]
    }
   ],
   "source": [
    "for k,v in shopping_dict.items():\n",
    "    print(\"I have \" + str(v) + \" \" + k)"
   ]
  },
  {
   "cell_type": "markdown",
   "metadata": {},
   "source": [
    "Here, we loop over both keys and values of the dict using the `items()` method, then print out both in a string. Note that we have to convert the value, which is an integer, into a string! \n",
    "\n",
    "Another way of doing the same thing is like this. See if you understand both forms of notation!"
   ]
  },
  {
   "cell_type": "code",
   "execution_count": 67,
   "metadata": {},
   "outputs": [
    {
     "name": "stdout",
     "output_type": "stream",
     "text": [
      "I have 3 apples\n",
      "I have 12 eggs\n",
      "I have 19 cheese wheels\n",
      "I have 5 sandwiches\n"
     ]
    }
   ],
   "source": [
    "for each in shopping_dict:\n",
    "    print(\"I have \" + str(shopping_dict[each]) + \" \" + each)"
   ]
  },
  {
   "cell_type": "markdown",
   "metadata": {},
   "source": [
    "## 8. Creating a Function\n",
    "\n",
    "We've learned a lot about different functions such as `print()`. The great thing about functions is that you can create them yourself, to do whatever you want. All we do when we create a function is use the `def` keyword to **define** a new function and give it a **name** (and specify what arguments it will take, if any), and then we write the code for the function below the `def` statement. \n",
    "\n",
    "In Python, functions make use of **indentation**. i.e., you're putting **tabs** before your code. On most keyboards, the tab key is towards the top left: `⇥`. Then, whenever we **call** the function, we execute the block of code. \n",
    "\n",
    "The `def` keyword is special as it allows us to define a block of code and give it a name so we can use it again and again. This is the point of defining a function.\n",
    "\n",
    "See the examples below."
   ]
  },
  {
   "cell_type": "code",
   "execution_count": 84,
   "metadata": {},
   "outputs": [
    {
     "name": "stdout",
     "output_type": "stream",
     "text": [
      "Thanks for calling me!\n",
      "<class 'function'>\n"
     ]
    }
   ],
   "source": [
    "# let's create our first function\n",
    "# we use the def keyword\n",
    "def my_first_function():  # notice the colon! this is part of the syntax\n",
    "    # notice how this code is indented\n",
    "    print('Thanks for calling me!')\n",
    "\n",
    "# the code is no longer indented, \n",
    "# so we say it is in a different 'block'\n",
    "\n",
    "# so let's call our function\n",
    "my_first_function()\n",
    "\n",
    "# and let's see what kind of type it is\n",
    "print(type(my_first_function))"
   ]
  },
  {
   "cell_type": "markdown",
   "metadata": {},
   "source": [
    "### Arguments in functions\n",
    "\n",
    "Often, we'll want a function to take arguments. To do this, we put a list of variables inside the brackets when we define our funcion. Now, whenever you call the function, you must supply it with arguments, and these variables will have the values the function was called with. \n",
    "\n",
    "See the example below."
   ]
  },
  {
   "cell_type": "code",
   "execution_count": 9,
   "metadata": {},
   "outputs": [
    {
     "name": "stdout",
     "output_type": "stream",
     "text": [
      "Hello,  Berkeley Student!\n"
     ]
    }
   ],
   "source": [
    "# create our function with arguments\n",
    "def say_hello(name):  # name is an argument here, if we want >1 argument, seperate then with commas \n",
    "    # inside this block, name is whatever we called the function with\n",
    "    print('Hello, ', name)\n",
    "\n",
    "    \n",
    "# let's call our function\n",
    "say_hello(\"Berkeley Student!\")"
   ]
  },
  {
   "cell_type": "markdown",
   "metadata": {},
   "source": [
    "**Challenge**\n",
    "\n",
    "In the code cell below, write two functions, one (called `multiply_together()`) which takes three arguments, multiplies them together and prints out the result, and another (called `add_together()`) which takes two arguments, adds them together and prints the result.\n",
    "\n",
    "When you have finished and run the cell without any errors, the code in the next cell should work and print out the correct values. "
   ]
  },
  {
   "cell_type": "code",
   "execution_count": null,
   "metadata": {},
   "outputs": [],
   "source": [
    "# write your code here and don't forget to run the cell\n"
   ]
  },
  {
   "cell_type": "code",
   "execution_count": null,
   "metadata": {},
   "outputs": [],
   "source": [
    "print(multiply_together(2, 3, 4))  # should print 24\n",
    "print(add_together(10, 90))  # should print 100 "
   ]
  },
  {
   "cell_type": "markdown",
   "metadata": {},
   "source": [
    "Congrats! You can now write a function and create new blocks of code. \n",
    "\n",
    "Earlier, we looked at the `input()` function, and said that it's different to the `print()` function, because it **returns** a value, rather than just printing something out. **Functions which return a value are generally much more useful than ones that just print them out, because it allows us to assign the value they return to a variable.** \n",
    "\n",
    "Unless a function explicitly returns a value using the `return` keyword, the value returned is simply `None`. `None` is a special value that has its own type, `NoneType`. \n",
    "\n",
    "To demonstrate this let's look at the `say_hello()` function from the earlier example *(tip: this cell will only work if you have run the cell above which defined the `say_hello()` function)*."
   ]
  },
  {
   "cell_type": "code",
   "execution_count": 10,
   "metadata": {},
   "outputs": [
    {
     "name": "stdout",
     "output_type": "stream",
     "text": [
      "Hello,  student\n",
      "say_hello() returned  None\n",
      "None has the type <class 'NoneType'>\n"
     ]
    }
   ],
   "source": [
    "val = say_hello('student')\n",
    "print('say_hello() returned ', val)\n",
    "print(val, 'has the type', type(val))"
   ]
  },
  {
   "cell_type": "markdown",
   "metadata": {},
   "source": [
    "Returning `None` in this context isn't very useful. Instead, as we said above, it is better generally to avoid printing things in our functions, and instead `return` a value which we can then do whatever we want with (if we like, we can pass it as an argument to the `print()` function to print it out). The `return` keyword will **return** a value from the function, and then **stop executing the function**. \n",
    "\n",
    "For example, see the new, improved function `return_hello()`. Make sure you understand the difference!"
   ]
  },
  {
   "cell_type": "code",
   "execution_count": null,
   "metadata": {},
   "outputs": [],
   "source": [
    "# define the function\n",
    "def return_hello(name):\n",
    "    # this is a new block\n",
    "    return 'Hello ' + name\n",
    "    # any code below here (but in the same block) will never run\n",
    "    \n",
    "greeting = return_hello('Friend!')\n",
    "print(greeting)"
   ]
  },
  {
   "cell_type": "markdown",
   "metadata": {},
   "source": [
    "## 9. Conditional Execution\n",
    "\n",
    "Conditionals, such as `if`, `else` and so on, are what's called **Boolean Logic** or **Boolean Algebra**, formalized by [George Boole](https://en.wikipedia.org/wiki/George_Boole). In python, there is a special type, called `bool`, which can only ever have one of two values: `True` or `False`. Never both, never maybe, just `True` or `False`.\n",
    "\n",
    "Let's imagine we have a variable which was somehow set to whether a shop had eggs, let's call it `shop_has_eggs`, it can be either `True` or `False`. This is called **conditional execution**. In python, we write out two blocks of code, and then execute only one block, depending on some **condition**.\n",
    "\n",
    "This is where two keywords come in: `if`, and `else` (you can think of `else` as simply meaning \"otherwise\"). We use these like below. Run the code and change the value of `shop_has_eggs` to see how the execution differs."
   ]
  },
  {
   "cell_type": "code",
   "execution_count": null,
   "metadata": {},
   "outputs": [],
   "source": [
    "# first, define our shop has eggs variable\n",
    "shop_has_eggs = True  # change this to False and see what happens when you run it again\n",
    "\n",
    "# everything above will always execute\n",
    "print('I am going to the shops')\n",
    "\n",
    "# now for the conditional execution\n",
    "if shop_has_eggs:\n",
    "    # when shop_has_eggs is True, this block executes\n",
    "    print('The shop has eggs, therefore I will buy 6 loaves of bread.')\n",
    "else:\n",
    "    # when it's False, this block executes\n",
    "    print('The shop has no eggs, therefore I will buy 1 loaf of bread.')\n",
    "    \n",
    "# everything below will always execute\n",
    "print('Now I am walking home.')"
   ]
  },
  {
   "cell_type": "markdown",
   "metadata": {},
   "source": [
    "Here we can see that `if` takes a boolean value. If the value is `True`, it will execute the block of code below it, if it is `False`, it will skip the block below it and not execute it. \n",
    "\n",
    "Furtermore, `if` can be combined with `else`, so that if the condition passed to `if` is `False`, then the block below `if` won't execute, but the block below `else` will. **You can use `if` on its own without `else`, but you can never use `else` on its own without `if`; this is because `if` must take a condition, but `else` can't.**"
   ]
  },
  {
   "cell_type": "markdown",
   "metadata": {},
   "source": [
    "**Challenge**\n",
    "\n",
    "Change the code below so that it always says it's buying a loaf of bread, but will buy either 6 eggs or no eggs depending on whether `shop_has_eggs` is `True` or `False`"
   ]
  },
  {
   "cell_type": "code",
   "execution_count": null,
   "metadata": {},
   "outputs": [],
   "source": [
    "# first, define our shop has eggs variable\n",
    "shop_has_eggs = True # change this to False and see what happens when you run it again\n",
    "\n",
    "# everything above will always execute\n",
    "print('I am going to the shops')\n",
    "\n",
    "# now for the conditional execution\n",
    "if shop_has_eggs:\n",
    "    # when shop_has_eggs is True, this block executes\n",
    "    print('The shop has eggs, therefore I will buy 6 loaves of bread.')\n",
    "else:\n",
    "    # when it's False, this block executes\n",
    "    print('The shop has no eggs, therefore I will buy 1 loaf of bread.')\n",
    "    \n",
    "# everything below will always execute\n",
    "print('Now I am walking home.')"
   ]
  },
  {
   "cell_type": "markdown",
   "metadata": {},
   "source": [
    "### Comparison Operations\n",
    "\n",
    "In a real life database management system, it would be much more probable that there was a variable called something like `egg_count`, which tells us the *number* of eggs in stock, rather than simply *whether* there are eggs or not. If that number is 0, there are no eggs, if it's 1 or more, then there are eggs.\n",
    "\n",
    "So, we need a way to **compare** values (in this case an integer number of eggs) to evaluate to `True` or `False`. This is where the python [comparison operators](https://www.tutorialspoint.com/python/python_basic_operators.htm) come in.\n",
    "\n",
    "Comparison operators are like arithmetic operators, in that they take the value on the left, and compare it to the value on the right, and then, depending on the result of the comparison, return `True` or `False`. We can either assign the boolean value to a variable, or, more commonly, just pass the condition to `if`. \n",
    "\n",
    "Probably the simplest of all these operators to understand is `==`, the **equality** operator. Note the two equals signs, this is intentional, as it means python can understand the different between **assignment** and **equality**.\n",
    "\n",
    "The code below is an example which uses both the assignment operator and the equality operator."
   ]
  },
  {
   "cell_type": "code",
   "execution_count": null,
   "metadata": {},
   "outputs": [],
   "source": [
    "# add comments in this cell\n",
    "test_var = 10\n",
    "\n",
    "if test_var == 10:\n",
    "    print('test_var is equal to ten')"
   ]
  },
  {
   "cell_type": "markdown",
   "metadata": {},
   "source": [
    "The equality operator is just one of the python comparison operators:\n",
    "\n",
    "\n",
    "| Symbol | Name                     | Example: `True`    | Example: `False`   |\n",
    "|:------:|:------------------------:|:------------------:|:------------------:|\n",
    "| `==`   | Equality                 | 'woof' == 'woof'   | 23 == 20           |\n",
    "| `!=`   | Inequality               | 'woof' != 'meow'   | 23 != 23           |\n",
    "| `>`    | Greater than             | 123 > 12.3         | 100 > 1000         |\n",
    "| `<`    | Less than                | 1000 < 10000       | 1 < 0.1            |\n",
    "| `>=`   | Greater than or equal to | 10 >= 10           | 100 >= 1000        |\n",
    "| `<=`   | Less than or equal to    | 10 <= 100          | 101 <= 100.0       |\n",
    "| `is`   | Identity                 | 10 is 10           | 10 is 10.0         |\n",
    "\n",
    "\n",
    "Take a moment to go over these in your head so you are confident you understand them. "
   ]
  },
  {
   "cell_type": "markdown",
   "metadata": {},
   "source": [
    "### Elif\n",
    "\n",
    "Finally, what do we do when we want to apply several `if` statements? We use `elif`.\n",
    "`elif`, like `else`, can only be used after an `if` statement, and like `else`, it is also optional. So, the following combinations are allowed:\n",
    "\n",
    "* `if` on its own\n",
    "* `if` and `elif` with no `else`\n",
    "* `if`, `elif` and `else`\n",
    "\n",
    "You may also include as many `elif` statements as desired. See below, and make sure you understand!\n",
    "\n",
    "**Eggs Example**"
   ]
  },
  {
   "cell_type": "code",
   "execution_count": 17,
   "metadata": {
    "scrolled": true
   },
   "outputs": [
    {
     "name": "stdout",
     "output_type": "stream",
     "text": [
      "I will buy only 5 eggs\n"
     ]
    }
   ],
   "source": [
    "# let's get the value from the shop\n",
    "egg_count = 5  # change this value to whatever you like, and see how the execution changes\n",
    "\n",
    "# how many eggs do we want?\n",
    "number_of_eggs_wanted = 6\n",
    "\n",
    "# does the shop have eggs?\n",
    "if egg_count >= number_of_eggs_wanted:\n",
    "    # yes\n",
    "    print('I will buy', number_of_eggs_wanted ,'eggs')\n",
    "elif egg_count > 2:\n",
    "    print('I will buy only', egg_count ,'eggs')\n",
    "elif egg_count > 1:\n",
    "    print('I will buy the last pair of eggs')\n",
    "elif egg_count > 0:\n",
    "    print('Lucky me, I got the last egg!')\n",
    "else:\n",
    "    # no\n",
    "    print('No eggs for me today')"
   ]
  },
  {
   "cell_type": "markdown",
   "metadata": {},
   "source": [
    "# Congrats! \n",
    "\n",
    "That was a lot to get through, but these are the basics of programming in Python!"
   ]
  }
 ],
 "metadata": {
  "kernelspec": {
   "display_name": "Python 3",
   "language": "python",
   "name": "python3"
  },
  "language_info": {
   "codemirror_mode": {
    "name": "ipython",
    "version": 3
   },
   "file_extension": ".py",
   "mimetype": "text/x-python",
   "name": "python",
   "nbconvert_exporter": "python",
   "pygments_lexer": "ipython3",
   "version": "3.7.3"
  }
 },
 "nbformat": 4,
 "nbformat_minor": 2
}
