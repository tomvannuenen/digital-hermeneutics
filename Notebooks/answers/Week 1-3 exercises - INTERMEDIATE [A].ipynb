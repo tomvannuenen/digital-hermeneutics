{
 "cells": [
  {
   "cell_type": "markdown",
   "metadata": {},
   "source": [
    "<div style=\"display: block; width: 100%; height: 120px;\">\n",
    "\n",
    "<p style=\"float: left;\">\n",
    "    <span style=\"font-weight: bold; line-height: 24px; font-size: 16px;\">\n",
    "        DIGHUM160 - Critical Digital Humanities\n",
    "        <br />\n",
    "        Digital Hermeneutics 2019\n",
    "    </span>\n",
    "    <br >\n",
    "    <span style=\"line-height: 22x; font-size: 14x; margin-top: 10px;\">\n",
    "        Week 1 Exercises - INTERMEDIATE <br />\n",
    "        Created by Tom van Nuenen (tom.van_nuenen@kcl.ac.uk) \n",
    "    </span>\n",
    "</p>\n",
    "\n",
    "<img style=\"width: 240px; height: 120px; float: right; margin: 0 0 0 0;\" src=\"http://www.merritt.edu/wp/histotech/wp-content/uploads/sites/275/2018/08/berkeley-logo.jpg\" />\n",
    "</div>"
   ]
  },
  {
   "cell_type": "markdown",
   "metadata": {},
   "source": [
    "# Welcome!\n",
    "\n",
    "In this Notebook we will go over some of the things you have learned in the past month. \n",
    "Feel free to collaborate with each other in order to answer these questions--but *don't copy them from other assignments*! You'll rob yourself of a learning experience ;) "
   ]
  },
  {
   "cell_type": "markdown",
   "metadata": {},
   "source": [
    "## 1. Working with .txt files\n",
    "\n",
    "Write a small utility function `read_file(filename)` that reads a specified file and simply returns all contents as a single string. Use it to read the example file 'test.txt' and save it in the variable `test`."
   ]
  },
  {
   "cell_type": "code",
   "execution_count": 2,
   "metadata": {},
   "outputs": [],
   "source": [
    "# Define your function here\n",
    "def read_file(filename):\n",
    "    \"Read the contents of FILENAME and return as a string.\"\n",
    "    infile = open(filename) \n",
    "    contents = infile.read()\n",
    "    infile.close()\n",
    "    return contents"
   ]
  },
  {
   "cell_type": "code",
   "execution_count": 12,
   "metadata": {},
   "outputs": [],
   "source": [
    "# Run your function here\n",
    "test = read_file('test.txt')"
   ]
  },
  {
   "cell_type": "markdown",
   "metadata": {},
   "source": [
    "Now, we are going to create a function `split_sentences` that performs some very simple sentence splitting when passed a text string. Each sentence will be represented as a new string, so the function as a whole returns a list of sentence strings. We assume that any occurrence of either  . or ! or ? marks the end of a sentence.\n",
    "\n",
    "First, create a function called `end_of_sentence_marker` that takes as argument a character and returns True if it is an end-of-sentence marker, otherwise it returns False."
   ]
  },
  {
   "cell_type": "code",
   "execution_count": 6,
   "metadata": {},
   "outputs": [
    {
     "name": "stdout",
     "output_type": "stream",
     "text": [
      "True\n",
      "True\n"
     ]
    }
   ],
   "source": [
    "# Define your function here\n",
    "def end_of_sentence_marker(character):\n",
    "    # insert your code here\n",
    "    return character in '!?.'\n",
    "\n",
    "# these tests should return True if your code is correct\n",
    "print(end_of_sentence_marker(\"?\") == True)\n",
    "print(end_of_sentence_marker(\"a\") == False)"
   ]
  },
  {
   "cell_type": "markdown",
   "metadata": {},
   "source": [
    "An important function we will use is the built in `enumerate`. `enumerate` takes as argument any iterable (a string a list etc.). Let's see it in action:"
   ]
  },
  {
   "cell_type": "code",
   "execution_count": 8,
   "metadata": {},
   "outputs": [
    {
     "name": "stdout",
     "output_type": "stream",
     "text": [
      "0 P\n",
      "1 y\n",
      "2 t\n",
      "3 h\n",
      "4 o\n",
      "5 n\n"
     ]
    }
   ],
   "source": [
    "for i, character in enumerate(\"Python\"):\n",
    "    print(i, character)"
   ]
  },
  {
   "cell_type": "markdown",
   "metadata": {},
   "source": [
    "As you can see, enumerate allows you to iterate over an iterable and for each element in that iterable, it gives you its corresponding index. "
   ]
  },
  {
   "cell_type": "markdown",
   "metadata": {},
   "source": [
    "Now we can create our function `split_sentences`. It takes as argument a text represented by a simple string. \n",
    "\n",
    "Within `split_sentences`, define a variable 'sentences' in which to store the individual sentences (use a list!). \n",
    "Next, define a variable `start` and set it to zero. We're doing this as we need to extract both the start position and the end position of each sentence, and we know that the first sentence will always start at position 0.\n",
    "\n",
    "Next, use `enumerate` to *loop* over all individual characters in the text. \n",
    "Remember that enumerate returns pairs of indexes and their corresponding elements (here characters). For each character we check whether it is an end-of-sentence marker. If it is, the variable end marks the position in text where a sentence ends. "
   ]
  },
  {
   "cell_type": "code",
   "execution_count": 9,
   "metadata": {},
   "outputs": [],
   "source": [
    "def split_sentences(text):\n",
    "    \"Split a text string into a list of sentences.\"\n",
    "    sentences = []\n",
    "    start = 0\n",
    "    for end, character in enumerate(text):\n",
    "        if end_of_sentence_marker(character):\n",
    "            sentence = text[start: end + 1]\n",
    "            sentences.append(sentence)\n",
    "            start = end + 1\n",
    "    return sentences"
   ]
  },
  {
   "cell_type": "markdown",
   "metadata": {},
   "source": [
    "Now, let's see if our `split_sentences` function runs by running it. Use your `test` variable as the argument and save the output in a variable named `split`."
   ]
  },
  {
   "cell_type": "code",
   "execution_count": 28,
   "metadata": {
    "scrolled": true
   },
   "outputs": [],
   "source": [
    "# Run your code here\n",
    "split = split_sentences(test)"
   ]
  },
  {
   "cell_type": "markdown",
   "metadata": {},
   "source": [
    "Finally, let's visualize some of these results. We'll create a new variable called `sentence_length`, assigning an empty list to it. We'll then loop over our `split` variable, containing all sentences in our test file, and add the length of each sentence to the `sentence_length` variable (tip: use the built-in `len()` function)."
   ]
  },
  {
   "cell_type": "code",
   "execution_count": 29,
   "metadata": {},
   "outputs": [],
   "source": [
    "sentence_length = []\n",
    "for i in split:\n",
    "    sentence_length.append(len(i))"
   ]
  },
  {
   "cell_type": "markdown",
   "metadata": {},
   "source": [
    "Finally, we'll import matplotlib and plot `sentence_length`. If you did everything right, the below code should give you a graph of the sentence lengths!"
   ]
  },
  {
   "cell_type": "code",
   "execution_count": 32,
   "metadata": {},
   "outputs": [
    {
     "data": {
      "text/plain": [
       "[<matplotlib.lines.Line2D at 0x11d12c2e8>]"
      ]
     },
     "execution_count": 32,
     "metadata": {},
     "output_type": "execute_result"
    },
    {
     "data": {
      "image/png": "[encoded data removed]",
      "text/plain": [
       "<Figure size 432x288 with 1 Axes>"
      ]
     },
     "metadata": {},
     "output_type": "display_data"
    }
   ],
   "source": [
    "import matplotlib.pyplot as plt\n",
    "\n",
    "plt.plot(sentence_length)"
   ]
  },
  {
   "cell_type": "markdown",
   "metadata": {},
   "source": [
    "## 2. Working with Pandas\n",
    "\n",
    "Next, we'll import a .csv into a Pandas dataframe. Import Pandas and use the read_csv function to open the example file 'AskTrumpSupporters.csv'. \n",
    "Then, show the first few lines of the dataframe (using the `.head()` function)."
   ]
  },
  {
   "cell_type": "code",
   "execution_count": 13,
   "metadata": {},
   "outputs": [
    {
     "data": {
      "text/html": [
       "<div>\n",
       "<style scoped>\n",
       "    .dataframe tbody tr th:only-of-type {\n",
       "        vertical-align: middle;\n",
       "    }\n",
       "\n",
       "    .dataframe tbody tr th {\n",
       "        vertical-align: top;\n",
       "    }\n",
       "\n",
       "    .dataframe thead th {\n",
       "        text-align: right;\n",
       "    }\n",
       "</style>\n",
       "<table border=\"1\" class=\"dataframe\">\n",
       "  <thead>\n",
       "    <tr style=\"text-align: right;\">\n",
       "      <th></th>\n",
       "      <th>no.</th>\n",
       "      <th>url</th>\n",
       "      <th>date</th>\n",
       "      <th>author</th>\n",
       "      <th>score</th>\n",
       "      <th>title</th>\n",
       "      <th>body</th>\n",
       "      <th>comments</th>\n",
       "    </tr>\n",
       "  </thead>\n",
       "  <tbody>\n",
       "    <tr>\n",
       "      <th>0</th>\n",
       "      <td>1</td>\n",
       "      <td>https://www.reddit.com/r/AskTrumpSupporters/co...</td>\n",
       "      <td>2018-10-22</td>\n",
       "      <td>MarsNirgal</td>\n",
       "      <td>13</td>\n",
       "      <td>Is there a control or solution for the things ...</td>\n",
       "      <td>Again, I'm assuming that there are things Trum...</td>\n",
       "      <td>AskTrumpSupporters is designed to provide a wa...</td>\n",
       "    </tr>\n",
       "    <tr>\n",
       "      <th>1</th>\n",
       "      <td>2</td>\n",
       "      <td>https://www.reddit.com/r/AskTrumpSupporters/co...</td>\n",
       "      <td>2018-10-21</td>\n",
       "      <td>C137-Morty</td>\n",
       "      <td>239</td>\n",
       "      <td>Do you agree with Rand Paul that we should sto...</td>\n",
       "      <td>He said in an interview with Chris Wallace tha...</td>\n",
       "      <td>AskTrumpSupporters is designed to provide a wa...</td>\n",
       "    </tr>\n",
       "    <tr>\n",
       "      <th>2</th>\n",
       "      <td>3</td>\n",
       "      <td>https://www.reddit.com/r/AskTrumpSupporters/co...</td>\n",
       "      <td>2018-10-21</td>\n",
       "      <td>56784rfhu6tg65t</td>\n",
       "      <td>7</td>\n",
       "      <td>Is the rise of groups like antifa a result of ...</td>\n",
       "      <td>Do you think groups like antifa would be as pr...</td>\n",
       "      <td>AskTrumpSupporters is designed to provide a wa...</td>\n",
       "    </tr>\n",
       "    <tr>\n",
       "      <th>3</th>\n",
       "      <td>4</td>\n",
       "      <td>https://www.reddit.com/r/AskTrumpSupporters/co...</td>\n",
       "      <td>2018-10-21</td>\n",
       "      <td>ButAleppo</td>\n",
       "      <td>108</td>\n",
       "      <td>Trump is going to pull us out of a intermediat...</td>\n",
       "      <td>Read this on AOL: [https://www.aol.com/article...</td>\n",
       "      <td>AskTrumpSupporters is designed to provide a wa...</td>\n",
       "    </tr>\n",
       "    <tr>\n",
       "      <th>4</th>\n",
       "      <td>5</td>\n",
       "      <td>https://www.reddit.com/r/AskTrumpSupporters/co...</td>\n",
       "      <td>2018-10-21</td>\n",
       "      <td>greyzcale</td>\n",
       "      <td>2</td>\n",
       "      <td>Do you have experience with MDMA/ecstacy, or o...</td>\n",
       "      <td>I've seen lots of liberal leaning people use M...</td>\n",
       "      <td>AskTrumpSupporters is designed to provide a wa...</td>\n",
       "    </tr>\n",
       "  </tbody>\n",
       "</table>\n",
       "</div>"
      ],
      "text/plain": [
       "   no.                                                url        date  \\\n",
       "0    1  https://www.reddit.com/r/AskTrumpSupporters/co...  2018-10-22   \n",
       "1    2  https://www.reddit.com/r/AskTrumpSupporters/co...  2018-10-21   \n",
       "2    3  https://www.reddit.com/r/AskTrumpSupporters/co...  2018-10-21   \n",
       "3    4  https://www.reddit.com/r/AskTrumpSupporters/co...  2018-10-21   \n",
       "4    5  https://www.reddit.com/r/AskTrumpSupporters/co...  2018-10-21   \n",
       "\n",
       "            author  score                                              title  \\\n",
       "0       MarsNirgal     13  Is there a control or solution for the things ...   \n",
       "1       C137-Morty    239  Do you agree with Rand Paul that we should sto...   \n",
       "2  56784rfhu6tg65t      7  Is the rise of groups like antifa a result of ...   \n",
       "3        ButAleppo    108  Trump is going to pull us out of a intermediat...   \n",
       "4        greyzcale      2  Do you have experience with MDMA/ecstacy, or o...   \n",
       "\n",
       "                                                body  \\\n",
       "0  Again, I'm assuming that there are things Trum...   \n",
       "1  He said in an interview with Chris Wallace tha...   \n",
       "2  Do you think groups like antifa would be as pr...   \n",
       "3  Read this on AOL: [https://www.aol.com/article...   \n",
       "4  I've seen lots of liberal leaning people use M...   \n",
       "\n",
       "                                            comments  \n",
       "0  AskTrumpSupporters is designed to provide a wa...  \n",
       "1  AskTrumpSupporters is designed to provide a wa...  \n",
       "2  AskTrumpSupporters is designed to provide a wa...  \n",
       "3  AskTrumpSupporters is designed to provide a wa...  \n",
       "4  AskTrumpSupporters is designed to provide a wa...  "
      ]
     },
     "execution_count": 13,
     "metadata": {},
     "output_type": "execute_result"
    }
   ],
   "source": [
    "# Your code here\n",
    "import pandas as pd\n",
    "\n",
    "df = pd.read_csv(\"AskTrumpSupporters.csv\") \n",
    "df.head()"
   ]
  },
  {
   "cell_type": "markdown",
   "metadata": {},
   "source": [
    "Now, write a function `tokenizer()` that takes as input a string. Make sure that the function:"
   ]
  },
  {
   "cell_type": "markdown",
   "metadata": {},
   "source": [
    "- turns the string into lower case \n",
    "- cleans up punctuation (you can use regex, a custom list, or the inbuilt `string.punctuation` package)\n",
    "- Puts al words in a list\n",
    "- returns said list"
   ]
  },
  {
   "cell_type": "code",
   "execution_count": 24,
   "metadata": {},
   "outputs": [],
   "source": [
    "import string\n",
    "def tokenizer(text):\n",
    "    '''cleans up and tokenizes input string'''\n",
    "    text = text.lower()\n",
    "    bad_chars = ['\\n', '\\t', '”', '“']\n",
    "    textClean = text.translate(str.maketrans({ch: \" \" for ch in bad_chars}))\n",
    "    table = str.maketrans({ch: None for ch in string.punctuation})\n",
    "    no_punct = (s.translate(table) for s in textClean.split(' ') if s != '')\n",
    "    digits_out = [word for word in no_punct if not word.isdigit()]\n",
    "    return digits_out"
   ]
  },
  {
   "cell_type": "markdown",
   "metadata": {},
   "source": [
    "Next, we might want to use our tokenizer on only a subset of our data. Create a new dataframe which only contains the first 20 entries of our df. Also, remove all rows containing empty values (you can use Pandas' `dropna()` function)."
   ]
  },
  {
   "cell_type": "code",
   "execution_count": 48,
   "metadata": {},
   "outputs": [
    {
     "data": {
      "text/html": [
       "<div>\n",
       "<style scoped>\n",
       "    .dataframe tbody tr th:only-of-type {\n",
       "        vertical-align: middle;\n",
       "    }\n",
       "\n",
       "    .dataframe tbody tr th {\n",
       "        vertical-align: top;\n",
       "    }\n",
       "\n",
       "    .dataframe thead th {\n",
       "        text-align: right;\n",
       "    }\n",
       "</style>\n",
       "<table border=\"1\" class=\"dataframe\">\n",
       "  <thead>\n",
       "    <tr style=\"text-align: right;\">\n",
       "      <th></th>\n",
       "      <th>no.</th>\n",
       "      <th>url</th>\n",
       "      <th>date</th>\n",
       "      <th>author</th>\n",
       "      <th>score</th>\n",
       "      <th>title</th>\n",
       "      <th>body</th>\n",
       "      <th>comments</th>\n",
       "    </tr>\n",
       "  </thead>\n",
       "  <tbody>\n",
       "    <tr>\n",
       "      <th>0</th>\n",
       "      <td>1</td>\n",
       "      <td>https://www.reddit.com/r/AskTrumpSupporters/co...</td>\n",
       "      <td>2018-10-22</td>\n",
       "      <td>MarsNirgal</td>\n",
       "      <td>13</td>\n",
       "      <td>Is there a control or solution for the things ...</td>\n",
       "      <td>Again, I'm assuming that there are things Trum...</td>\n",
       "      <td>AskTrumpSupporters is designed to provide a wa...</td>\n",
       "    </tr>\n",
       "    <tr>\n",
       "      <th>1</th>\n",
       "      <td>2</td>\n",
       "      <td>https://www.reddit.com/r/AskTrumpSupporters/co...</td>\n",
       "      <td>2018-10-21</td>\n",
       "      <td>C137-Morty</td>\n",
       "      <td>239</td>\n",
       "      <td>Do you agree with Rand Paul that we should sto...</td>\n",
       "      <td>He said in an interview with Chris Wallace tha...</td>\n",
       "      <td>AskTrumpSupporters is designed to provide a wa...</td>\n",
       "    </tr>\n",
       "    <tr>\n",
       "      <th>2</th>\n",
       "      <td>3</td>\n",
       "      <td>https://www.reddit.com/r/AskTrumpSupporters/co...</td>\n",
       "      <td>2018-10-21</td>\n",
       "      <td>56784rfhu6tg65t</td>\n",
       "      <td>7</td>\n",
       "      <td>Is the rise of groups like antifa a result of ...</td>\n",
       "      <td>Do you think groups like antifa would be as pr...</td>\n",
       "      <td>AskTrumpSupporters is designed to provide a wa...</td>\n",
       "    </tr>\n",
       "    <tr>\n",
       "      <th>3</th>\n",
       "      <td>4</td>\n",
       "      <td>https://www.reddit.com/r/AskTrumpSupporters/co...</td>\n",
       "      <td>2018-10-21</td>\n",
       "      <td>ButAleppo</td>\n",
       "      <td>108</td>\n",
       "      <td>Trump is going to pull us out of a intermediat...</td>\n",
       "      <td>Read this on AOL: [https://www.aol.com/article...</td>\n",
       "      <td>AskTrumpSupporters is designed to provide a wa...</td>\n",
       "    </tr>\n",
       "    <tr>\n",
       "      <th>4</th>\n",
       "      <td>5</td>\n",
       "      <td>https://www.reddit.com/r/AskTrumpSupporters/co...</td>\n",
       "      <td>2018-10-21</td>\n",
       "      <td>greyzcale</td>\n",
       "      <td>2</td>\n",
       "      <td>Do you have experience with MDMA/ecstacy, or o...</td>\n",
       "      <td>I've seen lots of liberal leaning people use M...</td>\n",
       "      <td>AskTrumpSupporters is designed to provide a wa...</td>\n",
       "    </tr>\n",
       "    <tr>\n",
       "      <th>5</th>\n",
       "      <td>6</td>\n",
       "      <td>https://www.reddit.com/r/AskTrumpSupporters/co...</td>\n",
       "      <td>2018-10-21</td>\n",
       "      <td>Flavahbeast</td>\n",
       "      <td>5</td>\n",
       "      <td>Should Trump fire General Mattis?</td>\n",
       "      <td>In your opinion, should Trump fire James Matti...</td>\n",
       "      <td>AskTrumpSupporters is designed to provide a wa...</td>\n",
       "    </tr>\n",
       "    <tr>\n",
       "      <th>6</th>\n",
       "      <td>7</td>\n",
       "      <td>https://www.reddit.com/r/AskTrumpSupporters/co...</td>\n",
       "      <td>2018-10-21</td>\n",
       "      <td>beigebaron</td>\n",
       "      <td>30</td>\n",
       "      <td>How do you feel about the Trump Network and ML...</td>\n",
       "      <td>Donald Trump had promoted an MLM called the [T...</td>\n",
       "      <td>AskTrumpSupporters is designed to provide a wa...</td>\n",
       "    </tr>\n",
       "    <tr>\n",
       "      <th>7</th>\n",
       "      <td>8</td>\n",
       "      <td>https://www.reddit.com/r/AskTrumpSupporters/co...</td>\n",
       "      <td>2018-10-21</td>\n",
       "      <td>greyzcale</td>\n",
       "      <td>23</td>\n",
       "      <td>Is safe gun storage compatible with home defence?</td>\n",
       "      <td>If you keep a gun at home, the standard advice...</td>\n",
       "      <td>AskTrumpSupporters is designed to provide a wa...</td>\n",
       "    </tr>\n",
       "    <tr>\n",
       "      <th>8</th>\n",
       "      <td>9</td>\n",
       "      <td>https://www.reddit.com/r/AskTrumpSupporters/co...</td>\n",
       "      <td>2018-10-21</td>\n",
       "      <td>somethingbreadbears</td>\n",
       "      <td>23</td>\n",
       "      <td>Hypothetical: Trump doesn't run for reelection...</td>\n",
       "      <td>Hypothetical question after reading: https://w...</td>\n",
       "      <td>AskTrumpSupporters is designed to provide a wa...</td>\n",
       "    </tr>\n",
       "    <tr>\n",
       "      <th>10</th>\n",
       "      <td>11</td>\n",
       "      <td>https://www.reddit.com/r/AskTrumpSupporters/co...</td>\n",
       "      <td>2018-10-20</td>\n",
       "      <td>harpuajim25</td>\n",
       "      <td>99</td>\n",
       "      <td>Does it concern you that Trump has once again ...</td>\n",
       "      <td>[A link to the article](https://nyti.ms/2R8a1K...</td>\n",
       "      <td>AskTrumpSupporters is designed to provide a wa...</td>\n",
       "    </tr>\n",
       "    <tr>\n",
       "      <th>11</th>\n",
       "      <td>12</td>\n",
       "      <td>https://www.reddit.com/r/AskTrumpSupporters/co...</td>\n",
       "      <td>2018-10-20</td>\n",
       "      <td>LivefromPhoenix</td>\n",
       "      <td>51</td>\n",
       "      <td>President Donald Trump said on Friday that the...</td>\n",
       "      <td>According to new claims by Saudi government, K...</td>\n",
       "      <td>AskTrumpSupporters is designed to provide a wa...</td>\n",
       "    </tr>\n",
       "    <tr>\n",
       "      <th>12</th>\n",
       "      <td>13</td>\n",
       "      <td>https://www.reddit.com/r/AskTrumpSupporters/co...</td>\n",
       "      <td>2018-10-20</td>\n",
       "      <td>Baron_Sigma</td>\n",
       "      <td>35</td>\n",
       "      <td>What do you think of the FBI charging a Russia...</td>\n",
       "      <td>[Article on the findings.](https://www.reuters...</td>\n",
       "      <td>AskTrumpSupporters is designed to provide a wa...</td>\n",
       "    </tr>\n",
       "    <tr>\n",
       "      <th>13</th>\n",
       "      <td>14</td>\n",
       "      <td>https://www.reddit.com/r/AskTrumpSupporters/co...</td>\n",
       "      <td>2018-10-20</td>\n",
       "      <td>tibbon</td>\n",
       "      <td>0</td>\n",
       "      <td>How do strict enforcement of rule of law and a...</td>\n",
       "      <td>If a law is on the books, should it be strictl...</td>\n",
       "      <td>AskTrumpSupporters is designed to provide a wa...</td>\n",
       "    </tr>\n",
       "    <tr>\n",
       "      <th>14</th>\n",
       "      <td>15</td>\n",
       "      <td>https://www.reddit.com/r/AskTrumpSupporters/co...</td>\n",
       "      <td>2018-10-20</td>\n",
       "      <td>_whatisthat_</td>\n",
       "      <td>3</td>\n",
       "      <td>For Trump supporters, politicians, Trump, and ...</td>\n",
       "      <td>What can conservatives and/or liberals do to d...</td>\n",
       "      <td>AskTrumpSupporters is designed to provide a wa...</td>\n",
       "    </tr>\n",
       "    <tr>\n",
       "      <th>15</th>\n",
       "      <td>16</td>\n",
       "      <td>https://www.reddit.com/r/AskTrumpSupporters/co...</td>\n",
       "      <td>2018-10-20</td>\n",
       "      <td>USUKNL</td>\n",
       "      <td>94</td>\n",
       "      <td>What are your thoughts on felon disenfranchise...</td>\n",
       "      <td>Should those convicted of felonies lose their ...</td>\n",
       "      <td>AskTrumpSupporters is designed to provide a wa...</td>\n",
       "    </tr>\n",
       "    <tr>\n",
       "      <th>16</th>\n",
       "      <td>17</td>\n",
       "      <td>https://www.reddit.com/r/AskTrumpSupporters/co...</td>\n",
       "      <td>2018-10-20</td>\n",
       "      <td>Flussiges</td>\n",
       "      <td>6</td>\n",
       "      <td>Weekend</td>\n",
       "      <td>*This is free discussion on any topic outside ...</td>\n",
       "      <td>Not me but looking at my girlfriend who is rig...</td>\n",
       "    </tr>\n",
       "    <tr>\n",
       "      <th>17</th>\n",
       "      <td>18</td>\n",
       "      <td>https://www.reddit.com/r/AskTrumpSupporters/co...</td>\n",
       "      <td>2018-10-20</td>\n",
       "      <td>LazySparker</td>\n",
       "      <td>8</td>\n",
       "      <td>When you talk to people with differing politic...</td>\n",
       "      <td>Pretty straightforward couple of questions\\n\\n...</td>\n",
       "      <td>AskTrumpSupporters is designed to provide a wa...</td>\n",
       "    </tr>\n",
       "    <tr>\n",
       "      <th>18</th>\n",
       "      <td>19</td>\n",
       "      <td>https://www.reddit.com/r/AskTrumpSupporters/co...</td>\n",
       "      <td>2018-10-20</td>\n",
       "      <td>nbthbn_hble</td>\n",
       "      <td>21</td>\n",
       "      <td>Do you think there is unequal or equal IQ dist...</td>\n",
       "      <td>I recently had a private chat on reddit that s...</td>\n",
       "      <td>AskTrumpSupporters is designed to provide a wa...</td>\n",
       "    </tr>\n",
       "    <tr>\n",
       "      <th>19</th>\n",
       "      <td>20</td>\n",
       "      <td>https://www.reddit.com/r/AskTrumpSupporters/co...</td>\n",
       "      <td>2018-10-20</td>\n",
       "      <td>Tralfamadorian88</td>\n",
       "      <td>17</td>\n",
       "      <td>Do you believe in \"social constructs\"?</td>\n",
       "      <td>The definition of \"[social construct](https://...</td>\n",
       "      <td>AskTrumpSupporters is designed to provide a wa...</td>\n",
       "    </tr>\n",
       "  </tbody>\n",
       "</table>\n",
       "</div>"
      ],
      "text/plain": [
       "    no.                                                url        date  \\\n",
       "0     1  https://www.reddit.com/r/AskTrumpSupporters/co...  2018-10-22   \n",
       "1     2  https://www.reddit.com/r/AskTrumpSupporters/co...  2018-10-21   \n",
       "2     3  https://www.reddit.com/r/AskTrumpSupporters/co...  2018-10-21   \n",
       "3     4  https://www.reddit.com/r/AskTrumpSupporters/co...  2018-10-21   \n",
       "4     5  https://www.reddit.com/r/AskTrumpSupporters/co...  2018-10-21   \n",
       "5     6  https://www.reddit.com/r/AskTrumpSupporters/co...  2018-10-21   \n",
       "6     7  https://www.reddit.com/r/AskTrumpSupporters/co...  2018-10-21   \n",
       "7     8  https://www.reddit.com/r/AskTrumpSupporters/co...  2018-10-21   \n",
       "8     9  https://www.reddit.com/r/AskTrumpSupporters/co...  2018-10-21   \n",
       "10   11  https://www.reddit.com/r/AskTrumpSupporters/co...  2018-10-20   \n",
       "11   12  https://www.reddit.com/r/AskTrumpSupporters/co...  2018-10-20   \n",
       "12   13  https://www.reddit.com/r/AskTrumpSupporters/co...  2018-10-20   \n",
       "13   14  https://www.reddit.com/r/AskTrumpSupporters/co...  2018-10-20   \n",
       "14   15  https://www.reddit.com/r/AskTrumpSupporters/co...  2018-10-20   \n",
       "15   16  https://www.reddit.com/r/AskTrumpSupporters/co...  2018-10-20   \n",
       "16   17  https://www.reddit.com/r/AskTrumpSupporters/co...  2018-10-20   \n",
       "17   18  https://www.reddit.com/r/AskTrumpSupporters/co...  2018-10-20   \n",
       "18   19  https://www.reddit.com/r/AskTrumpSupporters/co...  2018-10-20   \n",
       "19   20  https://www.reddit.com/r/AskTrumpSupporters/co...  2018-10-20   \n",
       "\n",
       "                 author  score  \\\n",
       "0            MarsNirgal     13   \n",
       "1            C137-Morty    239   \n",
       "2       56784rfhu6tg65t      7   \n",
       "3             ButAleppo    108   \n",
       "4             greyzcale      2   \n",
       "5           Flavahbeast      5   \n",
       "6            beigebaron     30   \n",
       "7             greyzcale     23   \n",
       "8   somethingbreadbears     23   \n",
       "10          harpuajim25     99   \n",
       "11      LivefromPhoenix     51   \n",
       "12          Baron_Sigma     35   \n",
       "13               tibbon      0   \n",
       "14         _whatisthat_      3   \n",
       "15               USUKNL     94   \n",
       "16            Flussiges      6   \n",
       "17          LazySparker      8   \n",
       "18          nbthbn_hble     21   \n",
       "19     Tralfamadorian88     17   \n",
       "\n",
       "                                                title  \\\n",
       "0   Is there a control or solution for the things ...   \n",
       "1   Do you agree with Rand Paul that we should sto...   \n",
       "2   Is the rise of groups like antifa a result of ...   \n",
       "3   Trump is going to pull us out of a intermediat...   \n",
       "4   Do you have experience with MDMA/ecstacy, or o...   \n",
       "5                   Should Trump fire General Mattis?   \n",
       "6   How do you feel about the Trump Network and ML...   \n",
       "7   Is safe gun storage compatible with home defence?   \n",
       "8   Hypothetical: Trump doesn't run for reelection...   \n",
       "10  Does it concern you that Trump has once again ...   \n",
       "11  President Donald Trump said on Friday that the...   \n",
       "12  What do you think of the FBI charging a Russia...   \n",
       "13  How do strict enforcement of rule of law and a...   \n",
       "14  For Trump supporters, politicians, Trump, and ...   \n",
       "15  What are your thoughts on felon disenfranchise...   \n",
       "16                                            Weekend   \n",
       "17  When you talk to people with differing politic...   \n",
       "18  Do you think there is unequal or equal IQ dist...   \n",
       "19             Do you believe in \"social constructs\"?   \n",
       "\n",
       "                                                 body  \\\n",
       "0   Again, I'm assuming that there are things Trum...   \n",
       "1   He said in an interview with Chris Wallace tha...   \n",
       "2   Do you think groups like antifa would be as pr...   \n",
       "3   Read this on AOL: [https://www.aol.com/article...   \n",
       "4   I've seen lots of liberal leaning people use M...   \n",
       "5   In your opinion, should Trump fire James Matti...   \n",
       "6   Donald Trump had promoted an MLM called the [T...   \n",
       "7   If you keep a gun at home, the standard advice...   \n",
       "8   Hypothetical question after reading: https://w...   \n",
       "10  [A link to the article](https://nyti.ms/2R8a1K...   \n",
       "11  According to new claims by Saudi government, K...   \n",
       "12  [Article on the findings.](https://www.reuters...   \n",
       "13  If a law is on the books, should it be strictl...   \n",
       "14  What can conservatives and/or liberals do to d...   \n",
       "15  Should those convicted of felonies lose their ...   \n",
       "16  *This is free discussion on any topic outside ...   \n",
       "17  Pretty straightforward couple of questions\\n\\n...   \n",
       "18  I recently had a private chat on reddit that s...   \n",
       "19  The definition of \"[social construct](https://...   \n",
       "\n",
       "                                             comments  \n",
       "0   AskTrumpSupporters is designed to provide a wa...  \n",
       "1   AskTrumpSupporters is designed to provide a wa...  \n",
       "2   AskTrumpSupporters is designed to provide a wa...  \n",
       "3   AskTrumpSupporters is designed to provide a wa...  \n",
       "4   AskTrumpSupporters is designed to provide a wa...  \n",
       "5   AskTrumpSupporters is designed to provide a wa...  \n",
       "6   AskTrumpSupporters is designed to provide a wa...  \n",
       "7   AskTrumpSupporters is designed to provide a wa...  \n",
       "8   AskTrumpSupporters is designed to provide a wa...  \n",
       "10  AskTrumpSupporters is designed to provide a wa...  \n",
       "11  AskTrumpSupporters is designed to provide a wa...  \n",
       "12  AskTrumpSupporters is designed to provide a wa...  \n",
       "13  AskTrumpSupporters is designed to provide a wa...  \n",
       "14  AskTrumpSupporters is designed to provide a wa...  \n",
       "15  AskTrumpSupporters is designed to provide a wa...  \n",
       "16  Not me but looking at my girlfriend who is rig...  \n",
       "17  AskTrumpSupporters is designed to provide a wa...  \n",
       "18  AskTrumpSupporters is designed to provide a wa...  \n",
       "19  AskTrumpSupporters is designed to provide a wa...  "
      ]
     },
     "execution_count": 48,
     "metadata": {},
     "output_type": "execute_result"
    }
   ],
   "source": [
    "dfNew = df[:20].dropna()\n",
    "dfNew"
   ]
  },
  {
   "cell_type": "markdown",
   "metadata": {},
   "source": [
    "Finally, run your tokenizer function, taking as input the `body` column from your dataframe. Loop over each row of your dataframe, and print out the tokenized `body` of each row."
   ]
  },
  {
   "cell_type": "code",
   "execution_count": 49,
   "metadata": {
    "scrolled": false
   },
   "outputs": [
    {
     "name": "stdout",
     "output_type": "stream",
     "text": [
      "['again', 'im', 'assuming', 'that', 'there', 'are', 'things', 'trumps', 'does', 'or', 'believes', 'that', 'even', 'his', 'supporters', 'dont', 'like', 'also', 'im', 'assuming', 'that', 'for', 'his', 'supporters', 'the', 'things', 'you', 'like', 'outweigh', 'the', 'things', 'you', 'dislike', 'so', 'overall', 'you', 'still', 'find', 'enough', 'reasons', 'to', 'support', 'him', 'still', 'it', 'would', 'be', 'nice', 'if', 'he', 'stopped', 'doing', 'the', 'things', 'you', 'dislike', 'while', 'continuing', 'with', 'the', 'things', 'you', 'like', 'wouldnt', 'it', 'so', 'what', 'would', 'be', 'a', 'good', 'strategy', 'to', 'prevent', 'him', 'from', 'doing', 'them']\n",
      "['he', 'said', 'in', 'an', 'interview', 'with', 'chris', 'wallace', 'that', 'we', 'need', 'to', 'stop', 'selling', 'arms', 'to', 'sa', 'and', 'that', 'we', 'shouldnt', 'view', 'arms', 'as', 'job', 'creation', 'but', 'rather', 'national', 'security', 'do', 'you', 'agree', 'with', 'pauls', 'view', 'how', 'do', 'you', 'feel', 'about', 'trumps', 'continued', 'support', 'for', 'sa', 'sourcehttpswwwgooglecomampswwwmediaitecomtvafterrandpaulblastssaudiexplanationasinsultingfoxschriswallaceaskshimwhytrumpbelievesitamp']\n",
      "['do', 'you', 'think', 'groups', 'like', 'antifa', 'would', 'be', 'as', 'prevalent', 'under', 'president', 'ted', 'cruz', 'or', 'president', 'marco', 'rubio', 'for', 'example', 'or', 'is', 'it', 'a', 'result', 'of', 'president', 'trump', 'would', 'any', 'republican', 'that', 'won', 'the', 'presidency', 'this', 'past', 'cycle', 'have', 'been', 'as', 'harshly', 'accused', 'of', 'being', 'a', 'facistnazibigotetc', 'also', 'this', 'may', 'be', 'too', 'broad', 'but', 'what', 'major', 'similarities', 'or', 'differences', 'do', 'you', 'think', 'we', 'would', 'see', 'on', 'the', 'political', 'climate', 'today', 'if', 'another', 'republican', 'had', 'been', 'elected', 'president']\n",
      "['read', 'this', 'on', 'aol', 'httpswwwaolcomarticlenews20181020trumpsaysuswillpulloutofintermediaterangenukepact23567011httpswwwaolcomarticlenews20181020trumpsaysuswillpulloutofintermediaterangenukepact23567011', 'x200b', 'apparently', 'its', 'been', 'in', 'place', 'since', 'and', 'both', 'russia', 'and', 'the', 'us', 'say', 'its', 'been', 'violated', 'by', 'both', 'parties', 'what', 'are', 'your', 'thoughts']\n",
      "['ive', 'seen', 'lots', 'of', 'liberal', 'leaning', 'people', 'use', 'mdmaecstasy', 'its', 'effects', 'commonly', 'include', 'increased', 'openmindedness', 'openheartedness', 'trust', 'empathy', 'etc', 'the', 'luvvy', 'duvvy', 'stuff', 'stuff', 'i', 'normally', 'think', 'of', 'as', 'being', 'hippie', 'stuff', 'i', 'dont', 'often', 'see', 'conservative', 'people', 'socially', 'and', 'i', 'dont', 'think', 'ive', 'ever', 'seen', 'a', 'conservative', 'take', 'mdmaecstacy', 'or', 'any', 'other', 'drug', 'known', 'to', 'have', 'similar', 'effects', 'is', 'it', 'at', 'all', 'normal', 'for', 'conservatives', 'to', 'use', 'such', 'drugs', 'recreationally', 'do', 'you', 'have', 'experience', 'with', 'this', 'or', 'similar', 'drugs', 'does', 'it', 'affect', 'how', 'you', 'view', 'other', 'people', 'do', 'you', 'feel', 'like', 'it', 'has', 'affected', 'your', 'worldview', 'at', 'all']\n",
      "['in', 'your', 'opinion', 'should', 'trump', 'fire', 'james', 'mattis', 'or', 'otherwise', 'pressure', 'him', 'to', 'leave', 'his', 'position', 'as', 'secretary', 'of', 'defense']\n",
      "['donald', 'trump', 'had', 'promoted', 'an', 'mlm', 'called', 'the', 'trump', 'networkhttpsenwikipediaorgwikithetrumpnetwork', 'from', 'do', 'you', 'believe', 'mlms', 'can', 'be', 'legitimate', 'businesses', 'do', 'you', 'consider', 'the', 'trump', 'network', 'a', 'positive', 'example', 'of', 'trumps', 'experience', 'or', 'just', 'a', 'mistake', 'that', 'isnt', 'serious', 'enough', 'to', 'keep', 'you', 'from', 'being', 'a', 'supporter']\n",
      "['if', 'you', 'keep', 'a', 'gun', 'at', 'home', 'the', 'standard', 'advice', 'is', 'to', 'keep', 'it', 'locked', 'up', 'perhaps', 'with', 'the', 'firing', 'pin', 'removed', 'or', 'some', 'other', 'safestorage', 'protocol', 'and', 'with', 'the', 'ammo', 'locked', 'up', 'separately', 'quite', 'a', 'lot', 'of', 'children', 'die', 'in', 'home', 'firearm', 'accidentshttpswwwibtimescomaccidentalgundeathsinvolvingchildrenaremajorproblemus2250568', 'so', 'responsible', 'storage', 'seems', 'like', 'a', 'good', 'idea', 'on', 'the', 'other', 'hand', 'one', 'reason', 'for', 'wanting', 'to', 'have', 'a', 'gun', 'in', 'the', 'home', 'in', 'the', 'first', 'place', 'is', 'so', 'you', 'can', 'defend', 'it', 'against', 'intruders', 'i', 'can', 'sympathise', 'with', 'this', 'desire', 'even', 'if', 'i', 'dont', 'think', 'a', 'gun', 'is', 'the', 'right', 'solution', 'but', 'if', 'you', 'are', 'a', 'responsible', 'gun', 'owner', 'who', 'keeps', 'their', 'gun', 'and', 'ammo', 'locked', 'up', 'separately', 'is', 'the', 'gun', 'actually', 'useful', 'for', 'home', 'defence', 'how', 'do', 'you', 'resolve', 'this', 'dilemma']\n",
      "['hypothetical', 'question', 'after', 'reading', 'httpswwwbusinessinsidercomjoescarboroughtrumpwontrunforreelectionin2020201810', 'if', 'trump', 'chooses', 'not', 'to', 'run', 'for', 'reelection', 'in', 'what', 'would', 'be', 'the', 'best', 'move', 'for', 'the', 'republican', 'party', 'who', 'would', 'be', 'his', 'successor', 'who', 'would', 'you', 'vote', 'for']\n",
      "['a', 'link', 'to', 'the', 'articlehttpsnytims2r8a1kh', 'does', 'his', 'siding', 'with', 'the', 'saudi', 'arabian', 'government', 'over', 'his', 'own', 'intelligence', 'services', 'concern', 'you', 'in', 'any', 'way', 'is', 'there', 'any', 'reason', 'for', 'trump', 'to', 'accept', 'their', 'explanation', 'at', 'face', 'value']\n",
      "['according', 'to', 'new', 'claims', 'by', 'saudi', 'government', 'khashoggi', 'died', 'after', 'he', 'got', 'into', 'a', 'fist', 'fighthttpswwwcnbccom20181019saudiarabiaadmitsjournalistjamalkhashoggiwaskilledafterafightbrokeoutinconsulatehtml', 'with', 'people', 'he', 'met', 'at', 'the', 'consulate', 'this', 'contradicts', 'earlier', 'claims', 'made', 'by', 'the', 'saudi', 'government', 'that', 'khashoggi', 'left', 'the', 'consulatehttpswwwbloombergcomnewsarticles20181005saudicrownprincediscussestrumparamcoarreststranscript', 'and', 'contradicts', 'alleged', 'turkish', 'evidencehttpswwwnytimescom20181017worldeuropeturkeysaudikhashoggidismemberhtml', 'that', 'khasoggi', 'was', 'tortured', 'to', 'death', 'do', 'you', 'agree', 'with', 'trump', 'that', 'the', 'new', 'saudi', 'explanation', 'for', 'khashoggis', 'death', 'is', 'credible']\n",
      "['article', 'on', 'the', 'findingshttpswwwreuterscomarticleususarussiacomplaintrussianchargedwithconspiringtointerfereinuscongressionalelectionsiduskcn1mt2ncutmsourceredditcom', 'fbis', 'full', 'affidavithttpswwwjusticegovopapressreleasefile1102316downloadutmmediumemailutmsourcegovdelivery', 'x200b', 'notable', 'instructions', 'given', 'to', 'the', 'russian', 'agent', 'on', 'when', 'to', 'post', 'comments', 'posting', 'can', 'be', 'problematic', 'due', 'to', 'time', 'difference', 'but', 'if', 'you', 'make', 'your', 'reposts', 'in', 'the', 'morning', 'st', 'petersburg', 'time', 'it', 'works', 'well', 'with', 'liberals', '', 'lgbt', 'groups', 'are', 'often', 'active', 'at', 'night', 'also', 'the', 'conservative', 'can', 'view', 'your', 'repost', 'when', 'they', 'wake', 'up', 'in', 'the', 'morning', 'if', 'you', 'post', 'it', 'before', 'you', 'leave', 'in', 'the', 'evening', 'st', 'petersburg', 'time', 'on', 'which', 'news', 'sources', 'to', 'use', 'if', 'you', 'write', 'posts', 'in', 'a', 'liberal', 'group', '', 'you', 'must', 'not', 'use', 'breitbart', 'titles', 'on', 'the', 'contrary', 'if', 'you', 'write', 'in', 'a', 'conservative', 'group', 'do', 'not', 'use', 'washington', 'post', 'or', 'buzzfeeds', 'titles', 'on', 'riling', 'up', 'antimccain', 'sentiment', 'brand', 'mccain', 'as', 'an', 'old', 'geezer', 'who', 'has', 'lost', 'it', 'and', 'who', 'long', 'ago', 'belonged', 'in', 'a', 'home', 'for', 'the', 'elderly', 'emphasize', 'that', 'john', 'mccains', 'pathological', 'hatred', 'towards', 'donald', 'trump', 'and', 'towards', 'all', 'his', 'initiatives', 'crosses', 'all', 'reasonable', 'borders', 'and', 'limits', 'state', 'that', 'dishonorable', 'scoundrels', 'such', 'as', 'mccain', 'immediately', 'aim', 'to', 'destroy', 'all', 'the', 'conservatives', 'voters', 'hopes', 'as', 'soon', 'as', 'trump', 'tries', 'to', 'fulfill', 'his', 'election', 'promises', 'and', 'tries', 'to', 'protect', 'the', 'american', 'interests', 'on', 'targeting', 'lgbt', 'groups', 'with', 'antitrump', 'sentiment', 'colored', 'lgbt', 'are', 'less', 'sophisticated', 'than', 'white', 'therefore', 'complicated', 'phrases', 'and', 'messages', 'do', 'not', 'work', 'be', 'careful', 'dealing', 'with', 'racial', 'content', 'just', 'like', 'ordinary', 'blacks', 'latinos', 'and', 'native', 'americans', 'colored', 'lgbt', 'people', 'are', 'very', 'sensitive', 'towards', 'whiteprivilege', 'and', 'they', 'react', 'to', 'posts', 'and', 'pictures', 'that', 'favor', 'white', 'people', '', 'unlike', 'with', 'conservatives', 'infographics', 'works', 'well', 'among', 'lgbt', 'and', 'their', 'liberal', 'allies', 'and', 'it', 'does', 'work', 'very', 'well', 'however', 'the', 'content', 'must', 'be', 'simple', 'to', 'understand', 'consisting', 'of', 'short', 'text', 'in', 'large', 'font', 'and', 'a', 'colorful', 'picture', 'on', 'messaging', 'targeted', 'at', 'conservatives', 'to', 'rile', 'them', 'up', 'about', 'voter', 'fraud', 'in', 'the', 'california', 'voter', 'registration', 'rolls', 'there', 'are', 'more', 'registrants', 'than', 'there', 'are', 'residents', 'this', 'is', 'the', 'time', 'for', 'american', 'conservatives', 'to', 'sound', 'the', 'alarm', 'before', 'the', 'elections', 'turn', 'the', 'constitution', 'into', 'a', 'mockery', 'and', 'a', 'celebration', 'of', 'lawlessness', '', 'emphasize', 'that', 'all', 'illegal', 'voters', 'must', 'be', 'kept', 'away', 'from', 'the', 'ballot', 'boxes', 'at', 'distances', 'beyond', 'artillery', 'firing', 'range', 'on', 'attacking', 'paul', 'ryan', 'and', 'supporting', 'his', 'democrat', 'opponent', 'the', 'iron', 'stache', 'brand', 'paul', 'ryan', 'a', 'complete', 'and', 'absolute', 'nobody', 'incapable', 'of', 'any', 'decisiveness', 'emphasize', 'that', 'while', 'serving', 'as', 'speaker', 'this', 'twofaced', 'loudmouth', 'has', 'not', 'accomplished', 'anything', 'good', 'for', 'america', 'or', 'for', 'american', 'citizens', 'state', 'that', 'the', 'only', 'way', 'to', 'get', 'rid', 'of', 'ryan', 'from', 'congress', 'provided', 'he', 'wins', 'in', 'the', 'primaries', 'is', 'to', 'vote', 'in', 'favor', 'of', 'randy', 'bryce', 'an', 'american', 'veteran', 'and', 'an', 'iron', 'worker', 'and', 'a', 'democrat', 'x200b', 'questions', 'do', 'you', 'believe', 'you', 'may', 'have', 'been', 'affected', 'or', 'even', 'had', 'your', 'view', 'changed', 'by', 'russian', 'trolls', 'what', 'should', 'the', 'fbi', 'andor', 'president', 'trump', 'do', 'about', 'this', 'does', 'this', 'affect', 'your', 'view', 'on', 'russias', 'interference', 'with', 'our', 'elections', 'andor', 'the', 'mueller', 'investigation']\n",
      "['if', 'a', 'law', 'is', 'on', 'the', 'books', 'should', 'it', 'be', 'strictly', 'enforced', 'at', 'all', 'times', 'for', 'all', 'people', 'what', 'if', 'the', 'law', 'is', 'years', 'old', 'and', 'rarely', 'enforced', 'should', 'we', 'start', 'strictly', 'enforcing', 'it', 'if', 'it', 'isnt', 'removed', 'from', 'the', 'law', 'how', 'does', 'this', 'align', 'with', 'rule', 'of', 'law', 'could', 'or', 'should', 'the', 'law', 'be', 'selectively', 'enforced', 'for', 'a', 'fun', 'list', 'of', 'anachronistic', 'laws', 'check', 'herehttpwwwdumblawscom']\n",
      "['what', 'can', 'conservatives', 'andor', 'liberals', 'do', 'to', 'discourage', 'unacceptable', 'behavior', 'without', 'being', 'seen', 'as', 'partisan', 'and', 'emboldening']\n",
      "['should', 'those', 'convicted', 'of', 'felonies', 'lose', 'their', 'right', 'to', 'vote', 'permanently', 'if', 'so', 'should', 'all', 'felonies', 'lead', 'to', 'disenfranchisement', 'or', 'only', 'certain', 'offenses', 'if', 'not', 'should', 'they', 'lose', 'their', 'right', 'to', 'vote', 'temporarily', 'if', 'they', 'should', 'when', 'should', 'voting', 'rights', 'be', 'restored', 'currently1httpsfelonvotingproconorgviewresourcephpresourceid000286alabama', '', '', 'felons', 'may', 'permanently', 'lose', 'their', 'right', 'to', 'vote', 'in', 'states', '', 'voting', 'rights', 'are', 'restored', 'after', 'prison', 'parole', 'and', 'probation', 'in', 'states', '', 'voting', 'rights', 'are', 'restored', 'after', 'prison', 'and', 'parole', 'in', 'states', '', 'voting', 'rights', 'are', 'restored', 'after', 'prison', 'in', 'states', 'and', 'dc', '', 'voting', 'rights', 'are', 'unrestricted', 'in', 'states']\n",
      "['this', 'is', 'free', 'discussion', 'on', 'any', 'topic', 'outside', 'of', 'politics', 'or', 'metadiscussion', 'rules', 'and', 'are', 'suspended', 'here', 'who', 'else', 'is', 'currently', 'hungover']\n",
      "['pretty', 'straightforward', 'couple', 'of', 'questions', 'when', 'you', 'talk', 'to', 'people', 'with', 'differing', 'political', 'beliefs', 'do', 'you', 'see', 'them', 'as', 'equals', 'when', 'you', 'talk', 'to', 'someone', 'over', 'the', 'internet', 'do', 'you', 'speak', 'differently', 'than', 'you', 'would', 'in', 'person', 'being', 'that', 'questions', 'often', 'go', 'unanswered', 'in', 'followups', 'why', 'do', 'you', 'choose', 'to', 'end', 'a', 'thread', 'do', 'you', 'believe', 'nss', 'and', 'nns', 'alike', 'talk', 'down', 'to', 'eachother', 'bonus', 'when', 'eating', 'a', 'burger', 'and', 'fries', 'do', 'you', 'eat', 'one', 'before', 'the', 'other', 'or', 'both', 'at', 'the', 'same', 'time', 'edit', 'in', 'the', 'spirit', 'of', 'this', 'post', 'can', 'we', 'try', 'not', 'to', 'downvote', 'someone', 'giving', 'their', 'honest', 'opinion', 'fake', 'internet', 'points', 'or', 'lack', 'there', 'of', 'doesnt', 'help', 'have', 'conversation', 'that', 'is', 'worthwhile']\n",
      "['i', 'recently', 'had', 'a', 'private', 'chat', 'on', 'reddit', 'that', 'started', 'with', 'a', 'totally', 'unrelated', 'topic', 'kid', 'joining', 'the', 'military', 'who', 'wanted', 'advice', 'but', 'devolved', 'into', 'his', 'theories', 'on', 'race', 'and', 'intelligence', 'he', 'was', 'also', 'a', 'trump', 'supporter', 'so', 'im', 'curious', 'as', 'to', 'how', 'trump', 'supporters', 'view', 'the', 'controversy', 'around', 'race', 'and', 'intelligence', 'are', 'different', 'races', 'more', 'or', 'less', 'intelligent', 'on', 'average', 'than', 'each', 'other']\n",
      "['the', 'definition', 'of', 'social', 'constructhttpsenwikipediaorgwikisocialconstructionism', 'i', 'am', 'using', 'is', 'simply', 'this', 'an', 'idea', 'that', 'has', 'been', 'created', 'and', 'accepted', 'by', 'the', 'people', 'in', 'a', 'society', 'social', 'constructs', 'determine', 'how', 'people', 'interact', 'with', 'each', 'other', 'how', 'they', 'behave', 'how', 'they', 'think', 'and', 'how', 'they', 'organize', 'the', 'world', 'around', 'them', 'for', 'example', 'if', 'everyone', 'on', 'the', 'planet', 'decided', 'tomorrow', 'that', 'sovereign', 'nations', 'no', 'longer', 'exist', 'they', 'would', 'cease', 'to', 'exist', 'there', 'is', 'no', 'inherent', 'physical', 'thing', 'that', 'makes', 'nations', 'real', 'if', 'everyone', 'on', 'the', 'planet', 'decided', 'that', 'dog', 'poop', 'is', 'now', 'the', 'premier', 'international', 'currency', 'well', 'that', 'would', 'unfortunately', 'become', 'a', 'reality', 'too', 'something', 'like', 'the', 'effect', 'of', 'gravity', 'however', 'is', 'not', 'a', 'social', 'construct', 'even', 'if', 'everyone', 'decided', 'that', 'gravity', 'no', 'longer', 'applied', 'to', 'humans', 'that', 'wouldnt', 'stop', 'anyone', 'from', 'getting', 'splattered', 'on', 'the', 'sidewalk', 'after', 'jumping', 'off', 'a', 'building', 'a', 'socially', 'constructed', 'idea', 'has', 'no', 'meaning', 'and', 'wouldnt', 'necessarily', 'even', 'exist', 'to', 'someone', 'who', 'isnt', 'part', 'of', 'the', 'society', 'that', 'created', 'it', 'if', 'aliens', 'came', 'to', 'earth', 'one', 'day', 'and', 'watched', 'us', 'from', 'above', 'they', 'would', 'not', 'be', 'able', 'to', 'objectively', 'see', 'nations', 'genders', 'races', 'our', 'understanding', 'of', 'time', 'or', 'even', 'our', 'categorization', 'of', 'objects', 'and', 'other', 'species', 'the', 'aliens', 'would', 'be', 'able', 'to', 'objectively', 'see', 'things', 'such', 'as', 'what', 'our', 'planet', 'is', 'made', 'of', 'the', 'number', 'of', 'organisms', 'that', 'live', 'on', 'it', 'and', 'how', 'plants', 'convert', 'sunlight', 'and', 'water', 'into', 'energy', 'social', 'constructs', 'would', 'only', 'become', 'real', 'to', 'the', 'aliens', 'after', 'they', 'extensively', 'studied', 'our', 'society', 'and', 'culture', 'at', 'which', 'point', 'they', 'would', 'essentially', 'be', 'participating', 'in', 'it', 'which', 'if', 'any', 'of', 'the', 'following', 'concepts', 'do', 'you', 'believe', 'fits', 'my', 'definition', 'of', 'a', 'social', 'construct', 'why', 'i', 'included', 'links', 'to', 'brief', 'articles', 'discussing', 'each', 'one', '', 'genderhttpsothersociologistcomsociologyofgender', '', 'racehttpswwwtheatlanticcomnationalarchive201305whatwemeanwhenwesayraceisasocialconstruct275872', '', 'nationalityhttpswww2bcedumariansimionth406readings0420andersonpdf', '', 'timehttpswwwsmithsonianmagcomsciencenaturewhytimeisasocialconstruct164139110']\n"
     ]
    }
   ],
   "source": [
    "for each in dfNew['body']:\n",
    "    print(tokenizer(each))"
   ]
  },
  {
   "cell_type": "markdown",
   "metadata": {},
   "source": [
    "Now, we'll create the type-token ratio for each user in our df, to see whose language is the most 'complex'. First, we'll create a function for you that computes the TTR (see if you understand how it works!)"
   ]
  },
  {
   "cell_type": "code",
   "execution_count": 44,
   "metadata": {},
   "outputs": [],
   "source": [
    "def typeTokenRatio(tokens): \n",
    "    numTokens = len(tokens)\n",
    "    numTypes = len(set(tokens))\n",
    "    return numTypes/numTokens"
   ]
  },
  {
   "cell_type": "markdown",
   "metadata": {},
   "source": [
    "Finally, loop over the 'body' column of each row in your df again. This time, within the loop, create a variable `tokens` and assign to it the output of your tokenizer function. Then, print the output of the `typeTokenRatio` function, which you run on `tokens`.\n",
    "\n",
    "If things go well, you'll see the TTR for each of the 20 posts."
   ]
  },
  {
   "cell_type": "code",
   "execution_count": 53,
   "metadata": {
    "scrolled": true
   },
   "outputs": [
    {
     "name": "stdout",
     "output_type": "stream",
     "text": [
      "0.6410256410256411\n",
      "0.8085106382978723\n",
      "0.7662337662337663\n",
      "0.8620689655172413\n",
      "0.7272727272727273\n",
      "1.0\n",
      "0.8043478260869565\n",
      "0.6141732283464567\n",
      "0.7941176470588235\n",
      "0.8888888888888888\n",
      "0.7301587301587301\n",
      "0.5576131687242798\n",
      "0.6666666666666666\n",
      "1.0\n",
      "0.4375\n",
      "0.9545454545454546\n",
      "0.7155172413793104\n",
      "0.859375\n",
      "0.5578231292517006\n"
     ]
    }
   ],
   "source": [
    "for each in dfNew['body']:\n",
    "    tokens = tokenizer(each)\n",
    "    print(typeTokenRatio(tokens))"
   ]
  },
  {
   "cell_type": "markdown",
   "metadata": {},
   "source": [
    "We see that some posts have a TTR of 1, meaning all words are unique. In fact, TTR does not tell us much here, as these are all short posts. But anyway:"
   ]
  },
  {
   "cell_type": "markdown",
   "metadata": {},
   "source": [
    "### Great work!"
   ]
  }
 ],
 "metadata": {
  "kernelspec": {
   "display_name": "Python 3",
   "language": "python",
   "name": "python3"
  },
  "language_info": {
   "codemirror_mode": {
    "name": "ipython",
    "version": 3
   },
   "file_extension": ".py",
   "mimetype": "text/x-python",
   "name": "python",
   "nbconvert_exporter": "python",
   "pygments_lexer": "ipython3",
   "version": "3.7.3"
  }
 },
 "nbformat": 4,
 "nbformat_minor": 2
}
