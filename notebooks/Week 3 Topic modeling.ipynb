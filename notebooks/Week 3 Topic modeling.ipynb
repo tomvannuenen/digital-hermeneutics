{
 "cells": [
  {
   "cell_type": "markdown",
   "metadata": {
    "colab_type": "text",
    "id": "yPgJH0CIZWyQ"
   },
   "source": [
    "<div style=\"display: block; width: 100%; height: 120px;\">\n",
    "\n",
    "<p style=\"float: left;\">\n",
    "    <span style=\"font-weight: bold; line-height: 24px; font-size: 16px;\">\n",
    "        DIGHUM160 - Critical Digital Humanities\n",
    "        <br />\n",
    "        Digital Hermeneutics \n",
    "    </span>\n",
    "    <br >\n",
    "    <span style=\"line-height: 22x; font-size: 14x; margin-top: 10px;\">\n",
    "        Week 3: Topic modeling<br />\n",
    "        Created by Tom van Nuenen (tom.van_nuenen@kcl.ac.uk)\n",
    "    </span>\n",
    "</p>"
   ]
  },
  {
   "cell_type": "markdown",
   "metadata": {
    "colab_type": "text",
    "id": "m6EAS2bBZWyR"
   },
   "source": [
    "# Topic modeling\n",
    "\n",
    "\n",
    "Topic modeling is a type of statistical modeling for the discovery of abstract \"topics\" that occur in a collection of documents. It is frequently used in NLP to aid the discovery of hidden semantic structures in a collection of texts.\n",
    "\n",
    "There are lots of Python packages for topic modeling. We will use Scikit-LEARN. \n",
    "If you have access to your Reddit dataset, feel free to use that instead.\n",
    "\n",
    "The example dataset once again comes from the banned subreddit \"The Red Pill\".\n",
    "\n",
    "Today, we'll try to improve our topic modeling. We'll use the `Gensim` package to create our topic models, as it allows us to run tests to optimize our topic amount.\n",
    "\n",
    "After reading this notebook, you'll be able to:\n",
    "\n",
    "* Create and visualise topic models using Scikit-LEARN;\n",
    "* Close read top documents associated with topics of interest;\n",
    "* Use gensim to create topic models;\n",
    "* Evaluate topic models using several methods.\n"
   ]
  },
  {
   "cell_type": "code",
   "execution_count": null,
   "metadata": {
    "colab": {
     "base_uri": "https://localhost:8080/",
     "height": 408
    },
    "colab_type": "code",
    "id": "EWlJYKM7ZWyT",
    "outputId": "4534ab1e-228b-4c7e-9ebb-ee3bc2fcdb02"
   },
   "outputs": [
    {
     "name": "stdout",
     "output_type": "stream",
     "text": [
      "[nltk_data] Downloading package stopwords to /root/nltk_data...\n",
      "[nltk_data]   Package stopwords is already up-to-date!\n",
      "Requirement already satisfied: pyLDAvis in /usr/local/lib/python3.6/dist-packages (2.1.2)\n",
      "Requirement already satisfied: scipy>=0.18.0 in /usr/local/lib/python3.6/dist-packages (from pyLDAvis) (1.4.1)\n",
      "Requirement already satisfied: funcy in /usr/local/lib/python3.6/dist-packages (from pyLDAvis) (1.14)\n",
      "Requirement already satisfied: wheel>=0.23.0 in /usr/local/lib/python3.6/dist-packages (from pyLDAvis) (0.34.2)\n",
      "Requirement already satisfied: joblib>=0.8.4 in /usr/local/lib/python3.6/dist-packages (from pyLDAvis) (0.16.0)\n",
      "Requirement already satisfied: numpy>=1.9.2 in /usr/local/lib/python3.6/dist-packages (from pyLDAvis) (1.18.5)\n",
      "Requirement already satisfied: numexpr in /usr/local/lib/python3.6/dist-packages (from pyLDAvis) (2.7.1)\n",
      "Requirement already satisfied: future in /usr/local/lib/python3.6/dist-packages (from pyLDAvis) (0.16.0)\n",
      "Requirement already satisfied: pandas>=0.17.0 in /usr/local/lib/python3.6/dist-packages (from pyLDAvis) (1.0.5)\n",
      "Requirement already satisfied: pytest in /usr/local/lib/python3.6/dist-packages (from pyLDAvis) (3.6.4)\n",
      "Requirement already satisfied: jinja2>=2.7.2 in /usr/local/lib/python3.6/dist-packages (from pyLDAvis) (2.11.2)\n",
      "Requirement already satisfied: python-dateutil>=2.6.1 in /usr/local/lib/python3.6/dist-packages (from pandas>=0.17.0->pyLDAvis) (2.8.1)\n",
      "Requirement already satisfied: pytz>=2017.2 in /usr/local/lib/python3.6/dist-packages (from pandas>=0.17.0->pyLDAvis) (2018.9)\n",
      "Requirement already satisfied: py>=1.5.0 in /usr/local/lib/python3.6/dist-packages (from pytest->pyLDAvis) (1.9.0)\n",
      "Requirement already satisfied: setuptools in /usr/local/lib/python3.6/dist-packages (from pytest->pyLDAvis) (49.1.0)\n",
      "Requirement already satisfied: more-itertools>=4.0.0 in /usr/local/lib/python3.6/dist-packages (from pytest->pyLDAvis) (8.4.0)\n",
      "Requirement already satisfied: pluggy<0.8,>=0.5 in /usr/local/lib/python3.6/dist-packages (from pytest->pyLDAvis) (0.7.1)\n",
      "Requirement already satisfied: six>=1.10.0 in /usr/local/lib/python3.6/dist-packages (from pytest->pyLDAvis) (1.15.0)\n",
      "Requirement already satisfied: atomicwrites>=1.0 in /usr/local/lib/python3.6/dist-packages (from pytest->pyLDAvis) (1.4.0)\n",
      "Requirement already satisfied: attrs>=17.4.0 in /usr/local/lib/python3.6/dist-packages (from pytest->pyLDAvis) (19.3.0)\n",
      "Requirement already satisfied: MarkupSafe>=0.23 in /usr/local/lib/python3.6/dist-packages (from jinja2>=2.7.2->pyLDAvis) (1.1.1)\n"
     ]
    }
   ],
   "source": [
    "import logging\n",
    "import string\n",
    "import os\n",
    "import pickle\n",
    "from pprint import pprint\n",
    "import re \n",
    "import numpy as np\n",
    "import pandas as pd\n",
    "from IPython.display import clear_output\n",
    "from more_itertools import chunked\n",
    "\n",
    "# NLTK\n",
    "import nltk\n",
    "nltk.download('stopwords')\n",
    "from nltk.corpus import stopwords\n",
    "\n",
    "# Gensim\n",
    "from gensim import corpora, models, similarities\n",
    "from gensim.models.coherencemodel import CoherenceModel\n",
    "from gensim.models import Word2Vec\n",
    "from gensim.utils import simple_preprocess\n",
    "import gensim\n",
    "\n",
    "# SpaCy \n",
    "import spacy\n",
    "\n",
    "# Plotting tools\n",
    "!pip install pyLDAvis\n",
    "import pyLDAvis.sklearn \n",
    "import pyLDAvis\n",
    "import pyLDAvis.gensim \n",
    "import matplotlib.pyplot as plt\n",
    "%matplotlib inline\n",
    "\n",
    "#SKLearn\n",
    "from sklearn.feature_extraction.text import TfidfVectorizer, CountVectorizer\n",
    "from sklearn.decomposition import LatentDirichletAllocation\n",
    "from sklearn.feature_extraction import text\n",
    "\n",
    "# Suppressing warnings\n",
    "import warnings\n",
    "warnings.simplefilter(\"ignore\", DeprecationWarning)"
   ]
  },
  {
   "cell_type": "markdown",
   "metadata": {
    "colab_type": "text",
    "id": "UVDE1bV4ZWyb"
   },
   "source": [
    "## Getting the data\n",
    "\n",
    "We'll use the same two datasets as we did in the last notebook: comments and submissions from The Red Pill."
   ]
  },
  {
   "cell_type": "code",
   "execution_count": null,
   "metadata": {
    "colab": {},
    "colab_type": "code",
    "id": "HjxJwncSo4_M"
   },
   "outputs": [],
   "source": [
    "from pydrive.auth import GoogleAuth\n",
    "from pydrive.drive import GoogleDrive\n",
    "from google.colab import auth\n",
    "from oauth2client.client import GoogleCredentials\n",
    "\n",
    "auth.authenticate_user()\n",
    "gauth = GoogleAuth()\n",
    "gauth.credentials = GoogleCredentials.get_application_default()\n",
    "drive = GoogleDrive(gauth)"
   ]
  },
  {
   "cell_type": "code",
   "execution_count": null,
   "metadata": {
    "colab": {},
    "colab_type": "code",
    "id": "81Pk2xVGoMoe"
   },
   "outputs": [],
   "source": [
    "downloaded = drive.CreateFile({'id':\"1hN5eqCYVZOX_O0i8waJUQxDlJjqDMenK\"})   # replace the id with id of file you want to access\n",
    "downloaded.GetContentFile('TRP_submissions.csv')       "
   ]
  },
  {
   "cell_type": "code",
   "execution_count": null,
   "metadata": {
    "colab": {},
    "colab_type": "code",
    "id": "VYUfVU8xp3eN"
   },
   "outputs": [],
   "source": [
    "downloaded = drive.CreateFile({'id':\"1nY9JtXoGJa7B-OmU6afh4qfcFGPCQIHW\"})   # replace the id with id of file you want to access\n",
    "downloaded.GetContentFile('TRP_comments.csv')        "
   ]
  },
  {
   "cell_type": "code",
   "execution_count": null,
   "metadata": {
    "colab": {},
    "colab_type": "code",
    "id": "8jfT6806Y_PM"
   },
   "outputs": [],
   "source": [
    "trp_sub = pd.read_csv(\"TRP_submissions.csv\", lineterminator='\\n')\n",
    "trp_com = pd.read_csv(\"TRP_comments.csv\", lineterminator='\\n')"
   ]
  },
  {
   "cell_type": "markdown",
   "metadata": {
    "colab_type": "text",
    "id": "I5QWQSm6Cy-M"
   },
   "source": [
    "Get rid of the empty cells in our two DataFrames using the `trp_sub[~trp_sub['selftext'].isin(['[removed]', '[deleted]' ])]` and `.dropna(subset=['selftext'])` (for the submissions DF) and `.dropna(subset=['body'])` (for the comments DF)."
   ]
  },
  {
   "cell_type": "code",
   "execution_count": null,
   "metadata": {
    "colab": {},
    "colab_type": "code",
    "id": "rp0EerUcZWyc"
   },
   "outputs": [],
   "source": [
    "# Your code here\n",
    "\n",
    "\n",
    "\n"
   ]
  },
  {
   "cell_type": "markdown",
   "metadata": {
    "colab_type": "text",
    "id": "Is2LLBy-ZWyf"
   },
   "source": [
    "## Concatenating submissions and comments\n",
    "\n",
    "For the topic model we're going to make, we will first concatenate the associated submissions and comments (i.e., the threads).\n",
    "\n",
    "Using the `pd.merge()` method, we can do an \"inner join\" of our two DataFrames. This is a relational database operation, which is a common operation in SQL. See [here](https://www.w3schools.com/sql/sql_join.asp) if you want to learn more. An \"inner join\" will yield a new DF which only contains those submissions that have associated comments (based on their \"idstr\" and \"parent\" values).\n",
    "\n",
    "![alt text](https://s33046.pcdn.co/wp-content/uploads/2019/06/venn-diagram-representation-of-sql-inner-join-.png)"
   ]
  },
  {
   "cell_type": "code",
   "execution_count": null,
   "metadata": {
    "colab": {},
    "colab_type": "code",
    "id": "iRxPpwrYZWyg"
   },
   "outputs": [],
   "source": [
    "# merge DF based on idstr and parent\n",
    "trp_t = pd.merge(trp_sub, trp_com, how='inner', left_on='idstr', right_on='parent')"
   ]
  },
  {
   "cell_type": "markdown",
   "metadata": {
    "colab_type": "text",
    "id": "XFlVeoi8_cfP"
   },
   "source": [
    "We now have a DataFrame containing all original posts / submissions, *and* the comments associated with this original post! Note that this yields a lot of rows with the same \"selftext\" value (as lots of comments refer to the same original post).\n",
    "\n",
    "Also note that this operations has changed the names of the columns: we now have \"x\" and \"y\" columns based on the original DataFrame we took the data from. \"idstr_x\", for instance, refers to the \"idstr\" column from the `trp_sub` DataFrame."
   ]
  },
  {
   "cell_type": "code",
   "execution_count": null,
   "metadata": {
    "colab": {},
    "colab_type": "code",
    "id": "jIy7dsHOZWyo"
   },
   "outputs": [],
   "source": [
    "trp_t.head()"
   ]
  },
  {
   "cell_type": "markdown",
   "metadata": {
    "colab_type": "text",
    "id": "dd8xZRYtZWys"
   },
   "source": [
    "Now, let's iterate over our merged DataFrame and group all associated submissions and comments together. \n",
    "- We first create an empty dictionary.\n",
    "- We then iterate over our DataFrame using the Pandas `.iterrows()` method, which allows us to iterate over rows in a DataFrame in a for-loop. It yields a tuple consisting of the index and the row.\n",
    "- `If` the \"idstr_x\" column does not yet exist in the keys of our new dictionary, add it. As the value, add the \"selftext\" (i.e., the original post) and \"body\" (i.e., the first comment) columns.\n",
    "- `Else`, if we have the key already, only add the \"body\" column (i.e., the comment). "
   ]
  },
  {
   "cell_type": "code",
   "execution_count": null,
   "metadata": {
    "colab": {},
    "colab_type": "code",
    "id": "WtPigWETZWyt"
   },
   "outputs": [],
   "source": [
    "data_d = {}\n",
    "for i, r in trp_t.iterrows():\n",
    "    if r.idstr_x not in data_d.keys():\n",
    "        data_d[r.idstr_x] = [r.selftext, r.body]    \n",
    "    else:\n",
    "        data_d[r.idstr_x].append(r.body)    "
   ]
  },
  {
   "cell_type": "code",
   "execution_count": null,
   "metadata": {
    "colab": {},
    "colab_type": "code",
    "id": "_VDa2iCXZWyw"
   },
   "outputs": [],
   "source": [
    "# See if it works\n",
    "data_d['t3_6sbx6i']"
   ]
  },
  {
   "cell_type": "markdown",
   "metadata": {
    "colab_type": "text",
    "id": "VPBDsQnhZWy5"
   },
   "source": [
    "Finally, we'll join the items in each of the values in our `dict` and put that in a list:"
   ]
  },
  {
   "cell_type": "code",
   "execution_count": null,
   "metadata": {
    "colab": {},
    "colab_type": "code",
    "id": "ObyRYw--ZWy6"
   },
   "outputs": [],
   "source": [
    "data = ['\\n'.join(thread) for thread in data_d.values()]"
   ]
  },
  {
   "cell_type": "markdown",
   "metadata": {
    "colab_type": "text",
    "id": "X-Vy6u-1ZWy9"
   },
   "source": [
    "## Preprocessing\n",
    "\n",
    "First, let's get rid of the newlines. Iterate over each text in our `data` list, and use string replacements or RegEx to remove the newlines."
   ]
  },
  {
   "cell_type": "code",
   "execution_count": null,
   "metadata": {
    "colab": {},
    "colab_type": "code",
    "id": "X77T7js3ZWy-"
   },
   "outputs": [],
   "source": [
    "# Your code here\n"
   ]
  },
  {
   "cell_type": "markdown",
   "metadata": {
    "colab_type": "text",
    "id": "6HGhm613ZWzB"
   },
   "source": [
    "Time to tokenize. Let's use Gensim's `simple_preprocess()` method this time. If you haven't seen `yield` before, it is used in what's called a generator function. This is simply a function that iterates, instead of only returning something once.\n",
    "\n",
    "`Return` sends a specified value back to its caller whereas `yield` can produce a sequence of values. We should use `yield` when we want to iterate over a sequence, but don’t want to store the entire sequence in memory."
   ]
  },
  {
   "cell_type": "code",
   "execution_count": null,
   "metadata": {
    "colab": {},
    "colab_type": "code",
    "id": "4asuvP-EZWzB"
   },
   "outputs": [],
   "source": [
    "def tokenizer(texts):\n",
    "    for text in texts:\n",
    "        yield(gensim.utils.simple_preprocess(str(text), deacc=True))  # deacc=True removes punctuations\n",
    "tokens_list = list(tokenizer(data))"
   ]
  },
  {
   "cell_type": "markdown",
   "metadata": {
    "colab_type": "text",
    "id": "eMfGtJvuCDkd"
   },
   "source": [
    "How many threads do we have?"
   ]
  },
  {
   "cell_type": "code",
   "execution_count": null,
   "metadata": {
    "colab": {},
    "colab_type": "code",
    "id": "D-M4m-gjZWzJ"
   },
   "outputs": [],
   "source": [
    "len(tokens_list)"
   ]
  },
  {
   "cell_type": "markdown",
   "metadata": {
    "colab_type": "text",
    "id": "q557UWH4CL9k"
   },
   "source": [
    "And how many tokens in total?"
   ]
  },
  {
   "cell_type": "code",
   "execution_count": null,
   "metadata": {
    "colab": {},
    "colab_type": "code",
    "id": "_COVyrIrZWzM"
   },
   "outputs": [],
   "source": [
    "counter = 0\n",
    "for each in tokens_list:\n",
    "    counter += len(each)\n",
    "counter"
   ]
  },
  {
   "cell_type": "code",
   "execution_count": null,
   "metadata": {
    "colab": {},
    "colab_type": "code",
    "id": "FNwkfAV6dd0Z"
   },
   "outputs": [],
   "source": [
    "tokens_list[1][:10]"
   ]
  },
  {
   "cell_type": "markdown",
   "metadata": {
    "colab_type": "text",
    "id": "BMY-0LlAZWzP"
   },
   "source": [
    "## Exracting N-grams with gensim\n",
    "\n",
    "Topic modeling – as well as many other kinds of NLP methods – works better when using N-grams, as this allows words that frequently appearing together to be concatenated (e.g. \"red pill\" means something different than \"red\" and \"pill\" separately).\n",
    "\n",
    "Gensim’s `Phrases` model implements bigrams, trigrams, quadgrams, etc. \n",
    "\n",
    "`Phrases` detects phrases based on collocation counts. It builds a model of input text that you then can use on other data.\n",
    "\n",
    "Gensim detects a bigram if a scoring function for two words exceeds a threshold. The two important arguments to `Phrases` are `min_count` and `threshold`. The higher the values of these parameters, the harder it is for words to be combined to bigrams."
   ]
  },
  {
   "cell_type": "code",
   "execution_count": null,
   "metadata": {
    "colab": {},
    "colab_type": "code",
    "id": "ik3uEPOHZWzP"
   },
   "outputs": [],
   "source": [
    "# Build bigram and trigram models\n",
    "# min_count = min amount of tokens/bigrams in corpus. Threshold = score-based; higher = fewer phrases.\n",
    "bigram = gensim.models.Phrases(tokens_list, min_count=5, threshold=100)\n",
    "trigram = gensim.models.Phrases(bigram[tokens_list], threshold=100)  \n",
    "\n",
    "# `Phraser` must be built from an initial `Phrases` instance. \n",
    "# It then works faster while using much less memory. See https://radimrehurek.com/gensim/models/phrases.html\n",
    "bigram_mod = gensim.models.phrases.Phraser(bigram)\n",
    "trigram_mod = gensim.models.phrases.Phraser(trigram)"
   ]
  },
  {
   "cell_type": "code",
   "execution_count": null,
   "metadata": {
    "colab": {},
    "colab_type": "code",
    "id": "MAy005ilZWzT"
   },
   "outputs": [],
   "source": [
    "print(trigram_mod[bigram_mod[tokens_list[0]]])"
   ]
  },
  {
   "cell_type": "markdown",
   "metadata": {
    "colab_type": "text",
    "id": "R9TugyIlZWze"
   },
   "source": [
    "Let's define some functions for stopword removal, making bigrams and trigrams, and lemmatization (we will use SpaCy for the latter - see [here](https://spacy.io/api/annotation) for more info).\n"
   ]
  },
  {
   "cell_type": "code",
   "execution_count": null,
   "metadata": {
    "colab": {},
    "colab_type": "code",
    "id": "4xR2v6tBZWzf"
   },
   "outputs": [],
   "source": [
    "# prepare NLTK stopwords\n",
    "stop = set(stopwords.words('english') + ['’', '“', '”', 'nbsp', 'http'])"
   ]
  },
  {
   "cell_type": "code",
   "execution_count": null,
   "metadata": {
    "colab": {},
    "colab_type": "code",
    "id": "cbifDFG3ZWzi"
   },
   "outputs": [],
   "source": [
    "# Define functions for stopwords, bigrams, trigrams and lemmatization\n",
    "def remove_stopwords(texts):\n",
    "    return [[word for word in doc if word not in stop] for doc in texts]\n",
    "      \n",
    "def make_bigrams(texts):\n",
    "    return [bigram_mod[doc] for doc in texts]\n",
    "\n",
    "def make_trigrams(texts):\n",
    "    return [trigram_mod[bigram_mod[doc]] for doc in texts]\n",
    "\n",
    "def lemmatization(texts, allowed_postags=['NOUN']):\n",
    "    \"\"\"https://spacy.io/api/annotation\"\"\"\n",
    "    texts_out = []\n",
    "    for doc in texts:\n",
    "        joined = nlp(\" \".join(doc)) \n",
    "        texts_out.append([token.lemma_ for token in joined if token.pos_ in allowed_postags])\n",
    "    return texts_out"
   ]
  },
  {
   "cell_type": "code",
   "execution_count": null,
   "metadata": {
    "colab": {},
    "colab_type": "code",
    "id": "NHm2CiAiZWzl"
   },
   "outputs": [],
   "source": [
    "# Remove stopwords\n",
    "tokens_no_stops = remove_stopwords(tokens_list)\n",
    "\n",
    "# Form trigrams\n",
    "trigrams = make_trigrams(tokens_no_stops)\n",
    "\n",
    "# Initialize spacy 'en' model, keeping only tagger component (for efficiency)\n",
    "# python3 -m spacy download en\n",
    "nlp = spacy.load('en', disable=['parser', 'ner'])\n",
    "\n",
    "# Do lemmatization \n",
    "lemmas = lemmatization(trigrams)\n"
   ]
  },
  {
   "cell_type": "code",
   "execution_count": null,
   "metadata": {
    "colab": {},
    "colab_type": "code",
    "id": "4Z4sSSibe4Cj"
   },
   "outputs": [],
   "source": [
    "lemmas[1][:10]"
   ]
  },
  {
   "cell_type": "markdown",
   "metadata": {
    "colab_type": "text",
    "id": "rVgem81TZWzu"
   },
   "source": [
    "### Pickling\n",
    "We've done a lot of work, so let's save this object in a pickle. Any object in Python can be pickled so that it can be saved on disk (or in this case, a virtual disk). What pickle does is that it “serializes” the object first before writing it to file. Pickling is a way to convert a python object (list, dict, etc.) into a character stream. The idea is that this character stream contains all the information necessary to reconstruct the object in another python script – or to fetch it at a later time when you don't want to do the computing work all over again.\n",
    "\n",
    "Note that when pickling, you can use any file extension name you want."
   ]
  },
  {
   "cell_type": "code",
   "execution_count": null,
   "metadata": {
    "colab": {},
    "colab_type": "code",
    "id": "Ruq5zrEvZWzv"
   },
   "outputs": [],
   "source": [
    "# Save to disk\n",
    "with open(\"TRP_nouns.text\", \"wb\") as docP: \n",
    "    pickle.dump(lemmas, docP)"
   ]
  },
  {
   "cell_type": "code",
   "execution_count": null,
   "metadata": {
    "colab": {
     "base_uri": "https://localhost:8080/",
     "height": 34
    },
    "colab_type": "code",
    "id": "nFYnd6p9eyoY",
    "outputId": "f6e3e613-05a0-4669-b325-021c5875e14f"
   },
   "outputs": [
    {
     "name": "stdout",
     "output_type": "stream",
     "text": [
      "adc.json  sample_data  TRP_comments.csv  TRP_nouns.text  TRP_submissions.csv\n"
     ]
    }
   ],
   "source": [
    "!ls"
   ]
  },
  {
   "cell_type": "code",
   "execution_count": null,
   "metadata": {
    "colab": {},
    "colab_type": "code",
    "id": "04ELm1XGeyLc"
   },
   "outputs": [],
   "source": [
    "# should you want to load in the pickle we just saved:\n",
    "with open(\"TRP_nouns.text\", \"rb\") as docP: \n",
    "    lemmas = pickle.load(docP)"
   ]
  },
  {
   "cell_type": "markdown",
   "metadata": {
    "colab_type": "text",
    "id": "BNmgAQEoZWzx"
   },
   "source": [
    "## Creating a `Dictionary` with Gensim\n",
    "\n",
    "Now, let's create our gensim dictionary - a mapping of each word to a unique id. \n",
    "It will be used to create a `Corpus` object, which is gensim’s equivalent of a Document-Term matrix."
   ]
  },
  {
   "cell_type": "code",
   "execution_count": null,
   "metadata": {
    "colab": {},
    "colab_type": "code",
    "id": "v5U9p6rrZWzy"
   },
   "outputs": [],
   "source": [
    "# Create Dictionary \n",
    "dictionary = corpora.Dictionary(lemmas)\n",
    "\n",
    "# Create Corpus, i.e. Document-Term Matrix\n",
    "corpus = [dictionary.doc2bow(text) for text in lemmas]"
   ]
  },
  {
   "cell_type": "markdown",
   "metadata": {
    "colab_type": "text",
    "id": "Vjopps2qZWz0"
   },
   "source": [
    "*Note that Gensim allows you to run the `.add_documents` method that will append additional documents to your `dictionary`, if you need to.*"
   ]
  },
  {
   "cell_type": "markdown",
   "metadata": {
    "colab_type": "text",
    "id": "mYZAQn44ZWz1"
   },
   "source": [
    "Let's view some of the corpus we have now:"
   ]
  },
  {
   "cell_type": "code",
   "execution_count": null,
   "metadata": {
    "colab": {},
    "colab_type": "code",
    "id": "9h7h3ms4ZWz1"
   },
   "outputs": [],
   "source": [
    "print(corpus[0][:10])"
   ]
  },
  {
   "cell_type": "markdown",
   "metadata": {
    "colab_type": "text",
    "id": "eXRXTfMgZW0A"
   },
   "source": [
    "Observe the first 10 tuples above. Each consists of words with a unique id. This a mapping of (word_id, word_frequency). For example, (0, 1) above demonstrates that word id 0 occurs once in the first document. Word id 5 occurs 4 times, and so on. This is used as the input by the LDA model.\n",
    "\n",
    "If you want to see what word a given id corresponds to, pass the id as a key to the dictionary."
   ]
  },
  {
   "cell_type": "code",
   "execution_count": null,
   "metadata": {
    "colab": {},
    "colab_type": "code",
    "id": "0pKC0MBiZW0A"
   },
   "outputs": [],
   "source": [
    "dictionary[5]"
   ]
  },
  {
   "cell_type": "markdown",
   "metadata": {
    "colab_type": "text",
    "id": "QNr34ffPZW0D"
   },
   "source": [
    "And if you want to see the associated id for some word:"
   ]
  },
  {
   "cell_type": "code",
   "execution_count": null,
   "metadata": {
    "colab": {},
    "colab_type": "code",
    "id": "dNhZ-fZ4ZW0D"
   },
   "outputs": [],
   "source": [
    "dictionary.token2id['advance']"
   ]
  },
  {
   "cell_type": "markdown",
   "metadata": {
    "colab_type": "text",
    "id": "uep-_3ImZW0S"
   },
   "source": [
    "## Running an LDA model\n",
    "\n",
    "Now, let's run a Gensim LDA model:"
   ]
  },
  {
   "cell_type": "code",
   "execution_count": null,
   "metadata": {
    "colab": {},
    "colab_type": "code",
    "id": "5ZPAUhOIZW0T"
   },
   "outputs": [],
   "source": [
    "## Build LDA model. Make sure to play around with chunksize and passes and check if coherence score changes a lot.\n",
    "\n",
    "lda_model = gensim.models.ldamodel.LdaModel(corpus=corpus,\n",
    "                                           id2word=dictionary,\n",
    "                                           num_topics=20, \n",
    "                                           random_state=100,\n",
    "                                           # eval_every = 20, # this is evaluation, perplexity\n",
    "                                           update_every=1,\n",
    "                                           chunksize=500,\n",
    "                                           passes=10,\n",
    "                                           alpha='auto',\n",
    "                                           per_word_topics=True)"
   ]
  },
  {
   "cell_type": "markdown",
   "metadata": {
    "colab_type": "text",
    "id": "JWRO12UXZW0d"
   },
   "source": [
    "## Visualizing the model\n",
    "\n",
    "Let's try to evaluate our topics. First, we can visualize our topics using pyLDAvis. A \"good\" topic model produces non-overlapping, fairly large bubbles, which should be scattered throughout the chart instead of being clustered in one quadrant. A model with too many topics will typically have many overlaps, small sized bubbles clustered in one region of the chart. **This is the first way in which you can evaluate your topic models**."
   ]
  },
  {
   "cell_type": "code",
   "execution_count": null,
   "metadata": {
    "colab": {
     "base_uri": "https://localhost:8080/",
     "height": 861
    },
    "colab_type": "code",
    "id": "Aze6E-0ZZW0e",
    "outputId": "ef657d61-cbe5-4cf6-e10e-7eaa37f07ea5",
    "scrolled": false
   },
   "outputs": [
    {
     "data": {
      "text/html": [
       "\n",
       "<link rel=\"stylesheet\" type=\"text/css\" href=\"https://cdn.rawgit.com/bmabey/pyLDAvis/files/ldavis.v1.0.0.css\">\n",
       "\n",
       "\n",
       "<div id=\"ldavis_el1221400694621860481198460888\"></div>\n",
       "<script type=\"text/javascript\">\n",
       "\n",
       "var ldavis_el1221400694621860481198460888_data = {\"mdsDat\": {\"x\": [0.22053071004914138, 0.24072704084078475, 0.2725437856069478, 0.19129842025579166, 0.19166064044794437, 0.07013922285807775, 0.12921099433621042, 0.1865815740579709, 0.018892254260584322, -0.048016244559843706, -0.0171620440657602, -0.018396301217841356, -0.08756216478169392, -0.016265283300975243, -0.19021149495393838, -0.20847888056075084, -0.22850857435332622, -0.21480790451898857, -0.2471374966098922, -0.24503825379044272], \"y\": [0.10216829174071232, -0.033092157573851984, -0.139184587344543, -0.03975192575717517, -0.04866585672912671, 0.27616094602988556, -0.2125989396233893, -0.06952346618742347, 0.23091322340874118, 0.08648783399525319, 0.05449722308623524, 0.11987079446370372, 0.1472828754869502, -0.13462802033572108, -0.09781469369376297, -0.03730404772043239, -0.0733252398251766, -0.01512706426341434, -0.05188996886255308, -0.06447522029491051], \"topics\": [1, 2, 3, 4, 5, 6, 7, 8, 9, 10, 11, 12, 13, 14, 15, 16, 17, 18, 19, 20], \"cluster\": [1, 1, 1, 1, 1, 1, 1, 1, 1, 1, 1, 1, 1, 1, 1, 1, 1, 1, 1, 1], \"Freq\": [25.858064651489258, 18.299890518188477, 14.13156509399414, 7.479116916656494, 5.211763858795166, 5.115842342376709, 4.586831569671631, 4.4661712646484375, 2.6732993125915527, 2.175428628921509, 1.931778907775879, 1.813591480255127, 1.7799272537231445, 1.5823230743408203, 0.8779036998748779, 0.5562543869018555, 0.4847750663757324, 0.4532468616962433, 0.2911182940006256, 0.23109151422977448]}, \"tinfo\": {\"Term\": [\"woman\", \"man\", \"girl\", \"guy\", \"sex\", \"wife\", \"kid\", \"friend\", \"child\", \"money\", \"life\", \"job\", \"people\", \"year\", \"relationship\", \"body\", \"work\", \"day\", \"time\", \"rape\", \"family\", \"mother\", \"post\", \"marriage\", \"phone\", \"husband\", \"date\", \"video\", \"college\", \"text\", \"jerk\", \"diamond\", \"arousal\", \"facade\", \"assessment\", \"dichotomy\", \"cc\", \"lust\", \"dark_triad_trait\", \"feminine\", \"romance\", \"kindness\", \"archetype\", \"willingness\", \"branch_swinging\", \"conquest\", \"sexual_market\", \"snowflake\", \"empathize\", \"throwaway\", \"retort\", \"dominate\", \"moan\", \"caricature\", \"realisation\", \"attract\", \"gatekeeper\", \"caliber\", \"reveal\", \"promiscuity\", \"woman\", \"spark\", \"solipsism\", \"ltrs\", \"alpha\", \"douchebag\", \"commitment\", \"projection\", \"man\", \"value\", \"instinct\", \"beta\", \"partner\", \"hypergamy\", \"trait\", \"flower\", \"quality\", \"expectation\", \"sex\", \"mate\", \"desire\", \"love\", \"tingle\", \"smv\", \"characteristic\", \"standard\", \"relationship\", \"preference\", \"personality\", \"behavior\", \"attraction\", \"male\", \"sexuality\", \"asshole\", \"reality\", \"respect\", \"nature\", \"guy\", \"reason\", \"fact\", \"way\", \"thing\", \"status\", \"option\", \"truth\", \"time\", \"lot\", \"society\", \"problem\", \"life\", \"point\", \"game\", \"shit\", \"world\", \"girl\", \"punch\", \"lab\", \"sink\", \"ownership\", \"afford\", \"accident\", \"garage\", \"explore\", \"say\", \"grandma\", \"ugh\", \"procedure\", \"flood\", \"companion\", \"raise\", \"devil\", \"pie\", \"deposit\", \"ounce\", \"applause\", \"fishing\", \"grocery\", \"temptation\", \"driveway\", \"possession\", \"wind\", \"abyss\", \"nude\", \"biological_clock\", \"happen\", \"revenge\", \"holiday\", \"road\", \"anger\", \"pack\", \"childhood\", \"wisdom\", \"drug\", \"fight\", \"dream\", \"people\", \"life\", \"tv\", \"day\", \"brother\", \"time\", \"family\", \"year\", \"shit\", \"car\", \"situation\", \"spending\", \"living\", \"person\", \"thing\", \"help\", \"book\", \"world\", \"job\", \"mind\", \"work\", \"mistake\", \"money\", \"word\", \"head\", \"eye\", \"school\", \"story\", \"way\", \"hour\", \"today\", \"lot\", \"week\", \"point\", \"bitch\", \"friend\", \"care\", \"part\", \"homeowner\", \"bouncer\", \"dancing\", \"joking\", \"concert\", \"tonight\", \"groom\", \"laura\", \"spree\", \"upgrade\", \"snippet\", \"hometown\", \"bail\", \"agree\", \"razor\", \"belonging\", \"schadenfreude\", \"bb\", \"club\", \"bruh\", \"redpill_truth\", \"yacht\", \"nightclub\", \"hover\", \"restaurant\", \"betaness\", \"insemination\", \"assuming\", \"atmosphere\", \"voicemail\", \"bar\", \"girl\", \"date\", \"invite\", \"invitation\", \"friend\", \"drink\", \"night\", \"boyfriend\", \"town\", \"orbiter\", \"wine\", \"bathroom\", \"buddy\", \"plate\", \"party\", \"dude\", \"fun\", \"dance\", \"guy\", \"tit\", \"contact\", \"chick\", \"weekend\", \"dinner\", \"beer\", \"text\", \"girlfriend\", \"month\", \"place\", \"bit\", \"story\", \"time\", \"talk\", \"conversation\", \"lot\", \"thing\", \"week\", \"day\", \"way\", \"year\", \"shit\", \"point\", \"sex\", \"attention\", \"priest\", \"bloom\", \"discipline\", \"video_game\", \"dopamine\", \"masturbation\", \"boxing\", \"playing_video_game\", \"gynocentricism\", \"subscribe\", \"pornography\", \"squat\", \"er\", \"rambling\", \"mgtow\", \"motivate\", \"retreat\", \"omega\", \"checking\", \"dumpster\", \"runner\", \"weightlifting\", \"browse\", \"greatness\", \"cologne\", \"stimulus\", \"nofap\", \"assure\", \"php\", \"amateur\", \"porn\", \"loneliness\", \"goal\", \"philosophy\", \"exercise\", \"improvement\", \"addiction\", \"lift\", \"mission\", \"motivation\", \"energy\", \"nerd\", \"progress\", \"lifestyle\", \"success\", \"life\", \"confidence\", \"gym\", \"happiness\", \"game\", \"advice\", \"people\", \"problem\", \"focus\", \"activity\", \"pleasure\", \"other\", \"thing\", \"post\", \"time\", \"lot\", \"trp\", \"work\", \"day\", \"way\", \"world\", \"self\", \"effort\", \"change\", \"society\", \"year\", \"shit\", \"mind\", \"body\", \"guy\", \"outcome_independence\", \"seducer\", \"rank\", \"indifference\", \"valentine_day\", \"listener\", \"chess\", \"driving\", \"mannerism\", \"ldr\", \"opposite\", \"elon\", \"impulsivity\", \"predisposition\", \"swinger\", \"ruthlessness\", \"stump\", \"hang\", \"shrivel\", \"wondering\", \"actualization\", \"backstabbing\", \"undress\", \"negotiable\", \"scanner\", \"timescale\", \"hindrance\", \"choir\", \"deconstruction\", \"wah\", \"intellectuality\", \"searching\", \"reptilian\", \"digression\", \"unblinking\", \"unpack\", \"pda\", \"emotionally_unstable\", \"thesis\", \"test\", \"body_language\", \"tension\", \"shit_test\", \"frame\", \"antic\", \"silence\", \"testing\", \"vulnerability\", \"interaction\", \"tone\", \"emotion\", \"rejection\", \"react\", \"outcome\", \"dialogue\", \"response\", \"communication\", \"conversation\", \"control\", \"action\", \"person\", \"approach\", \"talk\", \"game\", \"question\", \"power\", \"impression\", \"answer\", \"way\", \"voice\", \"interest\", \"shit\", \"behavior\", \"confidence\", \"rule\", \"word\", \"situation\", \"option\", \"thing\", \"mind\", \"point\", \"people\", \"other\", \"example\", \"reason\", \"equality\", \"feminism\", \"professor\", \"orientation\", \"mra\", \"iq\", \"vote\", \"allegation\", \"gender_equality\", \"revolution\", \"academia\", \"conservative\", \"drum\", \"backlash\", \"border\", \"white\", \"noone\", \"climate\", \"nation\", \"cbc\", \"feminization\", \"progressive\", \"dough\", \"dropout\", \"jaye\", \"commit_suicide\", \"tinge\", \"import\", \"racist\", \"distrust\", \"sexist\", \"government\", \"gender\", \"feminist\", \"institution\", \"teacher\", \"workshop\", \"journalism\", \"discrimination\", \"narrative\", \"movement\", \"century\", \"violence\", \"scientist\", \"society\", \"minority\", \"boy\", \"race\", \"right\", \"suicide\", \"article\", \"culture\", \"masculinity\", \"country\", \"man\", \"generation\", \"privilege\", \"woman\", \"com\", \"class\", \"male\", \"student\", \"law\", \"issue\", \"people\", \"world\", \"movie\", \"group\", \"power\", \"fact\", \"school\", \"problem\", \"today\", \"course\", \"child\", \"neck\", \"waist\", \"bartender\", \"titration\", \"cheek\", \"invention\", \"min\", \"jean\", \"shirt\", \"hip\", \"underwear\", \"psychiatry\", \"thigh\", \"stroke\", \"proximity\", \"waitress\", \"swole\", \"spin_plate\", \"short\", \"insulin\", \"reversal\", \"knot\", \"nipple\", \"keto\", \"melt\", \"stitch\", \"beard\", \"highly_recommend\", \"snuggle\", \"refrigerator\", \"wear\", \"abs\", \"haircut\", \"posture\", \"grin\", \"nose\", \"fish\", \"hair\", \"clothe\", \"shower\", \"chest\", \"dress\", \"door\", \"breast\", \"arm\", \"bed\", \"clothing\", \"stare\", \"shoulder\", \"face\", \"leg\", \"grab\", \"hand\", \"body\", \"style\", \"pussy\", \"eye\", \"hour\", \"gym\", \"minute\", \"head\", \"tip\", \"look\", \"approach\", \"room\", \"day\", \"time\", \"work\", \"bit\", \"foot\", \"shit\", \"week\", \"morning\", \"food\", \"way\", \"night\", \"hubby\", \"wife\", \"studio\", \"wedding\", \"infidelity\", \"clinic\", \"thundercock\", \"titty\", \"mover\", \"packing\", \"stair\", \"tenant\", \"threesome\", \"smh\", \"divorce_paper\", \"estimation\", \"counselling\", \"fore\", \"starfish\", \"backup\", \"smack\", \"deleting\", \"existent\", \"anniversary\", \"slime\", \"timeline\", \"rub\", \"shity\", \"marieclaire\", \"dawn\", \"husband\", \"affair\", \"roommate\", \"fiance\", \"redditlog_com_snapshot\", \"marriage\", \"guest\", \"vacation\", \"divorce\", \"cheating\", \"marry\", \"upvote\", \"op\", \"relationship\", \"ex\", \"sister\", \"year\", \"sex\", \"month\", \"couple\", \"ring\", \"thread\", \"house\", \"heart\", \"week\", \"trip\", \"comment\", \"story\", \"home\", \"dinner\", \"love\", \"work\", \"day\", \"family\", \"time\", \"thing\", \"guy\", \"kid\", \"girlfriend\", \"course\", \"part\", \"advice\", \"life\", \"tribe\", \"cold_approach\", \"soldier\", \"military\", \"programmer\", \"software\", \"pussycat\", \"compensate\", \"developer\", \"adviser\", \"lament\", \"lmfao\", \"attribute\", \"eater\", \"agriculture\", \"mankind\", \"anthropologist\", \"provision\", \"drove\", \"region\", \"cooperation\", \"breeze\", \"whole\", \"excess\", \"battlefield\", \"lacking\", \"phd\", \"hunter_gatherer\", \"orange\", \"boxer\", \"scare\", \"volunteer\", \"survey\", \"maxim\", \"participant\", \"bachelor\", \"compensation\", \"percent\", \"taxis\", \"housewife\", \"era\", \"conference\", \"statistic\", \"education\", \"status\", \"com\", \"marriage\", \"study\", \"group\", \"rate\", \"language\", \"number\", \"man\", \"year\", \"culture\", \"career\", \"source\", \"age\", \"research\", \"community\", \"environment\", \"woman\", \"family\", \"male\", \"history\", \"world\", \"power\", \"degree\", \"partner\", \"state\", \"time\", \"course\", \"custody\", \"alimony\", \"mistress\", \"vodka\", \"askwoman\", \"mortgage\", \"parenting\", \"arrest\", \"footage\", \"swoon\", \"child_support_payment\", \"subservience\", \"prenup\", \"attendance\", \"visitation\", \"pokemon\", \"decent\", \"mum\", \"incher\", \"potty\", \"lyeki\", \"dzrm\", \"sterilization\", \"crazyness\", \"braking\", \"retainer\", \"daughter\", \"balloon\", \"diaper\", \"health_insurance\", \"dad\", \"mother\", \"son\", \"mom\", \"insurance\", \"father\", \"kid\", \"child\", \"parent\", \"daddy\", \"abortion\", \"baby\", \"asset\", \"divorce\", \"lawyer\", \"court\", \"pregnancy\", \"family\", \"judge\", \"marriage\", \"pay\", \"house\", \"money\", \"school\", \"support\", \"year\", \"age\", \"job\", \"home\", \"life\", \"manager\", \"tech\", \"employer\", \"hire\", \"entrepreneur\", \"management\", \"lad\", \"marketer\", \"employee\", \"corporation\", \"trader\", \"hungover\", \"businessman\", \"polyamorist\", \"ketogain\", \"mutilate\", \"stoicnightbus\", \"alia\", \"correspond\", \"barren\", \"bmws\", \"quadraplex\", \"dwhg\", \"townhouse\", \"maternity\", \"executive\", \"startup\", \"meritocracy\", \"director\", \"sleepover\", \"client\", \"company\", \"quota\", \"operation\", \"saving\", \"salary\", \"translation\", \"office\", \"sale\", \"engineer\", \"worker\", \"market\", \"money\", \"business\", \"job\", \"boss\", \"candidate\", \"workplace\", \"price\", \"interview\", \"coworker\", \"customer\", \"offer\", \"work\", \"income\", \"pay\", \"bill\", \"team\", \"position\", \"career\", \"year\", \"people\", \"month\", \"organisation\", \"circumvent\", \"subscriber\", \"infant\", \"publicity\", \"appoint\", \"behalf\", \"panel\", \"tennis\", \"frontpage\", \"franchise\", \"moderator\", \"personnel\", \"bella\", \"beget\", \"tran\", \"mortality\", \"flyer\", \"misnomer\", \"interviewer\", \"tumble\", \"redneck\", \"ban\", \"debater\", \"bia\", \"flyby\", \"brawl\", \"inconsistency\", \"redpillschool\", \"viewer\", \"trump\", \"organization\", \"mod\", \"user\", \"reddit\", \"debate\", \"journalist\", \"sub\", \"sjw\", \"audience\", \"medium\", \"criticism\", \"community\", \"discussion\", \"subreddit\", \"theredpill\", \"policy\", \"post\", \"thread\", \"character\", \"forum\", \"com\", \"comment\", \"writer\", \"topic\", \"trp\", \"idea\", \"people\", \"gender\", \"member\", \"event\", \"place\", \"argument\", \"point\", \"truth\", \"red_pill\", \"video\", \"group\", \"cop\", \"rape_culture\", \"migrant\", \"lawsuit\", \"police\", \"fraud\", \"reform\", \"workforce\", \"social_justice_warrior\", \"ravishment\", \"incompetence\", \"ritual\", \"cap\", \"smirk\", \"penalty\", \"probation\", \"surveillance\", \"livelihood\", \"practitioner\", \"rally\", \"oocitie\", \"enabler\", \"coverage\", \"homemaking\", \"urologist\", \"announce\", \"rape\", \"corpse\", \"alimony_child_support\", \"dancer\", \"refugee\", \"consent\", \"jail\", \"investigation\", \"victim\", \"evidence\", \"crime\", \"rapist\", \"assault\", \"trial\", \"prison\", \"attorney\", \"defense\", \"accusation\", \"privacy\", \"murder\", \"harassment\", \"lawyer\", \"court\", \"case\", \"relation\", \"charge\", \"law\", \"file\", \"article\", \"student\", \"sex\", \"story\", \"com\", \"order\", \"state\", \"claim\", \"app\", \"cocktail\", \"messaging\", \"meetup\", \"bicep\", \"liner\", \"convo\", \"pavement\", \"text_message\", \"dancefloor\", \"skype\", \"notification\", \"smiling\", \"faq\", \"culprit\", \"rapey\", \"genesis\", \"voting\", \"scheming\", \"pretzel\", \"blah\", \"inboxe\", \"casino\", \"furthering\", \"fidgety\", \"climaxing\", \"canine\", \"dogbro\", \"sparring\", \"seethe\", \"tinder\", \"profile\", \"lighting\", \"volume\", \"starbuck\", \"lmr\", \"marketing\", \"dog\", \"photo\", \"match\", \"swipe\", \"pic\", \"phone\", \"online_dating\", \"selfie\", \"picture\", \"message\", \"text\", \"meeting\", \"number\", \"ghost\", \"meet\", \"athlete\", \"validation\", \"conversation\", \"interview\", \"attention\", \"day\", \"use\", \"week\", \"time\", \"response\", \"video\", \"date\", \"com\", \"calorie\", \"protein\", \"clip\", \"regiment\", \"fast_food\", \"measurement\", \"losing_weight\", \"peril\", \"complexion\", \"buzzfeed\", \"ceremony\", \"churn\", \"reactive\", \"piller\", \"revisit\", \"enthusiast\", \"blowback\", \"romanticise\", \"mindbodygreen\", \"thinness\", \"proverb\", \"carbohydrate\", \"carb\", \"bulk\", \"extinction\", \"pull_up\", \"platter\", \"taper\", \"stool\", \"gaining_weight\", \"workout\", \"diet\", \"muscle\", \"fat\", \"pound\", \"weight\", \"bone\", \"zombie\", \"body\", \"fitness\", \"lifting\", \"machine\", \"health\", \"food\", \"strength\", \"sugar\", \"press\", \"training\", \"lift\", \"com\", \"gym\", \"set\", \"gain\", \"program\", \"sleep\", \"exercise\", \"month\", \"cell\", \"hormone\", \"advisor\", \"estrogen\", \"consultation\", \"conformation\", \"genital\", \"gram\", \"vitamin\", \"testosterone\", \"applicant\", \"dependency\", \"extraction\", \"intake\", \"stimulant\", \"prescription\", \"zinc\", \"quest\", \"varying\", \"hinderance\", \"mental_health_issue\", \"milf\", \"serum\", \"mineral\", \"diabetes\", \"brief\", \"testosterone_levels\", \"cleanser\", \"alien\", \"circulation\", \"reduction\", \"chemical\", \"isolation\", \"science\", \"study\", \"research\", \"blood\", \"brain\", \"water\", \"researcher\", \"source\", \"scientist\", \"level\", \"symptom\", \"effect\", \"datum\", \"sugar\", \"sleep\", \"result\", \"test\", \"use\", \"system\", \"article\", \"stress\", \"health\", \"doctor\", \"redditor\", \"seminar\", \"fwb\", \"fellatio\", \"banging\", \"flu\", \"handing\", \"launch\", \"browsing\", \"tablet\", \"shitload\", \"admin\", \"whimper\", \"halo\", \"motel\", \"adversary\", \"ryan_gosling\", \"asperger\", \"disengage\", \"terrain\", \"dweller\", \"failsafe\", \"eschew\", \"social_justice\", \"shout\", \"anal\", \"gtfo\", \"freeze\", \"headphone\", \"index\", \"swim\", \"scroll\", \"tiger\", \"cocaine\", \"instructor\", \"gig\", \"magic\", \"kink\", \"orgasm\", \"position\", \"psych\", \"pause\", \"sound\", \"housework\", \"technique\", \"vanilla\", \"tongue\", \"nurse\", \"shah\", \"escort\", \"freshman\", \"slutever\", \"vinotherapy\", \"kerr\", \"sailer\", \"dorm\", \"celebs\", \"bio\", \"buffer\", \"shirtless\", \"frat\", \"ethnicity\", \"ole\", \"short_term_mate\", \"organic\", \"earthquake\", \"solidity\", \"brutishness\", \"googled\", \"batw\", \"packer\", \"cache\", \"legola\", \"orlando\", \"onion\", \"brunette\", \"respondent\", \"chart\", \"instagram\", \"attractiveness\", \"student\", \"selfie\", \"fraternity\", \"college\", \"model\", \"candy\", \"trait\", \"campus\", \"stripper\", \"com\", \"university\", \"study\", \"picture\", \"photo\", \"age\", \"gene\", \"effect\", \"humor\", \"corruption\", \"bash\", \"blip\", \"middleman\", \"labour\", \"hijack\", \"sappy\", \"birth_rate\", \"perfume\", \"isis\", \"wikileak\", \"fragrance\", \"thinker\", \"rolling\", \"slutfriend\", \"third_wave_feminist\", \"welfare_state\", \"lever\", \"super_bowl\", \"negative_birth_rate\", \"third_worldization\", \"gpa\", \"redistribution\", \"overrun\", \"resident\", \"crock\", \"ruler\", \"prophet\", \"operator\", \"embed\", \"ad\", \"video\", \"wage\", \"crisis\", \"bank\", \"citizen\", \"watch\", \"immigration\", \"country\", \"note\", \"com\", \"counter\", \"blood\", \"briffault_law\", \"maturity\", \"judging\", \"gronk\", \"narration\", \"accentuate\", \"callousness\", \"egotism\", \"grandiosity\", \"exit_strategy\", \"soften\", \"receive\", \"dominant\", \"thottery\", \"gadot\", \"hitchen\", \"lauren\", \"plead\", \"chimp\", \"positive\", \"sander\", \"bid\", \"authenticity\", \"hanging\", \"module\", \"nurture\", \"indiscretion\", \"rash\", \"compartment\", \"amog\", \"gaze\", \"consumerism\", \"narcissism\", \"narcissist\", \"other\", \"structure\"], \"Freq\": [26744.0, 17039.0, 9789.0, 9600.0, 5143.0, 2219.0, 1750.0, 4677.0, 1652.0, 1982.0, 5983.0, 1960.0, 6067.0, 4760.0, 3572.0, 1614.0, 3389.0, 4282.0, 10120.0, 864.0, 1560.0, 903.0, 2035.0, 1413.0, 941.0, 1076.0, 1854.0, 542.0, 750.0, 858.0, 103.27444458007812, 83.89759063720703, 78.91571807861328, 60.17208480834961, 58.24457550048828, 55.41904830932617, 52.89030075073242, 50.55366897583008, 50.4797477722168, 49.19785690307617, 46.778038024902344, 46.666221618652344, 45.314537048339844, 44.34281921386719, 43.6253547668457, 43.03630828857422, 42.01605987548828, 41.9888801574707, 41.894100189208984, 39.902469635009766, 39.627811431884766, 39.52202224731445, 39.4869499206543, 38.96003723144531, 38.74733352661133, 51.34546661376953, 38.52734375, 38.37285232543945, 38.20146560668945, 37.90341567993164, 24563.072265625, 72.51359558105469, 102.52812194824219, 70.01315307617188, 2321.586181640625, 55.015296936035156, 468.4379577636719, 49.594329833984375, 13742.04296875, 1305.2127685546875, 182.8568572998047, 2037.65478515625, 686.5382080078125, 151.99301147460938, 271.2360534667969, 87.11064147949219, 538.0009155273438, 213.507568359375, 3500.114501953125, 225.2769012451172, 429.8283386230469, 1557.0977783203125, 127.84527587890625, 753.8670043945312, 102.5293197631836, 249.27352905273438, 2175.8154296875, 139.21969604492188, 310.35504150390625, 645.8521118164062, 424.9750671386719, 808.3701171875, 256.27667236328125, 321.47161865234375, 561.6159057617188, 572.1741943359375, 434.1568603515625, 3227.7890625, 887.7095947265625, 741.7327880859375, 1529.0079345703125, 1944.03759765625, 359.5907287597656, 432.8605651855469, 477.4661560058594, 1545.9586181640625, 831.8240966796875, 572.9193725585938, 599.1018676757812, 884.8735961914062, 650.8778076171875, 602.9129028320312, 681.0621337890625, 538.1978149414062, 624.8003540039062, 98.24848937988281, 69.33697509765625, 69.93131256103516, 65.49742126464844, 65.15290069580078, 94.12554931640625, 57.23344802856445, 56.26597595214844, 56.23560333251953, 55.85346221923828, 55.704593658447266, 53.736053466796875, 53.24049377441406, 52.79197692871094, 55.51749801635742, 51.76652145385742, 49.88256072998047, 49.707847595214844, 49.48551940917969, 49.00804901123047, 53.6124382019043, 48.502960205078125, 47.81208801269531, 46.21111297607422, 44.7265510559082, 45.451900482177734, 42.10895538330078, 41.27952194213867, 40.869022369384766, 40.077606201171875, 80.78699493408203, 78.98583984375, 134.0372772216797, 246.48672485351562, 75.82908630371094, 90.41987609863281, 93.3917007446289, 260.3145446777344, 297.8526611328125, 197.68687438964844, 2978.9287109375, 2932.794921875, 163.7034149169922, 2046.6898193359375, 310.3556213378906, 3974.781005859375, 841.97998046875, 1958.4422607421875, 1749.1314697265625, 513.3887329101562, 743.6204223632812, 132.86770629882812, 125.87142181396484, 880.9088134765625, 2322.48681640625, 464.1823425292969, 310.162109375, 767.84814453125, 740.325927734375, 687.4407958984375, 1051.7320556640625, 324.7345275878906, 671.0587768554688, 533.9749145507812, 438.5079040527344, 425.98675537109375, 330.92889404296875, 550.4346313476562, 1013.2296752929688, 444.532470703125, 411.22943115234375, 636.034912109375, 506.38134765625, 573.3418579101562, 429.16754150390625, 680.9093017578125, 416.6211242675781, 454.814453125, 132.37806701660156, 41.9670295715332, 38.406150817871094, 37.47341537475586, 36.13372802734375, 242.3209228515625, 29.873003005981445, 28.91474151611328, 25.787565231323242, 24.77193260192871, 23.868877410888672, 23.416749954223633, 22.065351486206055, 21.908092498779297, 21.876131057739258, 21.720151901245117, 21.435222625732422, 20.858388900756836, 368.47314453125, 20.444650650024414, 20.40526008605957, 20.125228881835938, 19.8843994140625, 19.78432273864746, 160.76193237304688, 18.761581420898438, 18.671253204345703, 18.648759841918945, 18.77839469909668, 18.426006317138672, 980.3301391601562, 8886.859375, 1612.620849609375, 56.680694580078125, 55.79500198364258, 3745.7939453125, 473.6310729980469, 1604.8680419921875, 790.8729248046875, 238.0771942138672, 164.14283752441406, 139.18190002441406, 177.61529541015625, 109.18059539794922, 672.2442626953125, 536.3974609375, 511.9888916015625, 637.3040161132812, 128.93653869628906, 5678.5380859375, 124.45893096923828, 298.3343505859375, 448.551025390625, 331.9364929199219, 341.17462158203125, 149.47589111328125, 507.53753662109375, 504.72027587890625, 829.2723388671875, 746.8123779296875, 493.5220947265625, 692.2130126953125, 2329.768798828125, 652.8341674804688, 490.384765625, 948.4854736328125, 1416.41845703125, 632.4791870117188, 810.2820434570312, 832.9210815429688, 802.6275634765625, 751.1771850585938, 642.5115356445312, 601.7969970703125, 486.53509521484375, 213.80538940429688, 169.29295349121094, 154.80581665039062, 87.262939453125, 81.52806854248047, 68.70526123046875, 63.39095687866211, 55.04526901245117, 50.288021087646484, 44.60015106201172, 43.37538528442383, 37.70057678222656, 36.438636779785156, 36.006370544433594, 322.0402526855469, 31.867258071899414, 34.66516876220703, 31.6525936126709, 31.00896644592285, 30.666608810424805, 30.52274513244629, 29.843870162963867, 29.741140365600586, 29.685272216796875, 30.31352996826172, 50.91499328613281, 29.352527618408203, 29.249481201171875, 29.003894805908203, 28.8998966217041, 400.00262451171875, 47.18366622924805, 510.4344482421875, 176.42050170898438, 144.63897705078125, 76.40326690673828, 104.84107208251953, 199.8247833251953, 127.81230163574219, 84.68745422363281, 192.39205932617188, 94.90676879882812, 113.89285278320312, 164.85679626464844, 285.0640869140625, 1589.9681396484375, 287.7044372558594, 323.03033447265625, 164.965087890625, 621.0899658203125, 372.7944030761719, 1053.9620361328125, 461.9907531738281, 154.505126953125, 146.8240966796875, 131.87771606445312, 296.0222473144531, 822.8170776367188, 406.7074279785156, 901.4714965820312, 499.0880432128906, 201.55499267578125, 466.4396057128906, 516.1767578125, 518.4330444335938, 333.3265686035156, 255.99037170410156, 217.01803588867188, 242.66302490234375, 232.80368041992188, 273.79315185546875, 265.2098388671875, 219.9025421142578, 209.67970275878906, 212.16993713378906, 58.763431549072266, 53.38459396362305, 51.729164123535156, 39.18064498901367, 37.235992431640625, 35.4653434753418, 34.352413177490234, 33.5181999206543, 35.03359603881836, 25.69549560546875, 23.775880813598633, 21.352493286132812, 21.258255004882812, 20.71427345275879, 20.420610427856445, 20.04825210571289, 19.763525009155273, 19.607145309448242, 19.59255599975586, 18.620397567749023, 18.184030532836914, 17.7237491607666, 17.499088287353516, 17.182682037353516, 17.085330963134766, 16.768922805786133, 16.768922805786133, 16.768924713134766, 16.768924713134766, 16.768924713134766, 16.768924713134766, 16.768924713134766, 16.768922805786133, 16.768924713134766, 16.768922805786133, 16.768924713134766, 16.768924713134766, 16.768924713134766, 36.40132141113281, 710.48828125, 85.4148941040039, 79.62931060791016, 209.6043701171875, 833.6920776367188, 23.792335510253906, 89.10309600830078, 83.44654846191406, 41.342933654785156, 258.5892333984375, 131.4408721923828, 415.7652587890625, 149.5673370361328, 42.491485595703125, 94.36991119384766, 31.460081100463867, 301.990966796875, 87.26414489746094, 361.4531555175781, 322.1213073730469, 329.74267578125, 535.994140625, 226.36709594726562, 399.45135498046875, 484.3154296875, 311.1962585449219, 319.4120178222656, 81.02937316894531, 189.22059631347656, 610.7719116210938, 129.63320922851562, 221.98007202148438, 490.69866943359375, 221.61622619628906, 172.78517150878906, 163.54556274414062, 245.01275634765625, 244.82733154296875, 190.40249633789062, 460.2509765625, 248.73863220214844, 289.7430114746094, 350.556640625, 191.13815307617188, 181.72669982910156, 191.07667541503906, 220.0263214111328, 715.157958984375, 122.43025970458984, 60.205657958984375, 52.80929183959961, 51.5703239440918, 48.72610092163086, 46.50119400024414, 43.353416442871094, 38.2869873046875, 34.25786209106445, 33.284454345703125, 33.037445068359375, 27.41025733947754, 26.2436580657959, 26.01263427734375, 25.541473388671875, 25.546621322631836, 69.34490203857422, 24.1375732421875, 21.95081901550293, 21.616575241088867, 21.509862899780273, 21.394609451293945, 20.535240173339844, 19.88385581970215, 19.747798919677734, 19.742687225341797, 34.36582565307617, 19.267183303833008, 34.551368713378906, 240.0997314453125, 606.3495483398438, 496.5527648925781, 49.79967498779297, 203.8274383544922, 34.03336715698242, 38.020912170410156, 68.89024353027344, 86.29659271240234, 146.0366668701172, 46.52922821044922, 115.9355697631836, 78.63983917236328, 617.2921752929688, 72.386962890625, 520.6570434570312, 108.50914764404297, 209.1621856689453, 79.7959976196289, 424.5829162597656, 230.2586669921875, 147.58653259277344, 213.9220428466797, 2290.451904296875, 116.50672912597656, 82.576904296875, 1764.9141845703125, 288.45452880859375, 191.99778747558594, 279.2568359375, 170.00338745117188, 167.0439453125, 223.0659637451172, 538.0617065429688, 272.4639587402344, 163.37477111816406, 180.5214385986328, 191.44955444335938, 204.4518280029297, 147.64443969726562, 163.16844177246094, 155.1602325439453, 152.96397399902344, 151.5096893310547, 125.0687026977539, 60.78655242919922, 55.03255844116211, 49.45284652709961, 46.02738571166992, 40.98471450805664, 40.94940185546875, 38.52572250366211, 237.93943786621094, 34.93295669555664, 33.69939041137695, 33.31282043457031, 31.845415115356445, 31.79770278930664, 31.38550567626953, 30.200321197509766, 29.89544677734375, 29.76759910583496, 29.219730377197266, 28.868722915649414, 25.452356338500977, 24.07778549194336, 23.96223258972168, 23.885080337524414, 23.32380485534668, 23.02865219116211, 22.644683837890625, 22.406763076782227, 21.460233688354492, 19.267000198364258, 64.08465576171875, 55.547176361083984, 38.899436950683594, 70.1163558959961, 38.86668395996094, 58.946903228759766, 108.15099334716797, 245.2532958984375, 229.70480346679688, 100.40011596679688, 119.26885986328125, 130.3516387939453, 269.4427795410156, 38.8596305847168, 175.97142028808594, 296.93621826171875, 57.72410202026367, 39.36917495727539, 107.81124114990234, 326.2845153808594, 116.6811294555664, 78.231689453125, 296.1010437011719, 372.28460693359375, 124.05589294433594, 291.65533447265625, 275.16009521484375, 301.5544128417969, 218.0692596435547, 231.0337371826172, 244.4136199951172, 104.52890014648438, 214.80404663085938, 167.30172729492188, 175.6487274169922, 388.8116455078125, 548.6785888671875, 294.66973876953125, 172.6492462158203, 122.58031463623047, 182.34979248046875, 153.2272186279297, 125.53604125976562, 126.09750366210938, 145.69573974609375, 131.76556396484375, 85.7172622680664, 2174.586669921875, 46.295677185058594, 168.31813049316406, 72.63448333740234, 38.01272201538086, 32.2870979309082, 29.066326141357422, 27.458032608032227, 23.144514083862305, 26.677417755126953, 20.764026641845703, 20.0733585357666, 20.056554794311523, 19.76114845275879, 18.444398880004883, 18.053102493286133, 17.657678604125977, 17.639928817749023, 17.356990814208984, 17.010391235351562, 16.432065963745117, 16.35736846923828, 16.098268508911133, 15.689456939697266, 14.812251091003418, 14.576382637023926, 14.52437686920166, 14.473703384399414, 14.360299110412598, 990.8857421875, 101.79541778564453, 101.46195220947266, 45.402809143066406, 25.564762115478516, 766.991455078125, 45.7961540222168, 105.96150207519531, 319.12823486328125, 72.13703155517578, 32.77461624145508, 35.000518798828125, 121.56614685058594, 769.667236328125, 164.50453186035156, 145.24789428710938, 842.8997802734375, 854.8175659179688, 433.71221923828125, 270.47381591796875, 82.92752075195312, 156.2965087890625, 163.2566375732422, 144.89675903320312, 314.2608337402344, 93.50970458984375, 203.24928283691406, 216.08837890625, 161.5968017578125, 123.04292297363281, 239.58102416992188, 288.74786376953125, 318.68505859375, 193.87294006347656, 397.36962890625, 308.34161376953125, 320.5732421875, 179.99974060058594, 155.14312744140625, 156.1669921875, 159.28086853027344, 149.556640625, 155.50672912597656, 113.17401123046875, 67.58197021484375, 63.51838302612305, 51.146610260009766, 45.40149688720703, 38.58616256713867, 36.199676513671875, 35.937564849853516, 34.830535888671875, 29.714494705200195, 29.304723739624023, 29.044559478759766, 41.257652282714844, 25.95760154724121, 19.746389389038086, 18.45574188232422, 18.191513061523438, 17.47434425354004, 17.437301635742188, 17.432785034179688, 17.383378982543945, 17.01460838317871, 16.943178176879883, 15.717791557312012, 15.315617561340332, 15.294967651367188, 30.642831802368164, 14.8978853225708, 14.557226181030273, 14.550886154174805, 63.06743240356445, 52.537723541259766, 54.51409149169922, 31.357343673706055, 28.018939971923828, 37.84379959106445, 61.834014892578125, 143.9142608642578, 50.92221450805664, 44.46113586425781, 45.69670867919922, 29.763507843017578, 51.83582305908203, 101.08914184570312, 181.28659057617188, 264.77496337890625, 281.650390625, 128.2866973876953, 220.15316772460938, 95.7216796875, 90.51741027832031, 199.92343139648438, 716.8453369140625, 278.04595947265625, 104.33961486816406, 107.04769134521484, 81.3647689819336, 112.64591979980469, 63.7983512878418, 81.99655151367188, 72.58880615234375, 279.8869934082031, 119.06607055664062, 105.81181335449219, 77.24292755126953, 112.12802124023438, 100.1072006225586, 76.0675048828125, 83.5226058959961, 81.72188568115234, 107.23587036132812, 78.03472137451172, 140.03225708007812, 93.55905151367188, 60.8140869140625, 57.19839859008789, 51.3102912902832, 41.49580764770508, 36.486446380615234, 27.862884521484375, 26.627391815185547, 20.747859954833984, 19.785137176513672, 19.588830947875977, 19.39665412902832, 18.7969913482666, 18.083541870117188, 16.867652893066406, 16.216575622558594, 14.866106986999512, 14.720992088317871, 14.720990180969238, 14.12499713897705, 14.12499713897705, 14.12499713897705, 14.12499713897705, 14.12499713897705, 14.12499713897705, 364.511962890625, 12.654463768005371, 11.629510879516602, 11.258939743041992, 280.7933044433594, 770.366455078125, 271.7881774902344, 415.76025390625, 70.17781829833984, 478.1813659667969, 1154.5577392578125, 1060.7423095703125, 477.2268371582031, 88.22535705566406, 61.669921875, 253.95164489746094, 103.21408081054688, 307.3223876953125, 126.73388671875, 145.2432861328125, 57.10273742675781, 360.5503234863281, 77.7406997680664, 225.68460083007812, 126.42191314697266, 122.5963363647461, 222.10665893554688, 119.1374740600586, 94.84515380859375, 202.44802856445312, 107.2699203491211, 121.50177001953125, 93.07707977294922, 96.28043365478516, 101.37228393554688, 85.96212768554688, 78.30765533447266, 58.695003509521484, 33.601959228515625, 65.79296875, 22.59267234802246, 20.61223030090332, 140.27723693847656, 18.197338104248047, 17.216238021850586, 15.943097114562988, 15.695570945739746, 14.976622581481934, 14.976622581481934, 14.976622581481934, 14.976622581481934, 14.976622581481934, 14.976622581481934, 14.976622581481934, 14.976622581481934, 14.976622581481934, 14.976625442504883, 14.976622581481934, 14.976622581481934, 12.072407722473145, 11.039847373962402, 10.689289093017578, 36.8540153503418, 9.326059341430664, 89.95265197753906, 458.5951843261719, 79.6054458618164, 67.35057830810547, 51.330894470214844, 86.26934051513672, 179.2753143310547, 139.5869140625, 95.05084991455078, 71.6269302368164, 92.87104797363281, 119.72377014160156, 715.07275390625, 303.9526062011719, 681.9277954101562, 108.26371765136719, 38.996646881103516, 48.104610443115234, 71.4810791015625, 78.98426818847656, 75.42137908935547, 56.56439971923828, 99.16402435302734, 384.6649169921875, 90.15864562988281, 133.4929656982422, 89.04190063476562, 88.17820739746094, 103.68766784667969, 102.00080871582031, 118.61843872070312, 104.7829818725586, 72.85103607177734, 81.5709228515625, 50.1400260925293, 45.756229400634766, 31.828428268432617, 29.620643615722656, 28.849903106689453, 27.597328186035156, 26.14069366455078, 20.544281005859375, 20.0621337890625, 19.74822425842285, 19.643085479736328, 19.451648712158203, 18.933000564575195, 18.511249542236328, 18.223033905029297, 17.700206756591797, 16.894926071166992, 16.85924530029297, 16.790916442871094, 16.318391799926758, 16.152067184448242, 44.85548400878906, 14.809202194213867, 14.452598571777344, 14.452598571777344, 14.452596664428711, 13.998434066772461, 13.697683334350586, 13.63261604309082, 66.1003646850586, 52.42181396484375, 56.027076721191406, 135.0081024169922, 131.13027954101562, 89.0810317993164, 62.420413970947266, 213.76712036132812, 58.0395622253418, 51.9163703918457, 131.88259887695312, 60.70832824707031, 139.89651489257812, 117.45347595214844, 102.17304229736328, 52.613922119140625, 69.6208724975586, 290.5294189453125, 120.80998992919922, 79.56387329101562, 61.4339599609375, 167.72537231445312, 172.64358520507812, 57.18490982055664, 78.47020721435547, 95.73490905761719, 130.36929321289062, 210.68484497070312, 99.42322540283203, 71.44818115234375, 78.39299011230469, 102.9194564819336, 73.67823028564453, 102.71959686279297, 85.68901062011719, 76.37899017333984, 73.75111389160156, 72.63985443115234, 134.67437744140625, 74.9284439086914, 53.661930084228516, 52.54640579223633, 306.0215759277344, 39.65859603881836, 37.71781921386719, 33.37080001831055, 32.154937744140625, 30.925262451171875, 25.62955093383789, 25.436046600341797, 23.543563842773438, 22.46429443359375, 21.87877655029297, 21.108531951904297, 20.90445327758789, 20.645700454711914, 19.971187591552734, 17.588953018188477, 16.610145568847656, 16.347097396850586, 16.275558471679688, 16.145950317382812, 15.784581184387207, 15.497347831726074, 809.5321655273438, 14.566263198852539, 14.289350509643555, 14.237756729125977, 61.32805252075195, 157.9156951904297, 107.21265411376953, 27.76822853088379, 303.9229736328125, 226.9930419921875, 109.53789520263672, 68.3537368774414, 50.920257568359375, 59.033016204833984, 58.96913528442383, 48.70661163330078, 60.867454528808594, 46.573299407958984, 34.7553825378418, 54.39442825317383, 40.56348419189453, 87.90202331542969, 95.75723266601562, 190.33343505859375, 68.10668182373047, 84.15472412109375, 120.20157623291016, 45.79828643798828, 121.98313903808594, 87.05883026123047, 177.55833435058594, 102.97718811035156, 92.24058532714844, 73.8373031616211, 68.90652465820312, 58.54255294799805, 145.56996154785156, 47.65995788574219, 42.232215881347656, 27.69251823425293, 23.559696197509766, 21.23539924621582, 18.997196197509766, 18.61439323425293, 18.235685348510742, 18.20313835144043, 17.533430099487305, 17.472793579101562, 16.88232421875, 16.599143981933594, 16.23185157775879, 16.159095764160156, 15.628665924072266, 15.501154899597168, 15.213274955749512, 15.033278465270996, 14.863714218139648, 14.790389060974121, 14.479155540466309, 14.467016220092773, 14.448322296142578, 13.863368034362793, 13.863368034362793, 13.863368034362793, 13.863368034362793, 13.863368034362793, 283.7940368652344, 133.31649780273438, 21.623876571655273, 41.39966583251953, 42.29509735107422, 36.367210388183594, 65.45486450195312, 364.7606506347656, 153.32574462890625, 115.50332641601562, 26.13062858581543, 125.17426300048828, 415.96527099609375, 46.77562713623047, 76.2964096069336, 259.0299072265625, 221.69961547851562, 288.1422119140625, 89.25608825683594, 193.2278289794922, 36.275238037109375, 62.194297790527344, 33.52887725830078, 73.30859375, 83.25181579589844, 43.46891403198242, 89.249267578125, 127.89601135253906, 68.08911895751953, 85.73284912109375, 98.19432830810547, 51.97611618041992, 45.17914581298828, 46.67265319824219, 44.831783294677734, 62.23399353027344, 58.981414794921875, 33.51206588745117, 31.520235061645508, 23.564678192138672, 23.03011703491211, 22.44188117980957, 20.0272274017334, 19.39228630065918, 19.187280654907227, 19.148990631103516, 18.917388916015625, 18.6013126373291, 18.2542724609375, 18.06064224243164, 17.504785537719727, 17.099958419799805, 15.564199447631836, 14.725714683532715, 14.725714683532715, 14.663372039794922, 13.179574966430664, 11.564817428588867, 10.199575424194336, 10.153575897216797, 10.046632766723633, 9.851025581359863, 9.563535690307617, 9.281614303588867, 8.71274471282959, 117.10192108154297, 85.98383331298828, 187.8645782470703, 168.27035522460938, 106.43231201171875, 194.6472625732422, 51.179630279541016, 15.626029014587402, 262.5788879394531, 56.950565338134766, 60.7039680480957, 54.90070724487305, 57.31275177001953, 85.01361846923828, 66.79035186767578, 32.21893310546875, 31.0915584564209, 37.890811920166016, 46.72185516357422, 72.53825378417969, 61.718170166015625, 44.81776428222656, 40.85456466674805, 34.182945251464844, 40.17531967163086, 27.764368057250977, 30.937915802001953, 50.24991989135742, 45.04859161376953, 35.668853759765625, 23.25145721435547, 21.05430030822754, 15.858882904052734, 14.0835542678833, 12.46926498413086, 12.186211585998535, 97.7022933959961, 10.163817405700684, 9.363335609436035, 8.995016098022461, 8.477310180664062, 8.446136474609375, 8.323203086853027, 8.31545352935791, 7.468752861022949, 6.981513023376465, 6.647125244140625, 6.612785816192627, 6.122864246368408, 5.308229446411133, 5.247068405151367, 5.224631309509277, 5.222763538360596, 5.103864669799805, 4.641992568969727, 4.356857776641846, 4.356857776641846, 10.251089096069336, 27.786697387695312, 34.51996612548828, 73.11917114257812, 107.35826873779297, 58.85192108154297, 44.344032287597656, 116.66703796386719, 61.61429977416992, 21.927522659301758, 56.65864181518555, 24.042219161987305, 65.67951965332031, 15.550066947937012, 29.406496047973633, 17.324045181274414, 17.030820846557617, 27.357646942138672, 28.5173397064209, 28.2025203704834, 23.408004760742188, 19.97368049621582, 21.8427677154541, 17.225954055786133, 17.039634704589844, 17.085369110107422, 41.32676696777344, 33.39279556274414, 30.691619873046875, 28.95536994934082, 26.55843162536621, 25.912328720092773, 22.42295265197754, 22.378751754760742, 18.011882781982422, 17.986757278442383, 17.850807189941406, 15.76208782196045, 14.859209060668945, 14.046124458312988, 14.046030044555664, 13.890069961547852, 13.435394287109375, 13.233692169189453, 12.939629554748535, 12.869495391845703, 12.752118110656738, 12.575431823730469, 12.142704963684082, 10.880228042602539, 10.68254566192627, 8.840250015258789, 8.715974807739258, 8.432058334350586, 7.325057029724121, 7.119505882263184, 20.742172241210938, 59.127777099609375, 21.911331176757812, 13.011757850646973, 27.69329833984375, 23.029191970825195, 21.642221450805664, 16.97892189025879, 29.50242042541504, 42.17060089111328, 16.975025177001953, 16.661087036132812, 23.44698143005371, 14.840903282165527, 17.092084884643555, 14.228900909423828, 14.06347942352295, 57.701419830322266, 31.25715446472168, 27.246135711669922, 22.317325592041016, 20.851423263549805, 20.851423263549805, 20.851423263549805, 20.851423263549805, 14.479721069335938, 14.459815979003906, 13.614375114440918, 13.336335182189941, 13.311605453491211, 12.812958717346191, 12.141341209411621, 11.953161239624023, 11.898938179016113, 11.431376457214355, 11.199426651000977, 10.64278793334961, 10.44569206237793, 10.445693016052246, 10.445693016052246, 10.44569206237793, 10.445693016052246, 10.44569206237793, 10.44569206237793, 9.54073715209961, 7.422523021697998, 6.8717122077941895, 24.7628231048584, 45.77939224243164, 44.249664306640625, 97.13630676269531, 41.066749572753906, 22.10195541381836, 97.72560119628906, 62.12637710571289, 15.85317325592041, 31.215295791625977, 22.16387176513672, 16.426761627197266, 33.49348449707031, 21.052978515625, 23.731155395507812, 25.79543685913086, 21.149616241455078, 24.031965255737305, 17.723281860351562, 15.622062683105469, 14.848617553710938, 25.664928436279297, 17.345216751098633, 12.384982109069824, 11.83043098449707, 10.528949737548828, 10.477169036865234, 10.149679183959961, 9.409392356872559, 9.198185920715332, 7.317584037780762, 7.259052276611328, 6.877663612365723, 6.452478885650635, 5.83244514465332, 5.048806190490723, 4.657415866851807, 4.6276984214782715, 4.406982421875, 4.3580851554870605, 4.223933219909668, 4.223933219909668, 4.211421966552734, 4.09151554107666, 3.8452022075653076, 3.8219058513641357, 3.791581869125366, 3.761836528778076, 3.668015480041504, 3.6125895977020264, 3.5211939811706543, 32.64051818847656, 260.8902893066406, 24.27145004272461, 14.169554710388184, 16.439916610717773, 7.795111179351807, 22.630393981933594, 6.205965518951416, 15.013162612915039, 11.121641159057617, 11.049201965332031, 5.969554424285889, 4.877161502838135, 21.117488861083984, 19.121633529663086, 12.074029922485352, 11.267635345458984, 10.91471004486084, 10.225130081176758, 10.225129127502441, 10.225129127502441, 10.225129127502441, 10.132181167602539, 10.080002784729004, 9.772281646728516, 9.772281646728516, 9.536967277526855, 9.451559066772461, 8.274673461914062, 7.515316963195801, 5.642159938812256, 5.217918872833252, 4.9752116203308105, 4.9475417137146, 4.941807270050049, 4.793454170227051, 4.698261737823486, 4.43007230758667, 9.949652671813965, 4.161866188049316, 3.841592788696289, 3.6649227142333984, 3.588186740875244, 16.03098487854004, 4.56373405456543, 6.780928134918213, 6.554548263549805, 10.755866050720215, 5.627110481262207], \"Total\": [26744.0, 17039.0, 9789.0, 9600.0, 5143.0, 2219.0, 1750.0, 4677.0, 1652.0, 1982.0, 5983.0, 1960.0, 6067.0, 4760.0, 3572.0, 1614.0, 3389.0, 4282.0, 10120.0, 864.0, 1560.0, 903.0, 2035.0, 1413.0, 941.0, 1076.0, 1854.0, 542.0, 750.0, 858.0, 104.29518127441406, 84.91832733154297, 79.93645477294922, 61.19281005859375, 59.26530075073242, 56.43977355957031, 53.91102600097656, 51.57439422607422, 51.50047302246094, 50.22577667236328, 47.798763275146484, 47.686946868896484, 46.335262298583984, 45.36354446411133, 44.646080017089844, 44.05703353881836, 43.03678512573242, 43.009605407714844, 42.914825439453125, 40.923194885253906, 40.648536682128906, 40.54277420043945, 40.50767517089844, 39.98076248168945, 39.76806640625, 52.70287322998047, 39.54806900024414, 39.393577575683594, 39.222190856933594, 38.92414093017578, 26744.216796875, 74.76488494873047, 106.1642837524414, 72.22566986083984, 2532.884033203125, 56.782554626464844, 505.2772216796875, 51.1908073425293, 17039.306640625, 1508.353515625, 196.7093963623047, 2436.24072265625, 841.8767700195312, 169.47076416015625, 317.512451171875, 93.65877532958984, 671.6740112304688, 245.99752807617188, 5143.49951171875, 261.64471435546875, 534.44775390625, 2212.2919921875, 142.5481414794922, 1018.63525390625, 112.60404205322266, 304.5609130859375, 3572.868896484375, 160.667724609375, 404.677001953125, 950.9102172851562, 590.83544921875, 1270.9365234375, 332.391845703125, 445.7455139160156, 887.1531982421875, 933.8916625976562, 668.2247314453125, 9600.080078125, 2022.19970703125, 1637.3902587890625, 4833.18994140625, 7501.30908203125, 592.2177124023438, 819.7532348632812, 1011.29833984375, 10120.7734375, 3132.43359375, 1465.723876953125, 1673.1236572265625, 5983.6748046875, 2770.3544921875, 2192.33251953125, 4174.193359375, 2041.616943359375, 9789.0068359375, 99.26277160644531, 70.35118103027344, 70.9670181274414, 66.51235961914062, 66.16710662841797, 95.75204467773438, 58.24764633178711, 57.280174255371094, 57.252315521240234, 56.86766052246094, 56.71879196166992, 54.75025177001953, 54.25476837158203, 53.806175231933594, 56.585086822509766, 52.78071975708008, 50.896759033203125, 50.7220458984375, 50.49986267089844, 50.022247314453125, 54.725093841552734, 49.51715850830078, 48.826290130615234, 47.225311279296875, 45.740779876708984, 46.49205017089844, 43.12316131591797, 42.29372024536133, 41.88322067260742, 41.09180450439453, 84.11942291259766, 85.52348327636719, 153.41061401367188, 301.10064697265625, 82.64376068115234, 100.92001342773438, 104.9195785522461, 336.3569641113281, 398.0457763671875, 249.66075134277344, 6067.30029296875, 5983.6748046875, 207.84136962890625, 4282.3828125, 449.0199890136719, 10120.7734375, 1560.7645263671875, 4760.814453125, 4174.193359375, 929.5932006835938, 1486.529541015625, 169.52084350585938, 159.82728576660156, 2021.2176513671875, 7501.30908203125, 901.12841796875, 546.880859375, 2041.616943359375, 1960.14697265625, 1791.759521484375, 3389.614013671875, 662.5388793945312, 1982.3236083984375, 1429.618896484375, 1077.734619140625, 1062.981201171875, 710.2025756835938, 1659.3050537109375, 4833.18994140625, 1246.9500732421875, 1126.223876953125, 3132.43359375, 1869.8125, 2770.3544921875, 1296.5220947265625, 4677.29541015625, 1200.5272216796875, 1744.4854736328125, 133.4024658203125, 42.99143981933594, 39.432132720947266, 38.497825622558594, 37.25514221191406, 249.98655700683594, 30.89825439453125, 29.93915557861328, 26.811975479125977, 25.796342849731445, 24.893306732177734, 24.4416446685791, 23.090166091918945, 22.93250274658203, 22.900541305541992, 22.74456214904785, 22.459632873535156, 21.88279914855957, 386.5716552734375, 21.46906089782715, 21.429670333862305, 21.149639129638672, 20.908809661865234, 20.808732986450195, 169.15182495117188, 19.785991668701172, 19.695663452148438, 19.67317008972168, 19.81047248840332, 19.450416564941406, 1045.1619873046875, 9789.0068359375, 1854.3277587890625, 61.270870208740234, 60.690582275390625, 4677.29541015625, 551.4039916992188, 1971.2008056640625, 947.693603515625, 285.66192626953125, 192.43792724609375, 162.78341674804688, 214.1295166015625, 126.93876647949219, 896.2039794921875, 703.4049682617188, 669.7660522460938, 874.08251953125, 154.49783325195312, 9600.080078125, 150.8743896484375, 407.8335876464844, 653.6558837890625, 475.2264709472656, 501.8641662597656, 195.77716064453125, 858.34912109375, 988.5181884765625, 2049.097412109375, 1792.8193359375, 1015.81689453125, 1659.3050537109375, 10120.7734375, 1564.347900390625, 1075.30322265625, 3132.43359375, 7501.30908203125, 1869.8125, 4282.3828125, 4833.18994140625, 4760.814453125, 4174.193359375, 2770.3544921875, 5143.49951171875, 1347.98291015625, 214.82090759277344, 170.3084716796875, 155.8916778564453, 88.27848052978516, 82.54360961914062, 69.7208023071289, 64.40648651123047, 56.0608024597168, 51.30355453491211, 45.615692138671875, 44.391624450683594, 38.71611022949219, 37.454200744628906, 37.02190399169922, 332.2019348144531, 32.88279342651367, 35.77288055419922, 32.669071197509766, 32.024497985839844, 31.682146072387695, 31.53827667236328, 30.85940170288086, 30.756671905517578, 30.700803756713867, 31.3590087890625, 52.67308807373047, 30.368059158325195, 30.265012741088867, 30.019426345825195, 29.915428161621094, 417.4936828613281, 49.7591667175293, 697.7154541015625, 228.1300506591797, 183.37042236328125, 89.18914794921875, 128.015625, 279.2007141113281, 182.68617248535156, 110.9302978515625, 309.0791015625, 132.44683837890625, 167.33230590820312, 272.4535217285156, 577.4542846679688, 5983.6748046875, 600.2771606445312, 720.193359375, 297.77630615234375, 2192.33251953125, 1109.036865234375, 6067.30029296875, 1673.1236572265625, 303.2624206542969, 284.189697265625, 235.5867156982422, 1051.1434326171875, 7501.30908203125, 2035.5472412109375, 10120.7734375, 3132.43359375, 551.1254272460938, 3389.614013671875, 4282.3828125, 4833.18994140625, 2041.616943359375, 1053.2098388671875, 718.8526611328125, 1212.8028564453125, 1465.723876953125, 4760.814453125, 4174.193359375, 1791.759521484375, 1614.2738037109375, 9600.080078125, 59.77910614013672, 54.4002685546875, 52.74483871459961, 40.196319580078125, 38.25166702270508, 36.49405288696289, 35.37006759643555, 34.53387451171875, 36.122764587402344, 26.71116828918457, 24.791553497314453, 22.368165969848633, 22.273927688598633, 21.72994613647461, 21.436283111572266, 21.06392478942871, 20.779197692871094, 20.622817993164062, 20.60822868347168, 19.636070251464844, 19.199703216552734, 18.739421844482422, 18.514760971069336, 18.198354721069336, 18.101003646850586, 17.784595489501953, 17.784595489501953, 17.784597396850586, 17.784597396850586, 17.784597396850586, 17.784597396850586, 17.784597396850586, 17.784595489501953, 17.784597396850586, 17.784595489501953, 17.784597396850586, 17.784597396850586, 17.784597396850586, 39.675811767578125, 941.215576171875, 100.16395568847656, 93.07319641113281, 277.8757019042969, 1270.3316650390625, 26.022733688354492, 114.49286651611328, 106.36457061767578, 48.64866256713867, 413.4705505371094, 191.49546813964844, 746.9757690429688, 236.0455322265625, 53.29014205932617, 145.467529296875, 36.97467803955078, 677.0526733398438, 149.0033721923828, 1075.30322265625, 925.1228637695312, 982.5841064453125, 2021.2176513671875, 592.4349365234375, 1564.347900390625, 2192.33251953125, 1107.21630859375, 1277.84130859375, 143.257080078125, 598.0755615234375, 4833.18994140625, 334.9109802246094, 885.9369506835938, 4174.193359375, 950.9102172851562, 600.2771606445312, 542.7196655273438, 1429.618896484375, 1486.529541015625, 819.7532348632812, 7501.30908203125, 1791.759521484375, 2770.3544921875, 6067.30029296875, 1051.1434326171875, 1163.4219970703125, 2022.19970703125, 221.04830932617188, 719.5701293945312, 123.89999389648438, 61.225738525390625, 53.82937240600586, 52.59040451049805, 49.74618148803711, 47.52127456665039, 44.373497009277344, 39.30706787109375, 35.2779426574707, 34.30467224121094, 34.057525634765625, 28.430339813232422, 27.26374053955078, 27.032716751098633, 26.561555862426758, 26.567726135253906, 72.2000503540039, 25.157655715942383, 22.970901489257812, 22.63665771484375, 22.529945373535156, 22.414691925048828, 21.555322647094727, 20.90393829345703, 20.767881393432617, 20.76276969909668, 36.17723846435547, 20.28726577758789, 36.668128967285156, 286.430419921875, 780.5433959960938, 656.5188598632812, 55.579551696777344, 262.4980773925781, 37.2178955078125, 42.13185501098633, 83.69713592529297, 109.36255645751953, 202.72625732421875, 54.894893646240234, 172.2274169921875, 107.56304168701172, 1465.723876953125, 97.5617904663086, 1271.507568359375, 168.55734252929688, 416.1567077636719, 113.47528839111328, 1133.3345947265625, 508.1145324707031, 272.96331787109375, 461.1967468261719, 17039.306640625, 204.64120483398438, 126.56327819824219, 26744.216796875, 1135.062255859375, 568.685546875, 1270.9365234375, 504.05877685546875, 493.17779541015625, 896.427978515625, 6067.30029296875, 2041.616943359375, 608.58251953125, 1000.3150634765625, 1277.84130859375, 1637.3902587890625, 710.2025756835938, 1673.1236572265625, 1126.223876953125, 1351.5435791015625, 1652.155029296875, 126.08570861816406, 61.80354690551758, 56.04955291748047, 50.46984100341797, 47.04438018798828, 42.001708984375, 41.96639633178711, 39.54271697998047, 244.64552307128906, 35.949951171875, 34.71638488769531, 34.32981491088867, 32.8624267578125, 32.814701080322266, 32.402503967285156, 31.21731948852539, 30.913734436035156, 30.784597396850586, 30.23672866821289, 29.885974884033203, 26.4693546295166, 25.094783782958984, 24.979230880737305, 24.90207862854004, 24.340805053710938, 24.045650482177734, 23.66168212890625, 23.42376136779785, 22.477231979370117, 20.283998489379883, 69.45714569091797, 61.31889724731445, 42.32648849487305, 81.8778076171875, 43.116329193115234, 69.34835815429688, 139.5557098388672, 361.7954406738281, 337.11669921875, 131.62733459472656, 166.9705047607422, 207.10140991210938, 556.4122314453125, 43.589813232421875, 324.94952392578125, 674.4447021484375, 75.32059478759766, 44.47367477416992, 187.74124145507812, 1049.01123046875, 241.51976013183594, 129.72625732421875, 1114.747802734375, 1614.2738037109375, 274.3826599121094, 1110.73974609375, 1062.981201171875, 1246.9500732421875, 720.193359375, 889.116455078125, 1077.734619140625, 219.76002502441406, 965.7943725585938, 592.4349365234375, 731.1331176757812, 4282.3828125, 10120.7734375, 3389.614013671875, 1015.81689453125, 397.8536071777344, 4174.193359375, 1869.8125, 500.81561279296875, 527.3301391601562, 4833.18994140625, 1971.2008056640625, 86.747802734375, 2219.988037109375, 47.32621383666992, 172.2343292236328, 74.40506744384766, 39.04325866699219, 33.31763458251953, 30.09686279296875, 28.488569259643555, 24.175050735473633, 27.98488998413086, 21.79456329345703, 21.10389518737793, 21.08709144592285, 20.791685104370117, 19.47493553161621, 19.08363914489746, 18.688215255737305, 18.67046546936035, 18.387527465820312, 18.04092788696289, 17.462602615356445, 17.38790512084961, 17.12880516052246, 16.719993591308594, 15.842785835266113, 15.606917381286621, 15.554911613464355, 15.50423812866211, 15.390838623046875, 1076.07666015625, 116.77094268798828, 118.22816467285156, 54.97447967529297, 29.14223861694336, 1413.1724853515625, 57.86418533325195, 156.4419708251953, 670.302001953125, 109.78366088867188, 41.31919479370117, 45.241310119628906, 251.09877014160156, 3572.868896484375, 427.78485107421875, 359.1032409667969, 4760.814453125, 5143.49951171875, 2049.097412109375, 1020.1111450195312, 178.6287078857422, 514.4852294921875, 574.1947021484375, 479.0825500488281, 1869.8125, 258.8199157714844, 1226.9464111328125, 1659.3050537109375, 919.1261596679688, 501.8641662597656, 2212.2919921875, 3389.614013671875, 4282.3828125, 1560.7645263671875, 10120.7734375, 7501.30908203125, 9600.080078125, 1750.8248291015625, 988.5181884765625, 1351.5435791015625, 1744.4854736328125, 1109.036865234375, 5983.6748046875, 114.20755767822266, 68.61551666259766, 64.55193328857422, 52.18016052246094, 46.43503952026367, 39.61970901489258, 37.233219146728516, 36.971107482910156, 35.86412811279297, 30.74803924560547, 30.338268280029297, 30.07810401916504, 42.88163375854492, 26.991146087646484, 20.77993392944336, 19.489286422729492, 19.22505760192871, 18.507888793945312, 18.47084617614746, 18.46632957458496, 18.41692352294922, 18.048152923583984, 17.976722717285156, 16.75133514404297, 16.349163055419922, 16.32851219177246, 32.72648620605469, 15.931428909301758, 15.59076976776123, 15.584429740905762, 71.46736145019531, 59.5931510925293, 62.45429611206055, 34.93212890625, 31.318775177001953, 44.358158111572266, 77.53697204589844, 218.4261932373047, 66.54060363769531, 59.62406921386719, 62.25687789916992, 37.95512771606445, 81.8747329711914, 215.18638610839844, 592.2177124023438, 1135.062255859375, 1413.1724853515625, 387.5247802734375, 1000.3150634765625, 275.941650390625, 252.88035583496094, 1293.5245361328125, 17039.306640625, 4760.814453125, 508.1145324707031, 558.69970703125, 326.0538635253906, 931.0299072265625, 174.44322204589844, 379.0049743652344, 265.0386657714844, 26744.216796875, 1560.7645263671875, 1270.9365234375, 372.4205322265625, 2041.616943359375, 1277.84130859375, 355.48944091796875, 841.8767700195312, 757.8868408203125, 10120.7734375, 1351.5435791015625, 141.0580596923828, 94.5848388671875, 61.839874267578125, 58.224185943603516, 52.33607864379883, 42.52957534790039, 37.51223373413086, 28.888673782348633, 27.653181076049805, 21.773649215698242, 20.81092643737793, 20.614662170410156, 20.422443389892578, 19.82278060913086, 19.109331130981445, 17.893442153930664, 17.24236488342285, 15.89189338684082, 15.74677848815918, 15.746777534484863, 15.15078353881836, 15.15078353881836, 15.15078353881836, 15.150784492492676, 15.150784492492676, 15.150784492492676, 391.2029724121094, 13.68025016784668, 12.65529727935791, 12.2847261428833, 312.9735412597656, 903.0250244140625, 315.50732421875, 495.5193176269531, 82.1449203491211, 637.928955078125, 1750.8248291015625, 1652.155029296875, 694.1458129882812, 119.32112121582031, 85.68815612792969, 466.2673645019531, 170.80911254882812, 670.302001953125, 230.32003784179688, 275.561767578125, 87.38080596923828, 1560.7645263671875, 158.27496337890625, 1413.1724853515625, 553.6104125976562, 574.1947021484375, 1982.3236083984375, 710.2025756835938, 408.3423156738281, 4760.814453125, 931.0299072265625, 1960.14697265625, 919.1261596679688, 5983.6748046875, 102.39481353759766, 86.99002075195312, 79.33018493652344, 59.71753692626953, 34.62449264526367, 68.36382293701172, 23.615201950073242, 21.6347599029541, 147.8424530029297, 19.219867706298828, 18.238767623901367, 16.965627670288086, 16.718101501464844, 15.999151229858398, 15.999151229858398, 15.999151229858398, 15.999151229858398, 15.999151229858398, 15.999151229858398, 15.999151229858398, 15.999151229858398, 15.999151229858398, 15.999154090881348, 15.999151229858398, 15.999151229858398, 13.09493637084961, 12.062376022338867, 11.711817741394043, 40.86674499511719, 10.348587989807129, 101.89745330810547, 568.5179443359375, 92.8134994506836, 80.14971923828125, 61.69470977783203, 109.79755401611328, 271.2022705078125, 208.3179168701172, 134.37818908691406, 97.86946105957031, 137.2777862548828, 207.31666564941406, 1982.3236083984375, 685.827880859375, 1960.14697265625, 238.89561462402344, 59.76832962036133, 81.1672134399414, 147.85411071777344, 171.7135467529297, 160.45718383789062, 105.49060821533203, 259.2064514160156, 3389.614013671875, 256.87847900390625, 553.6104125976562, 257.3928527832031, 282.78790283203125, 526.1114501953125, 558.69970703125, 4760.814453125, 6067.30029296875, 2049.097412109375, 82.59545135498047, 51.1645622253418, 46.7807731628418, 32.852962493896484, 30.645179748535156, 29.874439239501953, 28.621864318847656, 27.16522979736328, 21.568817138671875, 21.086669921875, 20.77276039123535, 20.670085906982422, 20.476184844970703, 19.957536697387695, 19.535785675048828, 19.247570037841797, 18.724742889404297, 17.919462203979492, 17.88378143310547, 17.816343307495117, 17.342927932739258, 17.176603317260742, 47.933555603027344, 15.833735466003418, 15.477131843566895, 15.477131843566895, 15.477129936218262, 15.022967338562012, 14.722217559814453, 14.657149314880371, 73.61306762695312, 59.27533721923828, 64.238037109375, 215.6536865234375, 209.41796875, 133.93756103515625, 91.0063705444336, 527.6773681640625, 95.5036849975586, 84.93354797363281, 316.300537109375, 106.65926361083984, 379.0049743652344, 305.10693359375, 266.23834228515625, 106.13218688964844, 169.6123046875, 2035.5472412109375, 514.4852294921875, 249.64503479003906, 160.62030029296875, 1135.062255859375, 1226.9464111328125, 149.1935577392578, 330.1292724609375, 551.1254272460938, 1253.9351806640625, 6067.30029296875, 780.5433959960938, 269.8158874511719, 431.09136962890625, 1792.8193359375, 418.3985900878906, 2770.3544921875, 1011.29833984375, 527.3680419921875, 542.3921508789062, 1000.3150634765625, 135.70785522460938, 75.94984436035156, 54.682491302490234, 53.56696701049805, 313.0423889160156, 40.67915725708008, 38.738380432128906, 34.391361236572266, 33.175498962402344, 31.945819854736328, 26.650108337402344, 26.45660400390625, 24.56412124633789, 23.484851837158203, 22.899333953857422, 22.12908935546875, 21.925012588500977, 21.66718292236328, 20.991744995117188, 18.60951042175293, 17.63070297241211, 17.36765480041504, 17.29611587524414, 17.166507720947266, 16.805139541625977, 16.51790428161621, 864.6863403320312, 15.586819648742676, 15.309906959533691, 15.258313179016113, 66.99493408203125, 185.94631958007812, 124.31903839111328, 30.943571090698242, 425.20086669921875, 350.4179992675781, 155.0038604736328, 91.23060607910156, 66.81108856201172, 85.0124740600586, 85.18794250488281, 69.1563720703125, 97.34844207763672, 68.05096435546875, 45.136444091796875, 90.24290466308594, 61.68790054321289, 230.32003784179688, 275.561767578125, 989.9794921875, 156.125732421875, 235.4903106689453, 493.17779541015625, 76.53146362304688, 1133.3345947265625, 504.05877685546875, 5143.49951171875, 1659.3050537109375, 1135.062255859375, 745.8861694335938, 757.8868408203125, 276.96527099609375, 146.5968475341797, 48.68674850463867, 43.25900650024414, 28.71930694580078, 24.586484909057617, 22.262187957763672, 20.023984909057617, 19.64118194580078, 19.26411247253418, 19.22992706298828, 18.560218811035156, 18.499582290649414, 17.90911293029785, 17.625932693481445, 17.25864028930664, 17.185884475708008, 16.655454635620117, 16.527942657470703, 16.240062713623047, 16.060068130493164, 15.8905029296875, 15.817176818847656, 15.505943298339844, 15.493804931640625, 15.475110054016113, 14.890155792236328, 14.890155792236328, 14.890155792236328, 14.890155792236328, 14.890155792236328, 350.8209533691406, 159.4502410888672, 23.8668155670166, 47.64848709106445, 48.854034423828125, 42.53850555419922, 83.37657928466797, 597.8936157226562, 230.15110778808594, 173.401123046875, 31.237504959106445, 206.5186767578125, 941.9209594726562, 64.26252746582031, 119.73210906982422, 630.198974609375, 541.3283081054688, 858.34912109375, 323.228759765625, 1293.5245361328125, 78.82652282714844, 291.3320617675781, 76.45218658447266, 560.7808227539062, 1075.30322265625, 171.7135467529297, 1347.98291015625, 4282.3828125, 796.6502075195312, 1869.8125, 10120.7734375, 677.0526733398438, 542.3921508789062, 1854.3277587890625, 1135.062255859375, 63.257484436035156, 60.004905700683594, 34.53555679321289, 32.543724060058594, 24.588167190551758, 24.053606033325195, 23.465370178222656, 21.050716400146484, 20.415775299072266, 20.210769653320312, 20.1724796295166, 19.94087791442871, 19.624801635742188, 19.277761459350586, 19.084131240844727, 18.52832794189453, 18.12344741821289, 16.587690353393555, 15.7492036819458, 15.7492036819458, 15.686861038208008, 14.20306396484375, 12.588306427001953, 11.223064422607422, 11.177064895629883, 11.070127487182617, 10.87451457977295, 10.587024688720703, 10.305103302001953, 9.736233711242676, 177.23159790039062, 129.06057739257812, 318.400146484375, 283.08013916015625, 172.83609008789062, 367.1552429199219, 85.27098846435547, 19.46983528137207, 1614.2738037109375, 159.47569274902344, 179.52325439453125, 156.90174865722656, 183.1611785888672, 527.3301391601562, 362.90191650390625, 82.49309539794922, 82.42249298095703, 148.35784912109375, 279.2007141113281, 1135.062255859375, 720.193359375, 307.572509765625, 280.1192321777344, 186.56930541992188, 474.3983459472656, 183.37042236328125, 2049.097412109375, 51.27275085449219, 46.0714225769043, 36.69168472290039, 24.274290084838867, 22.077133178710938, 16.881715774536133, 15.106385231018066, 13.492095947265625, 13.209057807922363, 107.09832763671875, 11.18664836883545, 10.3861665725708, 10.017847061157227, 9.500142097473145, 9.46896743774414, 9.346034049987793, 9.338284492492676, 8.491583824157715, 8.00434398651123, 7.669956684112549, 7.635617733001709, 7.14569616317749, 6.331060886383057, 6.269899845123291, 6.247462749481201, 6.245595455169678, 6.1266961097717285, 5.66482400894165, 5.379689693450928, 5.379689693450928, 13.45391845703125, 39.760337829589844, 54.3969612121582, 188.98028564453125, 387.5247802734375, 174.44322204589844, 142.5426483154297, 614.4349975585938, 301.569580078125, 57.54374694824219, 326.0538635253906, 107.56304168701172, 1025.5147705078125, 47.08709716796875, 339.7873229980469, 79.1810531616211, 82.49309539794922, 474.3983459472656, 566.7642211914062, 941.215576171875, 796.6502075195312, 452.5379943847656, 1133.3345947265625, 200.58506774902344, 183.1611785888672, 241.2562713623047, 42.36099624633789, 34.427024841308594, 31.75490379333496, 29.989599227905273, 27.592662811279297, 26.95828628540039, 23.457181930541992, 23.41299057006836, 19.046112060546875, 19.02098846435547, 18.88503646850586, 16.79631805419922, 15.893439292907715, 15.080354690551758, 15.080260276794434, 14.924300193786621, 14.469624519348145, 14.267922401428223, 13.973859786987305, 13.903725624084473, 13.786348342895508, 13.609663963317871, 13.176935195922852, 11.914458274841309, 11.716775894165039, 9.874480247497559, 9.753460884094238, 9.467670440673828, 8.35928726196289, 8.153736114501953, 23.983688354492188, 70.00724029541016, 26.796567916870117, 15.767770767211914, 45.142845153808594, 37.21696853637695, 39.04716491699219, 27.378969192504883, 136.0720977783203, 526.1114501953125, 34.025123596191406, 42.889915466308594, 211.78123474121094, 28.979887008666992, 217.10389709472656, 32.57866668701172, 58.41404724121094, 58.78024673461914, 32.29701614379883, 28.28599739074707, 23.357187271118164, 21.891284942626953, 21.891284942626953, 21.891284942626953, 21.891284942626953, 15.519582748413086, 15.499677658081055, 14.654237747192383, 14.37619686126709, 14.35146713256836, 13.85282039642334, 13.18120288848877, 12.993022918701172, 12.938799858093262, 12.471238136291504, 12.239288330078125, 11.682649612426758, 11.485553741455078, 11.485554695129395, 11.485554695129395, 11.485553741455078, 11.485554695129395, 11.485553741455078, 11.485553741455078, 10.580598831176758, 8.462384223937988, 7.911574840545654, 31.71377182006836, 90.18441009521484, 89.3573989868164, 504.05877685546875, 119.73210906982422, 42.98210144042969, 750.8182373046875, 366.5899353027344, 33.67108917236328, 317.512451171875, 128.27410888671875, 52.220909118652344, 1135.062255859375, 182.13352966308594, 387.5247802734375, 630.198974609375, 230.15110778808594, 931.0299072265625, 130.78182983398438, 339.7873229980469, 98.1673355102539, 26.705923080444336, 18.386211395263672, 13.425976753234863, 12.87142562866211, 11.569944381713867, 11.518163681030273, 11.190673828125, 10.450387001037598, 10.239180564880371, 8.3585786819458, 8.300046920776367, 7.918658256530762, 7.493473529815674, 6.873439788818359, 6.089800834655762, 5.698410511016846, 5.6686930656433105, 5.447977542877197, 5.3990797996521, 5.264927864074707, 5.264927864074707, 5.252416610717773, 5.132510662078857, 4.886197090148926, 4.862900733947754, 4.832576751708984, 4.802831172943115, 4.709010124206543, 4.6535844802856445, 4.562188625335693, 48.79179382324219, 542.3921508789062, 64.71388244628906, 42.92031478881836, 106.6842269897461, 26.143123626708984, 499.65301513671875, 18.745603561401367, 461.1967468261719, 295.5102233886719, 1135.062255859375, 48.84463119506836, 142.5426483154297, 22.16082763671875, 20.168228149414062, 13.117368698120117, 12.31097412109375, 11.958048820495605, 11.268468856811523, 11.268467903137207, 11.268467903137207, 11.268467903137207, 11.175519943237305, 11.12334156036377, 10.815620422363281, 10.815620422363281, 10.580306053161621, 10.494897842407227, 9.318012237548828, 8.558655738830566, 6.6854987144470215, 6.261257648468018, 6.018550395965576, 5.990880489349365, 5.9851460456848145, 5.836792945861816, 5.741600513458252, 5.4734110832214355, 12.29525089263916, 5.205204963684082, 4.884931564331055, 4.708261489868164, 4.63152551651001, 38.05487823486328, 7.39671516418457, 24.142541885375977, 26.22021484375, 1051.1434326171875, 98.52915954589844], \"Category\": [\"Default\", \"Default\", \"Default\", \"Default\", \"Default\", \"Default\", \"Default\", \"Default\", \"Default\", \"Default\", \"Default\", \"Default\", \"Default\", \"Default\", \"Default\", \"Default\", \"Default\", \"Default\", \"Default\", \"Default\", \"Default\", \"Default\", \"Default\", \"Default\", \"Default\", \"Default\", \"Default\", \"Default\", \"Default\", \"Default\", \"Topic1\", \"Topic1\", \"Topic1\", \"Topic1\", \"Topic1\", \"Topic1\", \"Topic1\", \"Topic1\", \"Topic1\", \"Topic1\", \"Topic1\", \"Topic1\", \"Topic1\", \"Topic1\", \"Topic1\", \"Topic1\", \"Topic1\", \"Topic1\", \"Topic1\", \"Topic1\", \"Topic1\", \"Topic1\", \"Topic1\", \"Topic1\", \"Topic1\", \"Topic1\", \"Topic1\", \"Topic1\", \"Topic1\", \"Topic1\", \"Topic1\", \"Topic1\", \"Topic1\", \"Topic1\", \"Topic1\", \"Topic1\", \"Topic1\", \"Topic1\", \"Topic1\", \"Topic1\", \"Topic1\", \"Topic1\", \"Topic1\", \"Topic1\", \"Topic1\", \"Topic1\", \"Topic1\", \"Topic1\", \"Topic1\", \"Topic1\", \"Topic1\", \"Topic1\", \"Topic1\", \"Topic1\", \"Topic1\", \"Topic1\", \"Topic1\", \"Topic1\", \"Topic1\", \"Topic1\", \"Topic1\", \"Topic1\", \"Topic1\", \"Topic1\", \"Topic1\", \"Topic1\", \"Topic1\", \"Topic1\", \"Topic1\", \"Topic1\", \"Topic1\", \"Topic1\", \"Topic1\", \"Topic1\", \"Topic1\", \"Topic1\", \"Topic1\", \"Topic1\", \"Topic1\", \"Topic1\", \"Topic1\", \"Topic1\", \"Topic1\", \"Topic1\", \"Topic1\", \"Topic2\", \"Topic2\", \"Topic2\", \"Topic2\", \"Topic2\", \"Topic2\", \"Topic2\", \"Topic2\", \"Topic2\", \"Topic2\", \"Topic2\", \"Topic2\", \"Topic2\", \"Topic2\", \"Topic2\", \"Topic2\", \"Topic2\", \"Topic2\", \"Topic2\", \"Topic2\", \"Topic2\", \"Topic2\", \"Topic2\", \"Topic2\", \"Topic2\", \"Topic2\", \"Topic2\", \"Topic2\", \"Topic2\", \"Topic2\", \"Topic2\", \"Topic2\", \"Topic2\", \"Topic2\", \"Topic2\", \"Topic2\", \"Topic2\", \"Topic2\", \"Topic2\", \"Topic2\", \"Topic2\", \"Topic2\", \"Topic2\", \"Topic2\", \"Topic2\", \"Topic2\", \"Topic2\", \"Topic2\", \"Topic2\", \"Topic2\", \"Topic2\", \"Topic2\", \"Topic2\", \"Topic2\", \"Topic2\", \"Topic2\", \"Topic2\", \"Topic2\", \"Topic2\", \"Topic2\", \"Topic2\", \"Topic2\", \"Topic2\", \"Topic2\", \"Topic2\", \"Topic2\", \"Topic2\", \"Topic2\", \"Topic2\", \"Topic2\", \"Topic2\", \"Topic2\", \"Topic2\", \"Topic2\", \"Topic2\", \"Topic2\", \"Topic2\", \"Topic2\", \"Topic3\", \"Topic3\", \"Topic3\", \"Topic3\", \"Topic3\", \"Topic3\", \"Topic3\", \"Topic3\", \"Topic3\", \"Topic3\", \"Topic3\", \"Topic3\", \"Topic3\", \"Topic3\", \"Topic3\", \"Topic3\", \"Topic3\", \"Topic3\", \"Topic3\", \"Topic3\", \"Topic3\", \"Topic3\", \"Topic3\", \"Topic3\", \"Topic3\", \"Topic3\", \"Topic3\", \"Topic3\", \"Topic3\", \"Topic3\", \"Topic3\", \"Topic3\", \"Topic3\", \"Topic3\", \"Topic3\", \"Topic3\", \"Topic3\", \"Topic3\", \"Topic3\", \"Topic3\", \"Topic3\", \"Topic3\", \"Topic3\", \"Topic3\", \"Topic3\", \"Topic3\", \"Topic3\", \"Topic3\", \"Topic3\", \"Topic3\", \"Topic3\", \"Topic3\", \"Topic3\", \"Topic3\", \"Topic3\", \"Topic3\", \"Topic3\", \"Topic3\", \"Topic3\", \"Topic3\", \"Topic3\", \"Topic3\", \"Topic3\", \"Topic3\", \"Topic3\", \"Topic3\", \"Topic3\", \"Topic3\", \"Topic3\", \"Topic3\", \"Topic3\", \"Topic3\", \"Topic3\", \"Topic3\", \"Topic3\", \"Topic4\", \"Topic4\", \"Topic4\", \"Topic4\", \"Topic4\", \"Topic4\", \"Topic4\", \"Topic4\", \"Topic4\", \"Topic4\", \"Topic4\", \"Topic4\", \"Topic4\", \"Topic4\", \"Topic4\", \"Topic4\", \"Topic4\", \"Topic4\", \"Topic4\", \"Topic4\", \"Topic4\", \"Topic4\", \"Topic4\", \"Topic4\", \"Topic4\", \"Topic4\", \"Topic4\", \"Topic4\", \"Topic4\", \"Topic4\", \"Topic4\", \"Topic4\", \"Topic4\", \"Topic4\", \"Topic4\", \"Topic4\", \"Topic4\", \"Topic4\", \"Topic4\", \"Topic4\", \"Topic4\", \"Topic4\", \"Topic4\", \"Topic4\", \"Topic4\", \"Topic4\", \"Topic4\", \"Topic4\", \"Topic4\", \"Topic4\", \"Topic4\", \"Topic4\", \"Topic4\", \"Topic4\", \"Topic4\", \"Topic4\", \"Topic4\", \"Topic4\", \"Topic4\", \"Topic4\", \"Topic4\", \"Topic4\", \"Topic4\", \"Topic4\", \"Topic4\", \"Topic4\", \"Topic4\", \"Topic4\", \"Topic4\", \"Topic4\", \"Topic4\", \"Topic4\", \"Topic4\", \"Topic4\", \"Topic4\", \"Topic5\", \"Topic5\", \"Topic5\", \"Topic5\", \"Topic5\", \"Topic5\", \"Topic5\", \"Topic5\", \"Topic5\", \"Topic5\", \"Topic5\", \"Topic5\", \"Topic5\", \"Topic5\", \"Topic5\", \"Topic5\", \"Topic5\", \"Topic5\", \"Topic5\", \"Topic5\", \"Topic5\", \"Topic5\", \"Topic5\", \"Topic5\", \"Topic5\", \"Topic5\", \"Topic5\", \"Topic5\", \"Topic5\", \"Topic5\", \"Topic5\", \"Topic5\", \"Topic5\", \"Topic5\", \"Topic5\", \"Topic5\", \"Topic5\", \"Topic5\", \"Topic5\", \"Topic5\", \"Topic5\", \"Topic5\", \"Topic5\", \"Topic5\", \"Topic5\", \"Topic5\", \"Topic5\", \"Topic5\", \"Topic5\", \"Topic5\", \"Topic5\", \"Topic5\", \"Topic5\", \"Topic5\", \"Topic5\", \"Topic5\", \"Topic5\", \"Topic5\", \"Topic5\", \"Topic5\", \"Topic5\", \"Topic5\", \"Topic5\", \"Topic5\", \"Topic5\", \"Topic5\", \"Topic5\", \"Topic5\", \"Topic5\", \"Topic5\", \"Topic5\", \"Topic5\", \"Topic5\", \"Topic5\", \"Topic5\", \"Topic5\", \"Topic5\", \"Topic5\", \"Topic5\", \"Topic5\", \"Topic5\", \"Topic5\", \"Topic5\", \"Topic5\", \"Topic5\", \"Topic6\", \"Topic6\", \"Topic6\", \"Topic6\", \"Topic6\", \"Topic6\", \"Topic6\", \"Topic6\", \"Topic6\", \"Topic6\", \"Topic6\", \"Topic6\", \"Topic6\", \"Topic6\", \"Topic6\", \"Topic6\", \"Topic6\", \"Topic6\", \"Topic6\", \"Topic6\", \"Topic6\", \"Topic6\", \"Topic6\", \"Topic6\", \"Topic6\", \"Topic6\", \"Topic6\", \"Topic6\", \"Topic6\", \"Topic6\", \"Topic6\", \"Topic6\", \"Topic6\", \"Topic6\", \"Topic6\", \"Topic6\", \"Topic6\", \"Topic6\", \"Topic6\", \"Topic6\", \"Topic6\", \"Topic6\", \"Topic6\", \"Topic6\", \"Topic6\", \"Topic6\", \"Topic6\", \"Topic6\", \"Topic6\", \"Topic6\", \"Topic6\", \"Topic6\", \"Topic6\", \"Topic6\", \"Topic6\", \"Topic6\", \"Topic6\", \"Topic6\", \"Topic6\", \"Topic6\", \"Topic6\", \"Topic6\", \"Topic6\", \"Topic6\", \"Topic6\", \"Topic6\", \"Topic6\", \"Topic6\", \"Topic6\", \"Topic6\", \"Topic6\", \"Topic6\", \"Topic6\", \"Topic6\", \"Topic6\", \"Topic7\", \"Topic7\", \"Topic7\", \"Topic7\", \"Topic7\", \"Topic7\", \"Topic7\", \"Topic7\", \"Topic7\", \"Topic7\", \"Topic7\", \"Topic7\", \"Topic7\", \"Topic7\", \"Topic7\", \"Topic7\", \"Topic7\", \"Topic7\", \"Topic7\", \"Topic7\", \"Topic7\", \"Topic7\", \"Topic7\", \"Topic7\", \"Topic7\", \"Topic7\", \"Topic7\", \"Topic7\", \"Topic7\", \"Topic7\", \"Topic7\", \"Topic7\", \"Topic7\", \"Topic7\", \"Topic7\", \"Topic7\", \"Topic7\", \"Topic7\", \"Topic7\", \"Topic7\", \"Topic7\", \"Topic7\", \"Topic7\", \"Topic7\", \"Topic7\", \"Topic7\", \"Topic7\", \"Topic7\", \"Topic7\", \"Topic7\", \"Topic7\", \"Topic7\", \"Topic7\", \"Topic7\", \"Topic7\", \"Topic7\", \"Topic7\", \"Topic7\", \"Topic7\", \"Topic7\", \"Topic7\", \"Topic7\", \"Topic7\", \"Topic7\", \"Topic7\", \"Topic7\", \"Topic7\", \"Topic7\", \"Topic7\", \"Topic7\", \"Topic7\", \"Topic7\", \"Topic7\", \"Topic7\", \"Topic7\", \"Topic7\", \"Topic8\", \"Topic8\", \"Topic8\", \"Topic8\", \"Topic8\", \"Topic8\", \"Topic8\", \"Topic8\", \"Topic8\", \"Topic8\", \"Topic8\", \"Topic8\", \"Topic8\", \"Topic8\", \"Topic8\", \"Topic8\", \"Topic8\", \"Topic8\", \"Topic8\", \"Topic8\", \"Topic8\", \"Topic8\", \"Topic8\", \"Topic8\", \"Topic8\", \"Topic8\", \"Topic8\", \"Topic8\", \"Topic8\", \"Topic8\", \"Topic8\", \"Topic8\", \"Topic8\", \"Topic8\", \"Topic8\", \"Topic8\", \"Topic8\", \"Topic8\", \"Topic8\", \"Topic8\", \"Topic8\", \"Topic8\", \"Topic8\", \"Topic8\", \"Topic8\", \"Topic8\", \"Topic8\", \"Topic8\", \"Topic8\", \"Topic8\", \"Topic8\", \"Topic8\", \"Topic8\", \"Topic8\", \"Topic8\", \"Topic8\", \"Topic8\", \"Topic8\", \"Topic8\", \"Topic8\", \"Topic8\", \"Topic8\", \"Topic8\", \"Topic8\", \"Topic8\", \"Topic8\", \"Topic8\", \"Topic8\", \"Topic8\", \"Topic8\", \"Topic8\", \"Topic8\", \"Topic8\", \"Topic9\", \"Topic9\", \"Topic9\", \"Topic9\", \"Topic9\", \"Topic9\", \"Topic9\", \"Topic9\", \"Topic9\", \"Topic9\", \"Topic9\", \"Topic9\", \"Topic9\", \"Topic9\", \"Topic9\", \"Topic9\", \"Topic9\", \"Topic9\", \"Topic9\", \"Topic9\", \"Topic9\", \"Topic9\", \"Topic9\", \"Topic9\", \"Topic9\", \"Topic9\", \"Topic9\", \"Topic9\", \"Topic9\", \"Topic9\", \"Topic9\", \"Topic9\", \"Topic9\", \"Topic9\", \"Topic9\", \"Topic9\", \"Topic9\", \"Topic9\", \"Topic9\", \"Topic9\", \"Topic9\", \"Topic9\", \"Topic9\", \"Topic9\", \"Topic9\", \"Topic9\", \"Topic9\", \"Topic9\", \"Topic9\", \"Topic9\", \"Topic9\", \"Topic9\", \"Topic9\", \"Topic9\", \"Topic9\", \"Topic9\", \"Topic9\", \"Topic9\", \"Topic9\", \"Topic9\", \"Topic9\", \"Topic9\", \"Topic9\", \"Topic9\", \"Topic9\", \"Topic9\", \"Topic9\", \"Topic9\", \"Topic9\", \"Topic9\", \"Topic9\", \"Topic9\", \"Topic10\", \"Topic10\", \"Topic10\", \"Topic10\", \"Topic10\", \"Topic10\", \"Topic10\", \"Topic10\", \"Topic10\", \"Topic10\", \"Topic10\", \"Topic10\", \"Topic10\", \"Topic10\", \"Topic10\", \"Topic10\", \"Topic10\", \"Topic10\", \"Topic10\", \"Topic10\", \"Topic10\", \"Topic10\", \"Topic10\", \"Topic10\", \"Topic10\", \"Topic10\", \"Topic10\", \"Topic10\", \"Topic10\", \"Topic10\", \"Topic10\", \"Topic10\", \"Topic10\", \"Topic10\", \"Topic10\", \"Topic10\", \"Topic10\", \"Topic10\", \"Topic10\", \"Topic10\", \"Topic10\", \"Topic10\", \"Topic10\", \"Topic10\", \"Topic10\", \"Topic10\", \"Topic10\", \"Topic10\", \"Topic10\", \"Topic10\", \"Topic10\", \"Topic10\", \"Topic10\", \"Topic10\", \"Topic10\", \"Topic10\", \"Topic10\", \"Topic10\", \"Topic10\", \"Topic10\", \"Topic11\", \"Topic11\", \"Topic11\", \"Topic11\", \"Topic11\", \"Topic11\", \"Topic11\", \"Topic11\", \"Topic11\", \"Topic11\", \"Topic11\", \"Topic11\", \"Topic11\", \"Topic11\", \"Topic11\", \"Topic11\", \"Topic11\", \"Topic11\", \"Topic11\", \"Topic11\", \"Topic11\", \"Topic11\", \"Topic11\", \"Topic11\", \"Topic11\", \"Topic11\", \"Topic11\", \"Topic11\", \"Topic11\", \"Topic11\", \"Topic11\", \"Topic11\", \"Topic11\", \"Topic11\", \"Topic11\", \"Topic11\", \"Topic11\", \"Topic11\", \"Topic11\", \"Topic11\", \"Topic11\", \"Topic11\", \"Topic11\", \"Topic11\", \"Topic11\", \"Topic11\", \"Topic11\", \"Topic11\", \"Topic11\", \"Topic11\", \"Topic11\", \"Topic11\", \"Topic11\", \"Topic11\", \"Topic11\", \"Topic11\", \"Topic11\", \"Topic11\", \"Topic11\", \"Topic11\", \"Topic11\", \"Topic11\", \"Topic11\", \"Topic12\", \"Topic12\", \"Topic12\", \"Topic12\", \"Topic12\", \"Topic12\", \"Topic12\", \"Topic12\", \"Topic12\", \"Topic12\", \"Topic12\", \"Topic12\", \"Topic12\", \"Topic12\", \"Topic12\", \"Topic12\", \"Topic12\", \"Topic12\", \"Topic12\", \"Topic12\", \"Topic12\", \"Topic12\", \"Topic12\", \"Topic12\", \"Topic12\", \"Topic12\", \"Topic12\", \"Topic12\", \"Topic12\", \"Topic12\", \"Topic12\", \"Topic12\", \"Topic12\", \"Topic12\", \"Topic12\", \"Topic12\", \"Topic12\", \"Topic12\", \"Topic12\", \"Topic12\", \"Topic12\", \"Topic12\", \"Topic12\", \"Topic12\", \"Topic12\", \"Topic12\", \"Topic12\", \"Topic12\", \"Topic12\", \"Topic12\", \"Topic12\", \"Topic12\", \"Topic12\", \"Topic12\", \"Topic12\", \"Topic12\", \"Topic12\", \"Topic12\", \"Topic12\", \"Topic12\", \"Topic12\", \"Topic12\", \"Topic12\", \"Topic12\", \"Topic12\", \"Topic12\", \"Topic12\", \"Topic12\", \"Topic13\", \"Topic13\", \"Topic13\", \"Topic13\", \"Topic13\", \"Topic13\", \"Topic13\", \"Topic13\", \"Topic13\", \"Topic13\", \"Topic13\", \"Topic13\", \"Topic13\", \"Topic13\", \"Topic13\", \"Topic13\", \"Topic13\", \"Topic13\", \"Topic13\", \"Topic13\", \"Topic13\", \"Topic13\", \"Topic13\", \"Topic13\", \"Topic13\", \"Topic13\", \"Topic13\", \"Topic13\", \"Topic13\", \"Topic13\", \"Topic13\", \"Topic13\", \"Topic13\", \"Topic13\", \"Topic13\", \"Topic13\", \"Topic13\", \"Topic13\", \"Topic13\", \"Topic13\", \"Topic13\", \"Topic13\", \"Topic13\", \"Topic13\", \"Topic13\", \"Topic13\", \"Topic13\", \"Topic13\", \"Topic13\", \"Topic13\", \"Topic13\", \"Topic13\", \"Topic13\", \"Topic13\", \"Topic13\", \"Topic13\", \"Topic13\", \"Topic13\", \"Topic13\", \"Topic13\", \"Topic13\", \"Topic13\", \"Topic14\", \"Topic14\", \"Topic14\", \"Topic14\", \"Topic14\", \"Topic14\", \"Topic14\", \"Topic14\", \"Topic14\", \"Topic14\", \"Topic14\", \"Topic14\", \"Topic14\", \"Topic14\", \"Topic14\", \"Topic14\", \"Topic14\", \"Topic14\", \"Topic14\", \"Topic14\", \"Topic14\", \"Topic14\", \"Topic14\", \"Topic14\", \"Topic14\", \"Topic14\", \"Topic14\", \"Topic14\", \"Topic14\", \"Topic14\", \"Topic14\", \"Topic14\", \"Topic14\", \"Topic14\", \"Topic14\", \"Topic14\", \"Topic14\", \"Topic14\", \"Topic14\", \"Topic14\", \"Topic14\", \"Topic14\", \"Topic14\", \"Topic14\", \"Topic14\", \"Topic14\", \"Topic14\", \"Topic14\", \"Topic14\", \"Topic14\", \"Topic14\", \"Topic14\", \"Topic14\", \"Topic14\", \"Topic14\", \"Topic14\", \"Topic14\", \"Topic14\", \"Topic14\", \"Topic14\", \"Topic14\", \"Topic14\", \"Topic14\", \"Topic14\", \"Topic14\", \"Topic15\", \"Topic15\", \"Topic15\", \"Topic15\", \"Topic15\", \"Topic15\", \"Topic15\", \"Topic15\", \"Topic15\", \"Topic15\", \"Topic15\", \"Topic15\", \"Topic15\", \"Topic15\", \"Topic15\", \"Topic15\", \"Topic15\", \"Topic15\", \"Topic15\", \"Topic15\", \"Topic15\", \"Topic15\", \"Topic15\", \"Topic15\", \"Topic15\", \"Topic15\", \"Topic15\", \"Topic15\", \"Topic15\", \"Topic15\", \"Topic15\", \"Topic15\", \"Topic15\", \"Topic15\", \"Topic15\", \"Topic15\", \"Topic15\", \"Topic15\", \"Topic15\", \"Topic15\", \"Topic15\", \"Topic15\", \"Topic15\", \"Topic15\", \"Topic15\", \"Topic15\", \"Topic15\", \"Topic15\", \"Topic15\", \"Topic15\", \"Topic15\", \"Topic15\", \"Topic15\", \"Topic15\", \"Topic15\", \"Topic15\", \"Topic15\", \"Topic16\", \"Topic16\", \"Topic16\", \"Topic16\", \"Topic16\", \"Topic16\", \"Topic16\", \"Topic16\", \"Topic16\", \"Topic16\", \"Topic16\", \"Topic16\", \"Topic16\", \"Topic16\", \"Topic16\", \"Topic16\", \"Topic16\", \"Topic16\", \"Topic16\", \"Topic16\", \"Topic16\", \"Topic16\", \"Topic16\", \"Topic16\", \"Topic16\", \"Topic16\", \"Topic16\", \"Topic16\", \"Topic16\", \"Topic16\", \"Topic16\", \"Topic16\", \"Topic16\", \"Topic16\", \"Topic16\", \"Topic16\", \"Topic16\", \"Topic16\", \"Topic16\", \"Topic16\", \"Topic16\", \"Topic16\", \"Topic16\", \"Topic16\", \"Topic16\", \"Topic16\", \"Topic16\", \"Topic16\", \"Topic16\", \"Topic16\", \"Topic16\", \"Topic16\", \"Topic16\", \"Topic16\", \"Topic16\", \"Topic16\", \"Topic17\", \"Topic17\", \"Topic17\", \"Topic17\", \"Topic17\", \"Topic17\", \"Topic17\", \"Topic17\", \"Topic17\", \"Topic17\", \"Topic17\", \"Topic17\", \"Topic17\", \"Topic17\", \"Topic17\", \"Topic17\", \"Topic17\", \"Topic17\", \"Topic17\", \"Topic17\", \"Topic17\", \"Topic17\", \"Topic17\", \"Topic17\", \"Topic17\", \"Topic17\", \"Topic17\", \"Topic17\", \"Topic17\", \"Topic17\", \"Topic17\", \"Topic17\", \"Topic17\", \"Topic17\", \"Topic17\", \"Topic17\", \"Topic17\", \"Topic17\", \"Topic17\", \"Topic17\", \"Topic17\", \"Topic17\", \"Topic17\", \"Topic17\", \"Topic17\", \"Topic17\", \"Topic17\", \"Topic18\", \"Topic18\", \"Topic18\", \"Topic18\", \"Topic18\", \"Topic18\", \"Topic18\", \"Topic18\", \"Topic18\", \"Topic18\", \"Topic18\", \"Topic18\", \"Topic18\", \"Topic18\", \"Topic18\", \"Topic18\", \"Topic18\", \"Topic18\", \"Topic18\", \"Topic18\", \"Topic18\", \"Topic18\", \"Topic18\", \"Topic18\", \"Topic18\", \"Topic18\", \"Topic18\", \"Topic18\", \"Topic18\", \"Topic18\", \"Topic18\", \"Topic18\", \"Topic18\", \"Topic18\", \"Topic18\", \"Topic18\", \"Topic18\", \"Topic18\", \"Topic18\", \"Topic18\", \"Topic18\", \"Topic18\", \"Topic18\", \"Topic18\", \"Topic18\", \"Topic18\", \"Topic18\", \"Topic18\", \"Topic18\", \"Topic18\", \"Topic18\", \"Topic19\", \"Topic19\", \"Topic19\", \"Topic19\", \"Topic19\", \"Topic19\", \"Topic19\", \"Topic19\", \"Topic19\", \"Topic19\", \"Topic19\", \"Topic19\", \"Topic19\", \"Topic19\", \"Topic19\", \"Topic19\", \"Topic19\", \"Topic19\", \"Topic19\", \"Topic19\", \"Topic19\", \"Topic19\", \"Topic19\", \"Topic19\", \"Topic19\", \"Topic19\", \"Topic19\", \"Topic19\", \"Topic19\", \"Topic19\", \"Topic19\", \"Topic19\", \"Topic19\", \"Topic19\", \"Topic19\", \"Topic19\", \"Topic19\", \"Topic19\", \"Topic19\", \"Topic19\", \"Topic19\", \"Topic19\", \"Topic19\", \"Topic20\", \"Topic20\", \"Topic20\", \"Topic20\", \"Topic20\", \"Topic20\", \"Topic20\", \"Topic20\", \"Topic20\", \"Topic20\", \"Topic20\", \"Topic20\", \"Topic20\", \"Topic20\", \"Topic20\", \"Topic20\", \"Topic20\", \"Topic20\", \"Topic20\", \"Topic20\", \"Topic20\", \"Topic20\", \"Topic20\", \"Topic20\", \"Topic20\", \"Topic20\", \"Topic20\", \"Topic20\", \"Topic20\", \"Topic20\", \"Topic20\", \"Topic20\", \"Topic20\", \"Topic20\", \"Topic20\", \"Topic20\"], \"logprob\": [30.0, 29.0, 28.0, 27.0, 26.0, 25.0, 24.0, 23.0, 22.0, 21.0, 20.0, 19.0, 18.0, 17.0, 16.0, 15.0, 14.0, 13.0, 12.0, 11.0, 10.0, 9.0, 8.0, 7.0, 6.0, 5.0, 4.0, 3.0, 2.0, 1.0, -7.3471999168396, -7.554999828338623, -7.616199970245361, -7.887400150299072, -7.919899940490723, -7.969600200653076, -8.016400337219238, -8.06149959564209, -8.062999725341797, -8.088700294494629, -8.139200210571289, -8.141599655151367, -8.170900344848633, -8.19260025024414, -8.208900451660156, -8.22249984741211, -8.246500015258789, -8.247200012207031, -8.24940013885498, -8.298100471496582, -8.305000305175781, -8.307700157165527, -8.308600425720215, -8.321999549865723, -8.327500343322754, -8.045999526977539, -8.333200454711914, -8.337200164794922, -8.341699600219727, -8.349499702453613, -1.875599980354309, -7.700799942016602, -7.354400157928467, -7.735899925231934, -4.234600067138672, -7.9770002365112305, -5.83519983291626, -8.080699920654297, -2.456399917602539, -4.810500144958496, -6.775899887084961, -4.364999771118164, -5.452899932861328, -6.960700035095215, -6.3815999031066895, -7.517399787902832, -5.696700096130371, -6.6209001541137695, -3.8239998817443848, -6.567200183868408, -5.921199798583984, -4.633999824523926, -7.133800029754639, -5.359399795532227, -7.354400157928467, -6.466000080108643, -4.2993998527526855, -7.048500061035156, -6.2469000816345215, -5.513999938964844, -5.932499885559082, -5.289599895477295, -6.438300132751465, -6.211699962615967, -5.653800010681152, -5.6350998878479, -5.911200046539307, -3.9049999713897705, -5.195899963378906, -5.3755998611450195, -4.652200222015381, -4.4120001792907715, -6.099599838256836, -5.9141998291015625, -5.816100120544434, -4.641200065612793, -5.261000156402588, -5.633800029754639, -5.589099884033203, -5.199100017547607, -5.506199836730957, -5.582799911499023, -5.460899829864502, -5.696300029754639, -5.547100067138672, -7.051300048828125, -7.399899959564209, -7.391300201416016, -7.4567999839782715, -7.462100028991699, -7.094200134277344, -7.591700077056885, -7.608799934387207, -7.609300136566162, -7.616099834442139, -7.618800163269043, -7.654799938201904, -7.664000034332275, -7.672500133514404, -7.622099876403809, -7.6921000480651855, -7.7291998863220215, -7.732699871063232, -7.737199783325195, -7.7469000816345215, -7.657100200653076, -7.757199764251709, -7.771599769592285, -7.805600166320801, -7.8383002281188965, -7.822199821472168, -7.898600101470947, -7.918499946594238, -7.928500175476074, -7.947999954223633, -7.247000217437744, -7.269599914550781, -6.740699768066406, -6.131499767303467, -7.310400009155273, -7.134399890899658, -7.1020002365112305, -6.077000141143799, -5.942200183868408, -6.352200031280518, -3.6394999027252197, -3.655100107192993, -6.540800094604492, -4.014900207519531, -5.901100158691406, -3.351099967956543, -4.90310001373291, -4.058899879455566, -4.171999931335449, -5.397799968719482, -5.027299880981445, -6.749499797821045, -6.803599834442139, -4.857900142669678, -3.8884999752044678, -5.498600006103516, -5.901700019836426, -4.995299816131592, -5.031799793243408, -5.105899810791016, -4.680699825286865, -5.855800151824951, -5.130000114440918, -5.358500003814697, -5.555500030517578, -5.584400177001953, -5.836900234222412, -5.328100204467773, -4.717899799346924, -5.541800022125244, -5.619699954986572, -5.183599948883057, -5.411600112915039, -5.287399768829346, -5.577000141143799, -5.1153998374938965, -5.6066999435424805, -5.519000053405762, -6.494699954986572, -7.643499851226807, -7.732100009918213, -7.756700038909912, -7.793099880218506, -5.890100002288818, -7.983399868011475, -8.015999794006348, -8.130499839782715, -8.170599937438965, -8.207799911499023, -8.226900100708008, -8.286399841308594, -8.293499946594238, -8.295000076293945, -8.30210018157959, -8.315299987792969, -8.342599868774414, -5.4710001945495605, -8.362600326538086, -8.36460018157959, -8.378399848937988, -8.390399932861328, -8.395500183105469, -6.3003997802734375, -8.44849967956543, -8.453399658203125, -8.45460033416748, -8.447699546813965, -8.46660041809082, -4.492499828338623, -2.2880001068115234, -3.9946999549865723, -7.342899799346924, -7.358699798583984, -3.1519999504089355, -5.219900131225586, -3.9995999336242676, -4.707200050354004, -5.907800197601318, -6.279600143432617, -6.4446001052856445, -6.200699806213379, -6.687399864196777, -4.869699954986572, -5.0954999923706055, -5.142099857330322, -4.923099994659424, -6.520999908447266, -2.7358999252319336, -6.556399822235107, -5.68209981918335, -5.2743000984191895, -5.575399875640869, -5.547999858856201, -6.373199939727783, -5.1508002281188965, -5.156400203704834, -4.659800052642822, -4.764500141143799, -5.178800106048584, -4.8404998779296875, -3.626800060272217, -4.89900016784668, -5.185200214385986, -4.5254998207092285, -4.124499797821045, -4.930699825286865, -4.683000087738037, -4.655399799346924, -4.692500114440918, -4.758699893951416, -4.914999961853027, -4.980400085449219, -5.1930999755859375, -5.379000186920166, -5.612400054931641, -5.701900005340576, -6.275100231170654, -6.343100070953369, -6.514200210571289, -6.594699859619141, -6.735899925231934, -6.826300144195557, -6.946300029754639, -6.9741997718811035, -7.1143999099731445, -7.148399829864502, -7.160399913787842, -4.969399929046631, -7.28249979019165, -7.198299884796143, -7.2891998291015625, -7.309800148010254, -7.320899963378906, -7.3256001472473145, -7.348100185394287, -7.351500034332275, -7.353400230407715, -7.332499980926514, -6.813899993896484, -7.364699840545654, -7.368199825286865, -7.3765997886657715, -7.380199909210205, -4.752600193023682, -6.889999866485596, -4.508800029754639, -5.571199893951416, -5.769800186157227, -6.4079999923706055, -6.091599941253662, -5.446599960327148, -5.893499851226807, -6.305099964141846, -5.484499931335449, -6.191199779510498, -6.008800029754639, -5.638999938964844, -5.091400146484375, -3.3726000785827637, -5.082099914550781, -4.966300010681152, -5.638299942016602, -4.312600135803223, -4.822999954223633, -3.783799886703491, -4.608500003814697, -5.703800201416016, -5.754799842834473, -5.862199783325195, -5.053599834442139, -4.031300067901611, -4.736000061035156, -3.940000057220459, -4.531300067901611, -5.438000202178955, -4.598899841308594, -4.497600078582764, -4.493299961090088, -4.934899806976318, -5.19890022277832, -5.364099979400635, -5.252399921417236, -5.293900012969971, -5.131700038909912, -5.16349983215332, -5.350900173187256, -5.398499965667725, -5.38670015335083, -6.309299945831299, -6.405300140380859, -6.436800003051758, -6.714700222015381, -6.765600204467773, -6.814300060272217, -6.846199989318848, -6.870800018310547, -6.826600074768066, -7.136600017547607, -7.214200019836426, -7.321700096130371, -7.326099872589111, -7.3520002365112305, -7.366300106048584, -7.384699821472168, -7.39900016784668, -7.4070000648498535, -7.407700061798096, -7.458600044250488, -7.4822998046875, -7.507999897003174, -7.520699977874756, -7.539000034332275, -7.544600009918213, -7.563300132751465, -7.563300132751465, -7.563300132751465, -7.563300132751465, -7.563300132751465, -7.563300132751465, -7.563300132751465, -7.563300132751465, -7.563300132751465, -7.563300132751465, -7.563300132751465, -7.563300132751465, -7.563300132751465, -6.788300037384033, -3.8169000148773193, -5.935299873352051, -6.005499839782715, -5.037600040435791, -3.6570000648498535, -7.213500022888184, -5.893099784851074, -5.958700180053711, -6.660999774932861, -4.827600002288818, -5.504300117492676, -4.352700233459473, -5.375100135803223, -6.633600234985352, -5.835599899291992, -6.934100151062012, -4.672500133514404, -5.913899898529053, -4.492700099945068, -4.607900142669678, -4.58459997177124, -4.098700046539307, -4.960700035095215, -4.3927998542785645, -4.200099945068359, -4.642399787902832, -4.616399765014648, -5.988100051879883, -5.139999866485596, -3.968100070953369, -5.518199920654297, -4.980299949645996, -4.186999797821045, -4.981900215148926, -5.230800151824951, -5.285799980163574, -4.8815999031066895, -4.882299900054932, -5.133699893951416, -4.251100063323975, -4.866499900817871, -4.713900089263916, -4.5233001708984375, -5.129899978637695, -5.1803998947143555, -5.130199909210205, -4.9704999923706055, -3.791800022125244, -5.55679988861084, -6.266499996185303, -6.397600173950195, -6.421299934387207, -6.478099822998047, -6.524799823760986, -6.594900131225586, -6.719200134277344, -6.830399990081787, -6.8592000007629395, -6.866600036621094, -7.053400039672852, -7.09689998626709, -7.1057000160217285, -7.124000072479248, -7.123799800872803, -6.125199794769287, -7.180500030517578, -7.2754998207092285, -7.290800094604492, -7.29580020904541, -7.301199913024902, -7.342100143432617, -7.3744001388549805, -7.381199836730957, -7.381499767303467, -6.827199935913086, -7.405900001525879, -6.821800231933594, -4.883200168609619, -3.9567999839782715, -4.156599998474121, -6.456299781799316, -5.046999931335449, -6.836999893188477, -6.726200103759766, -6.131800174713135, -5.906499862670898, -5.38040018081665, -6.524199962615967, -5.611299991607666, -5.9994001388549805, -3.9388999938964844, -6.082300186157227, -4.1092000007629395, -5.677499771118164, -5.021200180053711, -5.984799861907959, -4.313199996948242, -4.925099849700928, -5.369900226593018, -4.998700141906738, -2.6277999877929688, -5.606299877166748, -5.9506001472473145, -2.888400077819824, -4.69980001449585, -5.106800079345703, -4.7322001457214355, -5.228499889373779, -5.245999813079834, -4.9567999839782715, -4.076300144195557, -4.756800174713135, -5.268199920654297, -5.168399810791016, -5.1097002029418945, -5.044000148773193, -5.369500160217285, -5.269499778747559, -5.319799900054932, -5.334099769592285, -5.343599796295166, -5.426300048828125, -6.147799968719482, -6.247200012207031, -6.354100227355957, -6.425899982452393, -6.541900157928467, -6.542799949645996, -6.603799819946289, -4.783100128173828, -6.701700210571289, -6.73769998550415, -6.749199867248535, -6.7941999435424805, -6.7957000732421875, -6.808800220489502, -6.847300052642822, -6.857399940490723, -6.861700057983398, -6.880300045013428, -6.892399787902832, -7.0183000564575195, -7.073800086975098, -7.078700065612793, -7.081900119781494, -7.1057000160217285, -7.1184000968933105, -7.135200023651123, -7.1458001136779785, -7.188899993896484, -7.2967000007629395, -6.094900131225586, -6.2378997802734375, -6.594200134277344, -6.005000114440918, -6.59499979019165, -6.178500175476074, -5.571599960327148, -4.752799987792969, -4.818299770355225, -5.645999908447266, -5.473800182342529, -5.384900093078613, -4.65880012512207, -6.595200061798096, -5.084799766540527, -4.561600208282471, -6.19950008392334, -6.582200050354004, -5.57480001449585, -4.467400074005127, -5.495699882507324, -5.895500183105469, -4.5644001960754395, -4.3354997634887695, -5.4344000816345215, -4.579599857330322, -4.637800216674805, -4.546199798583984, -4.870299816131592, -4.812600135803223, -4.75629997253418, -5.6057000160217285, -4.88539981842041, -5.135300159454346, -5.086699962615967, -4.291999816894531, -3.9475998878479004, -4.569300174713135, -5.103899955749512, -5.446400165557861, -5.049200057983398, -5.223199844360352, -5.422500133514404, -5.418099880218506, -5.273600101470947, -5.374100208282471, -5.777400016784668, -2.5439000129699707, -6.393400192260742, -5.10260009765625, -5.942999839782715, -6.59060001373291, -6.753799915313721, -6.85890007019043, -6.915800094604492, -7.086699962615967, -6.944699764251709, -7.195300102233887, -7.229100227355957, -7.229899883270264, -7.244800090789795, -7.313700199127197, -7.33519983291626, -7.3572998046875, -7.35830020904541, -7.374499797821045, -7.394700050354004, -7.429200172424316, -7.433800220489502, -7.44980001449585, -7.475500106811523, -7.5329999923706055, -7.549099922180176, -7.552700042724609, -7.556099891662598, -7.564000129699707, -3.329900026321411, -5.605500221252441, -5.608799934387207, -6.412899971008301, -6.987299919128418, -3.5859999656677246, -6.404300212860107, -5.565400123596191, -4.462900161743164, -5.949900150299072, -6.738800048828125, -6.673099994659424, -5.427999973297119, -3.5824999809265137, -5.125500202178955, -5.25, -3.4916000366210938, -3.47760009765625, -4.156099796295166, -4.628300189971924, -5.810500144958496, -5.176700115203857, -5.133200168609619, -5.252500057220459, -4.478300094604492, -5.690400123596191, -4.914000034332275, -4.852799892425537, -5.143400192260742, -5.415900230407715, -4.749599933624268, -4.562900066375732, -4.464300155639648, -4.961299896240234, -4.243599891662598, -4.497300148010254, -4.458399772644043, -5.0355000495910645, -5.184100151062012, -5.177599906921387, -5.157800197601318, -5.220799922943115, -5.18179988861084, -4.986299991607666, -5.5019001960754395, -5.563899993896484, -5.780600070953369, -5.899700164794922, -6.062399864196777, -6.126200199127197, -6.133500099182129, -6.16480016708374, -6.323599815368652, -6.337500095367432, -6.346399784088135, -5.9953999519348145, -6.458799839019775, -6.7322998046875, -6.799900054931641, -6.814300060272217, -6.854499816894531, -6.8566999435424805, -6.856900215148926, -6.8597002029418945, -6.881199836730957, -6.88539981842041, -6.9604997634887695, -6.986400127410889, -6.98769998550415, -6.292900085449219, -7.013999938964844, -7.037199974060059, -7.037600040435791, -5.571100234985352, -5.753699779510498, -5.716800212860107, -6.269800186157227, -6.382400035858154, -6.0817999839782715, -5.590799808502197, -4.745999813079834, -5.784999847412109, -5.920599937438965, -5.893199920654297, -6.322000026702881, -5.767199993133545, -5.099299907684326, -4.515200138092041, -4.13640022277832, -4.0746002197265625, -4.861000061035156, -4.320899963378906, -5.153800010681152, -5.209700107574463, -4.417300224304199, -3.140399932861328, -4.087500095367432, -5.067599773406982, -5.041999816894531, -5.316299915313721, -4.991000175476074, -5.559500217437744, -5.308599948883057, -5.430500030517578, -4.080900192260742, -4.9355998039245605, -5.053599834442139, -5.368299961090088, -4.99560022354126, -5.109000205993652, -5.383600234985352, -5.29010009765625, -5.3119001388549805, -5.040200233459473, -5.358099937438965, -4.567299842834473, -4.970600128173828, -5.401400089263916, -5.462600231170654, -5.571300029754639, -5.783599853515625, -5.912199974060059, -6.1819000244140625, -6.227200031280518, -6.4766998291015625, -6.524199962615967, -6.534200191497803, -6.544099807739258, -6.575500011444092, -6.614200115203857, -6.683800220489502, -6.723100185394287, -6.810100078582764, -6.819900035858154, -6.819900035858154, -6.861199855804443, -6.861199855804443, -6.861199855804443, -6.861199855804443, -6.861199855804443, -6.861199855804443, -3.610599994659424, -6.971199989318848, -7.055600166320801, -7.0879998207092285, -3.8715999126434326, -2.862299919128418, -3.9042000770568848, -3.479099988937378, -5.2581000328063965, -3.339200019836426, -2.45770001411438, -2.5425000190734863, -3.341200113296509, -5.029300212860107, -5.387400150299072, -3.9719998836517334, -4.872399806976318, -3.7813000679016113, -4.667099952697754, -4.530799865722656, -5.464300155639648, -3.621500015258789, -5.155799865722656, -4.090000152587891, -4.669600009918213, -4.700300216674805, -4.105999946594238, -4.728899955749512, -4.956900119781494, -4.198699951171875, -4.833799839019775, -4.709199905395508, -4.9756999015808105, -4.94189977645874, -4.771599769592285, -4.936500072479248, -5.029699802398682, -5.317999839782715, -5.875800132751465, -5.20389986038208, -6.272799968719482, -6.364500045776367, -4.446800231933594, -6.489099979400635, -6.54449987411499, -6.621399879455566, -6.63700008392334, -6.683899879455566, -6.683899879455566, -6.683899879455566, -6.683899879455566, -6.683899879455566, -6.683899879455566, -6.683899879455566, -6.683899879455566, -6.683899879455566, -6.683899879455566, -6.683899879455566, -6.683899879455566, -6.899499893188477, -6.988900184631348, -7.021100044250488, -5.783400058746338, -7.157599925994873, -4.89109992980957, -3.262200117111206, -5.013299942016602, -5.180500030517578, -5.452099800109863, -4.9328999519348145, -4.201499938964844, -4.451700210571289, -4.835999965667725, -5.118899822235107, -4.8592000007629395, -4.605199813842773, -2.818000078201294, -3.6735000610351562, -2.865499973297119, -4.7058000564575195, -5.726900100708008, -5.517000198364258, -5.120999813079834, -5.021100044250488, -5.067299842834473, -5.355000019073486, -4.793600082397461, -3.437999963760376, -4.888800144195557, -4.496300220489502, -4.901299953460693, -4.910999774932861, -4.749000072479248, -4.765399932861328, -4.614500045776367, -4.738500118255615, -5.1020002365112305, -4.92579984664917, -5.412399768829346, -5.503900051116943, -5.8668999671936035, -5.938799858093262, -5.965199947357178, -6.009500026702881, -6.063799858093262, -6.304699897766113, -6.328400135040283, -6.344200134277344, -6.3495001792907715, -6.359300136566162, -6.38640022277832, -6.408899784088135, -6.424600124359131, -6.453700065612793, -6.500199794769287, -6.502399921417236, -6.506400108337402, -6.534999847412109, -6.545199871063232, -5.523799896240234, -6.631999969482422, -6.656400203704834, -6.656400203704834, -6.656400203704834, -6.688300132751465, -6.710000038146973, -6.714799880981445, -5.136099815368652, -5.3678998947143555, -5.301400184631348, -4.421899795532227, -4.451099872589111, -4.837699890136719, -5.193399906158447, -3.962399959564209, -5.26609992980957, -5.377600193023682, -4.445300102233887, -5.221199989318848, -4.38640022277832, -4.561200141906738, -4.7006001472473145, -5.364299774169922, -5.084199905395508, -3.655600070953369, -4.5329999923706055, -4.950699806213379, -5.2093000411987305, -4.204899787902832, -4.176000118255615, -5.281000137329102, -4.9644999504089355, -4.765699863433838, -4.456900119781494, -3.976900100708008, -4.72790002822876, -5.058300018310547, -4.9654998779296875, -4.693299770355225, -5.027599811553955, -4.695300102233887, -4.876500129699707, -4.991600036621094, -5.026599884033203, -5.0416998863220215, -4.405700206756592, -4.992000102996826, -5.325799942016602, -5.346799850463867, -3.58489990234375, -5.628200054168701, -5.678400039672852, -5.80079984664917, -5.8379998207092285, -5.8769001960754395, -6.064799785614014, -6.072400093078613, -6.149700164794922, -6.196599960327148, -6.2230000495910645, -6.258800029754639, -6.268599987030029, -6.281000137329102, -6.314199924468994, -6.441299915313721, -6.498499870300293, -6.514500141143799, -6.518899917602539, -6.526899814605713, -6.549499988555908, -6.56790018081665, -2.6120998859405518, -6.629799842834473, -6.64900016784668, -6.652599811553955, -5.192299842834473, -4.246500015258789, -4.633699893951416, -5.984600067138672, -3.5917000770568848, -3.8835999965667725, -4.612299919128418, -5.083799839019775, -5.378300189971924, -5.230400085449219, -5.231500148773193, -5.422699928283691, -5.19980001449585, -5.46750020980835, -5.760200023651123, -5.312300205230713, -5.6057000160217285, -4.832300186157227, -4.746699810028076, -4.059700012207031, -5.087399959564209, -4.875899791717529, -4.519400119781494, -5.484300136566162, -4.5046000480651855, -4.841899871826172, -4.129199981689453, -4.673999786376953, -4.78410005569458, -5.006700038909912, -5.075799942016602, -5.238800048828125, -4.21019983291626, -5.3267998695373535, -5.447700023651123, -5.869699954986572, -6.031300067901611, -6.135200023651123, -6.246600151062012, -6.266900062561035, -6.287499904632568, -6.2891998291015625, -6.326700210571289, -6.3302001953125, -6.36460018157959, -6.381499767303467, -6.403900146484375, -6.408400058746338, -6.441699981689453, -6.449900150299072, -6.468699932098389, -6.480599880218506, -6.4918999671936035, -6.4969000816345215, -6.518099784851074, -6.519000053405762, -6.520299911499023, -6.561600208282471, -6.561600208282471, -6.561600208282471, -6.561600208282471, -6.561600208282471, -3.54259991645813, -4.298099994659424, -6.117000102996826, -5.467599868774414, -5.446199893951416, -5.5971999168396, -5.009500026702881, -3.291599988937378, -4.158299922943115, -4.441500186920166, -5.927700042724609, -4.361100196838379, -3.1602001190185547, -5.3454999923706055, -4.856200218200684, -3.6338999271392822, -3.7894999980926514, -3.527400016784668, -4.6992998123168945, -3.927000045776367, -5.599699974060059, -5.0605998039245605, -5.678400039672852, -4.896200180053711, -4.769000053405762, -5.418799877166748, -4.699399948120117, -4.339600086212158, -4.96999979019165, -4.73960018157959, -4.603899955749512, -5.240099906921387, -5.380199909210205, -5.347700119018555, -5.387899875640869, -4.470799922943115, -4.524499893188477, -5.089799880981445, -5.151100158691406, -5.441999912261963, -5.464900016784668, -5.490799903869629, -5.604599952697754, -5.636899948120117, -5.647500038146973, -5.649499893188477, -5.661600112915039, -5.678500175476074, -5.697299957275391, -5.708000183105469, -5.739299774169922, -5.762700080871582, -5.856800079345703, -5.912099838256836, -5.912099838256836, -5.916399955749512, -6.023099899291992, -6.153800010681152, -6.279399871826172, -6.283899784088135, -6.29449987411499, -6.314199924468994, -6.343800067901611, -6.373700141906738, -6.4369001388549805, -3.83870005607605, -4.147600173950195, -3.365999937057495, -3.4762001037597656, -3.9342000484466553, -3.3304998874664307, -4.666399955749512, -5.852799892425537, -3.0311999320983887, -4.559500217437744, -4.495699882507324, -4.596199989318848, -4.553199768066406, -4.158899784088135, -4.400199890136719, -5.129199981689453, -5.16480016708374, -4.9670000076293945, -4.757500171661377, -4.317599773406982, -4.4791998863220215, -4.799099922180176, -4.89169979095459, -5.070000171661377, -4.9085001945495605, -5.2779998779296875, -5.1697001457214355, -4.228400230407715, -4.337699890136719, -4.571100234985352, -4.999100208282471, -5.098299980163574, -5.381700038909912, -5.500400066375732, -5.622200012207031, -5.645100116729736, -3.563499927520752, -5.826600074768066, -5.908599853515625, -5.948699951171875, -6.007999897003174, -6.01170015335083, -6.026400089263916, -6.027299880981445, -6.134699821472168, -6.202199935913086, -6.251200199127197, -6.256400108337402, -6.333399772644043, -6.476200103759766, -6.487800121307373, -6.492000102996826, -6.492400169372559, -6.515399932861328, -6.610300064086914, -6.673699855804443, -6.673699855804443, -5.817999839782715, -4.820899963378906, -4.603899955749512, -3.853300094604492, -3.4691998958587646, -4.070400238037109, -4.353400230407715, -3.3861000537872314, -4.024499893188477, -5.057700157165527, -4.108399868011475, -4.96560001373291, -3.960599899291992, -5.401400089263916, -4.764200210571289, -5.293300151824951, -5.310400009155273, -4.836400032043457, -4.794899940490723, -4.806000232696533, -4.992300033569336, -5.151000022888184, -5.061600208282471, -5.298999786376953, -5.309899806976318, -5.307199954986572, -4.286399841308594, -4.499499797821045, -4.583899974822998, -4.642099857330322, -4.728499889373779, -4.753200054168701, -4.897799968719482, -4.899799823760986, -5.116799831390381, -5.118199825286865, -5.125800132751465, -5.25029993057251, -5.309299945831299, -5.365499973297119, -5.365499973297119, -5.376699924468994, -5.409999847412109, -5.425099849700928, -5.4475998878479, -5.453000068664551, -5.462200164794922, -5.476099967956543, -5.511199951171875, -5.6209001541137695, -5.6392998695373535, -5.82859992980957, -5.842700004577637, -5.875800132751465, -6.016600131988525, -6.045000076293945, -4.9756999015808105, -3.9282000064849854, -4.920899868011475, -5.441999912261963, -4.686699867248535, -4.871099948883057, -4.933199882507324, -5.175899982452393, -4.6234002113342285, -4.266200065612793, -5.17609977722168, -5.194799900054932, -4.853099822998047, -5.310500144958496, -5.169300079345703, -5.35260009765625, -5.364299774169922, -3.8852999210357666, -4.4984002113342285, -4.635700225830078, -4.835299968719482, -4.903200149536133, -4.903200149536133, -4.903200149536133, -4.903200149536133, -5.267899990081787, -5.2692999839782715, -5.329500198364258, -5.350100040435791, -5.3520002365112305, -5.390200138092041, -5.443999767303467, -5.45959997177124, -5.464200019836426, -5.504300117492676, -5.524799823760986, -5.575699806213379, -5.594399929046631, -5.594399929046631, -5.594399929046631, -5.594399929046631, -5.594399929046631, -5.594399929046631, -5.594399929046631, -5.685100078582764, -5.936100006103516, -6.013199806213379, -4.731299877166748, -4.116799831390381, -4.1508002281188965, -3.364500045776367, -4.225399971008301, -4.84499979019165, -3.3585000038146973, -3.811500072479248, -5.177299976348877, -4.49970006942749, -4.842199802398682, -5.14169979095459, -4.429299831390381, -4.893599987030029, -4.773799896240234, -4.690400123596191, -4.888999938964844, -4.761199951171875, -5.065800189971924, -5.19189977645874, -5.242700099945068, -4.252799987792969, -4.644599914550781, -4.981400012969971, -5.027200222015381, -5.143799781799316, -5.14870023727417, -5.180500030517578, -5.256199836730957, -5.278900146484375, -5.507599830627441, -5.515699863433838, -5.5696001052856445, -5.633500099182129, -5.734499931335449, -5.878799915313721, -5.959499835968018, -5.96589994430542, -6.014699935913086, -6.025899887084961, -6.057199954986572, -6.057199954986572, -6.060100078582764, -6.089000225067139, -6.151100158691406, -6.157199859619141, -6.16510009765625, -6.172999858856201, -6.198299884796143, -6.213500022888184, -6.239099979400635, -4.012400150299072, -1.9337999820709229, -4.308599948883057, -4.846799850463867, -4.698200225830078, -5.444399833679199, -4.378600120544434, -5.672399997711182, -4.789000034332275, -5.089000225067139, -5.095600128173828, -5.711299896240234, -5.913400173187256, -4.216899871826172, -4.316199779510498, -4.776000022888184, -4.845099925994873, -4.8769001960754395, -4.942200183868408, -4.942200183868408, -4.942200183868408, -4.942200183868408, -4.951300144195557, -4.956500053405762, -4.987500190734863, -4.987500190734863, -5.0117998123168945, -5.0208001136779785, -5.153800010681152, -5.250100135803223, -5.5366997718811035, -5.6149001121521, -5.662499904632568, -5.668099880218506, -5.669300079345703, -5.69980001449585, -5.719799995422363, -5.778600215911865, -4.9695000648498535, -5.841000080108643, -5.92110013961792, -5.968200206756592, -5.9893999099731445, -4.492499828338623, -5.748899936676025, -5.35290002822876, -5.3867998123168945, -4.891600131988525, -5.539400100708008], \"loglift\": [30.0, 29.0, 28.0, 27.0, 26.0, 25.0, 24.0, 23.0, 22.0, 21.0, 20.0, 19.0, 18.0, 17.0, 16.0, 15.0, 14.0, 13.0, 12.0, 11.0, 10.0, 9.0, 8.0, 7.0, 6.0, 5.0, 4.0, 3.0, 2.0, 1.0, 1.3427000045776367, 1.340499997138977, 1.3396999835968018, 1.3357000350952148, 1.3351999521255493, 1.3343000411987305, 1.333400011062622, 1.3325999975204468, 1.3324999809265137, 1.3319000005722046, 1.3309999704360962, 1.330899953842163, 1.330299973487854, 1.329800009727478, 1.3293999433517456, 1.3291000127792358, 1.3285000324249268, 1.3285000324249268, 1.3285000324249268, 1.327299952507019, 1.3271000385284424, 1.3270000219345093, 1.3270000219345093, 1.32669997215271, 1.3265000581741333, 1.3265000581741333, 1.3264000415802002, 1.326300024986267, 1.326200008392334, 1.3259999752044678, 1.2675000429153442, 1.3220000267028809, 1.3177000284194946, 1.3214000463485718, 1.2654000520706177, 1.3208999633789062, 1.2768000364303589, 1.3208999633789062, 1.1375000476837158, 1.207900047302246, 1.2795000076293945, 1.1739000082015991, 1.1485999822616577, 1.2437000274658203, 1.1950000524520874, 1.2800999879837036, 1.1305999755859375, 1.2108999490737915, 0.9675999879837036, 1.2029000520706177, 1.1346999406814575, 1.0012999773025513, 1.2437000274658203, 1.0514999628067017, 1.2588000297546387, 1.1521999835968018, 0.8565999865531921, 1.2093000411987305, 1.0872000455856323, 0.9656999707221985, 1.0230000019073486, 0.9000999927520752, 1.0924999713897705, 1.0256999731063843, 0.8952999711036682, 0.8626000285148621, 0.9212999939918518, 0.26260000467300415, 0.5292999744415283, 0.560699999332428, 0.20170000195503235, 0.002199999988079071, 0.853600025177002, 0.7139999866485596, 0.6021000146865845, -0.5264000296592712, 0.026599999517202377, 0.4131999909877777, 0.3255000114440918, -0.5587999820709229, -0.09589999914169312, 0.06159999966621399, -0.46050000190734863, 0.019300000742077827, -1.3990000486373901, 1.687999963760376, 1.6837999820709229, 1.6835999488830566, 1.6828999519348145, 1.682800054550171, 1.6811000108718872, 1.6806999444961548, 1.680400013923645, 1.680400013923645, 1.680299997329712, 1.6801999807357788, 1.6796000003814697, 1.6793999671936035, 1.6792000532150269, 1.6792000532150269, 1.6789000034332275, 1.6780999898910522, 1.6780999898910522, 1.6779999732971191, 1.6778000593185425, 1.6777000427246094, 1.6776000261306763, 1.677299976348877, 1.6765999794006348, 1.6758999824523926, 1.6756000518798828, 1.6744999885559082, 1.6740000247955322, 1.673799991607666, 1.67330002784729, 1.6578999757766724, 1.6188000440597534, 1.5633000135421753, 1.4981000423431396, 1.6122000217437744, 1.5884000062942505, 1.5819000005722046, 1.4420000314712524, 1.4083000421524048, 1.464900016784668, 0.9868999719619751, 0.9851999878883362, 1.4595999717712402, 0.9599999785423279, 1.3288999795913696, 0.763700008392334, 1.0810999870300293, 0.8100000023841858, 0.828499972820282, 1.104599952697754, 1.0055999755859375, 1.454699993133545, 1.4594000577926636, 0.8677999973297119, 0.5257999897003174, 1.0348999500274658, 1.131100058555603, 0.7203999757766724, 0.7246000170707703, 0.7402999997138977, 0.527999997138977, 0.9851999878883362, 0.6151000261306763, 0.7135000228881836, 0.7990000247955322, 0.7839000225067139, 0.9345999956130981, 0.5947999954223633, 0.13590000569820404, 0.6668000221252441, 0.6908000111579895, 0.10400000214576721, 0.3919999897480011, 0.12300000339746475, 0.5927000045776367, -0.2287999987602234, 0.6399000287055969, 0.3538999855518341, 1.9491000175476074, 1.9326000213623047, 1.930400013923645, 1.929800033569336, 1.926200032234192, 1.9256000518798828, 1.9229999780654907, 1.9219000339508057, 1.917799949645996, 1.916200041770935, 1.9147000312805176, 1.9139000177383423, 1.9113999605178833, 1.9111000299453735, 1.9110000133514404, 1.9106999635696411, 1.910099983215332, 1.9088000059127808, 1.9088000059127808, 1.9078999757766724, 1.9077999591827393, 1.907099962234497, 1.906499981880188, 1.9062999486923218, 1.905900001525879, 1.9035999774932861, 1.9033000469207764, 1.9033000469207764, 1.9033000469207764, 1.9026999473571777, 1.892699956893921, 1.8601000308990479, 1.8171000480651855, 1.8789000511169434, 1.8726999759674072, 1.7346999645233154, 1.8047000169754028, 1.7511999607086182, 1.7759000062942505, 1.7745000123977661, 1.797700047492981, 1.8000999689102173, 1.7697999477386475, 1.8061000108718872, 1.6691999435424805, 1.6857000589370728, 1.688099980354309, 1.6407999992370605, 1.7759000062942505, 1.4316999912261963, 1.764299988746643, 1.6440999507904053, 1.580199956893921, 1.5979000329971313, 1.5707999467849731, 1.686900019645691, 1.4313000440597534, 1.284600019454956, 1.0521999597549438, 1.0809999704360962, 1.2348999977111816, 1.0824999809265137, 0.4878999888896942, 1.082900047302246, 1.1715999841690063, 0.7620999813079834, 0.2897999882698059, 0.8727999925613403, 0.29190000891685486, 0.19840000569820404, 0.17649999260902405, 0.24169999361038208, 0.49540001153945923, -0.18880000710487366, 0.9376999735832214, 2.5882999897003174, 2.587100028991699, 2.5861001014709473, 2.5815000534057617, 2.580699920654297, 2.578399896621704, 2.577199935913086, 2.5748000144958496, 2.5731000900268555, 2.570499897003174, 2.5699000358581543, 2.566499948501587, 2.5655999183654785, 2.565200090408325, 2.562000036239624, 2.5617001056671143, 2.5615999698638916, 2.5613999366760254, 2.560800075531006, 2.560499906539917, 2.56030011177063, 2.5596001148223877, 2.559499979019165, 2.5594000816345215, 2.5590999126434326, 2.5590999126434326, 2.559000015258789, 2.5589001178741455, 2.5585999488830566, 2.558500051498413, 2.550299882888794, 2.539900064468384, 2.2804999351501465, 2.3359999656677246, 2.355799913406372, 2.4382998943328857, 2.3933000564575195, 2.2585999965667725, 2.23580002784729, 2.3231000900268555, 2.11899995803833, 2.2597999572753906, 2.2083001136779785, 2.0906999111175537, 1.8870999813079834, 1.267699956893921, 1.8575999736785889, 1.7913000583648682, 2.0023999214172363, 1.3317999839782715, 1.5027999877929688, 0.8427000045776367, 1.3062000274658203, 1.9186999797821045, 1.9326000213623047, 2.0129001140594482, 1.3258999586105347, 0.382999986410141, 0.9825999736785889, 0.17470000684261322, 0.7562999725341797, 1.5872000455856323, 0.6097000241279602, 0.4772000014781952, 0.36059999465942383, 0.7807000279426575, 1.1785999536514282, 1.395400047302246, 0.984000027179718, 0.7530999779701233, -0.26269999146461487, -0.163100004196167, 0.4952999949455261, 0.5519999861717224, -1.219099998474121, 2.9370999336242676, 2.9354000091552734, 2.934799909591675, 2.9286999702453613, 2.927299976348877, 2.9256999492645264, 2.925100088119507, 2.9244000911712646, 2.9235999584198, 2.9154999256134033, 2.912400007247925, 2.9077999591827393, 2.907599925994873, 2.906399965286255, 2.9056999683380127, 2.9047999382019043, 2.904099941253662, 2.903700113296509, 2.903700113296509, 2.901099920272827, 2.899899959564209, 2.8984999656677246, 2.8977999687194824, 2.8968000411987305, 2.8965001106262207, 2.895400047302246, 2.895400047302246, 2.895400047302246, 2.895400047302246, 2.895400047302246, 2.895400047302246, 2.895400047302246, 2.895400047302246, 2.895400047302246, 2.895400047302246, 2.895400047302246, 2.895400047302246, 2.895400047302246, 2.8680999279022217, 2.6730000972747803, 2.7950000762939453, 2.7981998920440674, 2.672300100326538, 2.533099889755249, 2.8645999431610107, 2.7035000324249268, 2.7116000652313232, 2.7915000915527344, 2.4848999977111816, 2.577899932861328, 2.368299961090088, 2.497999906539917, 2.727799892425537, 2.5215001106262207, 2.7927000522613525, 2.146899938583374, 2.4191999435424805, 1.8639999628067017, 1.8992999792099, 1.8624000549316406, 1.6268999576568604, 1.9922000169754028, 1.5891000032424927, 1.4443000555038452, 1.6850999593734741, 1.5678000450134277, 2.384399890899658, 1.8034000396728516, 0.885699987411499, 2.0051000118255615, 1.570199966430664, 0.8133999705314636, 1.4977999925613403, 1.708899974822998, 1.7547999620437622, 1.1904000043869019, 1.1505999565124512, 1.4944000244140625, 0.1632000058889389, 0.9797000288963318, 0.6965000033378601, 0.1031000018119812, 1.2496000528335571, 1.097599983215332, 0.5950000286102295, 2.9681999683380127, 2.9667000770568848, 2.960900068283081, 2.9560000896453857, 2.953700065612793, 2.953200101852417, 2.9521000385284424, 2.9511001110076904, 2.9495999813079834, 2.946500062942505, 2.94350004196167, 2.9426000118255615, 2.9423999786376953, 2.936300039291382, 2.9347000122070312, 2.9344000816345215, 2.9337000846862793, 2.9335999488830566, 2.932499885559082, 2.9314000606536865, 2.9274001121520996, 2.9267001152038574, 2.926500082015991, 2.926300048828125, 2.924299955368042, 2.922800064086914, 2.922499895095825, 2.9223999977111816, 2.9214999675750732, 2.9212000370025635, 2.9133999347686768, 2.7964000701904297, 2.7202999591827393, 2.6935999393463135, 2.86299991607666, 2.719899892807007, 2.8833999633789062, 2.8701999187469482, 2.77810001373291, 2.7358999252319336, 2.6447999477386475, 2.807499885559082, 2.5769999027252197, 2.659600019454956, 2.108099937438965, 2.6744000911712646, 2.0799999237060547, 2.532399892807007, 2.284899950027466, 2.620699882507324, 1.9910000562667847, 2.181299924850464, 2.3578999042510986, 2.2046000957489014, 0.9660999774932861, 2.4094998836517334, 2.545799970626831, 0.25459998846054077, 1.6029000282287598, 1.8869999647140503, 1.4574999809265137, 1.8860000371932983, 1.8902000188827515, 1.5819000005722046, 0.5501000285148621, 0.9588000178337097, 1.6576999425888062, 1.260599970817566, 1.0744999647140503, 0.892300009727478, 1.4020999670028687, 0.6452000141143799, 0.9907000064849854, 0.7940000295639038, 0.5835999846458435, 3.073899984359741, 3.0653998851776123, 3.063699960708618, 3.0615999698638916, 3.0601000785827637, 3.057499885559082, 3.0573999881744385, 3.0559000968933105, 3.0541999340057373, 3.053299903869629, 3.0522000789642334, 3.0518999099731445, 3.05049991607666, 3.05049991607666, 3.050100088119507, 3.0488998889923096, 3.0485000610351562, 3.0483999252319336, 3.047800064086914, 3.0473999977111816, 3.042799949645996, 3.040600061416626, 3.0404000282287598, 3.040299892425537, 3.039299964904785, 3.038800001144409, 3.0380001068115234, 3.037600040435791, 3.0357000827789307, 3.0304999351501465, 3.001499891281128, 2.983099937438965, 2.997499942779541, 2.9268999099731445, 2.9781999588012695, 2.9195001125335693, 2.8269999027252197, 2.69320011138916, 2.6982998847961426, 2.811199903488159, 2.745500087738037, 2.61899995803833, 2.356800079345703, 2.967099905014038, 2.468600034713745, 2.2616000175476074, 2.8159000873565674, 2.960099935531616, 2.5272998809814453, 1.9141000509262085, 2.3545000553131104, 2.576200008392334, 1.7562999725341797, 1.6150000095367432, 2.2881999015808105, 1.7447999715805054, 1.7304999828338623, 1.662500023841858, 1.8873000144958496, 1.7343000173568726, 1.5981999635696411, 2.338900089263916, 1.5787999629974365, 1.8174999952316284, 1.655900001525879, 0.6827999949455261, 0.1670999974012375, 0.6394000053405762, 1.3098000288009644, 1.9047000408172607, -0.04879999905824661, 0.580299973487854, 1.6983000040054321, 1.6512000560760498, -0.4198000133037567, 0.3765999972820282, 3.0966999530792236, 3.0880000591278076, 3.0866000652313232, 3.085599899291992, 3.0845999717712402, 3.081899881362915, 3.077199935913086, 3.0738000869750977, 3.0717999935150146, 3.0650999546051025, 3.060800075531006, 3.0601999759674072, 3.0585999488830566, 3.058500051498413, 3.057800054550171, 3.05430006980896, 3.053100109100342, 3.0518999099731445, 3.0518999099731445, 3.0510001182556152, 3.049799919128418, 3.047800064086914, 3.047499895095825, 3.046600103378296, 3.0450000762939453, 3.0413999557495117, 3.040299892425537, 3.04010009765625, 3.039900064468384, 3.039299964904785, 3.02620005607605, 2.971400022506714, 2.955699920654297, 2.91729998588562, 2.9776999950408936, 2.497499942779541, 2.8747000694274902, 2.7190001010894775, 2.366499900817871, 2.688699960708618, 2.877000093460083, 2.8519999980926514, 2.3833000659942627, 1.5735000371932983, 2.1530001163482666, 2.2035000324249268, 1.3773000240325928, 1.3140000104904175, 1.555899977684021, 1.7811000347137451, 2.3413000106811523, 1.917199969291687, 1.8509999513626099, 1.9127999544143677, 1.3252999782562256, 2.09060001373291, 1.3107999563217163, 1.070199966430664, 1.370300054550171, 1.7028000354766846, 0.885699987411499, 0.6456999778747559, 0.5105999708175659, 1.0228999853134155, -0.12880000472068787, -0.08299999684095383, -0.290800005197525, 0.8338000178337097, 1.2568000555038452, 0.9506000280380249, 0.7150999903678894, 1.1051000356674194, -0.5414999723434448, 3.612799882888794, 3.6066999435424805, 3.6057000160217285, 3.601900100708008, 3.599299907684326, 3.595400094985962, 3.5936999320983887, 3.5934998989105225, 3.592600107192993, 3.5876998901367188, 3.5871999263763428, 3.586899995803833, 3.583199977874756, 3.5827999114990234, 3.5708000659942627, 3.5673999786376953, 3.5666000843048096, 3.5643999576568604, 3.564300060272217, 3.564300060272217, 3.5641000270843506, 3.5629000663757324, 3.5625998973846436, 3.558199882507324, 3.5566000938415527, 3.55649995803833, 3.5560998916625977, 3.554800033569336, 3.553299903869629, 3.5532000064849854, 3.496799945831299, 3.495800018310547, 3.4858999252319336, 3.5139000415802, 3.510499954223633, 3.4630000591278076, 3.3956000804901123, 3.2046000957489014, 3.354300022125244, 3.328399896621704, 3.3125998973846436, 3.378700017929077, 3.1647000312805176, 2.8664000034332275, 2.4381000995635986, 2.166300058364868, 2.0088999271392822, 2.5162999629974365, 2.108099937438965, 2.5631000995635986, 2.5945000648498535, 1.754699945449829, 0.45339998602867126, 0.781499981880188, 2.038800001144409, 1.969499945640564, 2.2337000370025635, 1.5097999572753906, 2.615999937057495, 2.0910000801086426, 2.3268001079559326, -0.9377999901771545, 1.0485999584197998, 1.1360000371932983, 2.048799991607666, 0.7200000286102295, 1.0751999616622925, 2.0799999237060547, 1.3113000392913818, 1.3946000337600708, -0.9254999756813049, 0.7699999809265137, 3.8206000328063965, 3.816999912261963, 3.811199903488159, 3.8101999759674072, 3.8080999851226807, 3.803299903869629, 3.8001999855041504, 3.791800022125244, 3.79010009765625, 3.7797000408172607, 3.777400016784668, 3.776900053024292, 3.776400089263916, 3.7748000621795654, 3.7727999687194824, 3.768899917602539, 3.7665998935699463, 3.761199951171875, 3.7606000900268555, 3.7606000900268555, 3.7578001022338867, 3.7578001022338867, 3.7578001022338867, 3.7578001022338867, 3.7578001022338867, 3.7578001022338867, 3.7572999000549316, 3.75, 3.7434000968933105, 3.740799903869629, 3.719399929046631, 3.669100046157837, 3.678800106048584, 3.652400016784668, 3.6705000400543213, 3.5397000312805176, 3.411600112915039, 3.3847999572753906, 3.4532999992370605, 3.5260000228881836, 3.499000072479248, 3.2202999591827393, 3.324199914932251, 3.048099994659424, 3.230600118637085, 3.1875, 3.4024999141693115, 2.362600088119507, 3.117000102996826, 1.993499994277954, 2.351099967956543, 2.283900022506714, 1.6390999555587769, 2.0427000522613525, 2.3680999279022217, 0.6703000068664551, 1.6670000553131104, 1.0470999479293823, 1.5378999710083008, -0.30160000920295715, 3.9367001056671143, 3.934799909591675, 3.933799982070923, 3.929500102996826, 3.916800022125244, 3.908400058746338, 3.9024999141693115, 3.8982999324798584, 3.894200086593628, 3.8921000957489014, 3.8889999389648438, 3.8845999240875244, 3.8835999965667725, 3.88070011138916, 3.88070011138916, 3.88070011138916, 3.88070011138916, 3.88070011138916, 3.88070011138916, 3.88070011138916, 3.88070011138916, 3.88070011138916, 3.88070011138916, 3.88070011138916, 3.88070011138916, 3.8654000759124756, 3.858099937438965, 3.8554000854492188, 3.843400001525879, 3.8427000045776367, 3.822000026702881, 3.7318999767303467, 3.7932000160217285, 3.772700071334839, 3.7627999782562256, 3.7056000232696533, 3.5327999591827393, 3.5464000701904297, 3.6005001068115234, 3.6345999240875244, 3.5559000968933105, 3.397700071334839, 2.9270999431610107, 3.132999897003174, 2.890899896621704, 3.1552999019622803, 3.519700050354004, 3.4235999584198, 3.219899892807007, 3.170099973678589, 3.191800117492676, 3.323499917984009, 2.9858999252319336, 1.7705999612808228, 2.8996999263763428, 2.5243000984191895, 2.885200023651123, 2.781399965286255, 2.3225998878479004, 2.2460999488830566, 0.25450000166893005, -0.1120000034570694, 0.6100000143051147, 3.9974000453948975, 3.9895999431610107, 3.9876999855041504, 3.9781999588012695, 3.9758999347686768, 3.9749999046325684, 3.973400115966797, 3.971400022506714, 3.961199998855591, 3.960099935531616, 3.9593000411987305, 3.958899974822998, 3.9584999084472656, 3.957200050354004, 3.9560000896453857, 3.955199956893921, 3.9535999298095703, 3.9509999752044678, 3.950900077819824, 3.9505999088287354, 3.9489998817443848, 3.9484000205993652, 3.94350004196167, 3.943000078201294, 3.9414000511169434, 3.9414000511169434, 3.9414000511169434, 3.939199924468994, 3.937700033187866, 3.9374001026153564, 3.9021999835968018, 3.88700008392334, 3.8731000423431396, 3.5415000915527344, 3.5416998863220215, 3.6019999980926514, 3.6328001022338867, 3.106300115585327, 3.5118000507354736, 3.5176000595092773, 3.1350998878479004, 3.4463000297546387, 3.013200044631958, 3.0552000999450684, 3.0520999431610107, 3.308199882507324, 3.1194000244140625, 2.062999963760376, 2.5608999729156494, 2.8664000034332275, 3.048799991607666, 2.0977001190185547, 2.048799991607666, 3.0508999824523926, 2.5731000900268555, 2.259500026702881, 1.7461999654769897, 0.6496000289916992, 1.9493000507354736, 2.6810998916625977, 2.305299997329712, 1.1523000001907349, 2.273099899291992, 0.7150999903678894, 1.541599988937378, 2.077699899673462, 2.0146000385284424, 1.3873000144958496, 4.020999908447266, 4.015100002288818, 4.009799957275391, 4.009399890899658, 4.005899906158447, 4.003200054168701, 4.0019001960754395, 3.998500108718872, 3.9974000453948975, 3.9960999488830566, 3.9895999431610107, 3.989300012588501, 3.9862000942230225, 3.9842000007629395, 3.9830000400543213, 3.9814000129699707, 3.9809000492095947, 3.980299949645996, 3.978800058364868, 3.9721999168395996, 3.9690001010894775, 3.9679999351501465, 3.9677999019622803, 3.9672999382019043, 3.96589994430542, 3.9647998809814453, 3.9626998901367188, 3.960900068283081, 3.9595999717712402, 3.959399938583374, 3.940200090408325, 3.8652000427246094, 3.8805999755859375, 3.920300006866455, 3.6928000450134277, 3.594399929046631, 3.6814000606536865, 3.7399001121520996, 3.756999969482422, 3.6638998985290527, 3.660799980163574, 3.677999973297119, 3.559000015258789, 3.649399995803833, 3.767199993133545, 3.52239990234375, 3.6094000339508057, 3.0653998851776123, 2.97160005569458, 2.379699945449829, 3.1989998817443848, 2.9995999336242676, 2.6168999671936035, 3.5151000022888184, 1.7996000051498413, 2.2725000381469727, 0.6624000072479248, 1.2489999532699585, 1.5185999870300293, 1.71589994430542, 1.6308000087738037, 2.4744999408721924, 4.139200210571289, 4.125, 4.122300148010254, 4.109899997711182, 4.103600025177002, 4.099100112915039, 4.093599796295166, 4.092599868774414, 4.091400146484375, 4.091400146484375, 4.089399814605713, 4.089200019836426, 4.087200164794922, 4.086299896240234, 4.08489990234375, 4.084700107574463, 4.082600116729736, 4.082099914550781, 4.080999851226807, 4.0802001953125, 4.079500198364258, 4.07919979095459, 4.0777997970581055, 4.077700138092041, 4.077600002288818, 4.07480001449585, 4.07480001449585, 4.07480001449585, 4.07480001449585, 4.07480001449585, 3.9342000484466553, 3.9672999382019043, 4.047599792480469, 4.00570011138916, 4.002099990844727, 3.989500045776367, 3.9042999744415283, 3.652100086212158, 3.7400999069213867, 3.740000009536743, 3.9677999019622803, 3.6456000804901123, 3.3289999961853027, 3.828700065612793, 3.6956000328063965, 3.257200002670288, 3.2535998821258545, 3.0546998977661133, 2.8594000339508057, 2.244999885559082, 3.3701999187469482, 2.602099895477295, 3.322000026702881, 2.111599922180176, 1.5878000259399414, 2.7725000381469727, 1.4313000440597534, 0.635200023651123, 1.6866999864578247, 1.0638999938964844, -0.48910000920295715, 1.579300045967102, 1.6608999967575073, 0.4641999900341034, 0.9147999882698059, 4.719099998474121, 4.718200206756592, 4.7052998542785645, 4.703400135040283, 4.69290018081665, 4.69189977645874, 4.690800189971924, 4.685500144958496, 4.684000015258789, 4.6834001541137695, 4.683300018310547, 4.682700157165527, 4.68179988861084, 4.680799961090088, 4.680300235748291, 4.678599834442139, 4.677299976348877, 4.6717000007629395, 4.6682000160217285, 4.6682000160217285, 4.667900085449219, 4.660600185394287, 4.650599956512451, 4.639800071716309, 4.639400005340576, 4.638400077819824, 4.636499881744385, 4.633699893951416, 4.630799770355225, 4.624300003051758, 4.321000099182129, 4.3292999267578125, 4.207799911499023, 4.215199947357178, 4.2505998611450195, 4.100800037384033, 4.224899768829346, 4.515500068664551, 2.919300079345703, 3.705699920654297, 3.651099920272827, 3.68530011177063, 3.573499917984009, 2.910399913787842, 3.042799949645996, 3.7952001094818115, 3.760499954223633, 3.370500087738037, 2.947700023651123, 1.9851000308990479, 2.27839994430542, 2.809299945831299, 2.8101999759674072, 3.038300037384033, 2.2665998935699463, 2.847599983215332, 0.5422000288963318, 5.171500205993652, 5.1691999435424805, 5.163400173187256, 5.148600101470947, 5.1442999839782715, 5.129199981689453, 5.121600151062012, 5.1128997802734375, 5.111100196838379, 5.099899768829346, 5.095799922943115, 5.0879998207092285, 5.084000110626221, 5.0777997970581055, 5.077400207519531, 5.075799942016602, 5.075699806213379, 5.063399791717529, 5.054999828338623, 5.048600196838379, 5.047900199890137, 5.037199974060059, 5.015500068664551, 5.013599872589111, 5.012899875640869, 5.012800216674805, 5.008999824523926, 4.992599964141846, 4.980800151824951, 4.980800151824951, 4.9197998046875, 4.833399772644043, 4.7368998527526855, 4.242099761962891, 3.908099889755249, 4.105100154876709, 4.02400016784668, 3.5302999019622803, 3.603600025177002, 4.226900100708008, 3.441699981689453, 3.6933999061584473, 2.44350004196167, 4.083799839019775, 2.7446000576019287, 3.672100067138672, 3.614000082015991, 2.338599920272827, 2.2023000717163086, 1.683899998664856, 1.6643999814987183, 2.071199893951416, 1.2425999641418457, 2.7369000911712646, 2.8169000148773193, 2.544100046157837, 5.304500102996826, 5.298699855804443, 5.295199871063232, 5.294099807739258, 5.290999889373779, 5.289700031280518, 5.28410005569458, 5.28410005569458, 5.273399829864502, 5.2733001708984375, 5.272900104522705, 5.265699863433838, 5.26200008392334, 5.258200168609619, 5.258200168609619, 5.257400035858154, 5.255099773406982, 5.254000186920166, 5.252299785614014, 5.2519001960754395, 5.251299858093262, 5.250199794769287, 5.247499942779541, 5.238399982452393, 5.236800193786621, 5.218599796295166, 5.216800212860107, 5.213399887084961, 5.197199821472168, 5.193600177764893, 5.184000015258789, 5.160299777984619, 5.127999782562256, 5.1371002197265625, 4.84060001373291, 4.8491997718811035, 4.739099979400635, 4.851399898529053, 3.80049991607666, 2.805500030517578, 4.633900165557861, 4.383699893951416, 3.1284000873565674, 4.659999847412109, 2.7874999046325684, 4.500899791717529, 3.9052999019622803, 5.377999782562256, 5.363800048828125, 5.359000205993652, 5.350900173187256, 5.347799777984619, 5.347799777984619, 5.347799777984619, 5.347799777984619, 5.327099800109863, 5.327000141143799, 5.32289981842041, 5.321400165557861, 5.321300029754639, 5.31850004196167, 5.314300060272217, 5.3130998611450195, 5.312699794769287, 5.3094000816345215, 5.307700157165527, 5.303299903869629, 5.301599979400635, 5.301599979400635, 5.301599979400635, 5.301599979400635, 5.301599979400635, 5.301599979400635, 5.301599979400635, 5.293000221252441, 5.265399932861328, 5.2555999755859375, 5.149099826812744, 4.718500137329102, 4.693699836730957, 3.7499001026153564, 4.326399803161621, 4.731400012969971, 3.3575000762939453, 3.6214001178741455, 4.643199920654297, 3.076900005340576, 3.6407999992370605, 4.2399001121521, 1.8733999729156494, 3.238800048828125, 2.6034998893737793, 2.200700044631958, 3.009399890899658, 1.7395999431610107, 3.3977999687194824, 2.3169000148773193, 3.507699966430664, 5.7993998527526855, 5.780900001525879, 5.758500099182129, 5.754899978637695, 5.744900226593018, 5.744500160217285, 5.741600036621094, 5.734300136566162, 5.73199987411499, 5.706200122833252, 5.7052001953125, 5.698299884796143, 5.689599990844727, 5.675000190734863, 5.651700019836426, 5.637499809265137, 5.636300086975098, 5.627099990844727, 5.625, 5.618899822235107, 5.618899822235107, 5.618299961090088, 5.612500190734863, 5.599599838256836, 5.598299980163574, 5.59660005569458, 5.594900131225586, 5.589399814605713, 5.585999965667725, 5.5802001953125, 5.43720006942749, 5.1072998046875, 4.858500003814697, 4.730899810791016, 3.9690001010894775, 4.6290998458862305, 2.7446000576019287, 4.733699798583984, 2.414299964904785, 2.5594000816345215, 1.2071000337600708, 3.7372000217437744, 2.464099884033203, 6.021900177001953, 6.0167999267578125, 5.987199783325195, 5.981599807739258, 5.978799819946289, 5.9730000495910645, 5.9730000495910645, 5.9730000495910645, 5.9730000495910645, 5.972099781036377, 5.97160005569458, 5.968699932098389, 5.968699932098389, 5.966300010681152, 5.965400218963623, 5.951399803161621, 5.940100193023682, 5.900400161743164, 5.887800216674805, 5.879700183868408, 5.878799915313721, 5.878600120544434, 5.873199939727783, 5.86959981918335, 5.85860013961792, 5.858399868011475, 5.846399784088135, 5.829800128936768, 5.8196001052856445, 5.814899921417236, 5.205599784851074, 5.587200164794922, 4.80019998550415, 4.683700084686279, 1.4879000186920166, 3.20740008354187]}, \"token.table\": {\"Topic\": [6, 10, 7, 15, 2, 6, 20, 2, 7, 2, 6, 12, 13, 1, 2, 3, 4, 5, 6, 7, 13, 1, 2, 4, 5, 6, 9, 14, 16, 5, 2, 19, 1, 4, 17, 17, 1, 2, 3, 4, 5, 7, 8, 9, 16, 1, 8, 10, 13, 2, 1, 2, 3, 6, 7, 9, 10, 16, 18, 3, 9, 11, 16, 10, 13, 6, 1, 3, 4, 8, 4, 20, 17, 1, 2, 4, 8, 13, 1, 2, 3, 4, 5, 6, 8, 9, 14, 9, 5, 14, 14, 2, 16, 12, 1, 3, 4, 5, 7, 14, 1, 1, 2, 5, 6, 8, 12, 13, 1, 3, 5, 6, 7, 14, 15, 1, 10, 1, 4, 6, 9, 11, 12, 13, 15, 16, 18, 10, 17, 1, 6, 13, 1, 1, 4, 9, 10, 11, 1, 2, 3, 3, 4, 1, 4, 7, 14, 3, 10, 1, 2, 3, 4, 5, 7, 12, 14, 10, 13, 1, 1, 5, 1, 18, 9, 18, 1, 2, 4, 5, 12, 20, 1, 2, 6, 7, 8, 10, 2, 9, 6, 5, 8, 3, 10, 6, 12, 17, 2, 10, 11, 19, 1, 3, 4, 7, 14, 11, 7, 19, 3, 7, 18, 9, 18, 3, 7, 1, 2, 3, 7, 8, 2, 3, 4, 7, 8, 12, 12, 1, 2, 4, 5, 6, 8, 12, 12, 3, 1, 2, 3, 4, 8, 3, 12, 14, 20, 2, 3, 8, 10, 11, 13, 18, 2, 19, 1, 2, 3, 4, 5, 7, 8, 14, 1, 2, 3, 4, 5, 7, 8, 14, 19, 2, 7, 8, 16, 17, 19, 4, 15, 11, 1, 2, 3, 4, 6, 7, 8, 14, 15, 16, 5, 7, 2, 3, 8, 15, 1, 2, 4, 6, 7, 9, 12, 14, 6, 1, 2, 7, 8, 11, 13, 3, 9, 4, 1, 2, 3, 4, 6, 7, 9, 10, 1, 3, 8, 1, 2, 4, 5, 7, 8, 15, 16, 10, 1, 12, 7, 8, 9, 16, 20, 2, 3, 4, 8, 9, 4, 17, 3, 18, 18, 1, 3, 7, 8, 14, 18, 15, 1, 2, 3, 4, 7, 8, 9, 10, 11, 12, 13, 11, 15, 18, 1, 20, 15, 3, 6, 7, 13, 18, 11, 12, 13, 4, 18, 14, 13, 1, 2, 3, 4, 8, 10, 15, 15, 1, 2, 3, 4, 5, 7, 8, 10, 1, 2, 3, 4, 6, 9, 10, 11, 1, 1, 2, 3, 4, 5, 6, 7, 8, 10, 13, 14, 14, 6, 1, 18, 16, 6, 9, 19, 15, 1, 2, 3, 4, 5, 6, 7, 8, 10, 11, 12, 13, 1, 2, 4, 8, 12, 1, 6, 1, 2, 3, 5, 6, 11, 13, 1, 18, 1, 8, 10, 4, 7, 1, 4, 16, 5, 1, 3, 4, 7, 8, 1, 2, 3, 4, 7, 14, 18, 1, 2, 5, 6, 8, 10, 10, 1, 2, 20, 5, 15, 16, 12, 6, 12, 19, 1, 2, 3, 6, 10, 12, 13, 2, 3, 4, 6, 7, 16, 3, 11, 6, 14, 8, 15, 1, 2, 3, 4, 7, 8, 1, 2, 7, 18, 1, 3, 7, 14, 4, 17, 14, 9, 2, 3, 6, 9, 10, 13, 18, 4, 1, 4, 6, 7, 9, 12, 13, 14, 15, 18, 19, 1, 2, 3, 4, 5, 6, 8, 9, 12, 13, 14, 6, 1, 3, 1, 2, 5, 8, 14, 1, 2, 4, 6, 8, 9, 12, 2, 1, 2, 3, 7, 8, 9, 11, 14, 20, 9, 2, 9, 11, 15, 3, 3, 9, 1, 2, 3, 4, 5, 7, 16, 1, 1, 6, 13, 6, 16, 9, 20, 2, 3, 5, 7, 8, 13, 14, 1, 2, 4, 5, 6, 8, 1, 2, 3, 5, 6, 7, 8, 14, 14, 9, 13, 11, 13, 11, 19, 8, 1, 2, 7, 13, 19, 2, 3, 6, 8, 9, 13, 19, 1, 2, 3, 4, 7, 8, 10, 14, 1, 2, 3, 4, 5, 6, 7, 8, 9, 11, 12, 13, 2, 10, 13, 13, 2, 3, 7, 8, 11, 10, 2, 6, 13, 2, 6, 19, 1, 2, 4, 12, 19, 14, 1, 3, 6, 9, 12, 10, 7, 11, 2, 8, 10, 1, 5, 7, 10, 1, 3, 4, 7, 14, 14, 13, 3, 1, 1, 3, 5, 7, 9, 14, 1, 6, 9, 11, 12, 13, 16, 8, 10, 8, 1, 2, 3, 4, 5, 7, 8, 14, 15, 1, 5, 6, 12, 12, 10, 5, 1, 3, 10, 13, 17, 1, 2, 4, 9, 11, 8, 16, 2, 1, 2, 4, 5, 9, 2, 16, 5, 12, 1, 10, 1, 4, 7, 15, 16, 5, 2, 3, 5, 7, 8, 14, 11, 12, 4, 6, 11, 12, 1, 2, 5, 6, 8, 12, 17, 6, 1, 8, 9, 10, 8, 2, 8, 9, 10, 16, 2, 3, 14, 14, 20, 1, 1, 2, 3, 6, 7, 8, 11, 4, 18, 1, 18, 6, 1, 2, 3, 8, 11, 1, 3, 7, 9, 3, 7, 2, 5, 6, 9, 1, 2, 3, 4, 6, 1, 2, 3, 4, 7, 8, 4, 17, 11, 10, 18, 9, 1, 2, 6, 9, 11, 1, 2, 4, 5, 6, 7, 13, 16, 18, 1, 2, 3, 4, 5, 7, 9, 14, 20, 5, 19, 1, 2, 5, 5, 1, 11, 13, 11, 13, 1, 2, 3, 4, 5, 7, 2, 11, 15, 11, 1, 2, 4, 5, 6, 7, 9, 11, 18, 6, 4, 6, 9, 17, 18, 8, 16, 18, 1, 2, 3, 5, 8, 9, 12, 13, 14, 1, 2, 6, 10, 12, 13, 16, 1, 2, 3, 8, 10, 1, 2, 3, 4, 5, 6, 7, 8, 9, 11, 12, 13, 14, 15, 9, 11, 1, 4, 7, 15, 8, 20, 1, 2, 5, 2, 15, 16, 1, 2, 3, 4, 5, 6, 7, 8, 1, 1, 2, 3, 4, 5, 6, 7, 8, 14, 1, 2, 3, 4, 5, 6, 7, 8, 9, 12, 13, 14, 17, 1, 2, 3, 6, 8, 9, 10, 14, 15, 1, 2, 3, 4, 7, 8, 14, 15, 1, 2, 6, 8, 9, 10, 17, 1, 1, 6, 1, 6, 12, 13, 6, 8, 17, 14, 1, 2, 4, 5, 6, 8, 2, 11, 13, 16, 1, 3, 4, 7, 2, 1, 4, 5, 7, 15, 18, 2, 1, 8, 17, 12, 12, 1, 2, 4, 5, 6, 12, 1, 2, 3, 4, 7, 9, 15, 1, 2, 4, 5, 7, 8, 9, 10, 8, 1, 2, 4, 8, 12, 19, 1, 2, 3, 4, 5, 7, 8, 12, 18, 4, 9, 18, 13, 17, 18, 1, 2, 3, 4, 5, 8, 9, 14, 12, 1, 2, 3, 4, 5, 7, 8, 14, 14, 17, 20, 1, 2, 3, 4, 5, 9, 15, 15, 1, 2, 3, 4, 5, 7, 9, 14, 2, 1, 7, 20, 1, 6, 11, 12, 6, 1, 4, 18, 1, 2, 4, 6, 9, 18, 14, 16, 2, 5, 14, 2, 17, 1, 2, 3, 4, 5, 7, 14, 1, 2, 3, 5, 8, 1, 2, 4, 5, 6, 7, 9, 12, 18, 6, 9, 11, 13, 19, 3, 7, 16, 20, 2, 4, 7, 17, 2, 20, 3, 1, 2, 3, 4, 5, 6, 7, 9, 12, 13, 14, 17, 3, 8, 1, 2, 3, 4, 5, 7, 8, 1, 2, 3, 4, 7, 15, 4, 1, 2, 3, 7, 8, 4, 7, 17, 1, 2, 3, 5, 6, 7, 8, 9, 12, 17, 5, 20, 2, 1, 2, 4, 5, 6, 13, 1, 2, 3, 4, 5, 7, 8, 11, 14, 17, 1, 2, 4, 6, 8, 9, 10, 15, 16, 10, 1, 2, 3, 8, 1, 2, 3, 4, 6, 7, 8, 10, 11, 13, 7, 19, 16, 5, 7, 11, 1, 2, 3, 6, 8, 9, 20, 2, 3, 8, 1, 2, 3, 6, 7, 8, 9, 10, 18, 13, 3, 3, 16, 2, 3, 4, 7, 8, 9, 11, 14, 15, 2, 3, 7, 8, 10, 1, 9, 1, 7, 17, 3, 8, 1, 5, 18, 11, 9, 1, 8, 10, 1, 3, 8, 9, 1, 2, 3, 4, 5, 6, 7, 8, 11, 12, 6, 19, 6, 3, 4, 5, 7, 9, 2, 4, 7, 5, 14, 10, 1, 2, 3, 9, 10, 11, 13, 12, 17, 5, 20, 12, 1, 8, 3, 2, 7, 14, 18, 1, 4, 5, 6, 9, 13, 2, 17, 7, 2, 10, 16, 5, 1, 2, 4, 5, 7, 9, 14, 1, 2, 3, 4, 5, 6, 9, 11, 12, 14, 11, 12, 13, 14, 12, 7, 13, 17, 3, 14, 1, 3, 6, 19, 4, 15, 16, 1, 2, 3, 4, 5, 6, 8, 11, 12, 16, 10, 13, 6, 7, 1, 1, 2, 3, 4, 7, 8, 9, 10, 11, 3, 6, 12, 6, 12, 13, 1, 5, 10, 13, 14, 20, 18, 7, 11, 2, 3, 6, 8, 10, 1, 2, 8, 17, 7, 2, 19, 9, 11, 9, 2, 4, 5, 6, 9, 12, 17, 3, 20, 2, 3, 4, 5, 6, 8, 9, 10, 11, 13, 13, 10, 11, 13, 5, 1, 2, 3, 5, 6, 7, 18, 1, 2, 4, 5, 6, 7, 8, 11, 12, 16, 19, 1, 2, 3, 4, 5, 8, 9, 10, 1, 2, 3, 4, 10, 4, 7, 8, 15, 4, 7, 15, 7, 14, 14, 5, 13, 2, 3, 4, 8, 10, 9, 14, 17, 2, 4, 1, 2, 3, 4, 5, 6, 7, 8, 9, 15, 1, 2, 3, 4, 5, 6, 7, 8, 11, 14, 1, 2, 3, 4, 5, 8, 14, 1, 4, 1, 10, 2, 4, 9, 15, 1, 4, 14, 16, 17, 1, 2, 4, 6, 9, 12, 13, 18, 1, 2, 3, 4, 5, 6, 8, 9, 10, 13, 11, 14, 11, 9, 5, 8, 1, 9, 11, 11, 4, 9, 14, 1, 8, 9, 10, 1, 8, 1, 4, 5, 6, 9, 4, 1, 2, 12, 14, 18, 1, 2, 3, 13, 18, 11, 20, 1, 9, 15, 1, 2, 6, 9, 12, 13, 1, 3, 14, 1, 2, 3, 7, 9, 11, 14, 14, 7, 1, 2, 4, 6, 8, 9, 12, 13, 16, 11, 1, 2, 3, 5, 6, 8, 12, 14, 14, 4, 6, 19, 13, 16, 9, 7, 1, 2, 3, 4, 5, 6, 7, 8, 12, 13, 15, 16, 1, 4, 6, 11, 12, 1, 2, 3, 4, 5, 7, 8, 14, 12, 1, 2, 4, 5, 1, 2, 3, 4, 5, 8, 10, 1, 7, 12, 17, 1, 2, 3, 4, 6, 7, 14, 18, 12, 20, 2, 3, 7, 8, 10, 1, 2, 3, 4, 8, 9, 10, 11, 1, 2, 3, 4, 7, 8, 10, 11, 13, 14, 15, 18, 2, 3, 7, 8, 13, 16, 12, 10, 17, 1, 2, 8, 10, 4, 1, 2, 4, 4, 6, 7, 15, 8, 1, 2, 3, 4, 5, 6, 7, 8, 12, 6, 10, 2, 6, 13, 1, 4, 7, 15, 11, 1, 20, 1, 20, 20, 1, 2, 6, 13, 6, 9, 1, 2, 4, 5, 6, 7, 19, 5, 3, 4, 1, 2, 3, 5, 7, 8, 3, 7, 4, 6, 1, 3, 7, 1, 2, 3, 4, 5, 6, 7, 8, 11, 12, 13, 14, 19, 14, 2, 1, 2, 3, 4, 6, 7, 9, 11, 14, 18, 19, 20, 1, 3, 11, 14, 3, 6, 7, 8, 11, 18, 4, 18, 1, 14, 13, 1, 2, 3, 4, 5, 8, 14, 7, 11, 19, 5, 1, 2, 3, 4, 5, 11, 9, 1, 3, 4, 14, 1, 2, 3, 4, 5, 6, 7, 10, 11, 13, 14, 18, 12, 12, 13, 14, 1, 7, 17, 6, 18, 1, 2, 4, 5, 6, 9, 12, 20, 2, 1, 5, 6, 5, 19, 2, 2, 4, 8, 18, 8, 12, 2, 3, 5, 8, 10, 10, 1, 2, 3, 4, 5, 6, 7, 8, 9, 11, 12, 18, 9, 19, 20, 1, 8, 9, 10, 1, 2, 3, 5, 6, 9, 13, 18, 2, 5, 8, 17, 14, 1, 2, 3, 10, 11, 5, 13, 1, 2, 3, 4, 5, 6, 7, 8, 9, 11, 12, 14, 1, 6, 9, 11, 19, 15, 1, 2, 3, 4, 5, 6, 8, 14, 1, 3, 4, 5, 12, 2, 9, 1, 2, 4, 6, 9, 12, 2, 3, 7, 8, 14, 1, 2, 3, 6, 7, 14, 18, 4, 1, 3, 14, 1, 2, 3, 4, 6, 7, 8, 14, 18, 2, 15, 1, 2, 3, 4, 5, 6, 7, 8, 9, 12, 13, 14, 1, 3, 5, 7, 15, 4, 20, 1, 4, 7, 1, 2, 3, 4, 5, 6, 7, 8, 9, 10, 12, 13, 14, 10, 6, 10, 13, 6, 11, 12, 13, 11, 1, 4, 13, 4, 1, 2, 3, 4, 5, 6, 7, 8, 9, 11, 13, 17, 20, 2, 1, 2, 3, 4, 5, 6, 7, 8, 12, 14, 2, 7, 10, 2, 4, 7, 8, 15, 1, 2, 4, 5, 6, 7, 9, 11, 13, 13, 5, 1, 7, 11, 6, 8, 10, 10, 16, 2, 13, 14, 15, 14, 1, 11, 4, 2, 6, 13, 8, 13, 14, 1, 6, 9, 13, 13, 1, 2, 3, 4, 5, 6, 8, 11, 12, 2, 6, 13, 1, 14, 2, 4, 6, 7, 9, 11, 15, 9, 3, 4, 7, 11, 15, 6, 1, 2, 1, 19, 15, 15, 9, 7, 1, 4, 17, 7, 12, 15, 2, 1, 2, 3, 4, 7, 9, 11, 1, 3, 4, 5, 7, 12, 14, 16, 16, 1, 2, 3, 4, 5, 6, 7, 8, 11, 12, 13, 14, 6, 11, 1, 2, 4, 6, 9, 12, 6, 12, 2, 13, 4, 5, 6, 8, 10, 13, 13, 14, 1, 6, 13, 20, 1, 4, 6, 7, 9, 11, 14, 13, 3, 1, 4, 5, 7, 15, 1, 1, 2, 4, 6, 1, 2, 3, 4, 5, 6, 7, 8, 9, 11, 12, 14, 20, 1, 2, 3, 4, 6, 12, 1, 4, 8, 12, 17, 8, 17, 17, 19, 12, 3, 12, 9, 16, 13, 7, 6, 13, 15, 9, 1, 3, 5, 7, 1, 2, 13, 1, 2, 3, 5, 8, 10, 5, 1, 4, 6, 9, 11, 16, 18, 9, 16, 19, 1, 2, 3, 4, 5, 8, 18, 1, 2, 4, 5, 6, 8, 11, 14, 2, 3, 14, 1, 2, 4, 5, 6, 7, 9, 13, 14, 15, 16, 18, 10, 1, 4, 1, 2, 3, 7, 15, 6, 2, 3, 6, 7, 8, 10, 13, 14, 1, 2, 3, 7, 8, 13, 1, 2, 7, 8, 19, 1, 15, 2, 3, 4, 6, 7, 8, 11, 13, 2, 8, 8, 1, 2, 4, 5, 6, 8, 11, 12, 13, 14, 19, 4, 5, 17, 18, 3, 8, 9, 10, 11, 7, 11, 20, 19, 2, 8, 9, 11, 2, 5, 4, 9, 3, 14, 2, 3, 4, 6, 9, 10, 11, 1, 4, 6, 9, 16, 18, 6, 14, 16, 2, 17, 5, 5, 14, 1, 2, 3, 4, 5, 3, 14, 18, 17, 16, 1, 2, 4, 5, 7, 8, 13, 14, 15, 17, 1, 3, 6, 7, 8, 13, 17, 6, 9, 1, 1, 6, 9, 18, 3, 5, 7, 18, 1, 2, 3, 4, 5, 6, 7, 8, 10, 1, 3, 5, 7, 17, 8, 7, 18, 1, 2, 4, 7, 14, 17, 1, 2, 3, 7, 8, 5, 3, 5, 14, 2, 2, 3, 8, 1, 2, 3, 4, 5, 8, 13, 6, 12, 13, 14, 1, 2, 3, 7, 8, 15, 16, 11, 8, 18, 19, 8, 8, 14, 13, 1, 3, 4, 7, 14, 3, 1, 7, 17, 13, 1, 2, 4, 6, 9, 20, 9, 9, 18, 1, 8, 2, 6, 8, 10, 1, 3, 4, 8, 17, 1, 2, 4, 6, 9, 12, 13, 16, 1, 4, 14, 2, 4, 8, 7, 3, 4, 8, 1, 3, 9, 18, 1, 14, 3, 7, 14, 8, 11, 1, 2, 4, 5, 6, 8, 9, 10, 13, 6, 9, 13, 19, 1, 2, 3, 9, 12, 10, 16, 1, 4, 7, 11, 15, 1, 2, 3, 6, 7, 8, 10, 12, 13, 14, 1, 2, 4, 5, 9, 12, 15, 2, 4, 5, 8, 11, 16, 1, 2, 3, 18, 7, 1, 2, 6, 9, 16, 20, 2, 3, 6, 9, 10, 13, 18, 8, 1, 2, 4, 6, 7, 8, 9, 13, 14, 16, 18, 5, 1, 4, 5, 7, 9, 12, 1, 3, 4, 8, 12, 1, 4, 12, 17, 4, 12, 10, 1, 2, 3, 4, 5, 7, 9, 4, 7, 15, 16, 2, 6, 19, 1, 2, 4, 6, 8, 9, 10, 11, 12, 13, 13, 3, 6, 9, 4, 17, 5, 3, 14, 7, 10, 1, 2, 8, 16, 1, 2, 4, 6, 9, 10, 13, 14, 16, 19, 17, 1, 2, 3, 4, 5, 7, 8, 14, 15, 9, 11, 3, 6, 9, 10, 1, 2, 3, 4, 6, 9, 11, 12, 13, 14, 11, 2, 4, 5, 7, 9, 14, 17, 2, 8, 12, 2, 5, 7, 12, 17, 1, 2, 5, 6, 7, 8, 16, 1, 5, 6, 7, 4, 16, 16, 1, 2, 3, 5, 8, 14, 14, 1, 4, 8, 12, 5, 19, 7, 1, 2, 3, 4, 5, 6, 7, 8, 9, 11, 12, 19, 15, 19, 19, 20, 1, 3, 4, 5, 8, 12, 17, 8, 1, 8, 10, 17, 1, 2, 3, 4, 5, 6, 7, 8, 9, 10, 11, 14, 8, 5, 3, 14, 6, 1, 8, 2, 3, 4, 5, 7, 1, 3, 4, 7, 7, 8, 1, 2, 3, 4, 6, 7, 8, 9, 10, 12, 14, 1, 2, 5, 6, 7, 8, 2, 3, 7, 8, 17, 2, 3, 7, 8, 1, 2, 4, 5, 6, 9, 12, 14, 2, 3, 8, 14, 11, 11, 2, 4, 7, 9, 11, 15, 1, 4, 5, 6, 18, 12, 1, 3, 8, 11, 2, 5, 13, 9, 2, 3, 8, 1, 2, 3, 4, 5, 8, 9, 12, 6, 12, 1, 2, 3, 4, 6, 8, 12, 12, 1, 2, 4, 6, 7, 12, 2, 5, 7, 5, 2, 3, 6, 11, 13, 18, 5, 3, 4, 8, 13, 1, 2, 3, 4, 5, 6, 7, 11, 12, 14, 16, 1, 2, 4, 9, 12, 14, 2, 3, 8, 5, 1, 2, 3, 4, 5, 14, 1, 2, 3, 4, 5, 11, 12, 1, 17, 16, 1, 2, 6, 8, 13, 2, 4, 7, 12, 13, 14, 19, 4, 12, 18, 3, 6, 13, 10, 16, 10, 2, 5, 6, 7, 3, 14, 16, 7, 9, 6, 14, 1, 5, 9, 11, 19, 5, 7, 7, 1, 2, 3, 4, 6, 7, 12, 14, 15, 19, 2, 4, 7, 8, 15, 16, 1, 2, 3, 4, 5, 6, 7, 8, 12, 4, 7, 3, 8, 1, 2, 3, 4, 7, 8, 11, 14, 15, 2, 3, 4, 7, 8, 1, 2, 4, 7, 15, 4, 19, 17, 6, 9, 1, 8, 10, 19, 1, 2, 1, 3, 7, 1, 2, 1, 2, 3, 4, 5, 6, 7, 8, 9, 10, 11, 13, 5, 1, 2, 3, 4, 5, 6, 7, 8, 13, 1, 2, 3, 4, 5, 6, 7, 8, 9, 11, 14, 2, 6, 11, 13, 13, 4, 7, 15, 2, 6, 11, 2, 6, 1, 2, 3, 4, 6, 7, 9, 12, 1, 2, 6, 11, 12, 3, 1, 2, 3, 4, 6, 7, 8, 9, 10, 11, 12, 13, 16, 9, 15], \"Freq\": [0.2684151530265808, 0.7235538959503174, 0.91325843334198, 0.08154093474149704, 0.9739545583724976, 0.9637750387191772, 0.8874320387840271, 0.9817022681236267, 0.010443640872836113, 0.02938973717391491, 0.10286407917737961, 0.16164356470108032, 0.6906588673591614, 0.15571185946464539, 0.2992110252380371, 0.017301317304372787, 0.0793825164437294, 0.3358491063117981, 0.06411664932966232, 0.003053173655644059, 0.04579760506749153, 0.22872047126293182, 0.0035187765024602413, 0.5172601342201233, 0.02815021201968193, 0.03870654106140137, 0.09500696510076523, 0.07741308212280273, 0.010556329041719437, 0.9375144839286804, 0.3074287474155426, 0.6763432621955872, 0.17185401916503906, 0.8202123641967773, 0.952589750289917, 0.9380674362182617, 0.2046821117401123, 0.14877773821353912, 0.15238447487354279, 0.33632785081863403, 0.017131982371211052, 0.004508416634052992, 0.13525249063968658, 0.9756719470024109, 0.9811487197875977, 0.034255098551511765, 0.8735049962997437, 0.034255098551511765, 0.0513826459646225, 0.9823611974716187, 0.2921495735645294, 0.2889273464679718, 0.08485227078199387, 0.06659291684627533, 0.0010740793077275157, 0.12137096375226974, 0.11492648720741272, 0.004296317230910063, 0.02577790431678295, 0.959337055683136, 0.9624669551849365, 0.9375497102737427, 0.7435373067855835, 0.9938167929649353, 0.9144405722618103, 0.9890307188034058, 0.9167415499687195, 0.011844205670058727, 0.06869639456272125, 0.0027636480517685413, 0.9693994522094727, 0.8636463284492493, 0.911440372467041, 0.12952479720115662, 0.817002534866333, 0.04981723055243492, 0.934099018573761, 0.9081054925918579, 0.11537003517150879, 0.18893933296203613, 0.10366582870483398, 0.08192944526672363, 0.3160135746002197, 0.025080442428588867, 0.09363365173339844, 0.02173638343811035, 0.05350494384765625, 0.9362781047821045, 0.9222705364227295, 0.038427937775850296, 0.9959286451339722, 0.9795641303062439, 0.8939228057861328, 0.9707295298576355, 0.01350359246134758, 0.24306467175483704, 0.0675179660320282, 0.381476491689682, 0.2818875014781952, 0.008439745754003525, 0.9711825847625732, 0.021510588005185127, 0.30353832244873047, 0.21271581947803497, 0.191205233335495, 0.06214170157909393, 0.1768648475408554, 0.033460915088653564, 0.0030774010811001062, 0.1938762664794922, 0.12001863867044449, 0.030774010345339775, 0.5416225790977478, 0.09539943188428879, 0.012309604324400425, 0.9882850050926208, 0.9692379832267761, 0.3626466691493988, 0.014117631129920483, 0.3749995827674866, 0.04411759972572327, 0.02029409445822239, 0.02999996580183506, 0.10764694213867188, 0.015882335603237152, 0.019411742687225342, 0.010588223114609718, 0.9744711518287659, 0.9111347794532776, 0.08980545401573181, 0.13470818102359772, 0.7633463144302368, 0.9786502122879028, 0.11708977073431015, 0.02341795526444912, 0.06439937651157379, 0.6030123233795166, 0.18148913979530334, 0.7201418280601501, 0.042625218629837036, 0.23556041717529297, 0.9657823443412781, 0.9582021236419678, 0.13080070912837982, 0.35316190123558044, 0.07848042249679565, 0.44472241401672363, 0.9590886831283569, 0.958493173122406, 0.32418808341026306, 0.17656010389328003, 0.36128053069114685, 0.008902190253138542, 0.04228540137410164, 0.014836983755230904, 0.006676642689853907, 0.06602457910776138, 0.27473968267440796, 0.7085391879081726, 0.9676891565322876, 0.7193204164505005, 0.2792655825614929, 0.49240466952323914, 0.49240466952323914, 0.9561203122138977, 0.02332000620663166, 0.0470956414937973, 0.1412869244813919, 0.12951301038265228, 0.05886955186724663, 0.6122433543205261, 0.856634795665741, 0.0171575378626585, 0.16299660503864288, 0.012868153862655163, 0.06434077024459839, 0.19731168448925018, 0.5447518229484558, 0.1352626085281372, 0.856663167476654, 0.9496896862983704, 0.9605419039726257, 0.9245397448539734, 0.9527865648269653, 0.9502750039100647, 0.04172442480921745, 0.9387995600700378, 0.9785209894180298, 0.46867284178733826, 0.1593487709760666, 0.20621605217456818, 0.14997531473636627, 0.007654315792024136, 0.9376537203788757, 0.003827157896012068, 0.04975305497646332, 0.000956789474003017, 0.9375497102737427, 0.9812745451927185, 0.9246059060096741, 0.8312726020812988, 0.15878240764141083, 0.0046700709499418736, 0.9174781441688538, 0.8706588745117188, 0.9596578478813171, 0.9720357060432434, 0.0711696594953537, 0.0548599474132061, 0.2579900026321411, 0.44036227464675903, 0.1749587506055832, 0.08172556757926941, 0.7610693573951721, 0.09194126725196838, 0.05618632957339287, 0.005107847973704338, 0.9725741147994995, 0.9782730937004089, 0.6793491244316101, 0.03470358997583389, 0.005258120130747557, 0.23346053063869476, 0.0357552170753479, 0.0031548719853162766, 0.008412991650402546, 0.9520213007926941, 0.9672641754150391, 0.8365347385406494, 0.00041046846308745444, 0.09769149869680405, 0.01559780165553093, 0.04966668412089348, 0.9602753520011902, 0.904560387134552, 0.9761460423469543, 0.8354014754295349, 0.3846260607242584, 0.011655335314571857, 0.1126682385802269, 0.08158734440803528, 0.34577494859695435, 0.05827667564153671, 0.9553550481796265, 0.9789122939109802, 0.8612121343612671, 0.08170764148235321, 0.09548965096473694, 0.48630812764167786, 0.038392744958400726, 0.0758010596036911, 0.1703062802553177, 0.049221470952034, 0.002953288145363331, 0.35171017050743103, 0.33088523149490356, 0.21441979706287384, 0.04319247603416443, 0.007712942082434893, 0.050905417650938034, 0.0007712942315265536, 0.9439600706100464, 0.8937897086143494, 0.5472046732902527, 0.06313899904489517, 0.03507722169160843, 0.3086795508861542, 0.007015444338321686, 0.03507722169160843, 0.9923170208930969, 0.9380114078521729, 0.9375497102737427, 0.264515221118927, 0.12327524274587631, 0.06318631023168564, 0.13008946180343628, 0.008672630414366722, 0.23044417798519135, 0.011769997887313366, 0.001858420786447823, 0.16292156279087067, 0.003097367938607931, 0.848608672618866, 0.13977083563804626, 0.2580009996891022, 0.0938185453414917, 0.023454636335372925, 0.5980932116508484, 0.1151987686753273, 0.5668510794639587, 0.1206844225525856, 0.01645696721971035, 0.05302800238132477, 0.10239890217781067, 0.014628414995968342, 0.007314207497984171, 0.9536475539207458, 0.14232157170772552, 0.2009245753288269, 0.04185928776860237, 0.13394971191883087, 0.45208030939102173, 0.025115571916103363, 0.9769386649131775, 0.9624991416931152, 0.9781623482704163, 0.24301861226558685, 0.14864245057106018, 0.07707386463880539, 0.009437615983188152, 0.409749835729599, 0.0007864679791964591, 0.05347982421517372, 0.058198630809783936, 0.05803563445806503, 0.8346579670906067, 0.10657452791929245, 0.2343616485595703, 0.179026260972023, 0.1953013688325882, 0.1920463591814041, 0.006510045845061541, 0.0016275114612653852, 0.0016275114612653852, 0.19041883945465088, 0.9240445494651794, 0.985528826713562, 0.9045604467391968, 0.8947044610977173, 0.09176456183195114, 0.9419246315956116, 0.800564169883728, 0.9476180672645569, 0.6903924345970154, 0.16034920513629913, 0.0066812168806791306, 0.09130996465682983, 0.04899559170007706, 0.9753981232643127, 0.9450747966766357, 0.9315730929374695, 0.8271900415420532, 0.8706589341163635, 0.0236334428191185, 0.8586817383766174, 0.0709003284573555, 0.0236334428191185, 0.015755627304315567, 0.9042725563049316, 0.891022264957428, 0.007290458772331476, 0.2362108677625656, 0.12539589405059814, 0.03936847671866417, 0.04665893688797951, 0.06269794702529907, 0.008748550899326801, 0.011664734221994877, 0.4432598948478699, 0.010206642560660839, 0.007290458772331476, 0.9570464491844177, 0.9400928616523743, 0.8706588745117188, 0.9646242260932922, 0.8874320983886719, 0.9801211953163147, 0.2104867547750473, 0.24946577847003937, 0.01559161115437746, 0.350811243057251, 0.17150771617889404, 0.6525194644927979, 0.26770031452178955, 0.06692507863044739, 0.5048841834068298, 0.4751850962638855, 0.9402185082435608, 0.9770347476005554, 0.016136091202497482, 0.5518543124198914, 0.33132773637771606, 0.008605915121734142, 0.032272182404994965, 0.05808992683887482, 0.9532656669616699, 0.9152954816818237, 0.37150344252586365, 0.3473473787307739, 0.12744401395320892, 0.05997364968061447, 0.0024989021476358175, 0.009162641130387783, 0.024989021942019463, 0.05747474730014801, 0.06443533301353455, 0.4277789890766144, 0.059065718203783035, 0.025058183819055557, 0.03221766650676727, 0.19151611626148224, 0.016108833253383636, 0.18256676197052002, 0.9754691123962402, 0.32424914836883545, 0.23737865686416626, 0.015151829458773136, 0.005050609819591045, 0.1121235340833664, 0.008080975152552128, 0.01717207208275795, 0.05151621997356415, 0.030303658917546272, 0.19192317128181458, 0.008080975152552128, 0.9028795957565308, 0.9539839625358582, 0.9831013083457947, 0.9032446146011353, 0.9751768708229065, 0.8561816215515137, 0.10929978638887405, 0.018216630443930626, 0.9418772459030151, 0.16573180258274078, 0.28776317834854126, 0.00164907262660563, 0.20036232471466064, 0.11296147853136063, 0.09647075086832047, 0.015666190534830093, 0.028034234419465065, 0.014841653406620026, 0.036279596388339996, 0.016490725800395012, 0.023911552503705025, 0.28440380096435547, 0.1361933797597885, 0.22031281888484955, 0.040056876838207245, 0.32045501470565796, 0.9147096276283264, 0.07992608100175858, 0.10616148263216019, 0.27177339792251587, 0.06794334948062897, 0.025478756055235863, 0.15287253260612488, 0.012739378027617931, 0.3567025661468506, 0.1891922503709793, 0.7883010506629944, 0.245938241481781, 0.6558352708816528, 0.09108823537826538, 0.9680089354515076, 0.9778001308441162, 0.15090414881706238, 0.1257534623146057, 0.7042193412780762, 0.9612647891044617, 0.00598908169195056, 0.07785806059837341, 0.15571612119674683, 0.7127007246017456, 0.04192357137799263, 0.23712782561779022, 0.006119427736848593, 0.6869058012962341, 0.041306138038635254, 0.022947853431105614, 0.0015298569342121482, 0.0030597138684242964, 0.2130550593137741, 0.019973913207650185, 0.003026350401341915, 0.0920010507106781, 0.029658233746886253, 0.6421915292739868, 0.9610336422920227, 0.09908837080001831, 0.8917953372001648, 0.7985616326332092, 0.9558833241462708, 0.9528166055679321, 0.7435373067855835, 0.9772388935089111, 0.5355136394500732, 0.11475292593240738, 0.3060078024864197, 0.16608580946922302, 0.0433267317712307, 0.1733069270849228, 0.1263696402311325, 0.050547853112220764, 0.22385478019714355, 0.2130230963230133, 0.45543622970581055, 0.06857919692993164, 0.056270111352205276, 0.33762067556381226, 0.08264672756195068, 0.8826399445533752, 0.10795167088508606, 0.8832409381866455, 0.9786309599876404, 0.9402185082435608, 0.9732794165611267, 0.9844925999641418, 0.023730654269456863, 0.002966331783682108, 0.14831659197807312, 0.011865327134728432, 0.6822563409805298, 0.13348492980003357, 0.039829742163419724, 0.1725955605506897, 0.7700417041778564, 0.013276581652462482, 0.020694740116596222, 0.9519580602645874, 0.01810789853334427, 0.0051736850291490555, 0.1268410086631775, 0.8244665861129761, 0.9858945608139038, 0.9910295009613037, 0.2197602391242981, 0.4155466556549072, 0.1584937572479248, 0.013318803161382675, 0.03596076741814613, 0.025305725634098053, 0.13052426278591156, 0.9566628932952881, 0.11188813298940659, 0.020263206213712692, 0.25373056530952454, 0.007929080165922642, 0.23346737027168274, 0.1480095088481903, 0.08105282485485077, 0.03964540362358093, 0.06431365013122559, 0.02907329425215721, 0.00969109870493412, 0.25184473395347595, 0.06275742501020432, 0.2371741682291031, 0.03667641803622246, 0.03097119741141796, 0.05786723643541336, 0.16545139253139496, 0.013040504418313503, 0.14100044965744019, 0.000815031526144594, 0.002445094520226121, 0.9567574858665466, 0.9262242317199707, 0.07124801725149155, 0.0872463509440422, 0.2080489844083786, 0.5838794112205505, 0.0872463509440422, 0.02684503048658371, 0.013192439451813698, 0.12137044221162796, 0.21899448335170746, 0.021107902750372887, 0.04221580550074577, 0.21635599434375763, 0.36938828229904175, 0.9850170612335205, 0.04925086349248886, 0.05804566293954849, 0.06859941780567169, 0.005276878364384174, 0.0035179187543690205, 0.007035837508738041, 0.8073623776435852, 0.0035179187543690205, 0.8495705127716064, 0.9737333655357361, 0.06448536366224289, 0.7996185421943665, 0.12897072732448578, 0.9306528568267822, 0.9663095474243164, 0.18442830443382263, 0.7904070615768433, 0.08662664890289307, 0.0066635883413255215, 0.09162434190511703, 0.47977837920188904, 0.2882001996040344, 0.04664511978626251, 0.9477709531784058, 0.9760075807571411, 0.11293581873178482, 0.03226737678050995, 0.8497076034545898, 0.9619680643081665, 0.9512104392051697, 0.2703903019428253, 0.6759757399559021, 0.1005311980843544, 0.7306901812553406, 0.07110743224620819, 0.019615843892097473, 0.019615843892097473, 0.019615843892097473, 0.039231687784194946, 0.31347188353538513, 0.15025031566619873, 0.1599787473678589, 0.3480618894100189, 0.025942500680685043, 0.0010809374507516623, 0.016739465296268463, 0.05021839216351509, 0.45568540692329407, 0.3357192575931549, 0.014879523776471615, 0.004649851005524397, 0.04370860010385513, 0.07718753069639206, 0.9488620758056641, 0.9230640530586243, 0.9947839975357056, 0.9365308880805969, 0.9623515605926514, 0.9375497102737427, 0.9735667705535889, 0.9432163238525391, 0.3480423390865326, 0.2456769496202469, 0.14331156015396118, 0.12283847481012344, 0.12283847481012344, 0.312231183052063, 0.06287989020347595, 0.46401020884513855, 0.015177903696894646, 0.06287989020347595, 0.04987025633454323, 0.03252407908439636, 0.022546563297510147, 0.17351050674915314, 0.3989761471748352, 0.006861997302621603, 0.10881166905164719, 0.2646770477294922, 0.001960570691153407, 0.021566277369856834, 0.25674349069595337, 0.19829179346561432, 0.19385242462158203, 0.028116000816226006, 0.009618631564080715, 0.11320389807224274, 0.01035852637141943, 0.11542358249425888, 0.05771179124712944, 0.013318105600774288, 0.0014797894982621074, 0.0022196841891855, 0.11975536495447159, 0.5261977910995483, 0.3483792543411255, 0.9250631928443909, 0.08101850003004074, 0.39262810349464417, 0.01246438454836607, 0.037393152713775635, 0.46741440892219543, 0.9240445494651794, 0.02580580860376358, 0.26450952887535095, 0.70965975522995, 0.30288687348365784, 0.3494848608970642, 0.32618585228919983, 0.18751300871372223, 0.04687825217843056, 0.18751300871372223, 0.5719146728515625, 0.8277157545089722, 0.9270718693733215, 0.2578158974647522, 0.013776421546936035, 0.4526538550853729, 0.2046782672405243, 0.06888210773468018, 0.9924991130828857, 0.4550168216228485, 0.5403324365615845, 0.08626927435398102, 0.012780632823705673, 0.8978394865989685, 0.07542671263217926, 0.1089496985077858, 0.07542671263217926, 0.7375056147575378, 0.019417747855186462, 0.8349631428718567, 0.032362911850214005, 0.05825324356555939, 0.045308079570531845, 0.936040997505188, 0.9175326228141785, 0.9636811017990112, 0.9708648920059204, 0.08035256713628769, 0.8698570132255554, 0.0231889970600605, 0.0005392789607867599, 0.0010785579215735197, 0.025346113368868828, 0.06314641982316971, 0.18943925201892853, 0.13892212510108948, 0.07577570527791977, 0.17680998146533966, 0.12629283964633942, 0.21469782292842865, 0.06646165996789932, 0.9330195188522339, 0.9096320271492004, 0.014477920718491077, 0.47800490260124207, 0.18914702534675598, 0.12049366533756256, 0.0009340594406239688, 0.0908372774720192, 0.0744912400841713, 0.029889902099967003, 0.0016346039483323693, 0.052263159304857254, 0.052263159304857254, 0.2239849716424942, 0.6644887328147888, 0.9473443627357483, 0.9279469847679138, 0.9558833241462708, 0.1951751857995987, 0.041089512407779694, 0.06163426861166954, 0.626615047454834, 0.07190664857625961, 0.4557097256183624, 0.24473300576210022, 0.014065115712583065, 0.21378976106643677, 0.06751255691051483, 0.9162437319755554, 0.8665372133255005, 0.9857646822929382, 0.8045688271522522, 0.009355450980365276, 0.08419906347990036, 0.1010388731956482, 0.9759054780006409, 0.9852082133293152, 0.8003249168395996, 0.8384116291999817, 0.13522768020629883, 0.9891857504844666, 0.9482195377349854, 0.9744901061058044, 0.15496598184108734, 0.09297959506511688, 0.6663537621498108, 0.07748299092054367, 0.9558833241462708, 0.0059777130372822285, 0.679466724395752, 0.001992570934817195, 0.06376226991415024, 0.24508623778820038, 0.00398514186963439, 0.9053816199302673, 0.0734093189239502, 0.9942801594734192, 0.8244009613990784, 0.14337408542633057, 0.023895680904388428, 0.1311015784740448, 0.18354220688343048, 0.02622031606733799, 0.15404434502124786, 0.11799141764640808, 0.38347211480140686, 0.93030846118927, 0.936548113822937, 0.0014918649103492498, 0.4759048819541931, 0.06265832483768463, 0.458002507686615, 0.9619230031967163, 0.455946683883667, 0.11191418766975403, 0.20310352742671967, 0.1533638834953308, 0.07046449184417725, 0.3813387453556061, 0.006690153386443853, 0.6104764938354492, 0.9402185082435608, 0.924588680267334, 0.9866123199462891, 0.06649746000766754, 0.13479214906692505, 0.2911510467529297, 0.003594457171857357, 0.48345449566841125, 0.016175057739019394, 0.003594457171857357, 0.9934142827987671, 0.902086079120636, 0.9686073660850525, 0.01761104352772236, 0.9764781594276428, 0.044059790670871735, 0.79307621717453, 0.03204348310828209, 0.024032611399888992, 0.10013588517904282, 0.21728485822677612, 0.11588525772094727, 0.627711832523346, 0.03379986807703972, 0.8596237897872925, 0.13964353501796722, 0.9740539193153381, 0.984540581703186, 0.9368855357170105, 0.9203693270683289, 0.017838191241025925, 0.7729883193969727, 0.02081122435629368, 0.18135495483875275, 0.9689488410949707, 0.08211822807788849, 0.06121540442109108, 0.7644460201263428, 0.005972234532237053, 0.01791670359671116, 0.06718763709068298, 0.9784690737724304, 0.9429618120193481, 0.9375495910644531, 0.9240446090698242, 0.898745059967041, 0.9632788300514221, 0.009294268675148487, 0.17659109830856323, 0.26953378319740295, 0.4693605601787567, 0.0743541494011879, 0.17952406406402588, 0.12654975056648254, 0.1559799164533615, 0.20012518763542175, 0.17952406406402588, 0.01177206914871931, 0.014715086668729782, 0.0853475034236908, 0.04708827659487724, 0.41176727414131165, 0.033386535942554474, 0.17667041718959808, 0.3018699288368225, 0.018084373325109482, 0.004173316992819309, 0.051470909267663956, 0.004173316992819309, 0.8874320983886719, 0.9388342499732971, 0.8767721652984619, 0.23293928802013397, 0.2101808488368988, 0.5569123029708862, 0.9558833241462708, 0.9786827564239502, 0.9469540119171143, 0.047347698360681534, 0.983232319355011, 0.9212527871131897, 0.02911875955760479, 0.3138355314731598, 0.00323541765101254, 0.6212002038955688, 0.009706253185868263, 0.019412506371736526, 0.2554422914981842, 0.7356738448143005, 0.9714853763580322, 0.9819638729095459, 0.07546068727970123, 0.11696406453847885, 0.056595515459775925, 0.19997082650661469, 0.10564496368169785, 0.04150337725877762, 0.2754315137863159, 0.07168765366077423, 0.05282248184084892, 0.995257556438446, 0.9611738920211792, 0.2569997310638428, 0.7388741970062256, 0.910682201385498, 0.9545359015464783, 0.9242649078369141, 0.9475045204162598, 0.9103873372077942, 0.004639387596398592, 0.38970857858657837, 0.2667647898197174, 0.04175448790192604, 0.07191050797700882, 0.034795407205820084, 0.18093612790107727, 0.004639387596398592, 0.002319693798199296, 0.1541016697883606, 0.08561204373836517, 0.04565975442528725, 0.002853734651580453, 0.04565975442528725, 0.6477977633476257, 0.014268673025071621, 0.03506435453891754, 0.016363365575671196, 0.4441485106945038, 0.38570791482925415, 0.11921881139278412, 0.3360775411128998, 0.17448526620864868, 0.10572259873151779, 0.03867899999022484, 0.1564350724220276, 0.07220079749822617, 0.013752533122897148, 0.01890973374247551, 0.008595333434641361, 0.003438133280724287, 0.041257601231336594, 0.011173933744430542, 0.012033467181026936, 0.004297666717320681, 0.9551477432250977, 0.916384756565094, 0.01636032573878765, 0.7907491326332092, 0.0381740964949131, 0.1526963859796524, 0.9201798439025879, 0.8948129415512085, 0.8699274659156799, 0.02032540738582611, 0.10569211840629578, 0.9776506423950195, 0.8946892619132996, 0.8983966112136841, 0.09031204134225845, 0.40075966715812683, 0.09783804416656494, 0.0018815008224919438, 0.12229755520820618, 0.0009407504112459719, 0.25870636105537415, 0.026341011747717857, 0.9805073738098145, 0.061009831726551056, 0.2059081792831421, 0.30981555581092834, 0.0009532786207273602, 0.06672950834035873, 0.0019065572414547205, 0.31076884269714355, 0.030504915863275528, 0.01143934391438961, 0.4531601369380951, 0.20520459115505219, 0.09283065050840378, 0.039086587727069855, 0.008550191298127174, 0.1245885044336319, 0.003664367599412799, 0.019543293863534927, 0.008550191298127174, 0.017711110413074493, 0.024429118260741234, 0.002442911732941866, 0.9552035927772522, 0.02434704266488552, 0.5394791960716248, 0.0012814232613891363, 0.0032035582698881626, 0.12429805845022202, 0.07624468207359314, 0.23129689693450928, 0.9644879698753357, 0.9760792851448059, 0.06358623504638672, 0.04239082336425781, 0.08478164672851562, 0.09891191869974136, 0.09891191869974136, 0.003532568458467722, 0.014130273833870888, 0.5934715270996094, 0.01254058163613081, 0.1849735826253891, 0.020378444343805313, 0.004702717997133732, 0.026648735627532005, 0.7492997646331787, 0.9670019149780273, 0.975594699382782, 0.004169155843555927, 0.9936488270759583, 0.14927217364311218, 0.7570232152938843, 0.016755040735006332, 0.0761592760682106, 0.9577333927154541, 0.8185616135597229, 0.16371232271194458, 0.9046785235404968, 0.035171832889318466, 0.7486575841903687, 0.04522093012928963, 0.04773320257663727, 0.05778229981660843, 0.06280684471130371, 0.1045321673154831, 0.22213086485862732, 0.6010599732398987, 0.05226608365774155, 0.1719743311405182, 0.007165597286075354, 0.035827986896038055, 0.7738844752311707, 0.9867502450942993, 0.012541095726191998, 0.33860960602760315, 0.11914041638374329, 0.10659931600093842, 0.35742124915122986, 0.06270547956228256, 0.9768726825714111, 0.9289038777351379, 0.06406233459711075, 0.9644529819488525, 0.904560387134552, 0.9486891627311707, 0.12530401349067688, 0.05935453623533249, 0.5111085176467896, 0.12200654298067093, 0.0032974742352962494, 0.17806360125541687, 0.007585381157696247, 0.35461655259132385, 0.14791493117809296, 0.08533553779125214, 0.23893949389457703, 0.0037926905788481236, 0.16118934750556946, 0.23375432193279266, 0.2890510559082031, 0.010053949430584908, 0.060323696583509445, 0.30915895104408264, 0.015080924145877361, 0.0829450786113739, 0.9763795137405396, 0.9631738662719727, 0.05603276938199997, 0.27393797039985657, 0.2677121162414551, 0.006225863005965948, 0.3797776401042938, 0.8839881420135498, 0.10705865174531937, 0.04959334805607796, 0.0842299684882164, 0.05352932587265968, 0.6565214395523071, 0.04644456505775452, 0.0023615879472345114, 0.9627993106842041, 0.9384370446205139, 0.37224796414375305, 0.09306199103593826, 0.5118409395217896, 0.9833045601844788, 0.8449808359146118, 0.9418942332267761, 0.023090267553925514, 0.1455969661474228, 0.8008902072906494, 0.0040621766820549965, 0.0010689938208088279, 0.021166078746318817, 0.003420780412852764, 0.0006413963274098933, 0.9484664797782898, 0.14987143874168396, 0.036609817296266556, 0.7287641167640686, 0.013728681020438671, 0.0377538725733757, 0.016016794368624687, 0.0068643405102193356, 0.008008397184312344, 0.9035869240760803, 0.9762271642684937, 0.8575595617294312, 0.2891625761985779, 0.17135560512542725, 0.16778568923473358, 0.12851670384407043, 0.04997871816158295, 0.039268992841243744, 0.14636623859405518, 0.9243820905685425, 0.27504950761795044, 0.026455840095877647, 0.11859514564275742, 0.28325995802879333, 0.22076943516731262, 0.05473622307181358, 0.0018245407845824957, 0.018701542168855667, 0.9785802960395813, 0.9861416816711426, 0.5518346428871155, 0.42044544219970703, 0.007686952594667673, 0.7763822078704834, 0.08711879700422287, 0.1268347203731537, 0.9690468907356262, 0.7340469360351562, 0.12234115600585938, 0.1376338005065918, 0.039092812687158585, 0.21501046419143677, 0.029319608584046364, 0.5717323422431946, 0.12705163657665253, 0.019546406343579292, 0.9606462717056274, 0.9267604351043701, 0.4947573244571686, 0.03805825486779213, 0.45669907331466675, 0.3493030369281769, 0.6179976463317871, 0.0638471320271492, 0.0019409527303650975, 0.9078550934791565, 0.0013280203565955162, 0.016855642199516296, 0.006946567911654711, 0.0011237094877287745, 0.21345080435276031, 0.09408020973205566, 0.5108656883239746, 0.023267149925231934, 0.15680035948753357, 0.10606043040752411, 0.0028664979618042707, 0.73095703125, 0.04586396738886833, 0.03869772329926491, 0.0028664979618042707, 0.053030215203762054, 0.01863223686814308, 0.8706588745117188, 0.8378998041152954, 0.07680748403072357, 0.045386239886283875, 0.038403742015361786, 0.7615542411804199, 0.39313551783561707, 0.601266086101532, 0.889409601688385, 0.8874320983886719, 0.9847424626350403, 0.9771730899810791, 0.9045296907424927, 0.06957920640707016, 0.9895559549331665, 0.8935117721557617, 0.9709286093711853, 0.028990866616368294, 0.0039987401105463505, 0.4068717956542969, 0.007997480221092701, 0.0619804710149765, 0.18094299733638763, 0.010996535420417786, 0.2199307084083557, 0.07297700643539429, 0.0019993700552731752, 0.004998425021767616, 0.922749400138855, 0.1901003122329712, 0.7949649691581726, 0.33624720573425293, 0.01593736745417118, 0.5915575623512268, 0.02208314836025238, 0.0006249948055483401, 0.00010416579607408494, 0.03343722224235535, 0.013885159976780415, 0.09441908448934555, 0.05276360735297203, 0.4484906792640686, 0.30269649624824524, 0.08608799427747726, 0.9745913147926331, 0.030403921380639076, 0.01934794895350933, 0.14925561845302582, 0.6771782636642456, 0.1216156855225563, 0.047251734882593155, 0.9214088320732117, 0.928360104560852, 0.147118479013443, 0.33550190925598145, 0.11033885926008224, 0.05741208791732788, 0.026911916211247444, 0.26553091406822205, 0.044853195548057556, 0.008970638737082481, 0.0035882554948329926, 0.9378790855407715, 0.9697995781898499, 0.8708373308181763, 0.9734300971031189, 0.2619415819644928, 0.17798595130443573, 0.5541071891784668, 0.0033582255709916353, 0.3242127001285553, 0.6646360158920288, 0.08072488009929657, 0.40733590722084045, 0.11320041120052338, 0.061239566653966904, 0.03525914251804352, 0.22640082240104675, 0.062167439609766006, 0.0037114887963980436, 0.009278722107410431, 0.8373919725418091, 0.08189508318901062, 0.20746754109859467, 0.06551606953144073, 0.08735475689172745, 0.07643540948629379, 0.038217704743146896, 0.02729836106300354, 0.3112013041973114, 0.09281443059444427, 0.8954208493232727, 0.3694561719894409, 0.2943125367164612, 0.033397167921066284, 0.30266183614730835, 0.16201908886432648, 0.5149099826812744, 0.043279070407152176, 0.14981216192245483, 0.00110971974208951, 0.00443887896835804, 0.06214430555701256, 0.01331663690507412, 0.03218187391757965, 0.016645796597003937, 0.939217209815979, 0.8681939244270325, 0.9126518368721008, 0.9558834433555603, 0.9735757112503052, 0.9879844784736633, 0.3007352948188782, 0.25777310132980347, 0.010740546509623528, 0.15573792159557343, 0.06444327533245087, 0.20675551891326904, 0.8585522174835205, 0.9237229228019714, 0.03507808595895767, 0.023385390639305115, 0.003263969672843814, 0.2589415907859802, 0.379708468914032, 0.03155170753598213, 0.04351959750056267, 0.17625436186790466, 0.004351959563791752, 0.10118306428194046, 0.001087989890947938, 0.9320474863052368, 0.9894869327545166, 0.9410168528556824, 0.9767442941665649, 0.35687074065208435, 0.18284612894058228, 0.0769878476858139, 0.24219092726707458, 0.055335015058517456, 0.0008019567467272282, 0.052929144352674484, 0.028870442882180214, 0.0032078269869089127, 0.28039270639419556, 0.20028050243854523, 0.020898833870887756, 0.28387582302093506, 0.2142130583524704, 0.23480451107025146, 0.7379570007324219, 0.3105602264404297, 0.13802675902843475, 0.5176003575325012, 0.9611349105834961, 0.9913795590400696, 0.5297077894210815, 0.305600643157959, 0.1528003215789795, 0.9430832862854004, 0.9415351152420044, 0.025091148912906647, 0.9209381341934204, 0.05297020450234413, 0.8969098925590515, 0.017702167853713036, 0.053106505423784256, 0.029503613710403442, 0.36844009160995483, 0.09649621695280075, 0.08373638242483139, 0.061406683176755905, 0.09968617558479309, 0.09171128273010254, 0.015949787572026253, 0.04625438526272774, 0.03110208548605442, 0.10367362201213837, 0.6401501297950745, 0.32007506489753723, 0.9632626175880432, 0.28619876503944397, 0.041882745921611786, 0.5654170513153076, 0.06282412260770798, 0.034902289509773254, 0.08969701081514359, 0.8521215915679932, 0.04484850540757179, 0.9428063035011292, 0.948336124420166, 0.9525758028030396, 0.1284654140472412, 0.08564361184835434, 0.019464457407593727, 0.21021613478660583, 0.2024303525686264, 0.3503602147102356, 0.9756057858467102, 0.9319064617156982, 0.8585021495819092, 0.9702380895614624, 0.7684615850448608, 0.9740369915962219, 0.013439944945275784, 0.981115996837616, 0.9646793603897095, 0.15523748099803925, 0.011088390834629536, 0.3104749619960785, 0.5100659728050232, 0.9303063750267029, 0.06100369617342949, 0.0050836410373449326, 0.8996114134788513, 0.0719689130783081, 0.017992228269577026, 0.3544304668903351, 0.620253324508667, 0.9703548550605774, 0.1339096873998642, 0.8521525263786316, 0.8420926928520203, 0.9558833241462708, 0.2757149338722229, 0.00241855182684958, 0.00241855182684958, 0.6264049410820007, 0.050789590924978256, 0.033859726041555405, 0.007255655713379383, 0.29008835554122925, 0.09142863005399704, 0.21107596158981323, 0.018059976398944855, 0.25058215856552124, 0.0011287485249340534, 0.07901239395141602, 0.03273370489478111, 0.0011287485249340534, 0.02257497049868107, 0.4600685238838196, 0.22129878401756287, 0.05823652446269989, 0.2504170536994934, 0.9541800618171692, 0.9761507511138916, 0.9048729538917542, 0.06463377922773361, 0.9227131605148315, 0.06590808182954788, 0.0652838796377182, 0.9302952289581299, 0.9887735247612, 0.8374629616737366, 0.27575069665908813, 0.07353352010250092, 0.6434183120727539, 0.17067740857601166, 0.2889244854450226, 0.04127492755651474, 0.0613546222448349, 0.04015938937664032, 0.24876511096954346, 0.06581677496433258, 0.012270924635231495, 0.06470123678445816, 0.0066932314075529575, 0.1287011206150055, 0.8606887459754944, 0.974237322807312, 0.9862751960754395, 0.9875815510749817, 0.07091304659843445, 0.37752270698547363, 0.07499437779188156, 0.00102033163420856, 0.00612198980525136, 0.022957462817430496, 0.03622177243232727, 0.06224023178219795, 0.3479330837726593, 0.9610932469367981, 0.9019303917884827, 0.0712050274014473, 0.2527295649051666, 0.6812710165977478, 0.05494120717048645, 0.17058920860290527, 0.07581742107868195, 0.49281325936317444, 0.23377038538455963, 0.018954355269670486, 0.9148176312446594, 0.9592858552932739, 0.9637749791145325, 0.9375497102737427, 0.22960606217384338, 0.0057115936651825905, 0.0017134781228378415, 0.10280868411064148, 0.6596890687942505, 0.985594630241394, 0.10957315564155579, 0.21914631128311157, 0.6209145188331604, 0.9563740491867065, 0.9807937741279602, 0.9507392048835754, 0.9186385273933411, 0.9739488959312439, 0.9558884501457214, 0.3400817811489105, 0.027681075036525726, 0.11467874050140381, 0.09095210582017899, 0.35985398292541504, 0.06327103078365326, 0.9396492838859558, 0.9686312079429626, 0.9347262382507324, 0.223043292760849, 0.004055332392454147, 0.004055332392454147, 0.004055332392454147, 0.33862027525901794, 0.004055332392454147, 0.0770513191819191, 0.052719324827194214, 0.046636324375867844, 0.24331995844841003, 0.98941570520401, 0.5514066219329834, 0.06512676924467087, 0.38207703828811646, 0.9733756184577942, 0.13249433040618896, 0.00828089565038681, 0.29811224341392517, 0.07038761675357819, 0.004140447825193405, 0.4844323992729187, 0.8706589341163635, 0.4553810656070709, 0.05558184161782265, 0.15894456207752228, 0.1511436104774475, 0.025353120639920235, 0.02632824145257473, 0.013651680201292038, 0.042905282229185104, 0.005850720219314098, 0.06435792148113251, 0.7342174053192139, 0.14790242910385132, 0.4901670217514038, 0.05230899155139923, 0.26572299003601074, 0.0005013641202822328, 0.026070935651659966, 0.0011698496527969837, 0.01604365184903145, 0.19085824489593506, 0.029362807050347328, 0.007340701762586832, 0.6056078672409058, 0.16516578197479248, 0.7163305282592773, 0.11103123426437378, 0.0035816526506096125, 0.16833767294883728, 0.568171501159668, 0.08912494033575058, 0.33978885412216187, 0.0418991781771183, 0.9217819571495056, 0.9433035254478455, 0.9590603709220886, 0.9692077040672302, 0.7883509993553162, 0.09385130554437637, 0.03128376975655556, 0.03128376975655556, 0.05005403235554695, 0.9641565084457397, 0.8462920784950256, 0.11754056811332703, 0.040193598717451096, 0.944549560546875, 0.19051674008369446, 0.20604799687862396, 0.22779175639152527, 0.055912524461746216, 0.049700021743774414, 0.008283336646854877, 0.22261467576026917, 0.012425005435943604, 0.027956262230873108, 0.9375517964363098, 0.26560819149017334, 0.20303702354431152, 0.30264008045196533, 0.1593010574579239, 0.02362380549311638, 0.0025539249181747437, 0.019792918115854263, 0.01723899319767952, 0.005746331065893173, 0.0006384812295436859, 0.7037949562072754, 0.11707315593957901, 0.05740652605891228, 0.004972219001501799, 0.006780298426747322, 0.10848477482795715, 0.0013560596853494644, 0.9691845178604126, 0.013845493085682392, 0.9888628125190735, 0.9240446090698242, 0.4843795597553253, 0.1083480566740036, 0.05098732188344002, 0.35053783655166626, 0.051220107823610306, 0.28171059489250183, 0.07683016359806061, 0.025610053911805153, 0.5634211897850037, 0.6357516646385193, 0.0007868213579058647, 0.02517828345298767, 0.21952316164970398, 0.08340306580066681, 0.006294570863246918, 0.022817818447947502, 0.005507749505341053, 0.8064882159233093, 0.01279394794255495, 5.8687834098236635e-05, 0.002875703852623701, 5.8687834098236635e-05, 0.13439513742923737, 0.0005281905177980661, 0.042079176753759384, 0.0001760635059326887, 0.0004695026727858931, 0.9654228687286377, 0.02925523929297924, 0.9863780736923218, 0.9235843420028687, 0.9689180850982666, 0.9029788970947266, 0.28941231966018677, 0.1254120171070099, 0.5788246393203735, 0.9706602096557617, 0.13193152844905853, 0.07196265459060669, 0.7795954346656799, 0.0976526215672493, 0.5427504777908325, 0.19955101609230042, 0.15992386639118195, 0.19361461699008942, 0.7986602783203125, 0.2637717127799988, 0.11723186820745468, 0.02930796705186367, 0.5421974062919617, 0.04762544855475426, 0.9896615743637085, 0.15570832788944244, 0.10957252979278564, 0.0461358018219471, 0.6689691543579102, 0.01730092614889145, 0.859944760799408, 0.06115162745118141, 0.04204174503684044, 0.0076439534313976765, 0.02675383724272251, 0.9375497102737427, 0.942075788974762, 0.0858808234333992, 0.8874351978302002, 0.9561975598335266, 0.11065425723791122, 0.09168495237827301, 0.2782164216041565, 0.05374635383486748, 0.41732460260391235, 0.04742325097322464, 0.16819295287132263, 0.614419162273407, 0.2128155678510666, 0.05568811297416687, 0.16397055983543396, 0.3186597526073456, 0.03712540864944458, 0.05259433016180992, 0.09281352162361145, 0.2753467857837677, 0.9749538898468018, 0.9449153542518616, 0.003706231014803052, 0.3743293285369873, 0.0222373865544796, 0.040768541395664215, 0.007412462029606104, 0.21125516295433044, 0.2631424069404602, 0.07041838765144348, 0.9167562127113342, 0.9392222762107849, 0.0886707752943039, 0.06465577334165573, 0.23460808396339417, 0.01477846223860979, 0.03325153887271881, 0.10344923287630081, 0.049877312034368515, 0.41010233759880066, 0.9708960652351379, 0.9692899584770203, 0.02709195576608181, 0.9322976469993591, 0.9875190258026123, 0.8396662473678589, 0.9773829579353333, 0.9769721627235413, 0.22324424982070923, 0.38342198729515076, 0.07534493505954742, 0.1227843314409256, 0.1389695405960083, 0.0011162211885675788, 0.01785953901708126, 0.029021751135587692, 0.007255437783896923, 0.0011162211885675788, 0.9524291157722473, 0.7974609136581421, 0.13324888050556183, 0.020499829202890396, 0.7379938364028931, 0.04099965840578079, 0.05124957114458084, 0.003374136285856366, 0.24743665754795074, 0.37565383315086365, 0.0022494241129606962, 0.024743665009737015, 0.2598084807395935, 0.048362620174884796, 0.038240209221839905, 0.950581967830658, 0.10947736352682114, 0.03831707686185837, 0.7006551027297974, 0.1477944403886795, 0.09961679577827454, 0.49053725600242615, 0.29432234168052673, 0.007546727079898119, 0.10414483398199081, 0.001509345369413495, 0.9864185452461243, 0.9627805352210999, 0.07783550769090652, 0.8717576265335083, 0.03113420121371746, 0.14457571506500244, 0.2236831784248352, 0.291879266500473, 0.07637961953878403, 0.04637334123253822, 0.013639218173921108, 0.030006280168890953, 0.16912630200386047, 0.9675818681716919, 0.7308056950569153, 0.04843403398990631, 0.016144677996635437, 0.006054254248738289, 0.0887957289814949, 0.8395232558250427, 0.060535021126270294, 0.33849164843559265, 0.08575794845819473, 0.005044585093855858, 0.005044585093855858, 0.03228534385561943, 0.11198978871107101, 0.36068782210350037, 0.0053682173602283, 0.19179175794124603, 0.4045683741569519, 0.07125088572502136, 0.029769204556941986, 0.21180057525634766, 0.01952078938484192, 0.03562544286251068, 0.00732029601931572, 0.004392177797853947, 0.015128612518310547, 0.0034161382354795933, 0.18769383430480957, 0.2915244698524475, 0.2515895962715149, 0.23960913717746735, 0.011980457231402397, 0.01597394235432148, 0.9612948894500732, 0.9640350341796875, 0.92836594581604, 0.008859111927449703, 0.1306719034910202, 0.005536945071071386, 0.8526895642280579, 0.9731533527374268, 0.13522005081176758, 0.09014669805765152, 0.7662469148635864, 0.01973104104399681, 0.7201829552650452, 0.12331900000572205, 0.1331845223903656, 0.9477485418319702, 0.008215812966227531, 0.055867526680231094, 0.4502265453338623, 0.05258120223879814, 0.055867526680231094, 0.26783549785614014, 0.05915385112166405, 0.001643162569962442, 0.04600854963064194, 0.9845925569534302, 0.9438774585723877, 0.24378648400306702, 0.14405564963817596, 0.5983849763870239, 0.0031407021451741457, 0.15703509747982025, 0.2449747622013092, 0.5904520153999329, 0.9375497102737427, 0.6627305746078491, 0.2899446189403534, 0.7246317267417908, 0.26696959137916565, 0.9198825359344482, 0.11887066811323166, 0.05486338585615158, 0.7863751649856567, 0.02743169292807579, 0.9556779861450195, 0.027700811624526978, 0.6494820713996887, 0.18257330358028412, 0.07482512295246124, 0.014965025708079338, 0.0778181329369545, 0.9913890957832336, 0.7597445249557495, 0.9341503977775574, 0.279357373714447, 0.7172689437866211, 0.0015219149645417929, 0.05326702445745468, 0.8142244815826416, 0.000507304968778044, 0.06696426123380661, 0.06290581822395325, 0.9565346240997314, 0.9607982039451599, 0.954950749874115, 0.9788583517074585, 0.08651971071958542, 0.04325985535979271, 0.8507771492004395, 0.13197512924671173, 0.037223756313323975, 0.013535910286009312, 0.1082872822880745, 0.1895027458667755, 0.030455799773335457, 0.216574564576149, 0.037223756313323975, 0.037223756313323975, 0.05414364114403725, 0.05075966566801071, 0.05414364114403725, 0.037223756313323975, 0.9189396500587463, 0.9694110751152039, 0.21800900995731354, 0.0038654080126434565, 0.31619036197662354, 0.02087320201098919, 0.040973324328660965, 0.05875420197844505, 0.1546163111925125, 0.034788671880960464, 0.14920474588871002, 0.9867260456085205, 0.08133221417665482, 0.8133221864700317, 0.2893446385860443, 0.2584812343120575, 0.3819349408149719, 0.06558478623628616, 0.014401066116988659, 0.028802132233977318, 0.20161491632461548, 0.08160603791475296, 0.6720497608184814, 0.9235725998878479, 0.9795197248458862, 0.9451261162757874, 0.2645398676395416, 0.7313749194145203, 0.964227020740509, 0.15929986536502838, 0.011947490274906158, 0.1234573945403099, 0.00796499289572239, 0.1831948459148407, 0.4858645796775818, 0.023894980549812317, 0.14971980452537537, 0.8359355330467224, 0.8595524430274963, 0.9680716395378113, 0.5282077193260193, 0.16956321895122528, 0.030496982857584953, 0.009759034030139446, 0.23177707195281982, 0.026837345212697983, 0.9621077179908752, 0.10392961651086807, 0.8522228598594666, 0.036375366151332855, 0.0051964810118079185, 0.2909291088581085, 0.09250741451978683, 0.1461348980665207, 0.14345352351665497, 0.06971573084592819, 0.0938481017947197, 0.004022061359137297, 0.021450994536280632, 0.03619855269789696, 0.09921085089445114, 0.002681374317035079, 0.8820295333862305, 0.9927907586097717, 0.8772619962692261, 0.06748168915510178, 0.016870422288775444, 0.5144331455230713, 0.2645656168460846, 0.2204713523387909, 0.9799799919128418, 0.8706589341163635, 0.13413964211940765, 0.324408620595932, 0.28159812092781067, 0.18170689046382904, 0.020929589867591858, 0.007610759697854519, 0.03900514170527458, 0.010464794933795929, 0.9702996611595154, 0.274975448846817, 0.6461923122406006, 0.06874386221170425, 0.9869669079780579, 0.8186325430870056, 0.9772619605064392, 0.9196096658706665, 0.024200253188610077, 0.048400506377220154, 0.8706589341163635, 0.9513940811157227, 0.957105815410614, 0.2809208035469055, 0.005762477871030569, 0.01872805319726467, 0.007203097455203533, 0.6871755123138428, 0.9596869349479675, 0.2929230332374573, 0.2608218789100647, 0.11980609595775604, 0.07624024152755737, 0.04413909092545509, 0.06477554887533188, 0.010318228974938393, 0.09114435315132141, 0.010318228974938393, 0.006878819316625595, 0.02235616184771061, 0.0005732349236495793, 0.8940324187278748, 0.031929727643728256, 0.06385945528745651, 0.8160338997840881, 0.08195973932743073, 0.09977707266807556, 0.0023756446316838264, 0.0042649684473872185, 0.0454929955303669, 0.7620077133178711, 0.05260127782821655, 0.019903186708688736, 0.06966114789247513, 0.03696306049823761, 0.008529936894774437, 0.41967907547950745, 0.13989302515983582, 0.04663100838661194, 0.3963635563850403, 0.9673552513122559, 0.12463638186454773, 0.2221779078245163, 0.18243876099586487, 0.22759687900543213, 0.240241140127182, 0.9558833241462708, 0.9607266187667847, 0.07219026237726212, 0.4909926652908325, 0.05735664814710617, 0.17371812462806702, 0.05785110220313072, 0.08867205679416656, 0.00016481794591527432, 0.00016481794591527432, 0.004285266622900963, 0.017305884510278702, 0.034776587039232254, 0.002637087134644389, 0.02746923267841339, 0.3021615743637085, 0.6592615842819214, 0.004578205291181803, 0.878976583480835, 0.9500864148139954, 0.23748061060905457, 0.43587586283683777, 0.02572706528007984, 0.015337289310991764, 0.2651866674423218, 0.0009895025286823511, 0.01137927919626236, 0.007916020229458809, 0.7660430669784546, 0.12849754095077515, 0.09637315571308136, 0.00494221318513155, 0.9279072284698486, 0.030556289479136467, 0.9472450017929077, 0.08766929060220718, 0.008766929619014263, 0.7714897394180298, 0.04383464530110359, 0.004383464809507132, 0.07890236377716064, 0.3195597231388092, 0.10510435700416565, 0.009554942138493061, 0.12315258383750916, 0.4416506588459015, 0.03910474479198456, 0.14338405430316925, 0.030414801090955734, 0.026069829240441322, 0.004344971384853125, 0.6647806167602539, 0.0912443995475769, 0.966041088104248, 0.024210885167121887, 0.3680054545402527, 0.605272114276886, 0.08568722009658813, 0.02062840573489666, 0.21421805024147034, 0.1047288253903389, 0.012694403529167175, 0.012694403529167175, 0.09679482877254486, 0.41098129749298096, 0.04125681146979332, 0.9823808073997498, 0.9337183833122253, 0.10765167325735092, 0.22534339129924774, 0.41666218638420105, 0.029004596173763275, 0.0423913337290287, 0.017291201278567314, 0.057451412081718445, 0.0262156929820776, 0.00948227196931839, 0.057451412081718445, 0.0005577806732617319, 0.010597833432257175, 0.07252813130617142, 0.7498292922973633, 0.14840371906757355, 0.027895435690879822, 0.9195812940597534, 0.9810776710510254, 0.8974648118019104, 0.3777802288532257, 0.5603032112121582, 0.05942610278725624, 0.23498797416687012, 0.20683273673057556, 0.23210026323795319, 0.07471968233585358, 0.10467974096536636, 0.04223286360502243, 0.033569712191820145, 0.028155241161584854, 0.0007219292456284165, 0.0018048231722787023, 0.037179358303546906, 0.00036096462281420827, 0.002526752417907119, 0.9500687122344971, 0.015972277149558067, 0.003194455523043871, 0.9775034189224243, 0.2947899401187897, 0.12381177395582199, 0.4127058982849121, 0.16508236527442932, 0.9375497102737427, 0.026347704231739044, 0.9580983519554138, 0.014371475204825401, 0.9686511754989624, 0.5189014673233032, 0.003801475977525115, 0.0019007379887625575, 0.019007379189133644, 0.06652583181858063, 0.02851106971502304, 0.03041180782020092, 0.017106641083955765, 0.01520590391010046, 0.19767674803733826, 0.019007379189133644, 0.07983099669218063, 0.8307648301124573, 0.9838048219680786, 0.2328612059354782, 0.15671461820602417, 0.14099402725696564, 0.19994622468948364, 0.048144303262233734, 0.0024563418701291084, 0.010807904414832592, 0.0648474246263504, 0.1429591029882431, 0.0009825368179008365, 0.13434654474258423, 0.8549324870109558, 0.9525758624076843, 0.08678743243217468, 0.08100160211324692, 0.19671817123889923, 0.011571656912565231, 0.6132978200912476, 0.34041786193847656, 0.06260558217763901, 0.07043127715587616, 0.24963976442813873, 0.14947083592414856, 0.007825697772204876, 0.07825697958469391, 0.035998210310935974, 0.004695418756455183, 0.9527554512023926, 0.9664083123207092, 0.8651395440101624, 0.0560162290930748, 0.06846427917480469, 0.06866496801376343, 0.2746598720550537, 0.6523171663284302, 0.9303489923477173, 0.8559780716896057, 0.47317180037498474, 0.12132610380649567, 0.024265220388770103, 0.37611091136932373, 0.9339935183525085, 0.507256805896759, 0.4802030920982361, 0.9961786270141602, 0.11738750338554382, 0.18782000243663788, 0.6925863027572632, 0.17724037170410156, 0.7754266262054443, 0.04431009292602539, 0.094814233481884, 0.6557984352111816, 0.189628466963768, 0.055308301001787186, 0.9489771723747253, 0.35801297426223755, 0.13208825886249542, 0.01972358673810959, 0.27613022923469543, 0.06275686621665955, 0.09742256253957748, 0.051400862634181976, 0.0011953689390793443, 0.0005976844695396721, 0.9862968325614929, 0.9846650958061218, 0.00807102583348751, 0.15678872168064117, 0.8341160416603088, 0.03751957044005394, 0.15543821454048157, 0.21439753472805023, 0.12863852083683014, 0.16615809500217438, 0.10719876736402512, 0.182237908244133, 0.969095766544342, 0.1852601021528244, 0.6812790632247925, 0.01792839728295803, 0.059761323034763336, 0.04780905693769455, 0.9718749523162842, 0.9767378568649292, 0.019534757360816002, 0.9762579202651978, 0.8494354486465454, 0.9832529425621033, 0.9562142491340637, 0.9185272455215454, 0.9567161798477173, 0.2645104229450226, 0.20573033392429352, 0.49963080883026123, 0.9612635374069214, 0.9789468050003052, 0.9033319354057312, 0.9872785210609436, 0.42224112153053284, 0.008102708496153355, 0.17015686631202698, 0.13594543933868408, 0.2628878653049469, 0.9668785333633423, 0.9375497102737427, 0.8009837865829468, 0.01191054005175829, 0.06699678301811218, 0.06253033131361008, 0.005955270025879145, 0.037220437079668045, 0.0029776350129395723, 0.01191054005175829, 0.8243456482887268, 0.05960894748568535, 0.1210242286324501, 0.18605217337608337, 0.05960894748568535, 0.28088459372520447, 0.09121975302696228, 0.009031658992171288, 0.08218809217214584, 0.055996283888816833, 0.029804473742842674, 0.004515829496085644, 0.01896648295223713, 0.12929153442382812, 0.8619436025619507, 0.005932698957622051, 0.112721286714077, 0.06525968760251999, 0.6466642022132874, 0.05932699143886566, 0.10678858309984207, 0.9398174285888672, 0.027641689404845238, 0.9896600246429443, 0.9672473669052124, 0.9723973274230957, 0.9858784675598145, 0.027755729854106903, 0.027755729854106903, 0.006938932463526726, 0.9367558360099792, 0.9874938130378723, 0.9309965968132019, 0.03288369998335838, 0.20826344192028046, 0.7453638911247253, 0.8188446164131165, 0.06523118168115616, 0.09059886634349823, 0.3080361485481262, 0.03261559084057808, 0.3478996455669403, 0.07247909158468246, 0.07972700148820877, 0.9703930020332336, 0.9606759548187256, 0.05629558861255646, 0.018765196204185486, 0.7881382703781128, 0.1313563734292984, 0.9681626558303833, 0.980686366558075, 0.6334869861602783, 0.12399211525917053, 0.2074049860239029, 0.03494323045015335, 0.43912577629089355, 0.18890319764614105, 0.081594318151474, 0.0603303425014019, 0.09445159882307053, 0.06082485243678093, 0.003461576998233795, 0.04895658791065216, 0.012362775392830372, 0.005934131797403097, 0.003956087864935398, 0.0004945109831169248, 0.924588680267334, 0.38113799691200256, 0.22564886510372162, 0.07015973329544067, 0.15548913180828094, 0.020858298987150192, 0.14411188662052155, 0.15280446410179138, 0.0859525129199028, 0.09550278633832932, 0.6255432367324829, 0.038201116025447845, 0.8921757936477661, 0.10294336080551147, 0.9678714871406555, 0.779345691204071, 0.9314996600151062, 0.9332854747772217, 0.9509437084197998, 0.14865557849407196, 0.743277907371521, 0.9809393286705017, 0.9366989731788635, 0.07463251054286957, 0.910516619682312, 0.9832925200462341, 0.9205943942070007, 0.19064117968082428, 0.08472941815853119, 0.6354706287384033, 0.08896588534116745, 0.36509037017822266, 0.19855791330337524, 0.4355463981628418, 0.6090343594551086, 0.019032323732972145, 0.11363416910171509, 0.04142329469323158, 0.21551308035850525, 0.0011195484548807144, 0.9558834433555603, 0.01719757355749607, 0.16624321043491364, 0.05732524394989014, 0.3668815493583679, 0.03439514711499214, 0.33821892738342285, 0.01719757355749607, 0.6082329154014587, 0.38231781125068665, 0.8225542902946472, 0.6124907732009888, 0.25484755635261536, 0.01070788037031889, 0.004283152054995298, 0.11029116809368134, 0.005353940185159445, 0.8847795724868774, 0.20234762132167816, 0.07532648742198944, 0.005907959770411253, 0.4460509717464447, 0.013292909599840641, 0.17428481578826904, 0.005907959770411253, 0.07680347561836243, 0.029559243470430374, 0.9518076181411743, 0.017735546454787254, 0.21525706350803375, 0.08469130098819733, 0.25936710834503174, 0.10233532637357712, 0.04234565049409866, 0.07057608664035797, 0.09351330995559692, 0.00352880428545177, 0.04940326139330864, 0.01411521714180708, 0.05116766318678856, 0.01235081534832716, 0.9240445494651794, 0.9840452671051025, 0.9783948063850403, 0.9688392877578735, 0.9629167318344116, 0.023775720968842506, 0.9444884657859802, 0.9431920051574707, 0.9667472839355469, 0.17781762778759003, 0.03604411333799362, 0.5022146701812744, 0.03604411333799362, 0.060073524713516235, 0.0648794025182724, 0.07449117302894592, 0.043252937495708466, 0.25751739740371704, 0.027991021052002907, 0.016794612631201744, 0.2295263707637787, 0.464650958776474, 0.9449436664581299, 0.04562917724251747, 0.8734728097915649, 0.058666083961725235, 0.013036907650530338, 0.8729254007339478, 0.9832890629768372, 0.9645707011222839, 0.3583478629589081, 0.2899608910083771, 0.0013677399838343263, 0.012309660203754902, 0.24072223901748657, 0.09163857996463776, 0.0013677399838343263, 0.004103220067918301, 0.13533154129981995, 0.8542803525924683, 0.9611122608184814, 0.2671729326248169, 0.023953434079885483, 0.16214632987976074, 0.30218178033828735, 0.012898003682494164, 0.03500886633992195, 0.03500886633992195, 0.08475830405950546, 0.04974944144487381, 0.027638578787446022, 0.8328421115875244, 0.9829325675964355, 0.9494906663894653, 0.8984338045120239, 0.9592858552932739, 0.054646026343107224, 0.009107670746743679, 0.09107670933008194, 0.04553835466504097, 0.7832596898078918, 0.28278398513793945, 0.7069599628448486, 0.834601879119873, 0.8936012387275696, 0.016208846122026443, 0.12967076897621155, 0.016208846122026443, 0.8266510963439941, 0.9781264066696167, 0.9391744136810303, 0.09794680774211884, 0.8815212845802307, 0.9350108504295349, 0.9236417412757874, 0.4660642147064209, 0.10841976851224899, 0.012672441080212593, 0.2083912491798401, 0.028160979971289635, 0.16755782067775726, 0.008448293432593346, 0.1640382707118988, 0.06349868327379227, 0.1640382707118988, 0.19578762352466583, 0.38628366589546204, 0.015874670818448067, 0.734453022480011, 0.037187494337558746, 0.22312496602535248, 0.1428423672914505, 0.842769980430603, 0.9558833241462708, 0.9742599129676819, 0.9402185082435608, 0.41871997714042664, 0.2326222062110901, 0.0018989568343386054, 0.2430664747953415, 0.1025436669588089, 0.008351978845894337, 0.6347503662109375, 0.34243112802505493, 0.9585492610931396, 0.7897570729255676, 0.14305569231510162, 0.14955823123455048, 0.1170455738902092, 0.1398044377565384, 0.19507594406604767, 0.0032512659672647715, 0.0585227869451046, 0.04551772028207779, 0.14630696177482605, 0.0032512659672647715, 0.6804705858230591, 0.11704093962907791, 0.00019442016491666436, 0.00019442016491666436, 0.1662292331457138, 0.03460678830742836, 0.0011665209894999862, 0.9545074105262756, 0.027271639555692673, 0.9759093523025513, 0.7701753377914429, 0.07521243393421173, 0.15042486786842346, 0.9598410129547119, 0.008175093680620193, 0.016350187361240387, 0.9728361368179321, 0.9058307409286499, 0.1631452888250351, 0.41900309920310974, 0.17991499602794647, 0.06348531693220139, 0.11762751638889313, 0.0007187017472460866, 0.04360123723745346, 0.011978361755609512, 0.00023956724908202887, 0.1439492553472519, 0.09716574847698212, 0.7557336091995239, 0.003598731243982911, 0.9531355500221252, 0.9643256068229675, 0.9590984582901001, 0.9274430274963379, 0.07457072287797928, 0.09587664157152176, 0.17044736444950104, 0.5752598643302917, 0.08522368222475052, 0.9388248324394226, 0.00759720616042614, 0.11395809054374695, 0.03798603266477585, 0.7597206234931946, 0.06837485730648041, 0.9704861044883728, 0.20088587701320648, 0.7773410081863403, 0.008734168484807014, 0.9863737225532532, 0.498463898897171, 0.0946802943944931, 0.4037835896015167, 0.11503303050994873, 0.5004945993423462, 0.137905091047287, 0.007399785798043013, 0.16481341421604156, 0.06188911572098732, 0.012108740396797657, 0.30365321040153503, 0.6073064208030701, 0.07329560071229935, 0.9698161482810974, 0.016863465309143066, 0.21079331636428833, 0.4194786846637726, 0.06745386123657227, 0.14123152196407318, 0.08431732654571533, 0.05691419541835785, 0.8696838617324829, 0.9569381475448608, 0.9592858552932739, 0.821044921875, 0.942301869392395, 0.9484475255012512, 0.9492374062538147, 0.9367740750312805, 0.7402060627937317, 0.19830454885959625, 0.046140167862176895, 0.007853644900023937, 0.0068719396367669106, 0.9641146063804626, 0.9765260219573975, 0.9342787265777588, 0.9232479929924011, 0.964567244052887, 0.3909331262111664, 0.0020467701833695173, 0.1589658260345459, 0.4209524095058441, 0.02660801261663437, 0.899010419845581, 0.984358549118042, 0.991449773311615, 0.9415672421455383, 0.9701944589614868, 0.02825809083878994, 0.03803398087620735, 0.03486448526382446, 0.060220472514629364, 0.8621035814285278, 0.30692049860954285, 0.33997344970703125, 0.14165560901165009, 0.09443707019090652, 0.10860263556241989, 0.25455915927886963, 0.12881307303905487, 0.05520560219883919, 0.10734422504901886, 0.2484252154827118, 0.0030669779516756535, 0.024535823613405228, 0.1748177409172058, 0.9763941764831543, 0.01337526272982359, 0.9402185082435608, 0.7845643162727356, 0.17696939408779144, 0.03539387881755829, 0.9745132923126221, 0.96971595287323, 0.9815035462379456, 0.9648063778877258, 0.8175704479217529, 0.12476978451013565, 0.03940098360180855, 0.01641707681119442, 0.1228148341178894, 0.8597038388252258, 0.022485211491584778, 0.8769232630729675, 0.06745563447475433, 0.9640895128250122, 0.9119264483451843, 0.14250148832798004, 0.28368350863456726, 0.04618103802204132, 0.17416848242282867, 0.07652857154607773, 0.044861577451229095, 0.10819557309150696, 0.03298645466566086, 0.09104261547327042, 0.31755828857421875, 0.6351165771484375, 0.012213780544698238, 0.024427561089396477, 0.6078845262527466, 0.008442841470241547, 0.03039422817528248, 0.3056308329105377, 0.04559134319424629, 0.9240446090698242, 0.844865083694458, 0.018985027447342873, 0.9682363867759705, 0.9565139412879944, 0.9375497102737427, 0.8733537197113037, 0.009642590768635273, 0.3314640522003174, 0.4170420467853546, 0.003615971654653549, 0.003615971654653549, 0.13017497956752777, 0.020490506663918495, 0.016874535009264946, 0.06207418069243431, 0.0048212953843176365, 0.41333481669425964, 0.18737845122814178, 0.09920036047697067, 0.07440026849508286, 0.03857791796326637, 0.002755565568804741, 0.1846228837966919, 0.5533811450004578, 0.18446038663387299, 0.05483957752585411, 0.029912495985627174, 0.08475206792354584, 0.08475206792354584, 0.09574709087610245, 0.44043660163879395, 0.13404592871665955, 0.3063906729221344, 0.9751726984977722, 0.4668668806552887, 0.14208991825580597, 0.11164207756519318, 0.19283631443977356, 0.020298559218645096, 0.06089567765593529, 0.06745245307683945, 0.14085659384727478, 0.33726224303245544, 0.08133971691131592, 0.005951686762273312, 0.1725989133119583, 0.19243787229061127, 0.971977174282074, 0.05419008433818817, 0.028385281562805176, 0.04902912303805351, 0.07999488711357117, 0.002580480184406042, 0.09031680226325989, 0.3303014636039734, 0.012902400456368923, 0.010321920737624168, 0.276111364364624, 0.06193152442574501, 0.962501049041748, 0.19316089153289795, 0.06195726618170738, 0.1129809021949768, 0.4519236087799072, 0.08017999678850174, 0.0984027162194252, 0.07959409058094025, 0.181929349899292, 0.2766842246055603, 0.05306272581219673, 0.40555083751678467, 0.3004826307296753, 0.29672661423683167, 0.38311538100242615, 0.018780164420604706, 0.9865026473999023, 0.9833099842071533, 0.970183253288269, 0.25283387303352356, 0.10736780613660812, 0.045025210827589035, 0.4935455620288849, 0.048488687723875046, 0.0034634775947779417, 0.048488687723875046, 0.19395563006401062, 0.19395563006401062, 0.38791126012802124, 0.20607785880565643, 0.290812224149704, 0.7049993276596069, 0.740867018699646, 0.40652167797088623, 0.16897587478160858, 0.019591405987739563, 0.07346776872873306, 0.029387108981609344, 0.012244628742337227, 0.23264794051647186, 0.0024489257484674454, 0.039182811975479126, 0.017142480239272118, 0.9578101634979248, 0.03202341869473457, 0.08005854487419128, 0.8806439638137817, 0.083390012383461, 0.8755950927734375, 0.9329975843429565, 0.12805120646953583, 0.8323327898979187, 0.9704424142837524, 0.9644685387611389, 0.21237240731716156, 0.4035075604915619, 0.04247448220849037, 0.339795857667923, 0.18120025098323822, 0.013258554972708225, 0.2850589454174042, 0.243073508143425, 0.03756590560078621, 0.11048796027898788, 0.06408301740884781, 0.015468314290046692, 0.044195182621479034, 0.004419518634676933, 0.946323037147522, 0.08310171961784363, 0.19752639532089233, 0.41742631793022156, 0.00639243982732296, 0.2550583481788635, 0.01853807643055916, 0.016620343551039696, 0.005753195844590664, 0.9445524215698242, 0.7664493322372437, 0.22542627155780792, 0.0038095517084002495, 0.7771485447883606, 0.11809610575437546, 0.09904834628105164, 0.19449205696582794, 0.1237676739692688, 0.014144876971840858, 0.028289753943681717, 0.03889841213822365, 0.09901413321495056, 0.3111872971057892, 0.042434629052877426, 0.08840548247098923, 0.056579507887363434, 0.9886191487312317, 0.0046060895547270775, 0.04145480692386627, 0.38230544328689575, 0.4467906951904297, 0.03684871643781662, 0.0046060895547270775, 0.07830352336168289, 0.9830769300460815, 0.9635430574417114, 0.9736278057098389, 0.010744231753051281, 0.8595385551452637, 0.11818654835224152, 0.010744231753051281, 0.9350011944770813, 0.04993542656302452, 0.11368277668952942, 0.7543436288833618, 0.0021249116398394108, 0.04462314769625664, 0.0042498232796788216, 0.029748763889074326, 0.131622776389122, 0.780335009098053, 0.02820488065481186, 0.04700813442468643, 0.07469771057367325, 0.9150469899177551, 0.816100537776947, 0.002330054296180606, 0.029125677421689034, 0.591833770275116, 0.01747540757060051, 0.02213551476597786, 0.33552780747413635, 0.9343799352645874, 0.02826663665473461, 0.2826663553714752, 0.18844424188137054, 0.4993772506713867, 0.9073538184165955, 0.05040854588150978, 0.9737564325332642, 0.2591547667980194, 0.30954596400260925, 0.18876704573631287, 0.10971418023109436, 0.06132262945175171, 0.013997556641697884, 0.013997556641697884, 0.041059501469135284, 0.00026662013260647655, 0.001199790625832975, 0.0006665503024123609, 0.8006967902183533, 0.9524291157722473, 0.8774376511573792, 0.7597445249557495, 0.945152223110199, 0.31487783789634705, 0.07774761319160461, 0.011662142351269722, 0.0408174991607666, 0.30321571230888367, 0.23518653213977814, 0.013605833053588867, 0.947692334651947, 0.9774407744407654, 0.9604523181915283, 0.1492728441953659, 0.8210006356239319, 0.15275512635707855, 0.39275655150413513, 0.23021955788135529, 0.08902481943368912, 0.017291167750954628, 0.0016797134885564446, 0.054244864732027054, 0.03922625258564949, 0.010572314262390137, 0.0010868734680116177, 0.001383293536491692, 0.009683054871857166, 0.9468031525611877, 0.9558834433555603, 0.18813015520572662, 0.8095297813415527, 0.9630255103111267, 0.8979422450065613, 0.09821243584156036, 0.11831086874008179, 0.15926463901996613, 0.10010919719934464, 0.14106296002864838, 0.4777939021587372, 0.10604847967624664, 0.8218757510185242, 0.006628029979765415, 0.05965227261185646, 0.9708768725395203, 0.9635555744171143, 0.26371312141418457, 0.36493632197380066, 0.0657062977552414, 0.036404840648174286, 0.13762804865837097, 0.049723684787750244, 0.010655075311660767, 0.033741071820259094, 0.0008879229426383972, 0.03462899476289749, 0.0008879229426383972, 0.020888222381472588, 0.18799400329589844, 0.6840893030166626, 0.005222055595368147, 0.07833083719015121, 0.015666166320443153, 0.4279792606830597, 0.2739067077636719, 0.017119169235229492, 0.017119169235229492, 0.23966838419437408, 0.008000430651009083, 0.9680520296096802, 0.012000645510852337, 0.008000430651009083, 0.19083432853221893, 0.21203814446926117, 0.09693172574043274, 0.151455819606781, 0.03634939715266228, 0.006058232858777046, 0.23627108335494995, 0.06664056330919266, 0.10501924902200699, 0.833152711391449, 0.05601026490330696, 0.003500641556456685, 0.9375497102737427, 0.9320805072784424, 0.08088550716638565, 0.18873284757137299, 0.2965801954269409, 0.033702295273542404, 0.13480918109416962, 0.2561374306678772, 0.8535098433494568, 0.01574741303920746, 0.01889689639210701, 0.009448448196053505, 0.0976339653134346, 0.9351829886436462, 0.12168039381504059, 0.1917388141155243, 0.022123709321022034, 0.6600239872932434, 0.2470225691795349, 0.047051917761564255, 0.6940158009529114, 0.9894266128540039, 0.22795772552490234, 0.4095511734485626, 0.36318689584732056, 0.20684947073459625, 0.06894981861114502, 0.16148774325847626, 0.36652272939682007, 0.01633022166788578, 0.0018144689965993166, 0.005443406756967306, 0.1741890162229538, 0.095091812312603, 0.896579921245575, 0.47167089581489563, 0.25511759519577026, 0.018787730485200882, 0.0909721627831459, 0.06921795010566711, 0.007910623215138912, 0.08503919839859009, 0.9225662350654602, 0.009622723795473576, 0.7890633344650269, 0.14434084296226501, 0.0433022566139698, 0.004811361897736788, 0.004811361897736788, 0.9873270988464355, 0.9558834433555603, 0.9793646335601807, 0.9181863069534302, 0.20863813161849976, 0.10431906580924988, 0.2855048179626465, 0.060395248234272, 0.21961909532546997, 0.1153000220656395, 0.9558833241462708, 0.9691296219825745, 0.19893322885036469, 0.7736292481422424, 0.9520896673202515, 0.22720134258270264, 0.16067276895046234, 0.021339353173971176, 0.07280485332012177, 0.18075686693191528, 0.011297304183244705, 0.13180188834667206, 0.04267870634794235, 0.03640242666006088, 0.0853574126958847, 0.02887088991701603, 0.06955596059560776, 0.1669343113899231, 0.03709651529788971, 0.07883009314537048, 0.6260036826133728, 0.018548257648944855, 0.25568586587905884, 0.05752931907773018, 0.6775675415992737, 0.9672781229019165, 0.39587658643722534, 0.019615506753325462, 0.26926741003990173, 0.11056012660264969, 0.07132911682128906, 0.1301756352186203, 0.8651818037033081, 0.008618669584393501, 0.0026518981903791428, 0.057015810161828995, 0.03513764962553978, 0.028507905080914497, 0.0026518981903791428, 0.5218138694763184, 0.42972907423973083, 0.8745251297950745, 0.0446847639977932, 0.07290671765804291, 0.1622762382030487, 0.004703659098595381, 0.7149562239646912, 0.0036873689386993647, 0.1659315973520279, 0.03318632021546364, 0.13643264770507812, 0.09402790665626526, 0.08296579867601395, 0.4812016487121582, 0.9855176210403442, 0.9551652669906616, 0.9592858552932739, 0.15676946938037872, 0.6735280752182007, 0.16838201880455017, 0.9419481754302979, 0.9084675312042236, 0.9789746403694153, 0.3612900376319885, 0.38816285133361816, 0.18810968101024628, 0.05971736088395119, 0.9254300594329834, 0.8604680299758911, 0.10493512451648712, 0.10068271309137344, 0.8893639445304871, 0.9850002527236938, 0.9680575728416443, 0.12333329766988754, 0.8427775502204895, 0.07726317644119263, 0.5408422350883484, 0.3708632290363312, 0.9558833241462708, 0.9869983792304993, 0.9610049724578857, 0.14610138535499573, 0.23816527426242828, 0.10207083076238632, 0.06404444575309753, 0.08806110918521881, 0.20214028656482697, 0.06404444575309753, 0.03202222287654877, 0.018012499436736107, 0.04603194445371628, 0.3780222237110138, 0.03315984457731247, 0.2884906232357025, 0.013263937085866928, 0.07958362251520157, 0.20559102296829224, 0.3163542151451111, 0.20959243178367615, 0.1723499447107315, 0.10717559605836868, 0.12641754746437073, 0.02606973983347416, 0.030207792297005653, 0.010345134884119034, 0.0012414160883054137, 0.057589467614889145, 0.9214314818382263, 0.017418131232261658, 0.9754152894020081, 0.0005348129780031741, 0.2706153690814972, 0.3380018174648285, 0.08770933002233505, 0.08182638883590698, 0.16793127357959747, 0.0042785038240253925, 0.04599391669034958, 0.0021392519120126963, 0.1472981870174408, 0.6986142992973328, 0.002104259794577956, 0.004208519589155912, 0.14940245449543, 0.14162945747375488, 0.215167835354805, 0.07081472873687744, 0.03813100978732109, 0.5311104655265808, 0.9721510410308838, 0.8820375204086304, 0.9437856674194336, 0.9617975354194641, 0.9456673860549927, 0.0013513586018234491, 0.9797350168228149, 0.018919020891189575, 0.8433687090873718, 0.9699418544769287, 0.9679074287414551, 0.05528818815946579, 0.8538953065872192, 0.0860038474202156, 0.10484220832586288, 0.8863931894302368, 0.9184415340423584, 0.0014582591829821467, 0.0008599990396760404, 0.00011217378050787374, 0.0005608689389191568, 0.06599557399749756, 0.0003365213633514941, 7.47825251892209e-05, 0.01046955306082964, 3.739126259461045e-05, 0.00011217378050787374, 0.001570433028973639, 0.9676070213317871, 0.22383587062358856, 0.37352612614631653, 0.06435281783342361, 0.0055958968587219715, 0.1713743507862091, 0.057357944548130035, 0.0027979484293609858, 0.08114050328731537, 0.019585639238357544, 0.08467040956020355, 0.3103598356246948, 0.12066270411014557, 0.1374787837266922, 0.0457279197871685, 0.002360150683671236, 0.0870305597782135, 0.08526044338941574, 0.009440602734684944, 0.11358225345611572, 0.003540226025506854, 0.07284499704837799, 0.12383649498224258, 0.6774584650993347, 0.11655199527740479, 0.9595432877540588, 0.16927003860473633, 0.1636277139186859, 0.6601531505584717, 0.1724834442138672, 0.22176441550254822, 0.5913717746734619, 0.0537375882267952, 0.9135390520095825, 0.2635166347026825, 0.37617242336273193, 0.0004898078623227775, 0.1631060093641281, 0.13322773575782776, 0.0004898078623227775, 0.054858479648828506, 0.007347117643803358, 0.24129727482795715, 0.2077837735414505, 0.06032431870698929, 0.09383783489465714, 0.38205403089523315, 0.9456425905227661, 0.0315072126686573, 0.41127416491508484, 0.16866861283779144, 0.05755317583680153, 0.018274184316396713, 0.0008401923696510494, 0.17707054316997528, 0.05839337036013603, 0.042429715394973755, 0.024995723739266396, 0.0016803847393020988, 0.0073516834527254105, 0.856688380241394, 0.15408450365066528, 0.8217840194702148], \"Term\": [\"abortion\", \"abortion\", \"abs\", \"abs\", \"abyss\", \"academia\", \"accentuate\", \"accident\", \"accident\", \"accusation\", \"accusation\", \"accusation\", \"accusation\", \"action\", \"action\", \"action\", \"action\", \"action\", \"action\", \"action\", \"action\", \"activity\", \"activity\", \"activity\", \"activity\", \"activity\", \"activity\", \"activity\", \"activity\", \"actualization\", \"ad\", \"ad\", \"addiction\", \"addiction\", \"admin\", \"adversary\", \"advice\", \"advice\", \"advice\", \"advice\", \"advice\", \"advice\", \"advice\", \"adviser\", \"advisor\", \"affair\", \"affair\", \"affair\", \"affair\", \"afford\", \"age\", \"age\", \"age\", \"age\", \"age\", \"age\", \"age\", \"age\", \"age\", \"agree\", \"agriculture\", \"alia\", \"alien\", \"alimony\", \"alimony_child_support\", \"allegation\", \"alpha\", \"alpha\", \"alpha\", \"alpha\", \"amateur\", \"amog\", \"anal\", \"anger\", \"anger\", \"anger\", \"anniversary\", \"announce\", \"answer\", \"answer\", \"answer\", \"answer\", \"answer\", \"answer\", \"answer\", \"answer\", \"answer\", \"anthropologist\", \"antic\", \"antic\", \"app\", \"applause\", \"applicant\", \"appoint\", \"approach\", \"approach\", \"approach\", \"approach\", \"approach\", \"approach\", \"archetype\", \"argument\", \"argument\", \"argument\", \"argument\", \"argument\", \"argument\", \"argument\", \"arm\", \"arm\", \"arm\", \"arm\", \"arm\", \"arm\", \"arm\", \"arousal\", \"arrest\", \"article\", \"article\", \"article\", \"article\", \"article\", \"article\", \"article\", \"article\", \"article\", \"article\", \"askwoman\", \"asperger\", \"assault\", \"assault\", \"assault\", \"assessment\", \"asset\", \"asset\", \"asset\", \"asset\", \"asset\", \"asshole\", \"asshole\", \"asshole\", \"assuming\", \"assure\", \"athlete\", \"athlete\", \"athlete\", \"athlete\", \"atmosphere\", \"attendance\", \"attention\", \"attention\", \"attention\", \"attention\", \"attention\", \"attention\", \"attention\", \"attention\", \"attorney\", \"attorney\", \"attract\", \"attraction\", \"attraction\", \"attractiveness\", \"attractiveness\", \"attribute\", \"attribute\", \"audience\", \"audience\", \"audience\", \"audience\", \"audience\", \"authenticity\", \"baby\", \"baby\", \"baby\", \"baby\", \"baby\", \"baby\", \"bachelor\", \"bachelor\", \"backlash\", \"backstabbing\", \"backup\", \"bail\", \"balloon\", \"ban\", \"ban\", \"banging\", \"bank\", \"bank\", \"bank\", \"bank\", \"bar\", \"bar\", \"bar\", \"bar\", \"bar\", \"barren\", \"bartender\", \"bash\", \"bathroom\", \"bathroom\", \"bathroom\", \"battlefield\", \"batw\", \"bb\", \"beard\", \"bed\", \"bed\", \"bed\", \"bed\", \"bed\", \"beer\", \"beer\", \"beer\", \"beer\", \"beer\", \"beget\", \"behalf\", \"behavior\", \"behavior\", \"behavior\", \"behavior\", \"behavior\", \"behavior\", \"behavior\", \"bella\", \"belonging\", \"beta\", \"beta\", \"beta\", \"beta\", \"beta\", \"betaness\", \"bia\", \"bicep\", \"bid\", \"bill\", \"bill\", \"bill\", \"bill\", \"bill\", \"bill\", \"bio\", \"biological_clock\", \"birth_rate\", \"bit\", \"bit\", \"bit\", \"bit\", \"bit\", \"bit\", \"bit\", \"bit\", \"bitch\", \"bitch\", \"bitch\", \"bitch\", \"bitch\", \"bitch\", \"bitch\", \"blah\", \"blip\", \"blood\", \"blood\", \"blood\", \"blood\", \"blood\", \"blood\", \"bloom\", \"blowback\", \"bmws\", \"body\", \"body\", \"body\", \"body\", \"body\", \"body\", \"body\", \"body\", \"body\", \"body\", \"body_language\", \"body_language\", \"bone\", \"bone\", \"bone\", \"bone\", \"book\", \"book\", \"book\", \"book\", \"book\", \"book\", \"book\", \"book\", \"border\", \"boss\", \"boss\", \"boss\", \"boss\", \"boss\", \"boss\", \"bouncer\", \"boxer\", \"boxing\", \"boy\", \"boy\", \"boy\", \"boy\", \"boy\", \"boy\", \"boy\", \"boy\", \"boyfriend\", \"boyfriend\", \"boyfriend\", \"brain\", \"brain\", \"brain\", \"brain\", \"brain\", \"brain\", \"brain\", \"brain\", \"braking\", \"branch_swinging\", \"brawl\", \"breast\", \"breast\", \"breeze\", \"brief\", \"briffault_law\", \"brother\", \"brother\", \"brother\", \"brother\", \"brother\", \"browse\", \"browsing\", \"bruh\", \"brunette\", \"brutishness\", \"buddy\", \"buddy\", \"buddy\", \"buddy\", \"buddy\", \"buffer\", \"bulk\", \"business\", \"business\", \"business\", \"business\", \"business\", \"business\", \"business\", \"business\", \"business\", \"business\", \"business\", \"businessman\", \"buzzfeed\", \"cache\", \"caliber\", \"callousness\", \"calorie\", \"campus\", \"campus\", \"campus\", \"campus\", \"campus\", \"candidate\", \"candidate\", \"candidate\", \"candy\", \"candy\", \"canine\", \"cap\", \"car\", \"car\", \"car\", \"car\", \"car\", \"car\", \"carb\", \"carbohydrate\", \"care\", \"care\", \"care\", \"care\", \"care\", \"care\", \"care\", \"care\", \"career\", \"career\", \"career\", \"career\", \"career\", \"career\", \"career\", \"career\", \"caricature\", \"case\", \"case\", \"case\", \"case\", \"case\", \"case\", \"case\", \"case\", \"case\", \"case\", \"case\", \"casino\", \"cbc\", \"cc\", \"celebs\", \"cell\", \"century\", \"century\", \"century\", \"ceremony\", \"change\", \"change\", \"change\", \"change\", \"change\", \"change\", \"change\", \"change\", \"change\", \"change\", \"change\", \"change\", \"character\", \"character\", \"character\", \"character\", \"character\", \"characteristic\", \"characteristic\", \"charge\", \"charge\", \"charge\", \"charge\", \"charge\", \"charge\", \"charge\", \"chart\", \"chart\", \"cheating\", \"cheating\", \"cheating\", \"checking\", \"cheek\", \"chemical\", \"chemical\", \"chemical\", \"chess\", \"chest\", \"chest\", \"chest\", \"chest\", \"chest\", \"chick\", \"chick\", \"chick\", \"chick\", \"chick\", \"chick\", \"chick\", \"child\", \"child\", \"child\", \"child\", \"child\", \"child\", \"child_support_payment\", \"childhood\", \"childhood\", \"chimp\", \"choir\", \"churn\", \"circulation\", \"circumvent\", \"citizen\", \"citizen\", \"citizen\", \"claim\", \"claim\", \"claim\", \"claim\", \"claim\", \"claim\", \"claim\", \"class\", \"class\", \"class\", \"class\", \"class\", \"cleanser\", \"client\", \"client\", \"climate\", \"climaxing\", \"clinic\", \"clip\", \"clothe\", \"clothe\", \"clothe\", \"clothe\", \"clothe\", \"clothe\", \"clothing\", \"clothing\", \"clothing\", \"clothing\", \"club\", \"club\", \"club\", \"club\", \"cocaine\", \"cocaine\", \"cocktail\", \"cold_approach\", \"college\", \"college\", \"college\", \"college\", \"college\", \"college\", \"college\", \"cologne\", \"com\", \"com\", \"com\", \"com\", \"com\", \"com\", \"com\", \"com\", \"com\", \"com\", \"com\", \"comment\", \"comment\", \"comment\", \"comment\", \"comment\", \"comment\", \"comment\", \"comment\", \"comment\", \"comment\", \"comment\", \"commit_suicide\", \"commitment\", \"commitment\", \"communication\", \"communication\", \"communication\", \"communication\", \"communication\", \"community\", \"community\", \"community\", \"community\", \"community\", \"community\", \"community\", \"companion\", \"company\", \"company\", \"company\", \"company\", \"company\", \"company\", \"company\", \"company\", \"compartment\", \"compensate\", \"compensation\", \"compensation\", \"compensation\", \"complexion\", \"concert\", \"conference\", \"conference\", \"confidence\", \"confidence\", \"confidence\", \"confidence\", \"confidence\", \"confidence\", \"conformation\", \"conquest\", \"consent\", \"consent\", \"consent\", \"conservative\", \"consultation\", \"consumerism\", \"consumerism\", \"contact\", \"contact\", \"contact\", \"contact\", \"contact\", \"contact\", \"contact\", \"control\", \"control\", \"control\", \"control\", \"control\", \"control\", \"conversation\", \"conversation\", \"conversation\", \"conversation\", \"conversation\", \"conversation\", \"conversation\", \"conversation\", \"convo\", \"cooperation\", \"cop\", \"corporation\", \"corpse\", \"correspond\", \"corruption\", \"counselling\", \"counter\", \"counter\", \"counter\", \"counter\", \"counter\", \"country\", \"country\", \"country\", \"country\", \"country\", \"country\", \"country\", \"couple\", \"couple\", \"couple\", \"couple\", \"couple\", \"couple\", \"couple\", \"couple\", \"course\", \"course\", \"course\", \"course\", \"course\", \"course\", \"course\", \"course\", \"course\", \"course\", \"course\", \"course\", \"court\", \"court\", \"court\", \"coverage\", \"coworker\", \"coworker\", \"coworker\", \"coworker\", \"coworker\", \"crazyness\", \"crime\", \"crime\", \"crime\", \"crisis\", \"crisis\", \"crisis\", \"criticism\", \"criticism\", \"criticism\", \"criticism\", \"crock\", \"culprit\", \"culture\", \"culture\", \"culture\", \"culture\", \"culture\", \"custody\", \"customer\", \"customer\", \"dad\", \"dad\", \"dad\", \"daddy\", \"daddy\", \"daddy\", \"daddy\", \"dance\", \"dance\", \"dance\", \"dance\", \"dance\", \"dancefloor\", \"dancer\", \"dancing\", \"dark_triad_trait\", \"date\", \"date\", \"date\", \"date\", \"date\", \"date\", \"datum\", \"datum\", \"datum\", \"datum\", \"datum\", \"datum\", \"datum\", \"daughter\", \"daughter\", \"dawn\", \"day\", \"day\", \"day\", \"day\", \"day\", \"day\", \"day\", \"day\", \"day\", \"debate\", \"debate\", \"debate\", \"debate\", \"debater\", \"decent\", \"deconstruction\", \"defense\", \"defense\", \"defense\", \"defense\", \"defense\", \"degree\", \"degree\", \"degree\", \"degree\", \"degree\", \"deleting\", \"dependency\", \"deposit\", \"desire\", \"desire\", \"desire\", \"desire\", \"developer\", \"devil\", \"diabetes\", \"dialogue\", \"dialogue\", \"diamond\", \"diaper\", \"dichotomy\", \"diet\", \"diet\", \"diet\", \"diet\", \"digression\", \"dinner\", \"dinner\", \"dinner\", \"dinner\", \"dinner\", \"dinner\", \"director\", \"director\", \"discipline\", \"discrimination\", \"discrimination\", \"discrimination\", \"discussion\", \"discussion\", \"discussion\", \"discussion\", \"discussion\", \"discussion\", \"disengage\", \"distrust\", \"divorce\", \"divorce\", \"divorce\", \"divorce\", \"divorce_paper\", \"doctor\", \"doctor\", \"doctor\", \"doctor\", \"doctor\", \"dog\", \"dog\", \"dog\", \"dogbro\", \"dominant\", \"dominate\", \"door\", \"door\", \"door\", \"door\", \"door\", \"door\", \"door\", \"dopamine\", \"dorm\", \"douchebag\", \"douchebag\", \"dough\", \"dream\", \"dream\", \"dream\", \"dream\", \"dream\", \"dress\", \"dress\", \"dress\", \"dress\", \"drink\", \"drink\", \"driveway\", \"driving\", \"dropout\", \"drove\", \"drug\", \"drug\", \"drug\", \"drug\", \"drum\", \"dude\", \"dude\", \"dude\", \"dude\", \"dude\", \"dude\", \"dumpster\", \"dweller\", \"dwhg\", \"dzrm\", \"earthquake\", \"eater\", \"education\", \"education\", \"education\", \"education\", \"education\", \"effect\", \"effect\", \"effect\", \"effect\", \"effect\", \"effect\", \"effect\", \"effect\", \"effect\", \"effort\", \"effort\", \"effort\", \"effort\", \"effort\", \"effort\", \"effort\", \"effort\", \"egotism\", \"elon\", \"embed\", \"emotion\", \"emotion\", \"emotion\", \"emotionally_unstable\", \"empathize\", \"employee\", \"employee\", \"employer\", \"enabler\", \"energy\", \"energy\", \"energy\", \"energy\", \"energy\", \"energy\", \"engineer\", \"engineer\", \"enthusiast\", \"entrepreneur\", \"environment\", \"environment\", \"environment\", \"environment\", \"environment\", \"environment\", \"environment\", \"environment\", \"environment\", \"equality\", \"er\", \"era\", \"era\", \"eschew\", \"escort\", \"estimation\", \"estrogen\", \"ethnicity\", \"event\", \"event\", \"event\", \"event\", \"event\", \"event\", \"event\", \"event\", \"event\", \"evidence\", \"evidence\", \"evidence\", \"evidence\", \"evidence\", \"evidence\", \"evidence\", \"ex\", \"ex\", \"ex\", \"ex\", \"ex\", \"example\", \"example\", \"example\", \"example\", \"example\", \"example\", \"example\", \"example\", \"example\", \"example\", \"example\", \"example\", \"example\", \"example\", \"excess\", \"executive\", \"exercise\", \"exercise\", \"exercise\", \"exercise\", \"existent\", \"exit_strategy\", \"expectation\", \"expectation\", \"expectation\", \"explore\", \"extinction\", \"extraction\", \"eye\", \"eye\", \"eye\", \"eye\", \"eye\", \"eye\", \"eye\", \"eye\", \"facade\", \"face\", \"face\", \"face\", \"face\", \"face\", \"face\", \"face\", \"face\", \"face\", \"fact\", \"fact\", \"fact\", \"fact\", \"fact\", \"fact\", \"fact\", \"fact\", \"fact\", \"fact\", \"fact\", \"fact\", \"failsafe\", \"family\", \"family\", \"family\", \"family\", \"family\", \"family\", \"family\", \"faq\", \"fast_food\", \"fat\", \"fat\", \"fat\", \"fat\", \"fat\", \"fat\", \"fat\", \"fat\", \"father\", \"father\", \"father\", \"father\", \"father\", \"father\", \"fellatio\", \"feminine\", \"feminism\", \"feminism\", \"feminist\", \"feminist\", \"feminist\", \"feminist\", \"feminization\", \"fiance\", \"fiance\", \"fidgety\", \"fight\", \"fight\", \"fight\", \"fight\", \"fight\", \"fight\", \"file\", \"file\", \"file\", \"file\", \"fish\", \"fish\", \"fish\", \"fish\", \"fishing\", \"fitness\", \"fitness\", \"fitness\", \"fitness\", \"fitness\", \"fitness\", \"flood\", \"flower\", \"flower\", \"flu\", \"flyby\", \"flyer\", \"focus\", \"focus\", \"focus\", \"focus\", \"focus\", \"focus\", \"food\", \"food\", \"food\", \"food\", \"food\", \"food\", \"food\", \"foot\", \"foot\", \"foot\", \"foot\", \"foot\", \"foot\", \"foot\", \"footage\", \"fore\", \"forum\", \"forum\", \"forum\", \"forum\", \"forum\", \"fragrance\", \"frame\", \"frame\", \"frame\", \"frame\", \"frame\", \"frame\", \"frame\", \"franchise\", \"frat\", \"fraternity\", \"fraternity\", \"fraternity\", \"fraud\", \"freeze\", \"freshman\", \"friend\", \"friend\", \"friend\", \"friend\", \"friend\", \"friend\", \"friend\", \"friend\", \"frontpage\", \"fun\", \"fun\", \"fun\", \"fun\", \"fun\", \"fun\", \"fun\", \"fun\", \"furthering\", \"fwb\", \"gadot\", \"gain\", \"gain\", \"gain\", \"gain\", \"gain\", \"gain\", \"gain\", \"gaining_weight\", \"game\", \"game\", \"game\", \"game\", \"game\", \"game\", \"game\", \"game\", \"garage\", \"gatekeeper\", \"gaze\", \"gaze\", \"gender\", \"gender\", \"gender\", \"gender\", \"gender_equality\", \"gene\", \"gene\", \"gene\", \"generation\", \"generation\", \"generation\", \"generation\", \"generation\", \"generation\", \"genesis\", \"genital\", \"ghost\", \"ghost\", \"ghost\", \"gig\", \"gig\", \"girl\", \"girl\", \"girl\", \"girl\", \"girl\", \"girl\", \"girl\", \"girlfriend\", \"girlfriend\", \"girlfriend\", \"girlfriend\", \"girlfriend\", \"goal\", \"goal\", \"goal\", \"goal\", \"goal\", \"goal\", \"goal\", \"goal\", \"googled\", \"government\", \"government\", \"government\", \"government\", \"gpa\", \"grab\", \"grab\", \"gram\", \"grandiosity\", \"grandma\", \"greatness\", \"grin\", \"grin\", \"grocery\", \"gronk\", \"groom\", \"group\", \"group\", \"group\", \"group\", \"group\", \"group\", \"group\", \"group\", \"group\", \"group\", \"group\", \"gtfo\", \"guest\", \"guest\", \"guy\", \"guy\", \"guy\", \"guy\", \"guy\", \"guy\", \"guy\", \"gym\", \"gym\", \"gym\", \"gym\", \"gym\", \"gym\", \"gynocentricism\", \"hair\", \"hair\", \"hair\", \"hair\", \"hair\", \"haircut\", \"haircut\", \"halo\", \"hand\", \"hand\", \"hand\", \"hand\", \"hand\", \"hand\", \"hand\", \"hand\", \"hand\", \"handing\", \"hang\", \"hanging\", \"happen\", \"happiness\", \"happiness\", \"happiness\", \"happiness\", \"harassment\", \"harassment\", \"head\", \"head\", \"head\", \"head\", \"head\", \"head\", \"head\", \"head\", \"head\", \"headphone\", \"health\", \"health\", \"health\", \"health\", \"health\", \"health\", \"health\", \"health\", \"health\", \"health_insurance\", \"heart\", \"heart\", \"heart\", \"heart\", \"help\", \"help\", \"help\", \"help\", \"help\", \"help\", \"help\", \"help\", \"help\", \"help\", \"highly_recommend\", \"hijack\", \"hinderance\", \"hindrance\", \"hip\", \"hire\", \"history\", \"history\", \"history\", \"history\", \"history\", \"history\", \"hitchen\", \"holiday\", \"holiday\", \"holiday\", \"home\", \"home\", \"home\", \"home\", \"home\", \"home\", \"home\", \"home\", \"home\", \"homemaking\", \"homeowner\", \"hometown\", \"hormone\", \"hour\", \"hour\", \"hour\", \"hour\", \"hour\", \"hour\", \"hour\", \"hour\", \"hour\", \"house\", \"house\", \"house\", \"house\", \"house\", \"housewife\", \"housewife\", \"housework\", \"housework\", \"housework\", \"hover\", \"hubby\", \"humor\", \"humor\", \"humor\", \"hungover\", \"hunter_gatherer\", \"husband\", \"husband\", \"husband\", \"hypergamy\", \"hypergamy\", \"hypergamy\", \"hypergamy\", \"idea\", \"idea\", \"idea\", \"idea\", \"idea\", \"idea\", \"idea\", \"idea\", \"idea\", \"idea\", \"immigration\", \"immigration\", \"import\", \"impression\", \"impression\", \"impression\", \"impression\", \"impression\", \"improvement\", \"improvement\", \"improvement\", \"impulsivity\", \"inboxe\", \"incher\", \"income\", \"income\", \"income\", \"income\", \"income\", \"income\", \"incompetence\", \"inconsistency\", \"index\", \"indifference\", \"indiscretion\", \"infant\", \"infidelity\", \"infidelity\", \"insemination\", \"instagram\", \"instagram\", \"instagram\", \"instagram\", \"instinct\", \"instinct\", \"instinct\", \"institution\", \"institution\", \"institution\", \"instructor\", \"instructor\", \"insulin\", \"insurance\", \"insurance\", \"intake\", \"intellectuality\", \"interaction\", \"interaction\", \"interaction\", \"interaction\", \"interaction\", \"interaction\", \"interaction\", \"interest\", \"interest\", \"interest\", \"interest\", \"interest\", \"interest\", \"interest\", \"interest\", \"interest\", \"interest\", \"interview\", \"interview\", \"interview\", \"interview\", \"interviewer\", \"invention\", \"investigation\", \"investigation\", \"invitation\", \"invitation\", \"invite\", \"invite\", \"iq\", \"isis\", \"isolation\", \"isolation\", \"isolation\", \"issue\", \"issue\", \"issue\", \"issue\", \"issue\", \"issue\", \"issue\", \"issue\", \"issue\", \"issue\", \"jail\", \"jail\", \"jaye\", \"jean\", \"jerk\", \"job\", \"job\", \"job\", \"job\", \"job\", \"job\", \"job\", \"job\", \"job\", \"joking\", \"journalism\", \"journalism\", \"journalist\", \"journalist\", \"journalist\", \"judge\", \"judge\", \"judge\", \"judge\", \"judge\", \"judging\", \"kerr\", \"keto\", \"ketogain\", \"kid\", \"kid\", \"kid\", \"kid\", \"kid\", \"kindness\", \"kink\", \"kink\", \"kink\", \"knot\", \"lab\", \"labour\", \"lacking\", \"lad\", \"lament\", \"language\", \"language\", \"language\", \"language\", \"language\", \"language\", \"launch\", \"laura\", \"lauren\", \"law\", \"law\", \"law\", \"law\", \"law\", \"law\", \"law\", \"law\", \"law\", \"law\", \"lawsuit\", \"lawyer\", \"lawyer\", \"lawyer\", \"ldr\", \"leg\", \"leg\", \"leg\", \"leg\", \"leg\", \"leg\", \"legola\", \"level\", \"level\", \"level\", \"level\", \"level\", \"level\", \"level\", \"level\", \"level\", \"level\", \"lever\", \"life\", \"life\", \"life\", \"life\", \"life\", \"life\", \"life\", \"life\", \"lifestyle\", \"lifestyle\", \"lifestyle\", \"lifestyle\", \"lifestyle\", \"lift\", \"lift\", \"lift\", \"lift\", \"lifting\", \"lifting\", \"lifting\", \"lighting\", \"lighting\", \"liner\", \"listener\", \"livelihood\", \"living\", \"living\", \"living\", \"living\", \"living\", \"lmfao\", \"lmr\", \"lmr\", \"loneliness\", \"loneliness\", \"look\", \"look\", \"look\", \"look\", \"look\", \"look\", \"look\", \"look\", \"look\", \"losing_weight\", \"lot\", \"lot\", \"lot\", \"lot\", \"lot\", \"lot\", \"lot\", \"lot\", \"lot\", \"lot\", \"love\", \"love\", \"love\", \"love\", \"love\", \"love\", \"love\", \"ltrs\", \"ltrs\", \"lust\", \"lyeki\", \"machine\", \"machine\", \"machine\", \"machine\", \"magic\", \"magic\", \"magic\", \"magic\", \"magic\", \"male\", \"male\", \"male\", \"male\", \"male\", \"male\", \"male\", \"male\", \"man\", \"man\", \"man\", \"man\", \"man\", \"man\", \"man\", \"man\", \"man\", \"man\", \"management\", \"management\", \"manager\", \"mankind\", \"mannerism\", \"marieclaire\", \"market\", \"market\", \"market\", \"marketer\", \"marketing\", \"marketing\", \"marketing\", \"marriage\", \"marriage\", \"marriage\", \"marriage\", \"marry\", \"marry\", \"masculinity\", \"masculinity\", \"masculinity\", \"masculinity\", \"masculinity\", \"masturbation\", \"match\", \"match\", \"match\", \"match\", \"match\", \"mate\", \"mate\", \"mate\", \"mate\", \"mate\", \"maternity\", \"maturity\", \"maxim\", \"maxim\", \"measurement\", \"medium\", \"medium\", \"medium\", \"medium\", \"medium\", \"medium\", \"meet\", \"meet\", \"meet\", \"meeting\", \"meeting\", \"meeting\", \"meeting\", \"meeting\", \"meeting\", \"meeting\", \"meetup\", \"melt\", \"member\", \"member\", \"member\", \"member\", \"member\", \"member\", \"member\", \"member\", \"mental_health_issue\", \"meritocracy\", \"message\", \"message\", \"message\", \"message\", \"message\", \"message\", \"message\", \"message\", \"messaging\", \"mgtow\", \"mgtow\", \"middleman\", \"migrant\", \"milf\", \"military\", \"min\", \"mind\", \"mind\", \"mind\", \"mind\", \"mind\", \"mind\", \"mind\", \"mind\", \"mind\", \"mind\", \"mindbodygreen\", \"mineral\", \"minority\", \"minority\", \"minority\", \"minority\", \"minority\", \"minute\", \"minute\", \"minute\", \"minute\", \"minute\", \"minute\", \"minute\", \"minute\", \"misnomer\", \"mission\", \"mission\", \"mission\", \"mission\", \"mistake\", \"mistake\", \"mistake\", \"mistake\", \"mistake\", \"mistake\", \"mistress\", \"moan\", \"mod\", \"mod\", \"mod\", \"model\", \"model\", \"model\", \"model\", \"model\", \"model\", \"model\", \"model\", \"moderator\", \"module\", \"mom\", \"mom\", \"mom\", \"mom\", \"mom\", \"money\", \"money\", \"money\", \"money\", \"money\", \"money\", \"money\", \"money\", \"month\", \"month\", \"month\", \"month\", \"month\", \"month\", \"month\", \"month\", \"month\", \"month\", \"month\", \"month\", \"morning\", \"morning\", \"morning\", \"morning\", \"morning\", \"morning\", \"mortality\", \"mortgage\", \"motel\", \"mother\", \"mother\", \"mother\", \"mother\", \"motivate\", \"motivation\", \"motivation\", \"motivation\", \"movement\", \"movement\", \"movement\", \"movement\", \"mover\", \"movie\", \"movie\", \"movie\", \"movie\", \"movie\", \"movie\", \"movie\", \"movie\", \"movie\", \"mra\", \"mum\", \"murder\", \"murder\", \"murder\", \"muscle\", \"muscle\", \"muscle\", \"muscle\", \"mutilate\", \"narcissism\", \"narcissism\", \"narcissist\", \"narcissist\", \"narration\", \"narrative\", \"narrative\", \"narrative\", \"narrative\", \"nation\", \"nation\", \"nature\", \"nature\", \"nature\", \"nature\", \"nature\", \"neck\", \"negative_birth_rate\", \"negotiable\", \"nerd\", \"nerd\", \"night\", \"night\", \"night\", \"night\", \"night\", \"night\", \"nightclub\", \"nipple\", \"nofap\", \"noone\", \"nose\", \"nose\", \"nose\", \"note\", \"note\", \"note\", \"note\", \"note\", \"note\", \"note\", \"note\", \"note\", \"note\", \"note\", \"note\", \"note\", \"notification\", \"nude\", \"number\", \"number\", \"number\", \"number\", \"number\", \"number\", \"number\", \"number\", \"number\", \"nurse\", \"nurture\", \"nurture\", \"offer\", \"offer\", \"offer\", \"offer\", \"office\", \"office\", \"office\", \"office\", \"office\", \"ole\", \"omega\", \"onion\", \"online_dating\", \"online_dating\", \"oocitie\", \"op\", \"op\", \"op\", \"op\", \"op\", \"op\", \"op\", \"operation\", \"operation\", \"operator\", \"opposite\", \"option\", \"option\", \"option\", \"option\", \"option\", \"option\", \"orange\", \"orbiter\", \"orbiter\", \"orbiter\", \"orbiter\", \"order\", \"order\", \"order\", \"order\", \"order\", \"order\", \"order\", \"order\", \"order\", \"order\", \"order\", \"organic\", \"organisation\", \"organization\", \"organization\", \"organization\", \"orgasm\", \"orgasm\", \"orgasm\", \"orientation\", \"orlando\", \"other\", \"other\", \"other\", \"other\", \"other\", \"other\", \"other\", \"other\", \"ounce\", \"outcome\", \"outcome\", \"outcome\", \"outcome_independence\", \"overrun\", \"ownership\", \"pack\", \"pack\", \"pack\", \"packer\", \"packing\", \"panel\", \"parent\", \"parent\", \"parent\", \"parent\", \"parent\", \"parenting\", \"part\", \"part\", \"part\", \"part\", \"part\", \"part\", \"part\", \"part\", \"part\", \"part\", \"part\", \"part\", \"participant\", \"participant\", \"participant\", \"partner\", \"partner\", \"partner\", \"partner\", \"party\", \"party\", \"party\", \"party\", \"party\", \"party\", \"party\", \"party\", \"pause\", \"pause\", \"pause\", \"pause\", \"pavement\", \"pay\", \"pay\", \"pay\", \"pay\", \"pay\", \"pda\", \"penalty\", \"people\", \"people\", \"people\", \"people\", \"people\", \"people\", \"people\", \"people\", \"people\", \"people\", \"people\", \"people\", \"percent\", \"percent\", \"percent\", \"percent\", \"perfume\", \"peril\", \"person\", \"person\", \"person\", \"person\", \"person\", \"person\", \"person\", \"person\", \"personality\", \"personality\", \"personality\", \"personality\", \"personnel\", \"phd\", \"phd\", \"philosophy\", \"philosophy\", \"philosophy\", \"philosophy\", \"philosophy\", \"philosophy\", \"phone\", \"phone\", \"phone\", \"phone\", \"phone\", \"photo\", \"photo\", \"photo\", \"photo\", \"photo\", \"photo\", \"photo\", \"php\", \"pic\", \"pic\", \"pic\", \"picture\", \"picture\", \"picture\", \"picture\", \"picture\", \"picture\", \"picture\", \"picture\", \"picture\", \"pie\", \"piller\", \"place\", \"place\", \"place\", \"place\", \"place\", \"place\", \"place\", \"place\", \"place\", \"place\", \"place\", \"place\", \"plate\", \"plate\", \"plate\", \"plate\", \"platter\", \"playing_video_game\", \"plead\", \"pleasure\", \"pleasure\", \"pleasure\", \"point\", \"point\", \"point\", \"point\", \"point\", \"point\", \"point\", \"point\", \"point\", \"point\", \"point\", \"point\", \"point\", \"pokemon\", \"police\", \"police\", \"police\", \"policy\", \"policy\", \"policy\", \"policy\", \"polyamorist\", \"porn\", \"porn\", \"porn\", \"pornography\", \"position\", \"position\", \"position\", \"position\", \"position\", \"position\", \"position\", \"position\", \"position\", \"position\", \"position\", \"position\", \"positive\", \"possession\", \"post\", \"post\", \"post\", \"post\", \"post\", \"post\", \"post\", \"post\", \"post\", \"post\", \"posture\", \"posture\", \"potty\", \"pound\", \"pound\", \"pound\", \"pound\", \"pound\", \"power\", \"power\", \"power\", \"power\", \"power\", \"power\", \"power\", \"power\", \"power\", \"practitioner\", \"predisposition\", \"preference\", \"preference\", \"preference\", \"pregnancy\", \"pregnancy\", \"pregnancy\", \"prenup\", \"prescription\", \"press\", \"press\", \"press\", \"press\", \"pretzel\", \"price\", \"price\", \"priest\", \"prison\", \"prison\", \"prison\", \"privacy\", \"privacy\", \"privacy\", \"privilege\", \"privilege\", \"privilege\", \"privilege\", \"probation\", \"problem\", \"problem\", \"problem\", \"problem\", \"problem\", \"problem\", \"problem\", \"problem\", \"problem\", \"procedure\", \"professor\", \"professor\", \"profile\", \"profile\", \"program\", \"program\", \"program\", \"program\", \"program\", \"program\", \"program\", \"programmer\", \"progress\", \"progress\", \"progress\", \"progress\", \"progress\", \"progressive\", \"projection\", \"projection\", \"promiscuity\", \"prophet\", \"protein\", \"proverb\", \"provision\", \"proximity\", \"psych\", \"psych\", \"psych\", \"psychiatry\", \"publicity\", \"pull_up\", \"punch\", \"pussy\", \"pussy\", \"pussy\", \"pussy\", \"pussy\", \"pussycat\", \"quadraplex\", \"quality\", \"quality\", \"quality\", \"quality\", \"quality\", \"quality\", \"quality\", \"quality\", \"quest\", \"question\", \"question\", \"question\", \"question\", \"question\", \"question\", \"question\", \"question\", \"question\", \"question\", \"question\", \"question\", \"quota\", \"quota\", \"race\", \"race\", \"race\", \"race\", \"race\", \"race\", \"racist\", \"racist\", \"raise\", \"rally\", \"rambling\", \"rank\", \"rape\", \"rape\", \"rape\", \"rape\", \"rape_culture\", \"rapey\", \"rapist\", \"rapist\", \"rapist\", \"rash\", \"rate\", \"rate\", \"rate\", \"rate\", \"rate\", \"rate\", \"rate\", \"ravishment\", \"razor\", \"react\", \"react\", \"react\", \"react\", \"reactive\", \"realisation\", \"reality\", \"reality\", \"reality\", \"reality\", \"reason\", \"reason\", \"reason\", \"reason\", \"reason\", \"reason\", \"reason\", \"reason\", \"reason\", \"reason\", \"reason\", \"reason\", \"receive\", \"red_pill\", \"red_pill\", \"red_pill\", \"red_pill\", \"red_pill\", \"red_pill\", \"reddit\", \"reddit\", \"reddit\", \"reddit\", \"reddit\", \"redditlog_com_snapshot\", \"redditlog_com_snapshot\", \"redditor\", \"redistribution\", \"redneck\", \"redpill_truth\", \"redpillschool\", \"reduction\", \"reduction\", \"reform\", \"refrigerator\", \"refugee\", \"refugee\", \"regiment\", \"region\", \"rejection\", \"rejection\", \"rejection\", \"rejection\", \"relation\", \"relation\", \"relation\", \"relationship\", \"relationship\", \"relationship\", \"relationship\", \"relationship\", \"relationship\", \"reptilian\", \"research\", \"research\", \"research\", \"research\", \"research\", \"research\", \"research\", \"researcher\", \"researcher\", \"resident\", \"respect\", \"respect\", \"respect\", \"respect\", \"respect\", \"respect\", \"respondent\", \"response\", \"response\", \"response\", \"response\", \"response\", \"response\", \"response\", \"response\", \"restaurant\", \"restaurant\", \"restaurant\", \"result\", \"result\", \"result\", \"result\", \"result\", \"result\", \"result\", \"result\", \"result\", \"result\", \"result\", \"result\", \"retainer\", \"retort\", \"retreat\", \"reveal\", \"revenge\", \"revenge\", \"reversal\", \"revisit\", \"revolution\", \"right\", \"right\", \"right\", \"right\", \"right\", \"right\", \"right\", \"right\", \"ring\", \"ring\", \"ring\", \"ring\", \"ring\", \"ritual\", \"road\", \"road\", \"road\", \"road\", \"rolling\", \"romance\", \"romanticise\", \"room\", \"room\", \"room\", \"room\", \"room\", \"room\", \"room\", \"room\", \"roommate\", \"roommate\", \"rub\", \"rule\", \"rule\", \"rule\", \"rule\", \"rule\", \"rule\", \"rule\", \"rule\", \"rule\", \"rule\", \"ruler\", \"runner\", \"ruthlessness\", \"ryan_gosling\", \"sailer\", \"salary\", \"salary\", \"salary\", \"salary\", \"salary\", \"sale\", \"sale\", \"sander\", \"sappy\", \"saving\", \"saving\", \"saving\", \"saving\", \"say\", \"scanner\", \"scare\", \"scare\", \"schadenfreude\", \"scheming\", \"school\", \"school\", \"school\", \"school\", \"school\", \"school\", \"school\", \"science\", \"science\", \"science\", \"science\", \"science\", \"science\", \"scientist\", \"scientist\", \"scientist\", \"scroll\", \"scroll\", \"searching\", \"seducer\", \"seethe\", \"self\", \"self\", \"self\", \"self\", \"self\", \"selfie\", \"selfie\", \"selfie\", \"seminar\", \"serum\", \"set\", \"set\", \"set\", \"set\", \"set\", \"set\", \"set\", \"set\", \"set\", \"set\", \"sex\", \"sex\", \"sex\", \"sex\", \"sex\", \"sex\", \"sex\", \"sexist\", \"sexist\", \"sexual_market\", \"sexuality\", \"sexuality\", \"sexuality\", \"shah\", \"shirt\", \"shirt\", \"shirt\", \"shirtless\", \"shit\", \"shit\", \"shit\", \"shit\", \"shit\", \"shit\", \"shit\", \"shit\", \"shit\", \"shit_test\", \"shit_test\", \"shit_test\", \"shit_test\", \"shitload\", \"shity\", \"short\", \"short_term_mate\", \"shoulder\", \"shoulder\", \"shoulder\", \"shoulder\", \"shoulder\", \"shout\", \"shower\", \"shower\", \"shower\", \"shower\", \"shower\", \"shrivel\", \"silence\", \"silence\", \"silence\", \"sink\", \"sister\", \"sister\", \"sister\", \"situation\", \"situation\", \"situation\", \"situation\", \"situation\", \"situation\", \"situation\", \"sjw\", \"sjw\", \"sjw\", \"skype\", \"sleep\", \"sleep\", \"sleep\", \"sleep\", \"sleep\", \"sleep\", \"sleep\", \"sleepover\", \"slime\", \"slutever\", \"slutfriend\", \"smack\", \"smh\", \"smiling\", \"smirk\", \"smv\", \"smv\", \"smv\", \"smv\", \"smv\", \"snippet\", \"snowflake\", \"snuggle\", \"social_justice\", \"social_justice_warrior\", \"society\", \"society\", \"society\", \"society\", \"society\", \"soften\", \"software\", \"soldier\", \"solidity\", \"solipsism\", \"solipsism\", \"son\", \"son\", \"son\", \"son\", \"sound\", \"sound\", \"sound\", \"sound\", \"sound\", \"source\", \"source\", \"source\", \"source\", \"source\", \"source\", \"source\", \"source\", \"spark\", \"spark\", \"sparring\", \"spending\", \"spending\", \"spending\", \"spin_plate\", \"spree\", \"squat\", \"stair\", \"standard\", \"standard\", \"standard\", \"standard\", \"starbuck\", \"starbuck\", \"stare\", \"stare\", \"stare\", \"starfish\", \"startup\", \"state\", \"state\", \"state\", \"state\", \"state\", \"state\", \"state\", \"state\", \"state\", \"statistic\", \"statistic\", \"statistic\", \"statistic\", \"status\", \"status\", \"status\", \"status\", \"status\", \"sterilization\", \"stimulant\", \"stimulus\", \"stimulus\", \"stitch\", \"stoicnightbus\", \"stool\", \"story\", \"story\", \"story\", \"story\", \"story\", \"story\", \"story\", \"story\", \"story\", \"story\", \"strength\", \"strength\", \"strength\", \"strength\", \"strength\", \"strength\", \"strength\", \"stress\", \"stress\", \"stress\", \"stress\", \"stress\", \"stress\", \"stripper\", \"stripper\", \"stripper\", \"stripper\", \"stroke\", \"structure\", \"structure\", \"structure\", \"structure\", \"structure\", \"structure\", \"student\", \"student\", \"student\", \"student\", \"student\", \"student\", \"student\", \"studio\", \"study\", \"study\", \"study\", \"study\", \"study\", \"study\", \"study\", \"study\", \"study\", \"study\", \"study\", \"stump\", \"style\", \"style\", \"style\", \"style\", \"style\", \"style\", \"sub\", \"sub\", \"sub\", \"sub\", \"sub\", \"subreddit\", \"subreddit\", \"subreddit\", \"subreddit\", \"subscribe\", \"subscriber\", \"subservience\", \"success\", \"success\", \"success\", \"success\", \"success\", \"success\", \"success\", \"sugar\", \"sugar\", \"sugar\", \"sugar\", \"suicide\", \"suicide\", \"super_bowl\", \"support\", \"support\", \"support\", \"support\", \"support\", \"support\", \"support\", \"support\", \"support\", \"support\", \"surveillance\", \"survey\", \"survey\", \"survey\", \"swim\", \"swim\", \"swinger\", \"swipe\", \"swipe\", \"swole\", \"swoon\", \"symptom\", \"symptom\", \"symptom\", \"symptom\", \"system\", \"system\", \"system\", \"system\", \"system\", \"system\", \"system\", \"system\", \"system\", \"system\", \"tablet\", \"talk\", \"talk\", \"talk\", \"talk\", \"talk\", \"talk\", \"talk\", \"talk\", \"taper\", \"taxis\", \"taxis\", \"teacher\", \"teacher\", \"teacher\", \"teacher\", \"team\", \"team\", \"team\", \"team\", \"team\", \"team\", \"team\", \"team\", \"team\", \"team\", \"tech\", \"technique\", \"technique\", \"technique\", \"technique\", \"technique\", \"technique\", \"technique\", \"temptation\", \"tenant\", \"tennis\", \"tension\", \"tension\", \"tension\", \"tension\", \"terrain\", \"test\", \"test\", \"test\", \"test\", \"test\", \"test\", \"test\", \"testing\", \"testing\", \"testing\", \"testing\", \"testosterone\", \"testosterone\", \"testosterone_levels\", \"text\", \"text\", \"text\", \"text\", \"text\", \"text\", \"text_message\", \"theredpill\", \"theredpill\", \"theredpill\", \"theredpill\", \"thesis\", \"thesis\", \"thigh\", \"thing\", \"thing\", \"thing\", \"thing\", \"thing\", \"thing\", \"thing\", \"thing\", \"thing\", \"thing\", \"thing\", \"thinker\", \"thinness\", \"third_wave_feminist\", \"third_worldization\", \"thottery\", \"thread\", \"thread\", \"thread\", \"thread\", \"thread\", \"thread\", \"thread\", \"threesome\", \"throwaway\", \"thundercock\", \"tiger\", \"tiger\", \"time\", \"time\", \"time\", \"time\", \"time\", \"time\", \"time\", \"time\", \"time\", \"time\", \"time\", \"time\", \"timeline\", \"timescale\", \"tinder\", \"tinder\", \"tinge\", \"tingle\", \"tingle\", \"tip\", \"tip\", \"tip\", \"tip\", \"tip\", \"tit\", \"tit\", \"tit\", \"tit\", \"titration\", \"titty\", \"today\", \"today\", \"today\", \"today\", \"today\", \"today\", \"today\", \"today\", \"today\", \"today\", \"today\", \"tone\", \"tone\", \"tone\", \"tone\", \"tone\", \"tone\", \"tongue\", \"tongue\", \"tongue\", \"tongue\", \"tongue\", \"tonight\", \"tonight\", \"tonight\", \"tonight\", \"topic\", \"topic\", \"topic\", \"topic\", \"topic\", \"topic\", \"topic\", \"topic\", \"town\", \"town\", \"town\", \"town\", \"townhouse\", \"trader\", \"training\", \"training\", \"training\", \"training\", \"training\", \"training\", \"trait\", \"trait\", \"trait\", \"trait\", \"trait\", \"tran\", \"translation\", \"translation\", \"translation\", \"translation\", \"trial\", \"trial\", \"trial\", \"tribe\", \"trip\", \"trip\", \"trip\", \"trp\", \"trp\", \"trp\", \"trp\", \"trp\", \"trp\", \"trp\", \"trp\", \"trump\", \"trump\", \"truth\", \"truth\", \"truth\", \"truth\", \"truth\", \"truth\", \"truth\", \"tumble\", \"tv\", \"tv\", \"tv\", \"tv\", \"tv\", \"tv\", \"ugh\", \"unblinking\", \"underwear\", \"undress\", \"university\", \"university\", \"university\", \"university\", \"university\", \"university\", \"unpack\", \"upgrade\", \"upvote\", \"upvote\", \"urologist\", \"use\", \"use\", \"use\", \"use\", \"use\", \"use\", \"use\", \"use\", \"use\", \"use\", \"use\", \"user\", \"user\", \"user\", \"user\", \"user\", \"user\", \"vacation\", \"vacation\", \"vacation\", \"valentine_day\", \"validation\", \"validation\", \"validation\", \"validation\", \"validation\", \"validation\", \"value\", \"value\", \"value\", \"value\", \"value\", \"value\", \"value\", \"vanilla\", \"vanilla\", \"varying\", \"victim\", \"victim\", \"victim\", \"victim\", \"victim\", \"video\", \"video\", \"video\", \"video\", \"video\", \"video\", \"video\", \"video_game\", \"viewer\", \"vinotherapy\", \"violence\", \"violence\", \"violence\", \"visitation\", \"vitamin\", \"vodka\", \"voice\", \"voice\", \"voice\", \"voice\", \"voicemail\", \"volume\", \"volume\", \"volunteer\", \"volunteer\", \"vote\", \"voting\", \"vulnerability\", \"vulnerability\", \"wage\", \"wage\", \"wage\", \"wah\", \"waist\", \"waitress\", \"watch\", \"watch\", \"watch\", \"watch\", \"watch\", \"watch\", \"watch\", \"watch\", \"watch\", \"watch\", \"water\", \"water\", \"water\", \"water\", \"water\", \"water\", \"way\", \"way\", \"way\", \"way\", \"way\", \"way\", \"way\", \"way\", \"way\", \"wear\", \"wear\", \"wedding\", \"wedding\", \"week\", \"week\", \"week\", \"week\", \"week\", \"week\", \"week\", \"week\", \"week\", \"weekend\", \"weekend\", \"weekend\", \"weekend\", \"weekend\", \"weight\", \"weight\", \"weight\", \"weight\", \"weight\", \"weightlifting\", \"welfare_state\", \"whimper\", \"white\", \"whole\", \"wife\", \"wife\", \"wife\", \"wikileak\", \"willingness\", \"wind\", \"wine\", \"wine\", \"wine\", \"wisdom\", \"wisdom\", \"woman\", \"woman\", \"woman\", \"woman\", \"woman\", \"woman\", \"woman\", \"woman\", \"woman\", \"woman\", \"woman\", \"woman\", \"wondering\", \"word\", \"word\", \"word\", \"word\", \"word\", \"word\", \"word\", \"word\", \"word\", \"work\", \"work\", \"work\", \"work\", \"work\", \"work\", \"work\", \"work\", \"work\", \"work\", \"work\", \"worker\", \"worker\", \"worker\", \"worker\", \"workforce\", \"workout\", \"workout\", \"workout\", \"workplace\", \"workplace\", \"workplace\", \"workshop\", \"workshop\", \"world\", \"world\", \"world\", \"world\", \"world\", \"world\", \"world\", \"world\", \"writer\", \"writer\", \"writer\", \"writer\", \"writer\", \"yacht\", \"year\", \"year\", \"year\", \"year\", \"year\", \"year\", \"year\", \"year\", \"year\", \"year\", \"year\", \"year\", \"zinc\", \"zombie\", \"zombie\"]}, \"R\": 30, \"lambda.step\": 0.01, \"plot.opts\": {\"xlab\": \"PC1\", \"ylab\": \"PC2\"}, \"topic.order\": [5, 16, 11, 14, 8, 12, 4, 15, 7, 19, 3, 2, 10, 13, 1, 6, 20, 9, 18, 17]};\n",
       "\n",
       "function LDAvis_load_lib(url, callback){\n",
       "  var s = document.createElement('script');\n",
       "  s.src = url;\n",
       "  s.async = true;\n",
       "  s.onreadystatechange = s.onload = callback;\n",
       "  s.onerror = function(){console.warn(\"failed to load library \" + url);};\n",
       "  document.getElementsByTagName(\"head\")[0].appendChild(s);\n",
       "}\n",
       "\n",
       "if(typeof(LDAvis) !== \"undefined\"){\n",
       "   // already loaded: just create the visualization\n",
       "   !function(LDAvis){\n",
       "       new LDAvis(\"#\" + \"ldavis_el1221400694621860481198460888\", ldavis_el1221400694621860481198460888_data);\n",
       "   }(LDAvis);\n",
       "}else if(typeof define === \"function\" && define.amd){\n",
       "   // require.js is available: use it to load d3/LDAvis\n",
       "   require.config({paths: {d3: \"https://cdnjs.cloudflare.com/ajax/libs/d3/3.5.5/d3.min\"}});\n",
       "   require([\"d3\"], function(d3){\n",
       "      window.d3 = d3;\n",
       "      LDAvis_load_lib(\"https://cdn.rawgit.com/bmabey/pyLDAvis/files/ldavis.v1.0.0.js\", function(){\n",
       "        new LDAvis(\"#\" + \"ldavis_el1221400694621860481198460888\", ldavis_el1221400694621860481198460888_data);\n",
       "      });\n",
       "    });\n",
       "}else{\n",
       "    // require.js not available: dynamically load d3 & LDAvis\n",
       "    LDAvis_load_lib(\"https://cdnjs.cloudflare.com/ajax/libs/d3/3.5.5/d3.min.js\", function(){\n",
       "         LDAvis_load_lib(\"https://cdn.rawgit.com/bmabey/pyLDAvis/files/ldavis.v1.0.0.js\", function(){\n",
       "                 new LDAvis(\"#\" + \"ldavis_el1221400694621860481198460888\", ldavis_el1221400694621860481198460888_data);\n",
       "            })\n",
       "         });\n",
       "}\n",
       "</script>"
      ],
      "text/plain": [
       "PreparedData(topic_coordinates=              x         y  topics  cluster       Freq\n",
       "topic                                                \n",
       "4      0.220531  0.102168       1        1  25.858065\n",
       "15     0.240727 -0.033092       2        1  18.299891\n",
       "10     0.272544 -0.139185       3        1  14.131565\n",
       "13     0.191298 -0.039752       4        1   7.479117\n",
       "7      0.191661 -0.048666       5        1   5.211764\n",
       "11     0.070139  0.276161       6        1   5.115842\n",
       "3      0.129211 -0.212599       7        1   4.586832\n",
       "14     0.186582 -0.069523       8        1   4.466171\n",
       "6      0.018892  0.230913       9        1   2.673299\n",
       "18    -0.048016  0.086488      10        1   2.175429\n",
       "2     -0.017162  0.054497      11        1   1.931779\n",
       "1     -0.018396  0.119871      12        1   1.813591\n",
       "9     -0.087562  0.147283      13        1   1.779927\n",
       "12    -0.016265 -0.134628      14        1   1.582323\n",
       "0     -0.190211 -0.097815      15        1   0.877904\n",
       "5     -0.208479 -0.037304      16        1   0.556254\n",
       "19    -0.228509 -0.073325      17        1   0.484775\n",
       "8     -0.214808 -0.015127      18        1   0.453247\n",
       "17    -0.247137 -0.051890      19        1   0.291118\n",
       "16    -0.245038 -0.064475      20        1   0.231092, topic_info=             Term          Freq         Total Category  logprob  loglift\n",
       "397         woman  26744.000000  26744.000000  Default  30.0000  30.0000\n",
       "206           man  17039.000000  17039.000000  Default  29.0000  29.0000\n",
       "519          girl   9789.000000   9789.000000  Default  28.0000  28.0000\n",
       "160           guy   9600.000000   9600.000000  Default  27.0000  27.0000\n",
       "317           sex   5143.000000   5143.000000  Default  26.0000  26.0000\n",
       "...           ...           ...           ...      ...      ...      ...\n",
       "5952  consumerism      4.563734      7.396715  Topic20  -5.7489   5.5872\n",
       "2098   narcissism      6.780928     24.142542  Topic20  -5.3529   4.8002\n",
       "6702   narcissist      6.554548     26.220215  Topic20  -5.3868   4.6837\n",
       "241         other     10.755866   1051.143433  Topic20  -4.8916   1.4879\n",
       "1418    structure      5.627110     98.529160  Topic20  -5.5394   3.2074\n",
       "\n",
       "[1332 rows x 6 columns], token_table=      Topic      Freq      Term\n",
       "term                           \n",
       "1132      6  0.268415  abortion\n",
       "1132     10  0.723554  abortion\n",
       "9117      7  0.913258       abs\n",
       "9117     15  0.081541       abs\n",
       "1786      2  0.973955     abyss\n",
       "...     ...       ...       ...\n",
       "688      12  0.001680      year\n",
       "688      13  0.007352      year\n",
       "3594     16  0.856688      zinc\n",
       "6400      9  0.154085    zombie\n",
       "6400     15  0.821784    zombie\n",
       "\n",
       "[3253 rows x 3 columns], R=30, lambda_step=0.01, plot_opts={'xlab': 'PC1', 'ylab': 'PC2'}, topic_order=[5, 16, 11, 14, 8, 12, 4, 15, 7, 19, 3, 2, 10, 13, 1, 6, 20, 9, 18, 17])"
      ]
     },
     "execution_count": 46,
     "metadata": {
      "tags": []
     },
     "output_type": "execute_result"
    }
   ],
   "source": [
    "# Let's visualize our topics\n",
    "pyLDAvis.enable_notebook()\n",
    "panel = pyLDAvis.gensim.prepare(lda_model, corpus, dictionary)\n",
    "panel"
   ]
  },
  {
   "cell_type": "markdown",
   "metadata": {
    "colab_type": "text",
    "id": "jOGnQ-WiZW0h"
   },
   "source": [
    "### PyLDAvis graph\n",
    "\n",
    "On the left, there is a 2D plot of the \"distance\" between all of the topics (labeled as the Intertopic Distance Map). This plot uses a multidimensional scaling (MDS) algorithm. \n",
    "- Similar topics should appear close together on the plot; dissimilar topics should appear far apart. \n",
    "- The relative size of a topic's circle in the plot corresponds to the relative frequency of the topic in the corpus.\n",
    "\n",
    "### Exploring topics and words\n",
    "- You can scrutinize a topic more closely by clicking on its circle, or entering its number in the \"selected topic\" box in the upper-left (Note that, though the data used by gensim and pyLDAvis are the same, they don't use the same ID numbers for topics.)\n",
    "- If you roll your mouse over a term in the bar chart on the right, the topic circles will resize in the plot on the left. This shows the strength of the relationship between the topics and the selected term.\n",
    "\n",
    "### Salience\n",
    "On the right, there is a bar chart with the top terms. When no topic is selected in the plot on the left, the bar chart shows the top-30 most **salient** terms in the corpus. A term's saliency is a measure of both how frequent the term is in the corpus and how \"distinctive\" it is in distinguishing between different topics.\n",
    "\n",
    "### Probability Vs Exclusivity \n",
    "When you select a particular topic, this bar chart changes to show the top-30 most \"relevant\" terms for the selected topic. The relevance metric is controlled by the parameter λ, which can be adjusted with a slider above the bar chart:\n",
    "\n",
    "* Setting λ close to 1.0 (the default) will rank the terms according to their probability within the topic.\n",
    "* Setting λ close to 0.0 will rank the terms according to their \"distinctiveness\" or \"exclusivity\" within the topic. This means that terms that occur only in this topic, and do not occur in other topics.\n",
    "\n",
    "You can move the slider between 0.0 and 1.0 to weigh term probability and exclusivity."
   ]
  },
  {
   "cell_type": "markdown",
   "metadata": {
    "colab_type": "text",
    "id": "DPmoNRMoZW0h"
   },
   "source": [
    "## Assignment: Analyzing the pyLDA visualization\n",
    "\n",
    "The interactive visualization pyLDAvis produces is helpful for both **individual** topics: you can manually select each topic to view its top most frequent and/or \"relevant\" terms, using different values of the λ parameter. This can help when you're trying to assign a name or \"meaning\" to each topic. \n",
    "\n",
    "It also helps you to see the **relationships** between topics: exploring the Intertopic Distance Plot can help you learn about how topics relate to each other, including potential higher-level structure between groups of topics.\n",
    "\n",
    "See if you can make sense of the patterns you are seeing. Can you give an explanation for the distance between certain topics?"
   ]
  },
  {
   "cell_type": "markdown",
   "metadata": {
    "colab_type": "text",
    "id": "osn95IYrZW0i"
   },
   "source": [
    "## Calculating Topic Coherence and Perplexity\n",
    "\n",
    "Next, we can apply some statistical measures to help us determine the optimal number of topics in our topic model.\n",
    "\n",
    "**Topic Coherence** is a measure applied to the top N words from each topic. It is defined as the average / median of the pairwise word-similarity scores of the words in the topic. This helps to distinguish between topics that are semantically interpretable topics, and topics that are artifacts of statistical inference. \n",
    "\n",
    "A set of statements or facts is said to be coherent if the statements support each other. An example of a coherent fact set is “the game is a team sport”, “the game is played with a ball”, “the game demands great physical efforts”\n",
    "\n",
    "A good model will generate topics with *high* topic coherence scores. Good topics are topics that can be described by a short label, therefore this is what the topic coherence measure should capture.\n",
    "\n",
    "There are different ways to calculate semantic similarity, e.g. through normalized pointwise mutual information (NPMI) or through cosine similarity.\n",
    "\n",
    "**Perplexity** is a measure of how well a probability model predicts a sample.\n",
    "It captures how surprised a model is of new data it has not seen before, and is measured as the normalized log-likelihood of a held-out test set. The model with the *lowest* perplexity is generally considered the “best”. \n",
    "\n",
    "*The issue with perplexity is that it tends to not be strongly correlated to human judgment and, even sometimes slightly anti-correlated. Therefore, we'll work with coherence scores*."
   ]
  },
  {
   "cell_type": "code",
   "execution_count": null,
   "metadata": {
    "colab": {},
    "colab_type": "code",
    "id": "wQFU0eNUZW0i",
    "scrolled": true
   },
   "outputs": [],
   "source": [
    "%%time\n",
    "# Compute Perplexity\n",
    "print('\\nPerplexity: ', lda_model.log_perplexity(corpus))  # A measure of how good the model is. The lower the better.\n",
    "\n",
    "# Compute Coherence Score\n",
    "coherence_model = CoherenceModel(model=lda_model, corpus=corpus, texts=lemmas, dictionary=dictionary, coherence='c_v') \n",
    "# The higher the better. A coherence score of .4 means probably not right number of topics; .6 is great. Anything more is suspiciously great.\n",
    "coherence = coherence_model.get_coherence()\n",
    "print('\\nCoherence Score: ', coherence)"
   ]
  },
  {
   "cell_type": "markdown",
   "metadata": {
    "colab_type": "text",
    "id": "Xg-5r0htZW0k"
   },
   "source": [
    "There's no hard or fast rule on what makes a good coherence or perplexity score. We have to compare this for different iterations of our topic model (using different amounts of topics) to see which one works best."
   ]
  },
  {
   "cell_type": "markdown",
   "metadata": {
    "colab_type": "text",
    "id": "RjFdiMk6ZW0v"
   },
   "source": [
    "## Optimizing coherence scores\n",
    "\n",
    "The most obvious thing we can do to find optimal scores is to play around with the amount of topics our model creates. One way to do this is to build many LDA models with different values of number of topics (k), and then pick the one that gives the highest coherence value. Choosing a ‘k’ at the end of a rapid growth of topic coherence usually yields meaningful and interpretable topics. If you see the same keywords being repeated in multiple topics, it’s probably a sign that the ‘k’ is too large.\n",
    "\n",
    "This `compute_coherence_values()` function trains multiple LDA models, provides the models, and tells you their corresponding coherence scores.\n",
    "\n",
    "Also note the docstring I create here: these are documentation for the functions we create. It describes what a function does, and can be called using `help(function_X)`."
   ]
  },
  {
   "cell_type": "code",
   "execution_count": null,
   "metadata": {
    "colab": {},
    "colab_type": "code",
    "id": "oOZRa_4LZW0w"
   },
   "outputs": [],
   "source": [
    "def compute_coherence_values(dictionary, corpus, texts, limit, start=2, step=3):\n",
    "    \"\"\"\n",
    "    Compute c_v coherence for various number of topics\n",
    "\n",
    "    Parameters:\n",
    "    ----------\n",
    "    dictionary : Gensim dictionary\n",
    "    corpus : Gensim corpus\n",
    "    texts : List of input texts\n",
    "    limit : Max num of topics\n",
    "\n",
    "    Returns:\n",
    "    -------\n",
    "    model_list : List of LDA topic models\n",
    "    coherence_values : Coherence values corresponding to the LDA model with respective number of topics\n",
    "    \"\"\"\n",
    "    coherence_values = []\n",
    "    model_list = []\n",
    "    total_amount = limit / step\n",
    "    current_amount = 0\n",
    "    for num_topics in range(start, limit, step):\n",
    "        model = gensim.models.ldamodel.LdaModel(corpus=corpus, id2word=dictionary, num_topics=num_topics, random_state=100, update_every=1, \n",
    "                                chunksize=500, passes=10, alpha='auto', per_word_topics=False)\n",
    "        model_list.append(model)\n",
    "        coherencemodel = CoherenceModel(model=model, texts=texts, dictionary=dictionary, coherence='c_v')\n",
    "        # When using 'c_v' texts should be provided, corpus isn’t needed. \n",
    "        # When using ‘u_mass’ corpus should be provided, if texts is provided, it will be converted to corpus using the dictionary \n",
    "        coherence_values.append(coherencemodel.get_coherence())\n",
    "        current_amount += 1\n",
    "        print(\"Built \" + str(current_amount) + \" of \" + str(total_amount) + \" models\")\n",
    "\n",
    "    return model_list, coherence_values\n"
   ]
  },
  {
   "cell_type": "code",
   "execution_count": null,
   "metadata": {
    "colab": {
     "base_uri": "https://localhost:8080/",
     "height": 306
    },
    "colab_type": "code",
    "id": "NTH4i85HeD3j",
    "outputId": "4e9dc82b-313a-4d5c-9e21-ccc1137eb1db"
   },
   "outputs": [
    {
     "name": "stdout",
     "output_type": "stream",
     "text": [
      "Help on function compute_coherence_values in module __main__:\n",
      "\n",
      "compute_coherence_values(dictionary, corpus, texts, limit, start=2, step=3)\n",
      "    Compute c_v coherence for various number of topics\n",
      "    \n",
      "    Parameters:\n",
      "    ----------\n",
      "    dictionary : Gensim dictionary\n",
      "    corpus : Gensim corpus\n",
      "    texts : List of input texts\n",
      "    limit : Max num of topics\n",
      "    \n",
      "    Returns:\n",
      "    -------\n",
      "    model_list : List of LDA topic models\n",
      "    coherence_values : Coherence values corresponding to the LDA model with respective number of topics\n",
      "\n"
     ]
    }
   ],
   "source": [
    "help(compute_coherence_values)"
   ]
  },
  {
   "cell_type": "markdown",
   "metadata": {
    "colab_type": "text",
    "id": "eX4Mc6JZo4sG"
   },
   "source": [
    "Using our new function, let's run a bunch of topic models with different amounts of topics.\n",
    "Note that this will take a long time, so if you don't want to wait 10 minutes, just see the output below."
   ]
  },
  {
   "cell_type": "code",
   "execution_count": null,
   "metadata": {
    "colab": {
     "base_uri": "https://localhost:8080/",
     "height": 170
    },
    "colab_type": "code",
    "id": "LYWcr2NhZW0z",
    "outputId": "27bdccee-ae4f-401e-88a0-da22f6342e14"
   },
   "outputs": [
    {
     "name": "stdout",
     "output_type": "stream",
     "text": [
      "Built 1 of 10.0 models\n",
      "Built 2 of 10.0 models\n",
      "Built 3 of 10.0 models\n",
      "Built 4 of 10.0 models\n",
      "Built 5 of 10.0 models\n",
      "Built 6 of 10.0 models\n",
      "Built 7 of 10.0 models\n",
      "Built 8 of 10.0 models\n",
      "Built 9 of 10.0 models\n"
     ]
    }
   ],
   "source": [
    "# Can take a long time to run.\n",
    "model_list, coherence_values = compute_coherence_values(dictionary=dictionary, corpus=corpus, texts=lemmas, start=10, limit=100, step=10)"
   ]
  },
  {
   "cell_type": "markdown",
   "metadata": {
    "colab_type": "text",
    "id": "ks6jTrgtpC1m"
   },
   "source": [
    "Now, from all those models, let's visualize the output of the coherence scores."
   ]
  },
  {
   "cell_type": "code",
   "execution_count": null,
   "metadata": {
    "colab": {
     "base_uri": "https://localhost:8080/",
     "height": 279
    },
    "colab_type": "code",
    "id": "td7Zi7YpZW03",
    "outputId": "839b5408-93d9-4210-c71b-87aa17396ca1",
    "scrolled": true
   },
   "outputs": [
    {
     "data": {
      "image/png": "[encoded data removed]",
      "text/plain": [
       "<Figure size 432x288 with 1 Axes>"
      ]
     },
     "metadata": {
      "needs_background": "light",
      "tags": []
     },
     "output_type": "display_data"
    }
   ],
   "source": [
    "# Show graph\n",
    "limit=100; start=10; step=10;\n",
    "x = range(start, limit, step)\n",
    "plt.plot(x, coherence_values)\n",
    "plt.xlabel(\"Num Topics\")\n",
    "plt.ylabel(\"Coherence score\")\n",
    "plt.legend((\"coherence_values\"), loc='best')\n",
    "plt.show()"
   ]
  },
  {
   "cell_type": "code",
   "execution_count": null,
   "metadata": {
    "colab": {
     "base_uri": "https://localhost:8080/",
     "height": 170
    },
    "colab_type": "code",
    "id": "2zX73ICjZW05",
    "outputId": "a4823bb4-9a6f-4a73-d36f-68ffdd43d11b",
    "scrolled": true
   },
   "outputs": [
    {
     "name": "stdout",
     "output_type": "stream",
     "text": [
      " Num Topics = 10 Coherence Value = 0.4312\n",
      " Num Topics = 20 Coherence Value = 0.4248\n",
      " Num Topics = 30 Coherence Value = 0.4425\n",
      " Num Topics = 40 Coherence Value = 0.4441\n",
      " Num Topics = 50 Coherence Value = 0.4461\n",
      " Num Topics = 60 Coherence Value = 0.4263\n",
      " Num Topics = 70 Coherence Value = 0.4452\n",
      " Num Topics = 80 Coherence Value = 0.4404\n",
      " Num Topics = 90 Coherence Value = 0.4254\n"
     ]
    }
   ],
   "source": [
    "# Print these coherence scores\n",
    "for m, cv in zip(x, coherence_values):\n",
    "    print(\" Num Topics =\", m, \"Coherence Value =\", round(cv, 4))"
   ]
  },
  {
   "cell_type": "markdown",
   "metadata": {
    "colab_type": "text",
    "id": "DPwvgE04ZW0_"
   },
   "source": [
    "If the coherence score seems to keep increasing, it generally makes sense to pick the model that gave the highest CV before dropping again. We'll pick the most fitting amount of topics to continue our research."
   ]
  },
  {
   "cell_type": "code",
   "execution_count": null,
   "metadata": {
    "colab": {
     "base_uri": "https://localhost:8080/",
     "height": 1000
    },
    "colab_type": "code",
    "id": "h3IDZcmfZW1A",
    "outputId": "aa97a83f-cebd-41c7-c158-e24ffb7f6537"
   },
   "outputs": [
    {
     "name": "stdout",
     "output_type": "stream",
     "text": [
      "[(2,\n",
      "  '0.136*\"priest\" + 0.051*\"philosophy\" + 0.032*\"doll\" + 0.030*\"gynocentricism\" '\n",
      "  '+ 0.027*\"robot\" + 0.020*\"expectation\" + 0.020*\"brevity\" + 0.018*\"shadow\" + '\n",
      "  '0.015*\"ldr\" + 0.015*\"handout\" + 0.012*\"bullshitting\" + 0.011*\"bask\" + '\n",
      "  '0.011*\"application\" + 0.011*\"actualization\" + 0.010*\"hurrrr\" + '\n",
      "  '0.010*\"devaluing\" + 0.010*\"porshe\" + 0.010*\"repaint\" + 0.010*\"kdmaxahkdxq\" '\n",
      "  '+ 0.010*\"asceticism\"'),\n",
      " (32,\n",
      "  '0.027*\"videogame\" + 0.023*\"surveillance\" + 0.020*\"begging\" + '\n",
      "  '0.019*\"theater\" + 0.017*\"fulfill\" + 0.017*\"superstar\" + 0.014*\"stab\" + '\n",
      "  '0.014*\"pre\" + 0.013*\"health_insurance\" + 0.013*\"password\" + '\n",
      "  '0.012*\"single_moms\" + 0.010*\"direction\" + 0.009*\"amused_mastery\" + '\n",
      "  '0.008*\"upfront\" + 0.008*\"pr\" + 0.008*\"footage\" + 0.008*\"large_amount\" + '\n",
      "  '0.008*\"designer\" + 0.008*\"samantha\" + 0.008*\"sailor\"'),\n",
      " (18,\n",
      "  '0.057*\"lab\" + 0.034*\"glass\" + 0.029*\"tiger\" + 0.026*\"disability\" + '\n",
      "  '0.025*\"template\" + 0.024*\"nofap\" + 0.016*\"freelance\" + 0.015*\"turtle\" + '\n",
      "  '0.015*\"gratitude\" + 0.014*\"trial\" + 0.014*\"receive\" + 0.014*\"frienemie\" + '\n",
      "  '0.012*\"hitchen\" + 0.011*\"losing\" + 0.010*\"celebration\" + 0.010*\"petition\" + '\n",
      "  '0.009*\"adulthood\" + 0.009*\"classroom\" + 0.009*\"alarm\" + 0.009*\"chop\"'),\n",
      " (31,\n",
      "  '0.106*\"orgasm\" + 0.039*\"penis\" + 0.028*\"advisor\" + 0.027*\"size\" + '\n",
      "  '0.026*\"infant\" + 0.019*\"surgery\" + 0.019*\"symbol\" + 0.014*\"bella\" + '\n",
      "  '0.012*\"dweller\" + 0.012*\"disengage\" + 0.012*\"climaxing\" + 0.011*\"objection\" '\n",
      "  '+ 0.010*\"erection\" + 0.010*\"circumcision\" + 0.008*\"builder\" + '\n",
      "  '0.008*\"formation\" + 0.008*\"tub\" + 0.008*\"intercourse\" + 0.008*\"genital\" + '\n",
      "  '0.007*\"cheesy\"'),\n",
      " (43,\n",
      "  '0.064*\"column\" + 0.028*\"behalf\" + 0.026*\"butter\" + 0.026*\"assure\" + '\n",
      "  '0.019*\"cake\" + 0.017*\"simplify\" + 0.016*\"lyric\" + 0.015*\"deconstruction\" + '\n",
      "  '0.015*\"choir\" + 0.014*\"guest\" + 0.014*\"discretion\" + 0.014*\"onion\" + '\n",
      "  '0.012*\"injection\" + 0.012*\"spoiler\" + 0.010*\"ending\" + 0.008*\"song\" + '\n",
      "  '0.008*\"edition\" + 0.008*\"iphone\" + 0.007*\"wastehistime\" + 0.007*\"hippie\"'),\n",
      " (48,\n",
      "  '0.084*\"bull\" + 0.029*\"everytime\" + 0.024*\"puberty\" + 0.022*\"schadenfreude\" '\n",
      "  '+ 0.020*\"livelihood\" + 0.019*\"zombie\" + 0.019*\"refusal\" + 0.017*\"rally\" + '\n",
      "  '0.016*\"wrestle\" + 0.014*\"hen\" + 0.014*\"strap\" + 0.013*\"whisper\" + '\n",
      "  '0.012*\"kidding\" + 0.010*\"hysteria\" + 0.009*\"recorder\" + 0.009*\"subordinate\" '\n",
      "  '+ 0.009*\"peck\" + 0.007*\"heap\" + 0.007*\"toss\" + 0.007*\"broom\"'),\n",
      " (44,\n",
      "  '0.052*\"mission\" + 0.027*\"agent\" + 0.021*\"stem\" + 0.015*\"yacht\" + '\n",
      "  '0.014*\"cue\" + 0.013*\"cartoon\" + 0.013*\"airport\" + 0.013*\"drill\" + '\n",
      "  '0.013*\"tumble\" + 0.013*\"pedestalize\" + 0.011*\"yoursef\" + 0.011*\"sublayer\" + '\n",
      "  '0.011*\"model\" + 0.011*\"solo\" + 0.010*\"cafe\" + 0.010*\"balloon\" + '\n",
      "  '0.009*\"turn\" + 0.008*\"flight\" + 0.008*\"scout\" + 0.007*\"hulk\"'),\n",
      " (15,\n",
      "  '0.048*\"trump\" + 0.041*\"revenge\" + 0.032*\"compare\" + 0.031*\"candidate\" + '\n",
      "  '0.018*\"prick\" + 0.016*\"douche\" + 0.015*\"tran\" + 0.014*\"election\" + '\n",
      "  '0.013*\"citizen\" + 0.013*\"coder\" + 0.012*\"debater\" + 0.012*\"goddess\" + '\n",
      "  '0.012*\"correspond\" + 0.012*\"ketogain\" + 0.012*\"stoicnightbus\" + '\n",
      "  '0.010*\"extreme\" + 0.010*\"reputation\" + 0.008*\"wikileak\" + 0.008*\"ownership\" '\n",
      "  '+ 0.007*\"ghosting\"'),\n",
      " (35,\n",
      "  '0.071*\"testosterone\" + 0.034*\"level\" + 0.029*\"increase\" + 0.028*\"hormone\" + '\n",
      "  '0.025*\"athlete\" + 0.016*\"estrogen\" + 0.014*\"egg\" + 0.013*\"compound\" + '\n",
      "  '0.012*\"bicep\" + 0.011*\"quitter\" + 0.010*\"sparring\" + 0.010*\"movement\" + '\n",
      "  '0.010*\"lighting\" + 0.009*\"test\" + 0.009*\"recovery\" + 0.009*\"stress\" + '\n",
      "  '0.009*\"supplement\" + 0.008*\"beef\" + 0.008*\"fat\" + 0.008*\"sleep\"'),\n",
      " (40,\n",
      "  '0.049*\"change\" + 0.048*\"quota\" + 0.044*\"gender\" + 0.037*\"tech\" + '\n",
      "  '0.032*\"company\" + 0.024*\"ad\" + 0.022*\"explore\" + 0.022*\"diversity\" + '\n",
      "  '0.015*\"representation\" + 0.013*\"briffaults_law\" + 0.013*\"pilot\" + '\n",
      "  '0.012*\"stereotype\" + 0.011*\"oppressor\" + 0.011*\"hiking\" + '\n",
      "  '0.010*\"fulfilment\" + 0.010*\"release\" + 0.010*\"board\" + 0.010*\"document\" + '\n",
      "  '0.009*\"refrigerator\" + 0.009*\"technique\"'),\n",
      " (47,\n",
      "  '0.050*\"month\" + 0.049*\"year\" + 0.031*\"relationship\" + 0.026*\"friend\" + '\n",
      "  '0.022*\"time\" + 0.020*\"ex\" + 0.020*\"boyfriend\" + 0.020*\"week\" + '\n",
      "  '0.019*\"girlfriend\" + 0.017*\"story\" + 0.015*\"guy\" + 0.015*\"translation\" + '\n",
      "  '0.015*\"phone\" + 0.015*\"day\" + 0.012*\"comment\" + 0.009*\"feeling\" + '\n",
      "  '0.008*\"contact\" + 0.008*\"bf\" + 0.008*\"car\" + 0.008*\"sex\"'),\n",
      " (21,\n",
      "  '0.407*\"girl\" + 0.057*\"guy\" + 0.026*\"college\" + 0.023*\"sex\" + 0.020*\"friend\" '\n",
      "  '+ 0.019*\"attention\" + 0.015*\"boyfriend\" + 0.013*\"group\" + '\n",
      "  '0.012*\"validation\" + 0.012*\"slut\" + 0.012*\"plate\" + 0.009*\"time\" + '\n",
      "  '0.009*\"commitment\" + 0.009*\"party\" + 0.009*\"girlfriend\" + 0.008*\"school\" + '\n",
      "  '0.007*\"smv\" + 0.007*\"lot\" + 0.007*\"class\" + 0.006*\"way\"'),\n",
      " (13,\n",
      "  '0.073*\"money\" + 0.057*\"job\" + 0.031*\"year\" + 0.029*\"work\" + 0.024*\"company\" '\n",
      "  '+ 0.024*\"business\" + 0.015*\"time\" + 0.013*\"pay\" + 0.013*\"career\" + '\n",
      "  '0.012*\"month\" + 0.012*\"people\" + 0.009*\"cash\" + 0.009*\"office\" + '\n",
      "  '0.009*\"income\" + 0.009*\"boss\" + 0.008*\"bill\" + 0.008*\"employee\" + '\n",
      "  '0.008*\"debt\" + 0.007*\"hour\" + 0.007*\"homeowner\"'),\n",
      " (34,\n",
      "  '0.143*\"wife\" + 0.093*\"marriage\" + 0.075*\"husband\" + 0.048*\"sex\" + '\n",
      "  '0.037*\"divorce\" + 0.024*\"year\" + 0.020*\"relationship\" + 0.015*\"kid\" + '\n",
      "  '0.014*\"child\" + 0.013*\"family\" + 0.012*\"couple\" + 0.012*\"thing\" + '\n",
      "  '0.010*\"wedding\" + 0.009*\"life\" + 0.008*\"house\" + 0.008*\"church\" + '\n",
      "  '0.007*\"man\" + 0.007*\"love\" + 0.006*\"partner\" + 0.006*\"course\"'),\n",
      " (30,\n",
      "  '0.043*\"love\" + 0.036*\"time\" + 0.016*\"day\" + 0.014*\"thing\" + 0.011*\"eye\" + '\n",
      "  '0.010*\"way\" + 0.010*\"head\" + 0.009*\"shit\" + 0.009*\"life\" + 0.008*\"weakness\" '\n",
      "  '+ 0.007*\"animal\" + 0.007*\"mood\" + 0.007*\"fantasy\" + 0.006*\"couple\" + '\n",
      "  '0.006*\"care\" + 0.006*\"strength\" + 0.006*\"mouth\" + 0.006*\"help\" + '\n",
      "  '0.006*\"pain\" + 0.005*\"feed\"'),\n",
      " (3,\n",
      "  '0.055*\"girl\" + 0.054*\"guy\" + 0.027*\"woman\" + 0.027*\"picture\" + '\n",
      "  '0.021*\"number\" + 0.020*\"pussy\" + 0.016*\"tinder\" + 0.012*\"model\" + '\n",
      "  '0.012*\"attention\" + 0.012*\"photo\" + 0.011*\"pic\" + 0.009*\"day\" + '\n",
      "  '0.009*\"date\" + 0.009*\"profile\" + 0.008*\"face\" + 0.008*\"match\" + '\n",
      "  '0.008*\"door\" + 0.008*\"app\" + 0.007*\"body\" + 0.007*\"selfie\"'),\n",
      " (39,\n",
      "  '0.037*\"people\" + 0.023*\"post\" + 0.016*\"time\" + 0.012*\"point\" + '\n",
      "  '0.012*\"community\" + 0.012*\"sub\" + 0.011*\"information\" + 0.010*\"comment\" + '\n",
      "  '0.010*\"place\" + 0.010*\"idea\" + 0.009*\"truth\" + 0.008*\"trp\" + 0.008*\"user\" + '\n",
      "  '0.008*\"problem\" + 0.008*\"discussion\" + 0.008*\"thing\" + 0.007*\"rule\" + '\n",
      "  '0.007*\"issue\" + 0.007*\"topic\" + 0.007*\"subreddit\"'),\n",
      " (33,\n",
      "  '0.030*\"time\" + 0.026*\"date\" + 0.021*\"girl\" + 0.018*\"shit\" + 0.016*\"bar\" + '\n",
      "  '0.014*\"night\" + 0.014*\"way\" + 0.014*\"point\" + 0.013*\"conversation\" + '\n",
      "  '0.013*\"thing\" + 0.012*\"place\" + 0.012*\"test\" + 0.012*\"talk\" + 0.011*\"frame\" '\n",
      "  '+ 0.010*\"game\" + 0.010*\"bit\" + 0.010*\"minute\" + 0.009*\"drink\" + '\n",
      "  '0.009*\"friend\" + 0.009*\"day\"'),\n",
      " (22,\n",
      "  '0.191*\"woman\" + 0.140*\"man\" + 0.018*\"alpha\" + 0.017*\"sex\" + 0.013*\"beta\" + '\n",
      "  '0.010*\"society\" + 0.010*\"way\" + 0.009*\"male\" + 0.009*\"value\" + '\n",
      "  '0.007*\"thing\" + 0.006*\"world\" + 0.006*\"power\" + 0.005*\"reason\" + '\n",
      "  '0.005*\"fact\" + 0.004*\"point\" + 0.004*\"time\" + 0.004*\"life\" + 0.004*\"nature\" '\n",
      "  '+ 0.004*\"guy\" + 0.004*\"behavior\"'),\n",
      " (11,\n",
      "  '0.054*\"guy\" + 0.037*\"time\" + 0.030*\"thing\" + 0.027*\"life\" + 0.022*\"woman\" + '\n",
      "  '0.018*\"relationship\" + 0.017*\"friend\" + 0.016*\"people\" + 0.015*\"lot\" + '\n",
      "  '0.015*\"shit\" + 0.014*\"way\" + 0.014*\"girl\" + 0.013*\"year\" + 0.012*\"sex\" + '\n",
      "  '0.010*\"day\" + 0.009*\"work\" + 0.007*\"love\" + 0.007*\"reason\" + '\n",
      "  '0.007*\"experience\" + 0.006*\"point\"')]\n"
     ]
    }
   ],
   "source": [
    "# Select the ideal model and print the topics\n",
    "optimal_model = model_list[4] # use lda_model if you've skipped the compute_coherence_values step \n",
    "model_topics = optimal_model.show_topics(formatted=False)\n",
    "pprint(optimal_model.print_topics(num_words=20))"
   ]
  },
  {
   "cell_type": "markdown",
   "metadata": {
    "colab_type": "text",
    "id": "smW0i39oZW1D"
   },
   "source": [
    "## Labeling the topic model\n",
    "\n",
    "Topics are generated without a label; that part is up to us. Let's label our individual topics using a function. The function will ask for a label for each of the topics, which it will save to a `dict`.\n",
    "\n",
    "You can use this dict with values in the other functions we'll create, and when providing visualisations."
   ]
  },
  {
   "cell_type": "code",
   "execution_count": null,
   "metadata": {
    "colab": {},
    "colab_type": "code",
    "id": "l5T_PjUTZW1E"
   },
   "outputs": [],
   "source": [
    "def explore_topic(topic_n, topn=25):\n",
    "    \"\"\"\n",
    "    Accept a user-supplied topic number and print out a formatted list of the top terms.\n",
    "    Allow use input to create dict for topic names\n",
    "    \"\"\"\n",
    "    topic_dict = {}\n",
    "    for n in range(topic_n):\n",
    "        print('TOPIC ' + str(n))\n",
    "        print('{:20} {}'.format('term', 'frequency') + '\\n')\n",
    "        for term, frequency in lda_model.show_topic(n, topn=25):\n",
    "            print('{:20} {:.3f}'.format(term, round(frequency, 3)))\n",
    "        topic_dict[n] = input(\"Topic label\")\n",
    "        clear_output()\n",
    "    return topic_dict"
   ]
  },
  {
   "cell_type": "code",
   "execution_count": null,
   "metadata": {
    "colab": {},
    "colab_type": "code",
    "id": "hDUiJ_5SZW1H",
    "scrolled": false
   },
   "outputs": [],
   "source": [
    "topic_dict = explore_topic(optimal_model.num_topics)"
   ]
  },
  {
   "cell_type": "markdown",
   "metadata": {
    "colab_type": "text",
    "id": "9fK6uo1EZW1M"
   },
   "source": [
    "## Finding most dominant topic per thread\n",
    "\n",
    "One of the practical application of topic modeling is to determine what topic a given Reddit thread is about. To figure this out, we find the topic number that has the highest percentage contribution in that thread. We'll write a `dominant_topic()` function that aggregates this information in a presentable table."
   ]
  },
  {
   "cell_type": "code",
   "execution_count": null,
   "metadata": {
    "colab": {},
    "colab_type": "code",
    "id": "iz_TBN_dZW1Q",
    "scrolled": true
   },
   "outputs": [],
   "source": [
    "def dominant_topic(ldamodel=optimal_model, corpus=corpus, texts=lemmas):\n",
    "    # Create DF\n",
    "    thread_topics_df = pd.DataFrame()\n",
    "\n",
    "    # Get main topic in each document\n",
    "    for i, row in enumerate(ldamodel[corpus]):\n",
    "        row = sorted(row, key=lambda x: (x[1]), reverse=True)\n",
    "        # Get the Dominant topic, Perc Contribution and Keywords for each thread\n",
    "        for j, (topic_num, prop_topic) in enumerate(row):\n",
    "            if j == 0:  # => dominant topic\n",
    "                wp = ldamodel.show_topic(topic_num)\n",
    "                topic_keywords = \", \".join([word for word, prop in wp])\n",
    "                thread_topics_df = thread_topics_df.append(pd.Series([int(topic_num), round(prop_topic,4), topic_keywords]), ignore_index=True)\n",
    "            else:\n",
    "                break\n",
    "    thread_topics_df.columns = ['Dominant_Topic', 'Perc_Contribution', 'Topic_Keywords']\n",
    "\n",
    "    # Add original text to the end of the output\n",
    "    contents = pd.Series(texts)\n",
    "    thread_topics_df = pd.concat([thread_topics_df, contents], axis=1)\n",
    "    return(thread_topics_df)\n",
    "\n",
    "df_topic_thread_keywords = dominant_topic(ldamodel=optimal_model, corpus=corpus, texts=data)\n",
    "\n",
    "# Format\n",
    "df_dominant_topic = df_topic_thread_keywords.reset_index()\n",
    "df_dominant_topic.columns = ['Thread_No', 'Dominant_Topic', 'Topic_Perc_Contrib', 'Keywords', 'Text']\n",
    "\n",
    "# Show\n",
    "df_dominant_topic"
   ]
  },
  {
   "cell_type": "markdown",
   "metadata": {
    "colab_type": "text",
    "id": "7m1D27LrZW1S"
   },
   "source": [
    "## Finding most distinctive threads per topic\n",
    "\n",
    "We can also find the threads that include the highest amount of words for a certain topic. You could use this if you have found a really interesting topic, and you want to know the top threads this topic is typically found in. The \"Topic_Perc_Contrib\" columns shows the topic number that has the highest percentage contribution in that document."
   ]
  },
  {
   "cell_type": "code",
   "execution_count": null,
   "metadata": {
    "colab": {
     "base_uri": "https://localhost:8080/",
     "height": 419
    },
    "colab_type": "code",
    "id": "fh8mI2x-ZW1T",
    "outputId": "15a90d58-9a31-46a3-bfee-970d3500c952",
    "scrolled": true
   },
   "outputs": [
    {
     "data": {
      "text/html": [
       "<div>\n",
       "<style scoped>\n",
       "    .dataframe tbody tr th:only-of-type {\n",
       "        vertical-align: middle;\n",
       "    }\n",
       "\n",
       "    .dataframe tbody tr th {\n",
       "        vertical-align: top;\n",
       "    }\n",
       "\n",
       "    .dataframe thead th {\n",
       "        text-align: right;\n",
       "    }\n",
       "</style>\n",
       "<table border=\"1\" class=\"dataframe\">\n",
       "  <thead>\n",
       "    <tr style=\"text-align: right;\">\n",
       "      <th></th>\n",
       "      <th>Topic_Num</th>\n",
       "      <th>Topic_Perc_Contrib</th>\n",
       "      <th>Keywords</th>\n",
       "      <th>Text</th>\n",
       "    </tr>\n",
       "  </thead>\n",
       "  <tbody>\n",
       "    <tr>\n",
       "      <th>0</th>\n",
       "      <td>0.0</td>\n",
       "      <td>0.3404</td>\n",
       "      <td>porn, pleasure, addiction, brain, dopamine, ho...</td>\n",
       "      <td>Edit: please read slowly, to absorb everything...</td>\n",
       "    </tr>\n",
       "    <tr>\n",
       "      <th>1</th>\n",
       "      <td>0.0</td>\n",
       "      <td>0.3379</td>\n",
       "      <td>porn, pleasure, addiction, brain, dopamine, ho...</td>\n",
       "      <td>**INTRODUCTION** &amp;nbsp; Let me delve into a to...</td>\n",
       "    </tr>\n",
       "    <tr>\n",
       "      <th>2</th>\n",
       "      <td>0.0</td>\n",
       "      <td>0.3152</td>\n",
       "      <td>porn, pleasure, addiction, brain, dopamine, ho...</td>\n",
       "      <td>**Intro:** After being sceptical for so long i...</td>\n",
       "    </tr>\n",
       "    <tr>\n",
       "      <th>3</th>\n",
       "      <td>0.0</td>\n",
       "      <td>0.2953</td>\n",
       "      <td>porn, pleasure, addiction, brain, dopamine, ho...</td>\n",
       "      <td>I appreciate the recent post by u/throwmebaba ...</td>\n",
       "    </tr>\n",
       "    <tr>\n",
       "      <th>4</th>\n",
       "      <td>0.0</td>\n",
       "      <td>0.2861</td>\n",
       "      <td>porn, pleasure, addiction, brain, dopamine, ho...</td>\n",
       "      <td>Summary: Getting to know the addict I had been...</td>\n",
       "    </tr>\n",
       "    <tr>\n",
       "      <th>...</th>\n",
       "      <td>...</td>\n",
       "      <td>...</td>\n",
       "      <td>...</td>\n",
       "      <td>...</td>\n",
       "    </tr>\n",
       "    <tr>\n",
       "      <th>147</th>\n",
       "      <td>47.0</td>\n",
       "      <td>0.4890</td>\n",
       "      <td>month, year, relationship, friend, time, ex, b...</td>\n",
       "      <td>I recently posted about my two year LTR learni...</td>\n",
       "    </tr>\n",
       "    <tr>\n",
       "      <th>148</th>\n",
       "      <td>47.0</td>\n",
       "      <td>0.4126</td>\n",
       "      <td>month, year, relationship, friend, time, ex, b...</td>\n",
       "      <td>Heres an archive of the thread. http://archive...</td>\n",
       "    </tr>\n",
       "    <tr>\n",
       "      <th>149</th>\n",
       "      <td>47.0</td>\n",
       "      <td>0.4047</td>\n",
       "      <td>month, year, relationship, friend, time, ex, b...</td>\n",
       "      <td>Sorry if I do something wrong this is my fist ...</td>\n",
       "    </tr>\n",
       "    <tr>\n",
       "      <th>150</th>\n",
       "      <td>47.0</td>\n",
       "      <td>0.3957</td>\n",
       "      <td>month, year, relationship, friend, time, ex, b...</td>\n",
       "      <td>This is a Field Report from a cousin in Mexico...</td>\n",
       "    </tr>\n",
       "    <tr>\n",
       "      <th>151</th>\n",
       "      <td>47.0</td>\n",
       "      <td>0.3883</td>\n",
       "      <td>month, year, relationship, friend, time, ex, b...</td>\n",
       "      <td>http://www.quora.com/Dating-and-Relationships-...</td>\n",
       "    </tr>\n",
       "  </tbody>\n",
       "</table>\n",
       "<p>152 rows × 4 columns</p>\n",
       "</div>"
      ],
      "text/plain": [
       "     Topic_Num  ...                                               Text\n",
       "0          0.0  ...  Edit: please read slowly, to absorb everything...\n",
       "1          0.0  ...  **INTRODUCTION** &nbsp; Let me delve into a to...\n",
       "2          0.0  ...  **Intro:** After being sceptical for so long i...\n",
       "3          0.0  ...  I appreciate the recent post by u/throwmebaba ...\n",
       "4          0.0  ...  Summary: Getting to know the addict I had been...\n",
       "..         ...  ...                                                ...\n",
       "147       47.0  ...  I recently posted about my two year LTR learni...\n",
       "148       47.0  ...  Heres an archive of the thread. http://archive...\n",
       "149       47.0  ...  Sorry if I do something wrong this is my fist ...\n",
       "150       47.0  ...  This is a Field Report from a cousin in Mexico...\n",
       "151       47.0  ...  http://www.quora.com/Dating-and-Relationships-...\n",
       "\n",
       "[152 rows x 4 columns]"
      ]
     },
     "execution_count": 65,
     "metadata": {
      "tags": []
     },
     "output_type": "execute_result"
    }
   ],
   "source": [
    "# Group top 5 threads under each topic\n",
    "thread_topics_sorteddf = pd.DataFrame()\n",
    "\n",
    "thread_topics_outdf_grpd = df_topic_thread_keywords.groupby('Dominant_Topic')\n",
    "\n",
    "for i, grp in thread_topics_outdf_grpd:\n",
    "    thread_topics_sorteddf = pd.concat([thread_topics_sorteddf, \n",
    "                                             grp.sort_values(['Perc_Contribution'], ascending=[0]).head(5)], \n",
    "                                            axis=0)\n",
    "\n",
    "# Reset Index    \n",
    "thread_topics_sorteddf.reset_index(drop=True, inplace=True)\n",
    "\n",
    "# Format\n",
    "thread_topics_sorteddf.columns = ['Topic_Num', \"Topic_Perc_Contrib\", \"Keywords\", \"Text\"]\n",
    "\n",
    "# Show\n",
    "thread_topics_sorteddf"
   ]
  },
  {
   "cell_type": "code",
   "execution_count": null,
   "metadata": {
    "colab": {
     "base_uri": "https://localhost:8080/",
     "height": 137
    },
    "colab_type": "code",
    "id": "7zNsKAM2ZW1W",
    "outputId": "359f083b-1c42-4235-ccec-4513a53a362d"
   },
   "outputs": [
    {
     "data": {
      "application/vnd.google.colaboratory.intrinsic+json": {
       "type": "string"
      },
      "text/plain": [
       "'Summary: Getting to know the addict I had been playing Xbox since I woke up 15 hours ago. Two empty Dominos pizza boxes sat open on my desk just staring. Right now its 5 a.m. Matchmaking is getting slow and my coffee thermos is empty; must be time for bed. I say goodnight to my fellow gamers and turn off the Xbox. The thought of brushing my teeth doesnt enter whats left of my consciousness. Without walking, I move from my chair to the bed. Two missed calls and a text from my girlfriend. The only source of light is the brightly lit screen of my laptop. As I type in \"p,\" the text \"pornhub.com\" automatically appears in the URL of my browser. Im excited before I even press \"enter.\" After finishing up, I close my eyes as YouTube lulls me to sleep. A voice inside mumbles, \"I hate myself...\" \"If I hate myself, who is the I, and who is myself?\" Tomorrow will be the same. Pleasure is what happens when your brain receives a signal that an activity is rewarding. The sender of that signal is a neurotransmitter called dopamine. Almost everything we do releases dopamine. Some things release a lot of dopamine. For instance, sex with the girl youve been with for 3 years releases dopamine. Surfing a porn website and jerking off to any number of your favorite fantasy scenarios releases a lot of dopamine. Playing golf releases dopamine. Playing Rainbow Six Siege with your squad against teams that youre slightly better than releases a lot of dopamine. Eating a strawberry or cucumber releases dopamine. Eating a pepperoni and mushroom pizza releases a lot of dopamine. It might seem hard to believe that a cucumber releases dopamine, but it does. The problem we have is we develop a tolerance to these dopamine spikes. Our brains come to expect that any activity less stimulating than a dopamine spiking one isnt worthy of our motivation to do so. Thus, activities which were once pleasurable to us become chores we cant bear the thought of. This is essentially what depression is. When Im depressed or simply stressed over a long period of time I become driven to do things like eat junk food, watch porn, and play video games. This is because these are some of the activities that release enough dopamine to motivate a depressed mind. These are also things I did often as a kid, when my brain was the most malleable it will ever be. I developed certain connections in a my brain that will probably never go away. For this reason, if youve ever known someone who had a drug problem early on in life, you know they will always be an addict. The connection is too strong for your brain to unlearn it. The next day started just the same. I browsed Reddit in bed before I finally found enough gusto to get up and make coffee. But then something happened. As we played Xbox that night, we started to get matched up with pro teams. It was exciting-- until we started losing...and losing, and losing. It wasnt a pleasurable experience anymore. The flow of dopamine stopped abruptly. I took that opportunity to return my Xbox to the store. It felt liberating--just like it did the other times. The first time it was Wal-Mart, then Best Buy, you get the picture. My pre-frontal cortex, or the consciously thinking part of the brain, did not want to buy Xboxes and play the shit out of them all day. As soon as its slave driver looked away, the real I started running and never looked back. When youre under the influence of your addictions, you are like a slave having to watch his world crumble around him. Last month my brother in law relapsed on heroin. He was 13 when his brain learned how rewarding it was. He had a brand new home with my sister, a new car, and so many bills he was constantly under the stress of. For the first time in 9 years, he went to some dealer-- not Wal-Mart or Best Buy, but probably some hood dude in Detroit, and he became a slave. He lost his family, job, and home. He didnt want to lose any of those things. He was genuinely a good person. My mission in life now is to treat my brain only to simple, natural pleasures. Its learning to appreciate things like cucumbers more every day. A big part of my mission is staying mentally healthy in order to avoid depression and long term stress which would likely result in relapse. Things that used to seem unimaginably painful are becoming small obstacles. \"The day the body becomes dominated by pleasure is the day it will also be dominated by pain\" - Seneca Lessons learned: Almost anything unnaturally pleasurable can become addictive The stronger your addictions influence on you, the more you are a slave. Stay mentally healthy to avoid being influenced by your addictions Fantastic post. Did you notice that our society is run by addictions? Everyone has one. I think addictions like gaming, drugs, porn or facebook and many more are given to people just to keep us busy and distracted from what really matters... our real problems. We live in a virtual world, we care about what X superstar musician does and we dont even know him personally, his actions will never influence our life. Or play that stupid video game that isnt real and it doesnt give anything good for your life. Or even worse.. masturbate to porn. We must stay in reality! Instead of learning something new you are numbed by addictions.'"
      ]
     },
     "execution_count": 66,
     "metadata": {
      "tags": []
     },
     "output_type": "execute_result"
    }
   ],
   "source": [
    "thread_topics_sorteddf['Text'][4]"
   ]
  },
  {
   "cell_type": "markdown",
   "metadata": {
    "colab_type": "text",
    "id": "6pJ0pL7qZW1g"
   },
   "source": [
    "## Optional assignment: using the topic names\n",
    "\n",
    "If you want to dive a bit deeper into these functions, try to change the output so that it doesn't show the topic numbers, but the topic names from the `topic_dict` you created!\n",
    "It will help you get a better understanding of what's going on."
   ]
  },
  {
   "cell_type": "code",
   "execution_count": null,
   "metadata": {
    "colab": {},
    "colab_type": "code",
    "id": "YZ55MP-87Sy3"
   },
   "outputs": [],
   "source": [
    "# Your code here\n",
    "\n",
    "\n",
    "\n",
    "\n",
    "\n",
    "\n",
    "\n",
    "\n",
    "\n",
    "\n"
   ]
  }
 ],
 "metadata": {
  "colab": {
   "collapsed_sections": [
    "BMY-0LlAZWzP",
    "jOGnQ-WiZW0h",
    "ytnnGz6sZW0l"
   ],
   "name": "Week 3-4 Evaluating topic models.ipynb",
   "provenance": []
  },
  "kernelspec": {
   "display_name": "Python 3",
   "language": "python",
   "name": "python3"
  },
  "language_info": {
   "codemirror_mode": {
    "name": "ipython",
    "version": 3
   },
   "file_extension": ".py",
   "mimetype": "text/x-python",
   "name": "python",
   "nbconvert_exporter": "python",
   "pygments_lexer": "ipython3",
   "version": "3.8.5"
  }
 },
 "nbformat": 4,
 "nbformat_minor": 1
}
